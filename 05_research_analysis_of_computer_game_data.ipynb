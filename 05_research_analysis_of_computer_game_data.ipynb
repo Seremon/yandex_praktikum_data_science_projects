{
 "cells": [
  {
   "cell_type": "markdown",
   "metadata": {},
   "source": [
    "# Описание проекта"
   ]
  },
  {
   "cell_type": "markdown",
   "metadata": {},
   "source": [
    "<div class=\"alert alert-info\">\n",
    "Привет! Меня зовут Никита Мишин и я буду твоим ревьюером по этому проекты.\n",
    "Для простоты предлагаю общение на 'ты'. Буду предполагать, что ты не против:) \n",
    "Если более предпочтительно обращение на 'Вы', пиши, не стесняйся.\n",
    "Также если будут возникать вопросы, аналогично, пиши:)\n",
    "\n",
    "Предлагаю работать в известном тебе итеративном формате.\n",
    "Итерация состоит в моей проверке твоего решения. \n",
    "После решения могут остаться какие-то недочеты, которые я попрошу тебя устранить, ты их исправляешь и я проверяю твои решения.\n",
    "    Оставленные мною комментарии могут быть разного вида:\n",
    "   \n",
    "    - зеленый: элегантные решения, которые тебе стоит запомнит и в дальнейшем взять на вооружение:) \n",
    "    \n",
    "    - желтый: сигнал о том, что есть некритичная вещь(не всегда ошибка), что нужно точно поправить в следующей работе, даже желательно в этой (полезно, в первую очередь, для тебя:) ).Также это рекомендации на будущее    \n",
    "\n",
    "    - красный: недочет, который нужно исправить в этой работе, для того, чтобы она была принята\n",
    "    \n",
    "    - синий: полезная информация, доп ресурсы, \"вопросы на подумать\"\n",
    "\n",
    "Также попрошу не удалять мои комментарии:) <a class=\"tocSkip\">\n",
    "</div>"
   ]
  },
  {
   "cell_type": "markdown",
   "metadata": {},
   "source": [
    "Вы работаете в интернет-магазине «Стримчик», который продаёт по всему миру компьютерные игры. Из открытых источников доступны исторические данные о продажах игр, оценки пользователей и экспертов, жанры и платформы (например, Xbox или PlayStation). Вам нужно выявить определяющие успешность игры закономерности. Это позволит сделать ставку на потенциально популярный продукт и спланировать рекламные кампании.\n",
    "\n",
    "Перед вами данные до 2016 года. Представим, что сейчас декабрь 2016 г., и вы планируете кампанию на 2017-й. Нужно отработать принцип работы с данными. Неважно, прогнозируете ли вы продажи на 2017 год по данным 2016-го или же 2027-й — по данным 2026 года.\n",
    "\n",
    "В наборе данных попадается аббревиатура ESRB (Entertainment Software Rating Board) — это ассоциация, определяющая возрастной рейтинг компьютерных игр. ESRB оценивает игровой контент и присваивает ему подходящую возрастную категорию, например, «Для взрослых», «Для детей младшего возраста» или «Для подростков»."
   ]
  },
  {
   "cell_type": "markdown",
   "metadata": {},
   "source": [
    "# Описание данных"
   ]
  },
  {
   "cell_type": "markdown",
   "metadata": {},
   "source": [
    "* Name — название игры\n",
    "* Platform — платформа\n",
    "* Year_of_Release — год выпуска\n",
    "* Genre — жанр игры\n",
    "* NA_sales — продажи в Северной Америке (миллионы проданных копий)\n",
    "* EU_sales — продажи в Европе (миллионы проданных копий)\n",
    "* JP_sales — продажи в Японии (миллионы проданных копий)\n",
    "* Other_sales — продажи в других странах (миллионы проданных копий)\n",
    "* Critic_Score — оценка критиков (максимум 100)\n",
    "* User_Score — оценка пользователей (максимум 10)\n",
    "* Rating — рейтинг от организации ESRB (англ. Entertainment Software Rating Board). Эта ассоциация определяет рейтинг компьютерных игр и присваивает им подходящую возрастную категорию.\n",
    "\n",
    "Данные за 2016 год могут быть неполными."
   ]
  },
  {
   "cell_type": "markdown",
   "metadata": {},
   "source": [
    "# Шаг 1. Откроем файл с данными и изучм общую информацию"
   ]
  },
  {
   "cell_type": "code",
   "execution_count": 1,
   "metadata": {},
   "outputs": [],
   "source": [
    "import pandas as pd\n",
    "import numpy as np\n",
    "import matplotlib.pyplot as plt\n",
    "import seaborn as sns\n",
    "sns.set(color_codes = True)\n",
    "from scipy import stats as st\n",
    "from random import sample"
   ]
  },
  {
   "cell_type": "code",
   "execution_count": 4,
   "metadata": {},
   "outputs": [],
   "source": [
    "games = pd.read_csv('https://code.s3.yandex.net/datasets/games.csv')"
   ]
  },
  {
   "cell_type": "code",
   "execution_count": 3,
   "metadata": {},
   "outputs": [
    {
     "name": "stdout",
     "output_type": "stream",
     "text": [
      "<class 'pandas.core.frame.DataFrame'>\n",
      "RangeIndex: 16715 entries, 0 to 16714\n",
      "Data columns (total 11 columns):\n",
      "Name               16713 non-null object\n",
      "Platform           16715 non-null object\n",
      "Year_of_Release    16446 non-null float64\n",
      "Genre              16713 non-null object\n",
      "NA_sales           16715 non-null float64\n",
      "EU_sales           16715 non-null float64\n",
      "JP_sales           16715 non-null float64\n",
      "Other_sales        16715 non-null float64\n",
      "Critic_Score       8137 non-null float64\n",
      "User_Score         10014 non-null object\n",
      "Rating             9949 non-null object\n",
      "dtypes: float64(6), object(5)\n",
      "memory usage: 1.4+ MB\n"
     ]
    }
   ],
   "source": [
    "games.info()"
   ]
  },
  {
   "cell_type": "code",
   "execution_count": 4,
   "metadata": {},
   "outputs": [
    {
     "data": {
      "text/html": [
       "<div>\n",
       "<style scoped>\n",
       "    .dataframe tbody tr th:only-of-type {\n",
       "        vertical-align: middle;\n",
       "    }\n",
       "\n",
       "    .dataframe tbody tr th {\n",
       "        vertical-align: top;\n",
       "    }\n",
       "\n",
       "    .dataframe thead th {\n",
       "        text-align: right;\n",
       "    }\n",
       "</style>\n",
       "<table border=\"1\" class=\"dataframe\">\n",
       "  <thead>\n",
       "    <tr style=\"text-align: right;\">\n",
       "      <th></th>\n",
       "      <th>Name</th>\n",
       "      <th>Platform</th>\n",
       "      <th>Year_of_Release</th>\n",
       "      <th>Genre</th>\n",
       "      <th>NA_sales</th>\n",
       "      <th>EU_sales</th>\n",
       "      <th>JP_sales</th>\n",
       "      <th>Other_sales</th>\n",
       "      <th>Critic_Score</th>\n",
       "      <th>User_Score</th>\n",
       "      <th>Rating</th>\n",
       "    </tr>\n",
       "  </thead>\n",
       "  <tbody>\n",
       "    <tr>\n",
       "      <td>0</td>\n",
       "      <td>Wii Sports</td>\n",
       "      <td>Wii</td>\n",
       "      <td>2006.0</td>\n",
       "      <td>Sports</td>\n",
       "      <td>41.36</td>\n",
       "      <td>28.96</td>\n",
       "      <td>3.77</td>\n",
       "      <td>8.45</td>\n",
       "      <td>76.0</td>\n",
       "      <td>8</td>\n",
       "      <td>E</td>\n",
       "    </tr>\n",
       "    <tr>\n",
       "      <td>1</td>\n",
       "      <td>Super Mario Bros.</td>\n",
       "      <td>NES</td>\n",
       "      <td>1985.0</td>\n",
       "      <td>Platform</td>\n",
       "      <td>29.08</td>\n",
       "      <td>3.58</td>\n",
       "      <td>6.81</td>\n",
       "      <td>0.77</td>\n",
       "      <td>NaN</td>\n",
       "      <td>NaN</td>\n",
       "      <td>NaN</td>\n",
       "    </tr>\n",
       "    <tr>\n",
       "      <td>2</td>\n",
       "      <td>Mario Kart Wii</td>\n",
       "      <td>Wii</td>\n",
       "      <td>2008.0</td>\n",
       "      <td>Racing</td>\n",
       "      <td>15.68</td>\n",
       "      <td>12.76</td>\n",
       "      <td>3.79</td>\n",
       "      <td>3.29</td>\n",
       "      <td>82.0</td>\n",
       "      <td>8.3</td>\n",
       "      <td>E</td>\n",
       "    </tr>\n",
       "    <tr>\n",
       "      <td>3</td>\n",
       "      <td>Wii Sports Resort</td>\n",
       "      <td>Wii</td>\n",
       "      <td>2009.0</td>\n",
       "      <td>Sports</td>\n",
       "      <td>15.61</td>\n",
       "      <td>10.93</td>\n",
       "      <td>3.28</td>\n",
       "      <td>2.95</td>\n",
       "      <td>80.0</td>\n",
       "      <td>8</td>\n",
       "      <td>E</td>\n",
       "    </tr>\n",
       "    <tr>\n",
       "      <td>4</td>\n",
       "      <td>Pokemon Red/Pokemon Blue</td>\n",
       "      <td>GB</td>\n",
       "      <td>1996.0</td>\n",
       "      <td>Role-Playing</td>\n",
       "      <td>11.27</td>\n",
       "      <td>8.89</td>\n",
       "      <td>10.22</td>\n",
       "      <td>1.00</td>\n",
       "      <td>NaN</td>\n",
       "      <td>NaN</td>\n",
       "      <td>NaN</td>\n",
       "    </tr>\n",
       "  </tbody>\n",
       "</table>\n",
       "</div>"
      ],
      "text/plain": [
       "                       Name Platform  Year_of_Release         Genre  NA_sales  \\\n",
       "0                Wii Sports      Wii           2006.0        Sports     41.36   \n",
       "1         Super Mario Bros.      NES           1985.0      Platform     29.08   \n",
       "2            Mario Kart Wii      Wii           2008.0        Racing     15.68   \n",
       "3         Wii Sports Resort      Wii           2009.0        Sports     15.61   \n",
       "4  Pokemon Red/Pokemon Blue       GB           1996.0  Role-Playing     11.27   \n",
       "\n",
       "   EU_sales  JP_sales  Other_sales  Critic_Score User_Score Rating  \n",
       "0     28.96      3.77         8.45          76.0          8      E  \n",
       "1      3.58      6.81         0.77           NaN        NaN    NaN  \n",
       "2     12.76      3.79         3.29          82.0        8.3      E  \n",
       "3     10.93      3.28         2.95          80.0          8      E  \n",
       "4      8.89     10.22         1.00           NaN        NaN    NaN  "
      ]
     },
     "execution_count": 4,
     "metadata": {},
     "output_type": "execute_result"
    }
   ],
   "source": [
    "games.head()"
   ]
  },
  {
   "cell_type": "code",
   "execution_count": 10,
   "metadata": {},
   "outputs": [
    {
     "ename": "NameError",
     "evalue": "name 'k' is not defined",
     "output_type": "error",
     "traceback": [
      "\u001b[0;31m---------------------------------------------------------------------------\u001b[0m",
      "\u001b[0;31mNameError\u001b[0m                                 Traceback (most recent call last)",
      "\u001b[0;32m<ipython-input-10-5fbe8d09e6e3>\u001b[0m in \u001b[0;36m<module>\u001b[0;34m\u001b[0m\n\u001b[0;32m----> 1\u001b[0;31m \u001b[0mgames\u001b[0m\u001b[0;34m.\u001b[0m\u001b[0msample\u001b[0m\u001b[0;34m(\u001b[0m\u001b[0mn\u001b[0m \u001b[0;34m=\u001b[0m \u001b[0mk\u001b[0m\u001b[0;34m,\u001b[0m \u001b[0mrandom_state\u001b[0m \u001b[0;34m=\u001b[0m \u001b[0;36m0\u001b[0m\u001b[0;34m)\u001b[0m\u001b[0;34m\u001b[0m\u001b[0;34m\u001b[0m\u001b[0m\n\u001b[0m",
      "\u001b[0;31mNameError\u001b[0m: name 'k' is not defined"
     ]
    }
   ],
   "source": [
    "games.sample(n = k, random_state = 0)"
   ]
  },
  {
   "cell_type": "markdown",
   "metadata": {},
   "source": [
    "*Анализируя полученную информацию видим различный регистр в написании столбцов, наличие пропусков в данных по столбцам `name`, `genre`, `year_of_release`, `critic_score`, `critic_score`, `rating`. Далее проверим суть пропусков и примем решение что с ними делать.*"
   ]
  },
  {
   "cell_type": "markdown",
   "metadata": {},
   "source": [
    "<div class=\"alert alert-info\">\n",
    "<h1>Комментарий ревьюера <a class=\"tocSkip\"></a></h1>\n",
    "Для разнообразия полезно использовать метод sample  с зафиксированным random state --- будет выдавать случайные строки из датасета\n",
    "</div>"
   ]
  },
  {
   "cell_type": "markdown",
   "metadata": {},
   "source": [
    "# Шаг 2. Подготовим данные"
   ]
  },
  {
   "cell_type": "markdown",
   "metadata": {},
   "source": [
    "*Заменим названия столбцов (приведём к нижнему регистру).*"
   ]
  },
  {
   "cell_type": "code",
   "execution_count": 5,
   "metadata": {},
   "outputs": [
    {
     "data": {
      "text/plain": [
       "Index(['Name', 'Platform', 'Year_of_Release', 'Genre', 'NA_sales', 'EU_sales',\n",
       "       'JP_sales', 'Other_sales', 'Critic_Score', 'User_Score', 'Rating'],\n",
       "      dtype='object')"
      ]
     },
     "execution_count": 5,
     "metadata": {},
     "output_type": "execute_result"
    }
   ],
   "source": [
    "games.columns"
   ]
  },
  {
   "cell_type": "code",
   "execution_count": 6,
   "metadata": {},
   "outputs": [],
   "source": [
    "games.set_axis(['name', 'platform', 'year_of_release', 'genre', 'na_sales', 'eu_sales',\n",
    "       'jp_sales', 'other_sales', 'critic_score', 'user_score', 'rating'],axis = 'columns',inplace = True)"
   ]
  },
  {
   "cell_type": "code",
   "execution_count": 7,
   "metadata": {},
   "outputs": [
    {
     "data": {
      "text/plain": [
       "Index(['name', 'platform', 'year_of_release', 'genre', 'na_sales', 'eu_sales',\n",
       "       'jp_sales', 'other_sales', 'critic_score', 'user_score', 'rating'],\n",
       "      dtype='object')"
      ]
     },
     "execution_count": 7,
     "metadata": {},
     "output_type": "execute_result"
    }
   ],
   "source": [
    "games.columns"
   ]
  },
  {
   "cell_type": "markdown",
   "metadata": {},
   "source": [
    "*Преобразуем данные в нужные типы.*"
   ]
  },
  {
   "cell_type": "markdown",
   "metadata": {},
   "source": [
    "* `year_of_release`  и `critic_score` в целочисленный тип данных:"
   ]
  },
  {
   "cell_type": "code",
   "execution_count": 8,
   "metadata": {},
   "outputs": [],
   "source": [
    "games['year_of_release'] = pd.to_numeric(games['year_of_release'], downcast = 'integer')"
   ]
  },
  {
   "cell_type": "code",
   "execution_count": 9,
   "metadata": {},
   "outputs": [],
   "source": [
    "games['critic_score'] = pd.to_numeric(games['critic_score'], downcast = 'integer')"
   ]
  },
  {
   "cell_type": "markdown",
   "metadata": {},
   "source": [
    "* `user_score`  в тип с плавающей запятой:"
   ]
  },
  {
   "cell_type": "code",
   "execution_count": 10,
   "metadata": {},
   "outputs": [],
   "source": [
    "games['user_score'] = pd.to_numeric(games['user_score'], downcast = 'float', errors ='coerce')"
   ]
  },
  {
   "cell_type": "markdown",
   "metadata": {},
   "source": [
    "*Обработаем пропуски при необходимости:*"
   ]
  },
  {
   "cell_type": "markdown",
   "metadata": {},
   "source": [
    "* Объясните, почему заполнили пропуски определённым образом или почему не стали это делать;\n",
    "* Опишите причины, которые могли привести к пропускам;\n",
    "* Обратите внимание на аббревиатуру 'tbd' в столбцах с рейтингом. Отдельно разберите это значение и опишите, как его обработать;"
   ]
  },
  {
   "cell_type": "markdown",
   "metadata": {},
   "source": [
    "*`name`*"
   ]
  },
  {
   "cell_type": "code",
   "execution_count": 11,
   "metadata": {},
   "outputs": [
    {
     "data": {
      "text/plain": [
       "array(['Wii Sports', 'Super Mario Bros.', 'Mario Kart Wii', ...,\n",
       "       'Woody Woodpecker in Crazy Castle 5', 'LMA Manager 2007',\n",
       "       'Haitaka no Psychedelica'], dtype=object)"
      ]
     },
     "execution_count": 11,
     "metadata": {},
     "output_type": "execute_result"
    }
   ],
   "source": [
    "games['name'].unique()"
   ]
  },
  {
   "cell_type": "code",
   "execution_count": 12,
   "metadata": {},
   "outputs": [
    {
     "data": {
      "text/html": [
       "<div>\n",
       "<style scoped>\n",
       "    .dataframe tbody tr th:only-of-type {\n",
       "        vertical-align: middle;\n",
       "    }\n",
       "\n",
       "    .dataframe tbody tr th {\n",
       "        vertical-align: top;\n",
       "    }\n",
       "\n",
       "    .dataframe thead th {\n",
       "        text-align: right;\n",
       "    }\n",
       "</style>\n",
       "<table border=\"1\" class=\"dataframe\">\n",
       "  <thead>\n",
       "    <tr style=\"text-align: right;\">\n",
       "      <th></th>\n",
       "      <th>name</th>\n",
       "      <th>platform</th>\n",
       "      <th>year_of_release</th>\n",
       "      <th>genre</th>\n",
       "      <th>na_sales</th>\n",
       "      <th>eu_sales</th>\n",
       "      <th>jp_sales</th>\n",
       "      <th>other_sales</th>\n",
       "      <th>critic_score</th>\n",
       "      <th>user_score</th>\n",
       "      <th>rating</th>\n",
       "    </tr>\n",
       "  </thead>\n",
       "  <tbody>\n",
       "    <tr>\n",
       "      <td>659</td>\n",
       "      <td>NaN</td>\n",
       "      <td>GEN</td>\n",
       "      <td>1993.0</td>\n",
       "      <td>NaN</td>\n",
       "      <td>1.78</td>\n",
       "      <td>0.53</td>\n",
       "      <td>0.00</td>\n",
       "      <td>0.08</td>\n",
       "      <td>NaN</td>\n",
       "      <td>NaN</td>\n",
       "      <td>NaN</td>\n",
       "    </tr>\n",
       "    <tr>\n",
       "      <td>14244</td>\n",
       "      <td>NaN</td>\n",
       "      <td>GEN</td>\n",
       "      <td>1993.0</td>\n",
       "      <td>NaN</td>\n",
       "      <td>0.00</td>\n",
       "      <td>0.00</td>\n",
       "      <td>0.03</td>\n",
       "      <td>0.00</td>\n",
       "      <td>NaN</td>\n",
       "      <td>NaN</td>\n",
       "      <td>NaN</td>\n",
       "    </tr>\n",
       "  </tbody>\n",
       "</table>\n",
       "</div>"
      ],
      "text/plain": [
       "      name platform  year_of_release genre  na_sales  eu_sales  jp_sales  \\\n",
       "659    NaN      GEN           1993.0   NaN      1.78      0.53      0.00   \n",
       "14244  NaN      GEN           1993.0   NaN      0.00      0.00      0.03   \n",
       "\n",
       "       other_sales  critic_score  user_score rating  \n",
       "659           0.08           NaN         NaN    NaN  \n",
       "14244         0.00           NaN         NaN    NaN  "
      ]
     },
     "execution_count": 12,
     "metadata": {},
     "output_type": "execute_result"
    }
   ],
   "source": [
    "games[games['name'].isna()]"
   ]
  },
  {
   "cell_type": "markdown",
   "metadata": {},
   "source": [
    "*Две строки с пропущенным наименованием игр, жанра и т.д. - предлагаем удалить*"
   ]
  },
  {
   "cell_type": "markdown",
   "metadata": {},
   "source": [
    "<div class=\"alert alert-success\">\n",
    "<h1>Комментарий ревьюера <a class=\"tocSkip\"></a></h1>\n",
    "Допустимое решение, молодец!</div>"
   ]
  },
  {
   "cell_type": "code",
   "execution_count": 13,
   "metadata": {},
   "outputs": [],
   "source": [
    "games.dropna(subset = ['name'], inplace = True)"
   ]
  },
  {
   "cell_type": "code",
   "execution_count": 14,
   "metadata": {},
   "outputs": [
    {
     "data": {
      "text/html": [
       "<div>\n",
       "<style scoped>\n",
       "    .dataframe tbody tr th:only-of-type {\n",
       "        vertical-align: middle;\n",
       "    }\n",
       "\n",
       "    .dataframe tbody tr th {\n",
       "        vertical-align: top;\n",
       "    }\n",
       "\n",
       "    .dataframe thead th {\n",
       "        text-align: right;\n",
       "    }\n",
       "</style>\n",
       "<table border=\"1\" class=\"dataframe\">\n",
       "  <thead>\n",
       "    <tr style=\"text-align: right;\">\n",
       "      <th></th>\n",
       "      <th>name</th>\n",
       "      <th>platform</th>\n",
       "      <th>year_of_release</th>\n",
       "      <th>genre</th>\n",
       "      <th>na_sales</th>\n",
       "      <th>eu_sales</th>\n",
       "      <th>jp_sales</th>\n",
       "      <th>other_sales</th>\n",
       "      <th>critic_score</th>\n",
       "      <th>user_score</th>\n",
       "      <th>rating</th>\n",
       "    </tr>\n",
       "  </thead>\n",
       "  <tbody>\n",
       "  </tbody>\n",
       "</table>\n",
       "</div>"
      ],
      "text/plain": [
       "Empty DataFrame\n",
       "Columns: [name, platform, year_of_release, genre, na_sales, eu_sales, jp_sales, other_sales, critic_score, user_score, rating]\n",
       "Index: []"
      ]
     },
     "execution_count": 14,
     "metadata": {},
     "output_type": "execute_result"
    }
   ],
   "source": [
    "games[games['name'].isna()]"
   ]
  },
  {
   "cell_type": "markdown",
   "metadata": {},
   "source": [
    "*`year_of_release`*"
   ]
  },
  {
   "cell_type": "code",
   "execution_count": 15,
   "metadata": {},
   "outputs": [
    {
     "data": {
      "text/html": [
       "<div>\n",
       "<style scoped>\n",
       "    .dataframe tbody tr th:only-of-type {\n",
       "        vertical-align: middle;\n",
       "    }\n",
       "\n",
       "    .dataframe tbody tr th {\n",
       "        vertical-align: top;\n",
       "    }\n",
       "\n",
       "    .dataframe thead th {\n",
       "        text-align: right;\n",
       "    }\n",
       "</style>\n",
       "<table border=\"1\" class=\"dataframe\">\n",
       "  <thead>\n",
       "    <tr style=\"text-align: right;\">\n",
       "      <th></th>\n",
       "      <th>name</th>\n",
       "      <th>platform</th>\n",
       "      <th>year_of_release</th>\n",
       "      <th>genre</th>\n",
       "      <th>na_sales</th>\n",
       "      <th>eu_sales</th>\n",
       "      <th>jp_sales</th>\n",
       "      <th>other_sales</th>\n",
       "      <th>critic_score</th>\n",
       "      <th>user_score</th>\n",
       "      <th>rating</th>\n",
       "    </tr>\n",
       "  </thead>\n",
       "  <tbody>\n",
       "    <tr>\n",
       "      <td>183</td>\n",
       "      <td>Madden NFL 2004</td>\n",
       "      <td>PS2</td>\n",
       "      <td>NaN</td>\n",
       "      <td>Sports</td>\n",
       "      <td>4.26</td>\n",
       "      <td>0.26</td>\n",
       "      <td>0.01</td>\n",
       "      <td>0.71</td>\n",
       "      <td>94.0</td>\n",
       "      <td>8.5</td>\n",
       "      <td>E</td>\n",
       "    </tr>\n",
       "    <tr>\n",
       "      <td>377</td>\n",
       "      <td>FIFA Soccer 2004</td>\n",
       "      <td>PS2</td>\n",
       "      <td>NaN</td>\n",
       "      <td>Sports</td>\n",
       "      <td>0.59</td>\n",
       "      <td>2.36</td>\n",
       "      <td>0.04</td>\n",
       "      <td>0.51</td>\n",
       "      <td>84.0</td>\n",
       "      <td>6.4</td>\n",
       "      <td>E</td>\n",
       "    </tr>\n",
       "    <tr>\n",
       "      <td>456</td>\n",
       "      <td>LEGO Batman: The Videogame</td>\n",
       "      <td>Wii</td>\n",
       "      <td>NaN</td>\n",
       "      <td>Action</td>\n",
       "      <td>1.80</td>\n",
       "      <td>0.97</td>\n",
       "      <td>0.00</td>\n",
       "      <td>0.29</td>\n",
       "      <td>74.0</td>\n",
       "      <td>7.9</td>\n",
       "      <td>E10+</td>\n",
       "    </tr>\n",
       "    <tr>\n",
       "      <td>475</td>\n",
       "      <td>wwe Smackdown vs. Raw 2006</td>\n",
       "      <td>PS2</td>\n",
       "      <td>NaN</td>\n",
       "      <td>Fighting</td>\n",
       "      <td>1.57</td>\n",
       "      <td>1.02</td>\n",
       "      <td>0.00</td>\n",
       "      <td>0.41</td>\n",
       "      <td>NaN</td>\n",
       "      <td>NaN</td>\n",
       "      <td>NaN</td>\n",
       "    </tr>\n",
       "    <tr>\n",
       "      <td>609</td>\n",
       "      <td>Space Invaders</td>\n",
       "      <td>2600</td>\n",
       "      <td>NaN</td>\n",
       "      <td>Shooter</td>\n",
       "      <td>2.36</td>\n",
       "      <td>0.14</td>\n",
       "      <td>0.00</td>\n",
       "      <td>0.03</td>\n",
       "      <td>NaN</td>\n",
       "      <td>NaN</td>\n",
       "      <td>NaN</td>\n",
       "    </tr>\n",
       "    <tr>\n",
       "      <td>...</td>\n",
       "      <td>...</td>\n",
       "      <td>...</td>\n",
       "      <td>...</td>\n",
       "      <td>...</td>\n",
       "      <td>...</td>\n",
       "      <td>...</td>\n",
       "      <td>...</td>\n",
       "      <td>...</td>\n",
       "      <td>...</td>\n",
       "      <td>...</td>\n",
       "      <td>...</td>\n",
       "    </tr>\n",
       "    <tr>\n",
       "      <td>16373</td>\n",
       "      <td>PDC World Championship Darts 2008</td>\n",
       "      <td>PSP</td>\n",
       "      <td>NaN</td>\n",
       "      <td>Sports</td>\n",
       "      <td>0.01</td>\n",
       "      <td>0.00</td>\n",
       "      <td>0.00</td>\n",
       "      <td>0.00</td>\n",
       "      <td>43.0</td>\n",
       "      <td>NaN</td>\n",
       "      <td>E10+</td>\n",
       "    </tr>\n",
       "    <tr>\n",
       "      <td>16405</td>\n",
       "      <td>Freaky Flyers</td>\n",
       "      <td>GC</td>\n",
       "      <td>NaN</td>\n",
       "      <td>Racing</td>\n",
       "      <td>0.01</td>\n",
       "      <td>0.00</td>\n",
       "      <td>0.00</td>\n",
       "      <td>0.00</td>\n",
       "      <td>69.0</td>\n",
       "      <td>6.5</td>\n",
       "      <td>T</td>\n",
       "    </tr>\n",
       "    <tr>\n",
       "      <td>16448</td>\n",
       "      <td>Inversion</td>\n",
       "      <td>PC</td>\n",
       "      <td>NaN</td>\n",
       "      <td>Shooter</td>\n",
       "      <td>0.01</td>\n",
       "      <td>0.00</td>\n",
       "      <td>0.00</td>\n",
       "      <td>0.00</td>\n",
       "      <td>59.0</td>\n",
       "      <td>6.7</td>\n",
       "      <td>M</td>\n",
       "    </tr>\n",
       "    <tr>\n",
       "      <td>16458</td>\n",
       "      <td>Hakuouki: Shinsengumi Kitan</td>\n",
       "      <td>PS3</td>\n",
       "      <td>NaN</td>\n",
       "      <td>Adventure</td>\n",
       "      <td>0.01</td>\n",
       "      <td>0.00</td>\n",
       "      <td>0.00</td>\n",
       "      <td>0.00</td>\n",
       "      <td>NaN</td>\n",
       "      <td>NaN</td>\n",
       "      <td>NaN</td>\n",
       "    </tr>\n",
       "    <tr>\n",
       "      <td>16522</td>\n",
       "      <td>Virtua Quest</td>\n",
       "      <td>GC</td>\n",
       "      <td>NaN</td>\n",
       "      <td>Role-Playing</td>\n",
       "      <td>0.01</td>\n",
       "      <td>0.00</td>\n",
       "      <td>0.00</td>\n",
       "      <td>0.00</td>\n",
       "      <td>55.0</td>\n",
       "      <td>5.5</td>\n",
       "      <td>T</td>\n",
       "    </tr>\n",
       "  </tbody>\n",
       "</table>\n",
       "<p>269 rows × 11 columns</p>\n",
       "</div>"
      ],
      "text/plain": [
       "                                    name platform  year_of_release  \\\n",
       "183                      Madden NFL 2004      PS2              NaN   \n",
       "377                     FIFA Soccer 2004      PS2              NaN   \n",
       "456           LEGO Batman: The Videogame      Wii              NaN   \n",
       "475           wwe Smackdown vs. Raw 2006      PS2              NaN   \n",
       "609                       Space Invaders     2600              NaN   \n",
       "...                                  ...      ...              ...   \n",
       "16373  PDC World Championship Darts 2008      PSP              NaN   \n",
       "16405                      Freaky Flyers       GC              NaN   \n",
       "16448                          Inversion       PC              NaN   \n",
       "16458        Hakuouki: Shinsengumi Kitan      PS3              NaN   \n",
       "16522                       Virtua Quest       GC              NaN   \n",
       "\n",
       "              genre  na_sales  eu_sales  jp_sales  other_sales  critic_score  \\\n",
       "183          Sports      4.26      0.26      0.01         0.71          94.0   \n",
       "377          Sports      0.59      2.36      0.04         0.51          84.0   \n",
       "456          Action      1.80      0.97      0.00         0.29          74.0   \n",
       "475        Fighting      1.57      1.02      0.00         0.41           NaN   \n",
       "609         Shooter      2.36      0.14      0.00         0.03           NaN   \n",
       "...             ...       ...       ...       ...          ...           ...   \n",
       "16373        Sports      0.01      0.00      0.00         0.00          43.0   \n",
       "16405        Racing      0.01      0.00      0.00         0.00          69.0   \n",
       "16448       Shooter      0.01      0.00      0.00         0.00          59.0   \n",
       "16458     Adventure      0.01      0.00      0.00         0.00           NaN   \n",
       "16522  Role-Playing      0.01      0.00      0.00         0.00          55.0   \n",
       "\n",
       "       user_score rating  \n",
       "183           8.5      E  \n",
       "377           6.4      E  \n",
       "456           7.9   E10+  \n",
       "475           NaN    NaN  \n",
       "609           NaN    NaN  \n",
       "...           ...    ...  \n",
       "16373         NaN   E10+  \n",
       "16405         6.5      T  \n",
       "16448         6.7      M  \n",
       "16458         NaN    NaN  \n",
       "16522         5.5      T  \n",
       "\n",
       "[269 rows x 11 columns]"
      ]
     },
     "execution_count": 15,
     "metadata": {},
     "output_type": "execute_result"
    }
   ],
   "source": [
    "games[games['year_of_release'].isna()]"
   ]
  },
  {
   "cell_type": "markdown",
   "metadata": {},
   "source": [
    "<div class=\"alert alert-info\">\n",
    "<h1>Комментарий ревьюера <a class=\"tocSkip\"></a></h1>\n",
    "Часть пропусков можно было бы заменить на год выпуска игры на другой платформе, или же вытащить из названия самой игры</div>"
   ]
  },
  {
   "cell_type": "markdown",
   "metadata": {},
   "source": [
    "*Пока не решили что с ними делать, пока оставим так, далее будем использовать срез при необходимости.*"
   ]
  },
  {
   "cell_type": "markdown",
   "metadata": {},
   "source": [
    "*`user_score`*"
   ]
  },
  {
   "cell_type": "code",
   "execution_count": 16,
   "metadata": {},
   "outputs": [
    {
     "data": {
      "text/plain": [
       "array([8.        ,        nan, 8.30000019, 8.5       , 6.5999999 ,\n",
       "       8.39999962, 8.60000038, 7.69999981, 6.30000019, 7.4000001 ,\n",
       "       8.19999981, 9.        , 7.9000001 , 8.10000038, 8.69999981,\n",
       "       7.0999999 , 3.4000001 , 5.30000019, 4.80000019, 3.20000005,\n",
       "       8.89999962, 6.4000001 , 7.80000019, 7.5       , 2.5999999 ,\n",
       "       7.19999981, 9.19999981, 7.        , 7.30000019, 4.30000019,\n",
       "       7.5999999 , 5.69999981, 5.        , 9.10000038, 6.5       ,\n",
       "       8.80000019, 6.9000001 , 9.39999962, 6.80000019, 6.0999999 ,\n",
       "       6.69999981, 5.4000001 , 4.        , 4.9000001 , 4.5       ,\n",
       "       9.30000019, 6.19999981, 4.19999981, 6.        , 3.70000005,\n",
       "       4.0999999 , 5.80000019, 5.5999999 , 5.5       , 4.4000001 ,\n",
       "       4.5999999 , 5.9000001 , 3.9000001 , 3.0999999 , 2.9000001 ,\n",
       "       5.19999981, 3.29999995, 4.69999981, 5.0999999 , 3.5       ,\n",
       "       2.5       , 1.89999998, 3.        , 2.70000005, 2.20000005,\n",
       "       2.        , 9.5       , 2.0999999 , 3.5999999 , 2.79999995,\n",
       "       1.79999995, 3.79999995, 0.        , 1.60000002, 9.60000038,\n",
       "       2.4000001 , 1.70000005, 1.10000002, 0.30000001, 1.5       ,\n",
       "       0.69999999, 1.20000005, 2.29999995, 0.5       , 1.29999995,\n",
       "       0.2       , 0.60000002, 1.39999998, 0.89999998, 1.        ,\n",
       "       9.69999981])"
      ]
     },
     "execution_count": 16,
     "metadata": {},
     "output_type": "execute_result"
    }
   ],
   "source": [
    "games['user_score'].unique()"
   ]
  },
  {
   "cell_type": "markdown",
   "metadata": {},
   "source": [
    "*Значение `tbd` - аббревиатура от английского To Be Determined (будет определено) или To Be Decided (будет решено). Используется, если какая-то информация еще не определена. Поэтому предлагаем заменить это значение на `nan`, так как заменить средним или медианой или .*"
   ]
  },
  {
   "cell_type": "markdown",
   "metadata": {},
   "source": [
    "<div class=\"alert alert-success\">\n",
    "<h1>Комментарий ревьюера <a class=\"tocSkip\"></a></h1>\n",
    "Да, логичное решение\n",
    "</div>"
   ]
  },
  {
   "cell_type": "code",
   "execution_count": 17,
   "metadata": {},
   "outputs": [
    {
     "name": "stderr",
     "output_type": "stream",
     "text": [
      "/opt/conda/lib/python3.7/site-packages/pandas/core/ops/__init__.py:1115: FutureWarning: elementwise comparison failed; returning scalar instead, but in the future will perform elementwise comparison\n",
      "  result = method(y)\n"
     ]
    }
   ],
   "source": [
    "games.loc[games['user_score'] == 'tbd', 'user_score'] = float('nan')"
   ]
  },
  {
   "cell_type": "markdown",
   "metadata": {},
   "source": [
    "*Посчитаем суммарные продажи во всех регионах и запишем их в отдельный столбец:*"
   ]
  },
  {
   "cell_type": "code",
   "execution_count": 18,
   "metadata": {},
   "outputs": [],
   "source": [
    "games['total_sales'] = games['na_sales'] + games['eu_sales'] + games['jp_sales'] + games['other_sales']"
   ]
  },
  {
   "cell_type": "code",
   "execution_count": 19,
   "metadata": {},
   "outputs": [
    {
     "data": {
      "text/html": [
       "<div>\n",
       "<style scoped>\n",
       "    .dataframe tbody tr th:only-of-type {\n",
       "        vertical-align: middle;\n",
       "    }\n",
       "\n",
       "    .dataframe tbody tr th {\n",
       "        vertical-align: top;\n",
       "    }\n",
       "\n",
       "    .dataframe thead th {\n",
       "        text-align: right;\n",
       "    }\n",
       "</style>\n",
       "<table border=\"1\" class=\"dataframe\">\n",
       "  <thead>\n",
       "    <tr style=\"text-align: right;\">\n",
       "      <th></th>\n",
       "      <th>name</th>\n",
       "      <th>platform</th>\n",
       "      <th>year_of_release</th>\n",
       "      <th>genre</th>\n",
       "      <th>na_sales</th>\n",
       "      <th>eu_sales</th>\n",
       "      <th>jp_sales</th>\n",
       "      <th>other_sales</th>\n",
       "      <th>critic_score</th>\n",
       "      <th>user_score</th>\n",
       "      <th>rating</th>\n",
       "      <th>total_sales</th>\n",
       "    </tr>\n",
       "  </thead>\n",
       "  <tbody>\n",
       "    <tr>\n",
       "      <td>0</td>\n",
       "      <td>Wii Sports</td>\n",
       "      <td>Wii</td>\n",
       "      <td>2006.0</td>\n",
       "      <td>Sports</td>\n",
       "      <td>41.36</td>\n",
       "      <td>28.96</td>\n",
       "      <td>3.77</td>\n",
       "      <td>8.45</td>\n",
       "      <td>76.0</td>\n",
       "      <td>8.0</td>\n",
       "      <td>E</td>\n",
       "      <td>82.54</td>\n",
       "    </tr>\n",
       "    <tr>\n",
       "      <td>1</td>\n",
       "      <td>Super Mario Bros.</td>\n",
       "      <td>NES</td>\n",
       "      <td>1985.0</td>\n",
       "      <td>Platform</td>\n",
       "      <td>29.08</td>\n",
       "      <td>3.58</td>\n",
       "      <td>6.81</td>\n",
       "      <td>0.77</td>\n",
       "      <td>NaN</td>\n",
       "      <td>NaN</td>\n",
       "      <td>NaN</td>\n",
       "      <td>40.24</td>\n",
       "    </tr>\n",
       "    <tr>\n",
       "      <td>2</td>\n",
       "      <td>Mario Kart Wii</td>\n",
       "      <td>Wii</td>\n",
       "      <td>2008.0</td>\n",
       "      <td>Racing</td>\n",
       "      <td>15.68</td>\n",
       "      <td>12.76</td>\n",
       "      <td>3.79</td>\n",
       "      <td>3.29</td>\n",
       "      <td>82.0</td>\n",
       "      <td>8.3</td>\n",
       "      <td>E</td>\n",
       "      <td>35.52</td>\n",
       "    </tr>\n",
       "    <tr>\n",
       "      <td>3</td>\n",
       "      <td>Wii Sports Resort</td>\n",
       "      <td>Wii</td>\n",
       "      <td>2009.0</td>\n",
       "      <td>Sports</td>\n",
       "      <td>15.61</td>\n",
       "      <td>10.93</td>\n",
       "      <td>3.28</td>\n",
       "      <td>2.95</td>\n",
       "      <td>80.0</td>\n",
       "      <td>8.0</td>\n",
       "      <td>E</td>\n",
       "      <td>32.77</td>\n",
       "    </tr>\n",
       "    <tr>\n",
       "      <td>4</td>\n",
       "      <td>Pokemon Red/Pokemon Blue</td>\n",
       "      <td>GB</td>\n",
       "      <td>1996.0</td>\n",
       "      <td>Role-Playing</td>\n",
       "      <td>11.27</td>\n",
       "      <td>8.89</td>\n",
       "      <td>10.22</td>\n",
       "      <td>1.00</td>\n",
       "      <td>NaN</td>\n",
       "      <td>NaN</td>\n",
       "      <td>NaN</td>\n",
       "      <td>31.38</td>\n",
       "    </tr>\n",
       "  </tbody>\n",
       "</table>\n",
       "</div>"
      ],
      "text/plain": [
       "                       name platform  year_of_release         genre  na_sales  \\\n",
       "0                Wii Sports      Wii           2006.0        Sports     41.36   \n",
       "1         Super Mario Bros.      NES           1985.0      Platform     29.08   \n",
       "2            Mario Kart Wii      Wii           2008.0        Racing     15.68   \n",
       "3         Wii Sports Resort      Wii           2009.0        Sports     15.61   \n",
       "4  Pokemon Red/Pokemon Blue       GB           1996.0  Role-Playing     11.27   \n",
       "\n",
       "   eu_sales  jp_sales  other_sales  critic_score  user_score rating  \\\n",
       "0     28.96      3.77         8.45          76.0         8.0      E   \n",
       "1      3.58      6.81         0.77           NaN         NaN    NaN   \n",
       "2     12.76      3.79         3.29          82.0         8.3      E   \n",
       "3     10.93      3.28         2.95          80.0         8.0      E   \n",
       "4      8.89     10.22         1.00           NaN         NaN    NaN   \n",
       "\n",
       "   total_sales  \n",
       "0        82.54  \n",
       "1        40.24  \n",
       "2        35.52  \n",
       "3        32.77  \n",
       "4        31.38  "
      ]
     },
     "execution_count": 19,
     "metadata": {},
     "output_type": "execute_result"
    }
   ],
   "source": [
    "games.head()"
   ]
  },
  {
   "cell_type": "markdown",
   "metadata": {},
   "source": [
    "# Шаг 3. Проведем исследовательский анализ данных"
   ]
  },
  {
   "cell_type": "markdown",
   "metadata": {},
   "source": [
    "*Посмотрим, сколько игр выпускалось в разные годы. Важны ли данные за все периоды?*"
   ]
  },
  {
   "cell_type": "code",
   "execution_count": 20,
   "metadata": {},
   "outputs": [
    {
     "data": {
      "text/plain": [
       "<matplotlib.axes._subplots.AxesSubplot at 0x7fd89719f8d0>"
      ]
     },
     "execution_count": 20,
     "metadata": {},
     "output_type": "execute_result"
    },
    {
     "data": {
      "image/png": "[encoded data removed]",
      "text/plain": [
       "<Figure size 1368x360 with 1 Axes>"
      ]
     },
     "metadata": {},
     "output_type": "display_data"
    }
   ],
   "source": [
    "sns.set_style('whitegrid')\n",
    "plt.figure(figsize = (19, 5))\n",
    "sns.countplot(data = games.query('year_of_release != \"nan\"'), x = 'year_of_release')"
   ]
  },
  {
   "cell_type": "markdown",
   "metadata": {},
   "source": [
    "<div class=\"alert alert-info\">\n",
    "<h1>Комментарий ревьюера <a class=\"tocSkip\"></a></h1>\n",
    "1) xticks стоило повернуть на 45-90 градусов, чтобы друг на друга года не залезали\n",
    "\n",
    "2) куда-то пропали названия графиков:)\n",
    "</div>"
   ]
  },
  {
   "cell_type": "markdown",
   "metadata": {},
   "source": [
    "*Для ответа на вопрос \"Важны ли данные за все периоды?\" построим ящик с усами:*"
   ]
  },
  {
   "cell_type": "code",
   "execution_count": 21,
   "metadata": {},
   "outputs": [
    {
     "data": {
      "text/plain": [
       "<matplotlib.axes._subplots.AxesSubplot at 0x7fd88f12d9d0>"
      ]
     },
     "execution_count": 21,
     "metadata": {},
     "output_type": "execute_result"
    },
    {
     "data": {
      "image/png": "[encoded data removed]",
      "text/plain": [
       "<Figure size 1368x360 with 1 Axes>"
      ]
     },
     "metadata": {},
     "output_type": "display_data"
    }
   ],
   "source": [
    "sns.set_style('whitegrid')\n",
    "plt.figure(figsize = (19, 5))\n",
    "sns.boxplot(data = games.sort_values(by = 'year_of_release'), x = 'year_of_release')"
   ]
  },
  {
   "cell_type": "code",
   "execution_count": 22,
   "metadata": {},
   "outputs": [
    {
     "data": {
      "text/plain": [
       "count    16444.000000\n",
       "mean      2006.486256\n",
       "std          5.875525\n",
       "min       1980.000000\n",
       "25%       2003.000000\n",
       "50%       2007.000000\n",
       "75%       2010.000000\n",
       "max       2016.000000\n",
       "Name: year_of_release, dtype: float64"
      ]
     },
     "execution_count": 22,
     "metadata": {},
     "output_type": "execute_result"
    }
   ],
   "source": [
    "games['year_of_release'].describe()"
   ]
  },
  {
   "cell_type": "markdown",
   "metadata": {},
   "source": [
    "<i>\n",
    "    Как видим, данные за все периоды нам не важны. Определим границы согласно графика: Q1 - 1,5 * IQR = 2003 - 1,5 * 7 = 1993 год, получили левый ус, теперь правый: Q3 + 1,5 * IQR = 2010 + 1,5 * 7 = 2021, такой точки у нас нет, берем за правый ус максимальное значение из выборки. Таким образом можно рассматривать данные в периоде с 1993 по 2016 год.\n",
    "</i>"
   ]
  },
  {
   "cell_type": "markdown",
   "metadata": {},
   "source": [
    "<div class=\"alert alert-warning\">\n",
    "<h1>Комментарий ревьюера <a class=\"tocSkip\"></a></h1>\n",
    "Хм, все же исходя из графика и временного контекста --- очень много революций произошло с играми за последние 30 лет. Как считаешь?</div>"
   ]
  },
  {
   "cell_type": "markdown",
   "metadata": {},
   "source": [
    "<b>Посмотрим, как менялись продажи по платформам:</b>"
   ]
  },
  {
   "cell_type": "code",
   "execution_count": 23,
   "metadata": {},
   "outputs": [
    {
     "data": {
      "text/plain": [
       "<matplotlib.axes._subplots.AxesSubplot at 0x7fd88e7aaf10>"
      ]
     },
     "execution_count": 23,
     "metadata": {},
     "output_type": "execute_result"
    },
    {
     "data": {
      "image/png": "[encoded data removed]",
      "text/plain": [
       "<Figure size 1080x360 with 1 Axes>"
      ]
     },
     "metadata": {},
     "output_type": "display_data"
    }
   ],
   "source": [
    "games.query('1993 <= year_of_release <= 2016').pivot_table(index = 'platform', values = 'total_sales', aggfunc = 'sum').sort_values(\n",
    "    by = 'total_sales', ascending = False).plot(kind = 'bar', figsize = (15,5))"
   ]
  },
  {
   "cell_type": "markdown",
   "metadata": {},
   "source": [
    "*Выберем ТОП5 наименований платформ:*"
   ]
  },
  {
   "cell_type": "code",
   "execution_count": 24,
   "metadata": {},
   "outputs": [],
   "source": [
    "best_total_sales = list(games.pivot_table(index = 'platform', values = 'total_sales', aggfunc = 'sum').sort_values(\n",
    "    by = 'total_sales', ascending = False).index[:5])"
   ]
  },
  {
   "cell_type": "code",
   "execution_count": 25,
   "metadata": {},
   "outputs": [
    {
     "data": {
      "text/plain": [
       "['PS2', 'X360', 'PS3', 'Wii', 'DS']"
      ]
     },
     "execution_count": 25,
     "metadata": {},
     "output_type": "execute_result"
    }
   ],
   "source": [
    "best_total_sales"
   ]
  },
  {
   "cell_type": "markdown",
   "metadata": {},
   "source": [
    "*Построим распределение по годам:*"
   ]
  },
  {
   "cell_type": "code",
   "execution_count": 26,
   "metadata": {
    "scrolled": false
   },
   "outputs": [
    {
     "data": {
      "image/png": "[encoded data removed]",
      "text/plain": [
       "<Figure size 1080x360 with 1 Axes>"
      ]
     },
     "metadata": {},
     "output_type": "display_data"
    },
    {
     "data": {
      "image/png": "[encoded data removed]",
      "text/plain": [
       "<Figure size 1080x360 with 1 Axes>"
      ]
     },
     "metadata": {},
     "output_type": "display_data"
    },
    {
     "data": {
      "image/png": "[encoded data removed]",
      "text/plain": [
       "<Figure size 1080x360 with 1 Axes>"
      ]
     },
     "metadata": {},
     "output_type": "display_data"
    },
    {
     "data": {
      "image/png": "[encoded data removed]",
      "text/plain": [
       "<Figure size 1080x360 with 1 Axes>"
      ]
     },
     "metadata": {},
     "output_type": "display_data"
    },
    {
     "data": {
      "image/png": "[encoded data removed]",
      "text/plain": [
       "<Figure size 1080x360 with 1 Axes>"
      ]
     },
     "metadata": {},
     "output_type": "display_data"
    }
   ],
   "source": [
    "for platform in best_total_sales:\n",
    "    games[games['platform'] == platform].pivot_table(index = 'year_of_release', values = 'total_sales', aggfunc = 'sum').plot(kind = 'bar', figsize = (15,5))\n",
    "    plt.title(platform)"
   ]
  },
  {
   "cell_type": "markdown",
   "metadata": {},
   "source": [
    "<i>\n",
    "Теперь можно ответить на вопрос: За какой характерный срок появляются новые и исчезают старые платформы?\n",
    "    </i>"
   ]
  },
  {
   "cell_type": "markdown",
   "metadata": {},
   "source": [
    "* PS2  c 2000 по 2010 год;\n",
    "* Х360 c 2005 по 2016 год;\n",
    "* PS3  c 2006 по 2016 год;\n",
    "* Wii  c 2006 по 2015 год;\n",
    "* DS   c 2004 по 2013 год."
   ]
  },
  {
   "cell_type": "markdown",
   "metadata": {},
   "source": [
    "<i>\n",
    "В среднем платформа живет около 10 лет. Платформы и ТОП5 продаж появились с 2000 по 2006 год.\n",
    "</i>"
   ]
  },
  {
   "cell_type": "markdown",
   "metadata": {},
   "source": [
    "<div class=\"alert alert-info\">\n",
    "<h1>Комментарий ревьюера <a class=\"tocSkip\"></a></h1>\n",
    "Да, примерно так и выходит\n",
    "</div>"
   ]
  },
  {
   "cell_type": "markdown",
   "metadata": {},
   "source": [
    "<b>Ответим на вопрос, какие платформы лидируют по продажам, растут или падают? Выберем несколько потенциально прибыльных платформ.\n",
    "</b>"
   ]
  },
  {
   "cell_type": "markdown",
   "metadata": {},
   "source": [
    "<i> \n",
    "    Актуальным для планирования возмем год который вычислим: планируемый год минус половина жизни платформ (2017 - 5 = 2012 год). Считаем что выявленная тенденция по выборке будет актуальна ещё в последующих 5 годах. \n",
    "</i>"
   ]
  },
  {
   "cell_type": "code",
   "execution_count": 27,
   "metadata": {},
   "outputs": [],
   "source": [
    "games_actual_data = games.query('year_of_release > 2012')"
   ]
  },
  {
   "cell_type": "code",
   "execution_count": 28,
   "metadata": {},
   "outputs": [
    {
     "name": "stdout",
     "output_type": "stream",
     "text": [
      "<class 'pandas.core.frame.DataFrame'>\n",
      "Int64Index: 2233 entries, 16 to 16714\n",
      "Data columns (total 12 columns):\n",
      "name               2233 non-null object\n",
      "platform           2233 non-null object\n",
      "year_of_release    2233 non-null float64\n",
      "genre              2233 non-null object\n",
      "na_sales           2233 non-null float64\n",
      "eu_sales           2233 non-null float64\n",
      "jp_sales           2233 non-null float64\n",
      "other_sales        2233 non-null float64\n",
      "critic_score       991 non-null float64\n",
      "user_score         1192 non-null float32\n",
      "rating             1256 non-null object\n",
      "total_sales        2233 non-null float64\n",
      "dtypes: float32(1), float64(7), object(4)\n",
      "memory usage: 218.1+ KB\n"
     ]
    }
   ],
   "source": [
    "games_actual_data.info()"
   ]
  },
  {
   "cell_type": "code",
   "execution_count": 29,
   "metadata": {},
   "outputs": [
    {
     "data": {
      "text/html": [
       "<div>\n",
       "<style scoped>\n",
       "    .dataframe tbody tr th:only-of-type {\n",
       "        vertical-align: middle;\n",
       "    }\n",
       "\n",
       "    .dataframe tbody tr th {\n",
       "        vertical-align: top;\n",
       "    }\n",
       "\n",
       "    .dataframe thead th {\n",
       "        text-align: right;\n",
       "    }\n",
       "</style>\n",
       "<table border=\"1\" class=\"dataframe\">\n",
       "  <thead>\n",
       "    <tr style=\"text-align: right;\">\n",
       "      <th></th>\n",
       "      <th>name</th>\n",
       "      <th>platform</th>\n",
       "      <th>year_of_release</th>\n",
       "      <th>genre</th>\n",
       "      <th>na_sales</th>\n",
       "      <th>eu_sales</th>\n",
       "      <th>jp_sales</th>\n",
       "      <th>other_sales</th>\n",
       "      <th>critic_score</th>\n",
       "      <th>user_score</th>\n",
       "      <th>rating</th>\n",
       "      <th>total_sales</th>\n",
       "    </tr>\n",
       "  </thead>\n",
       "  <tbody>\n",
       "    <tr>\n",
       "      <td>16</td>\n",
       "      <td>Grand Theft Auto V</td>\n",
       "      <td>PS3</td>\n",
       "      <td>2013.0</td>\n",
       "      <td>Action</td>\n",
       "      <td>7.02</td>\n",
       "      <td>9.09</td>\n",
       "      <td>0.98</td>\n",
       "      <td>3.96</td>\n",
       "      <td>97.0</td>\n",
       "      <td>8.2</td>\n",
       "      <td>M</td>\n",
       "      <td>21.05</td>\n",
       "    </tr>\n",
       "    <tr>\n",
       "      <td>23</td>\n",
       "      <td>Grand Theft Auto V</td>\n",
       "      <td>X360</td>\n",
       "      <td>2013.0</td>\n",
       "      <td>Action</td>\n",
       "      <td>9.66</td>\n",
       "      <td>5.14</td>\n",
       "      <td>0.06</td>\n",
       "      <td>1.41</td>\n",
       "      <td>97.0</td>\n",
       "      <td>8.1</td>\n",
       "      <td>M</td>\n",
       "      <td>16.27</td>\n",
       "    </tr>\n",
       "    <tr>\n",
       "      <td>31</td>\n",
       "      <td>Call of Duty: Black Ops 3</td>\n",
       "      <td>PS4</td>\n",
       "      <td>2015.0</td>\n",
       "      <td>Shooter</td>\n",
       "      <td>6.03</td>\n",
       "      <td>5.86</td>\n",
       "      <td>0.36</td>\n",
       "      <td>2.38</td>\n",
       "      <td>NaN</td>\n",
       "      <td>NaN</td>\n",
       "      <td>NaN</td>\n",
       "      <td>14.63</td>\n",
       "    </tr>\n",
       "    <tr>\n",
       "      <td>33</td>\n",
       "      <td>Pokemon X/Pokemon Y</td>\n",
       "      <td>3DS</td>\n",
       "      <td>2013.0</td>\n",
       "      <td>Role-Playing</td>\n",
       "      <td>5.28</td>\n",
       "      <td>4.19</td>\n",
       "      <td>4.35</td>\n",
       "      <td>0.78</td>\n",
       "      <td>NaN</td>\n",
       "      <td>NaN</td>\n",
       "      <td>NaN</td>\n",
       "      <td>14.60</td>\n",
       "    </tr>\n",
       "    <tr>\n",
       "      <td>42</td>\n",
       "      <td>Grand Theft Auto V</td>\n",
       "      <td>PS4</td>\n",
       "      <td>2014.0</td>\n",
       "      <td>Action</td>\n",
       "      <td>3.96</td>\n",
       "      <td>6.31</td>\n",
       "      <td>0.38</td>\n",
       "      <td>1.97</td>\n",
       "      <td>97.0</td>\n",
       "      <td>8.3</td>\n",
       "      <td>M</td>\n",
       "      <td>12.62</td>\n",
       "    </tr>\n",
       "  </tbody>\n",
       "</table>\n",
       "</div>"
      ],
      "text/plain": [
       "                         name platform  year_of_release         genre  \\\n",
       "16         Grand Theft Auto V      PS3           2013.0        Action   \n",
       "23         Grand Theft Auto V     X360           2013.0        Action   \n",
       "31  Call of Duty: Black Ops 3      PS4           2015.0       Shooter   \n",
       "33        Pokemon X/Pokemon Y      3DS           2013.0  Role-Playing   \n",
       "42         Grand Theft Auto V      PS4           2014.0        Action   \n",
       "\n",
       "    na_sales  eu_sales  jp_sales  other_sales  critic_score  user_score  \\\n",
       "16      7.02      9.09      0.98         3.96          97.0         8.2   \n",
       "23      9.66      5.14      0.06         1.41          97.0         8.1   \n",
       "31      6.03      5.86      0.36         2.38           NaN         NaN   \n",
       "33      5.28      4.19      4.35         0.78           NaN         NaN   \n",
       "42      3.96      6.31      0.38         1.97          97.0         8.3   \n",
       "\n",
       "   rating  total_sales  \n",
       "16      M        21.05  \n",
       "23      M        16.27  \n",
       "31    NaN        14.63  \n",
       "33    NaN        14.60  \n",
       "42      M        12.62  "
      ]
     },
     "execution_count": 29,
     "metadata": {},
     "output_type": "execute_result"
    }
   ],
   "source": [
    "games_actual_data.head()"
   ]
  },
  {
   "cell_type": "code",
   "execution_count": 30,
   "metadata": {},
   "outputs": [],
   "source": [
    "best_platform = games_actual_data.pivot_table(index = ['platform', 'year_of_release'], \n",
    "                              values = 'total_sales', aggfunc = 'sum')"
   ]
  },
  {
   "cell_type": "code",
   "execution_count": 31,
   "metadata": {},
   "outputs": [
    {
     "data": {
      "text/html": [
       "<div>\n",
       "<style scoped>\n",
       "    .dataframe tbody tr th:only-of-type {\n",
       "        vertical-align: middle;\n",
       "    }\n",
       "\n",
       "    .dataframe tbody tr th {\n",
       "        vertical-align: top;\n",
       "    }\n",
       "\n",
       "    .dataframe thead th {\n",
       "        text-align: right;\n",
       "    }\n",
       "</style>\n",
       "<table border=\"1\" class=\"dataframe\">\n",
       "  <thead>\n",
       "    <tr style=\"text-align: right;\">\n",
       "      <th></th>\n",
       "      <th></th>\n",
       "      <th>total_sales</th>\n",
       "    </tr>\n",
       "    <tr>\n",
       "      <th>platform</th>\n",
       "      <th>year_of_release</th>\n",
       "      <th></th>\n",
       "    </tr>\n",
       "  </thead>\n",
       "  <tbody>\n",
       "    <tr>\n",
       "      <td rowspan=\"4\" valign=\"top\">3DS</td>\n",
       "      <td>2013.0</td>\n",
       "      <td>56.57</td>\n",
       "    </tr>\n",
       "    <tr>\n",
       "      <td>2014.0</td>\n",
       "      <td>43.76</td>\n",
       "    </tr>\n",
       "    <tr>\n",
       "      <td>2015.0</td>\n",
       "      <td>27.78</td>\n",
       "    </tr>\n",
       "    <tr>\n",
       "      <td>2016.0</td>\n",
       "      <td>15.14</td>\n",
       "    </tr>\n",
       "    <tr>\n",
       "      <td>DS</td>\n",
       "      <td>2013.0</td>\n",
       "      <td>1.54</td>\n",
       "    </tr>\n",
       "    <tr>\n",
       "      <td rowspan=\"4\" valign=\"top\">PC</td>\n",
       "      <td>2013.0</td>\n",
       "      <td>12.38</td>\n",
       "    </tr>\n",
       "    <tr>\n",
       "      <td>2014.0</td>\n",
       "      <td>13.28</td>\n",
       "    </tr>\n",
       "    <tr>\n",
       "      <td>2015.0</td>\n",
       "      <td>8.52</td>\n",
       "    </tr>\n",
       "    <tr>\n",
       "      <td>2016.0</td>\n",
       "      <td>5.25</td>\n",
       "    </tr>\n",
       "    <tr>\n",
       "      <td rowspan=\"4\" valign=\"top\">PS3</td>\n",
       "      <td>2013.0</td>\n",
       "      <td>113.25</td>\n",
       "    </tr>\n",
       "    <tr>\n",
       "      <td>2014.0</td>\n",
       "      <td>47.76</td>\n",
       "    </tr>\n",
       "    <tr>\n",
       "      <td>2015.0</td>\n",
       "      <td>16.82</td>\n",
       "    </tr>\n",
       "    <tr>\n",
       "      <td>2016.0</td>\n",
       "      <td>3.60</td>\n",
       "    </tr>\n",
       "    <tr>\n",
       "      <td rowspan=\"4\" valign=\"top\">PS4</td>\n",
       "      <td>2013.0</td>\n",
       "      <td>25.99</td>\n",
       "    </tr>\n",
       "    <tr>\n",
       "      <td>2014.0</td>\n",
       "      <td>100.00</td>\n",
       "    </tr>\n",
       "    <tr>\n",
       "      <td>2015.0</td>\n",
       "      <td>118.90</td>\n",
       "    </tr>\n",
       "    <tr>\n",
       "      <td>2016.0</td>\n",
       "      <td>69.25</td>\n",
       "    </tr>\n",
       "    <tr>\n",
       "      <td rowspan=\"3\" valign=\"top\">PSP</td>\n",
       "      <td>2013.0</td>\n",
       "      <td>3.14</td>\n",
       "    </tr>\n",
       "    <tr>\n",
       "      <td>2014.0</td>\n",
       "      <td>0.24</td>\n",
       "    </tr>\n",
       "    <tr>\n",
       "      <td>2015.0</td>\n",
       "      <td>0.12</td>\n",
       "    </tr>\n",
       "    <tr>\n",
       "      <td rowspan=\"4\" valign=\"top\">PSV</td>\n",
       "      <td>2013.0</td>\n",
       "      <td>10.59</td>\n",
       "    </tr>\n",
       "    <tr>\n",
       "      <td>2014.0</td>\n",
       "      <td>11.90</td>\n",
       "    </tr>\n",
       "    <tr>\n",
       "      <td>2015.0</td>\n",
       "      <td>6.25</td>\n",
       "    </tr>\n",
       "    <tr>\n",
       "      <td>2016.0</td>\n",
       "      <td>4.25</td>\n",
       "    </tr>\n",
       "    <tr>\n",
       "      <td rowspan=\"4\" valign=\"top\">Wii</td>\n",
       "      <td>2013.0</td>\n",
       "      <td>8.59</td>\n",
       "    </tr>\n",
       "    <tr>\n",
       "      <td>2014.0</td>\n",
       "      <td>3.75</td>\n",
       "    </tr>\n",
       "    <tr>\n",
       "      <td>2015.0</td>\n",
       "      <td>1.14</td>\n",
       "    </tr>\n",
       "    <tr>\n",
       "      <td>2016.0</td>\n",
       "      <td>0.18</td>\n",
       "    </tr>\n",
       "    <tr>\n",
       "      <td rowspan=\"4\" valign=\"top\">WiiU</td>\n",
       "      <td>2013.0</td>\n",
       "      <td>21.65</td>\n",
       "    </tr>\n",
       "    <tr>\n",
       "      <td>2014.0</td>\n",
       "      <td>22.03</td>\n",
       "    </tr>\n",
       "    <tr>\n",
       "      <td>2015.0</td>\n",
       "      <td>16.35</td>\n",
       "    </tr>\n",
       "    <tr>\n",
       "      <td>2016.0</td>\n",
       "      <td>4.60</td>\n",
       "    </tr>\n",
       "    <tr>\n",
       "      <td rowspan=\"4\" valign=\"top\">X360</td>\n",
       "      <td>2013.0</td>\n",
       "      <td>88.58</td>\n",
       "    </tr>\n",
       "    <tr>\n",
       "      <td>2014.0</td>\n",
       "      <td>34.74</td>\n",
       "    </tr>\n",
       "    <tr>\n",
       "      <td>2015.0</td>\n",
       "      <td>11.96</td>\n",
       "    </tr>\n",
       "    <tr>\n",
       "      <td>2016.0</td>\n",
       "      <td>1.52</td>\n",
       "    </tr>\n",
       "    <tr>\n",
       "      <td rowspan=\"4\" valign=\"top\">XOne</td>\n",
       "      <td>2013.0</td>\n",
       "      <td>18.96</td>\n",
       "    </tr>\n",
       "    <tr>\n",
       "      <td>2014.0</td>\n",
       "      <td>54.07</td>\n",
       "    </tr>\n",
       "    <tr>\n",
       "      <td>2015.0</td>\n",
       "      <td>60.14</td>\n",
       "    </tr>\n",
       "    <tr>\n",
       "      <td>2016.0</td>\n",
       "      <td>26.15</td>\n",
       "    </tr>\n",
       "  </tbody>\n",
       "</table>\n",
       "</div>"
      ],
      "text/plain": [
       "                          total_sales\n",
       "platform year_of_release             \n",
       "3DS      2013.0                 56.57\n",
       "         2014.0                 43.76\n",
       "         2015.0                 27.78\n",
       "         2016.0                 15.14\n",
       "DS       2013.0                  1.54\n",
       "PC       2013.0                 12.38\n",
       "         2014.0                 13.28\n",
       "         2015.0                  8.52\n",
       "         2016.0                  5.25\n",
       "PS3      2013.0                113.25\n",
       "         2014.0                 47.76\n",
       "         2015.0                 16.82\n",
       "         2016.0                  3.60\n",
       "PS4      2013.0                 25.99\n",
       "         2014.0                100.00\n",
       "         2015.0                118.90\n",
       "         2016.0                 69.25\n",
       "PSP      2013.0                  3.14\n",
       "         2014.0                  0.24\n",
       "         2015.0                  0.12\n",
       "PSV      2013.0                 10.59\n",
       "         2014.0                 11.90\n",
       "         2015.0                  6.25\n",
       "         2016.0                  4.25\n",
       "Wii      2013.0                  8.59\n",
       "         2014.0                  3.75\n",
       "         2015.0                  1.14\n",
       "         2016.0                  0.18\n",
       "WiiU     2013.0                 21.65\n",
       "         2014.0                 22.03\n",
       "         2015.0                 16.35\n",
       "         2016.0                  4.60\n",
       "X360     2013.0                 88.58\n",
       "         2014.0                 34.74\n",
       "         2015.0                 11.96\n",
       "         2016.0                  1.52\n",
       "XOne     2013.0                 18.96\n",
       "         2014.0                 54.07\n",
       "         2015.0                 60.14\n",
       "         2016.0                 26.15"
      ]
     },
     "execution_count": 31,
     "metadata": {},
     "output_type": "execute_result"
    }
   ],
   "source": [
    "best_platform"
   ]
  },
  {
   "cell_type": "code",
   "execution_count": 32,
   "metadata": {},
   "outputs": [
    {
     "data": {
      "text/html": [
       "<div>\n",
       "<style scoped>\n",
       "    .dataframe tbody tr th:only-of-type {\n",
       "        vertical-align: middle;\n",
       "    }\n",
       "\n",
       "    .dataframe tbody tr th {\n",
       "        vertical-align: top;\n",
       "    }\n",
       "\n",
       "    .dataframe thead th {\n",
       "        text-align: right;\n",
       "    }\n",
       "</style>\n",
       "<table border=\"1\" class=\"dataframe\">\n",
       "  <thead>\n",
       "    <tr style=\"text-align: right;\">\n",
       "      <th></th>\n",
       "      <th>total_sales</th>\n",
       "    </tr>\n",
       "    <tr>\n",
       "      <th>platform</th>\n",
       "      <th></th>\n",
       "    </tr>\n",
       "  </thead>\n",
       "  <tbody>\n",
       "    <tr>\n",
       "      <td>PS4</td>\n",
       "      <td>314.14</td>\n",
       "    </tr>\n",
       "    <tr>\n",
       "      <td>PS3</td>\n",
       "      <td>181.43</td>\n",
       "    </tr>\n",
       "    <tr>\n",
       "      <td>XOne</td>\n",
       "      <td>159.32</td>\n",
       "    </tr>\n",
       "    <tr>\n",
       "      <td>3DS</td>\n",
       "      <td>143.25</td>\n",
       "    </tr>\n",
       "    <tr>\n",
       "      <td>X360</td>\n",
       "      <td>136.80</td>\n",
       "    </tr>\n",
       "    <tr>\n",
       "      <td>WiiU</td>\n",
       "      <td>64.63</td>\n",
       "    </tr>\n",
       "    <tr>\n",
       "      <td>PC</td>\n",
       "      <td>39.43</td>\n",
       "    </tr>\n",
       "    <tr>\n",
       "      <td>PSV</td>\n",
       "      <td>32.99</td>\n",
       "    </tr>\n",
       "    <tr>\n",
       "      <td>Wii</td>\n",
       "      <td>13.66</td>\n",
       "    </tr>\n",
       "    <tr>\n",
       "      <td>PSP</td>\n",
       "      <td>3.50</td>\n",
       "    </tr>\n",
       "    <tr>\n",
       "      <td>DS</td>\n",
       "      <td>1.54</td>\n",
       "    </tr>\n",
       "  </tbody>\n",
       "</table>\n",
       "</div>"
      ],
      "text/plain": [
       "          total_sales\n",
       "platform             \n",
       "PS4            314.14\n",
       "PS3            181.43\n",
       "XOne           159.32\n",
       "3DS            143.25\n",
       "X360           136.80\n",
       "WiiU            64.63\n",
       "PC              39.43\n",
       "PSV             32.99\n",
       "Wii             13.66\n",
       "PSP              3.50\n",
       "DS               1.54"
      ]
     },
     "execution_count": 32,
     "metadata": {},
     "output_type": "execute_result"
    }
   ],
   "source": [
    "games_actual_data.pivot_table(index = ['platform',], values = 'total_sales', aggfunc = 'sum').sort_values('total_sales', ascending = False)"
   ]
  },
  {
   "cell_type": "markdown",
   "metadata": {},
   "source": [
    "<i>\n",
    "Пятерка лидеров по продажам: PS4, PS3, XOne, 3DS и X360. Суммарные продажи которых с 2012 года приближаются к 1 млд. $ Продажи растут у PS4 и XOne.\n",
    "</i>\n"
   ]
  },
  {
   "cell_type": "markdown",
   "metadata": {},
   "source": [
    "<b>Построим график «ящик с усами» по глобальным продажам игр в разбивке по платформам.</b>"
   ]
  },
  {
   "cell_type": "code",
   "execution_count": 33,
   "metadata": {},
   "outputs": [
    {
     "data": {
      "text/plain": [
       "<matplotlib.axes._subplots.AxesSubplot at 0x7fd88f063910>"
      ]
     },
     "execution_count": 33,
     "metadata": {},
     "output_type": "execute_result"
    },
    {
     "data": {
      "image/png": "[encoded data removed]",
      "text/plain": [
       "<Figure size 1368x504 with 1 Axes>"
      ]
     },
     "metadata": {},
     "output_type": "display_data"
    }
   ],
   "source": [
    "sns.set_style('whitegrid')\n",
    "plt.figure(figsize = (19, 7))\n",
    "sns.boxplot(data = games_actual_data.query('platform == [\"PS4\", \"PS3\", \"XOne\", \"3DS\", \"X360\"]') \\\n",
    "            .sort_values(by = 'total_sales'), y = 'platform', x = 'total_sales')"
   ]
  },
  {
   "cell_type": "markdown",
   "metadata": {},
   "source": [
    "<div class=\"alert alert-info\">\n",
    "<h1>Комментарий ревьюера <a class=\"tocSkip\"></a></h1>\n",
    "Как ты думаешь, с чем связаны выбросы? Топовые игрушки какие-нибудь?</div>"
   ]
  },
  {
   "cell_type": "code",
   "execution_count": 34,
   "metadata": {},
   "outputs": [
    {
     "data": {
      "text/plain": [
       "count    1473.000000\n",
       "mean        0.634718\n",
       "std         1.454708\n",
       "min         0.010000\n",
       "25%         0.050000\n",
       "50%         0.170000\n",
       "75%         0.580000\n",
       "max        21.050000\n",
       "Name: total_sales, dtype: float64"
      ]
     },
     "execution_count": 34,
     "metadata": {},
     "output_type": "execute_result"
    }
   ],
   "source": [
    "games_actual_data.query('platform == [\"PS4\", \"PS3\", \"XOne\", \"3DS\", \"X360\"]')['total_sales'].describe()"
   ]
  },
  {
   "cell_type": "code",
   "execution_count": 35,
   "metadata": {},
   "outputs": [
    {
     "data": {
      "text/plain": [
       "count    392.000000\n",
       "mean       0.801378\n",
       "std        1.609456\n",
       "min        0.010000\n",
       "25%        0.060000\n",
       "50%        0.200000\n",
       "75%        0.730000\n",
       "max       14.630000\n",
       "Name: total_sales, dtype: float64"
      ]
     },
     "execution_count": 35,
     "metadata": {},
     "output_type": "execute_result"
    }
   ],
   "source": [
    "games_actual_data.query('platform == \"PS4\"')['total_sales'].describe()"
   ]
  },
  {
   "cell_type": "code",
   "execution_count": 36,
   "metadata": {},
   "outputs": [
    {
     "data": {
      "text/plain": [
       "count    345.000000\n",
       "mean       0.525884\n",
       "std        1.451939\n",
       "min        0.010000\n",
       "25%        0.040000\n",
       "50%        0.150000\n",
       "75%        0.510000\n",
       "max       21.050000\n",
       "Name: total_sales, dtype: float64"
      ]
     },
     "execution_count": 36,
     "metadata": {},
     "output_type": "execute_result"
    }
   ],
   "source": [
    "games_actual_data.query('platform == \"PS3\"')['total_sales'].describe()"
   ]
  },
  {
   "cell_type": "code",
   "execution_count": 37,
   "metadata": {},
   "outputs": [
    {
     "data": {
      "text/plain": [
       "count    247.000000\n",
       "mean       0.645020\n",
       "std        1.036139\n",
       "min        0.010000\n",
       "25%        0.060000\n",
       "50%        0.220000\n",
       "75%        0.685000\n",
       "max        7.390000\n",
       "Name: total_sales, dtype: float64"
      ]
     },
     "execution_count": 37,
     "metadata": {},
     "output_type": "execute_result"
    }
   ],
   "source": [
    "games_actual_data.query('platform == \"XOne\"')['total_sales'].describe()"
   ]
  },
  {
   "cell_type": "code",
   "execution_count": 38,
   "metadata": {},
   "outputs": [
    {
     "data": {
      "text/plain": [
       "count    303.000000\n",
       "mean       0.472772\n",
       "std        1.381347\n",
       "min        0.010000\n",
       "25%        0.040000\n",
       "50%        0.090000\n",
       "75%        0.280000\n",
       "max       14.600000\n",
       "Name: total_sales, dtype: float64"
      ]
     },
     "execution_count": 38,
     "metadata": {},
     "output_type": "execute_result"
    }
   ],
   "source": [
    "games_actual_data.query('platform == \"3DS\"')['total_sales'].describe()"
   ]
  },
  {
   "cell_type": "code",
   "execution_count": 39,
   "metadata": {},
   "outputs": [
    {
     "data": {
      "text/plain": [
       "count    186.000000\n",
       "mean       0.735484\n",
       "std        1.663275\n",
       "min        0.010000\n",
       "25%        0.080000\n",
       "50%        0.265000\n",
       "75%        0.795000\n",
       "max       16.270000\n",
       "Name: total_sales, dtype: float64"
      ]
     },
     "execution_count": 39,
     "metadata": {},
     "output_type": "execute_result"
    }
   ],
   "source": [
    "games_actual_data.query('platform == \"X360\"')['total_sales'].describe()"
   ]
  },
  {
   "cell_type": "markdown",
   "metadata": {},
   "source": [
    "<i>Глобальные продажи в разбивке по платформам отличаются. Для PS4, PS3 и 3DS видна положительная динамика к росту продаж. Mean больше Q3, это значит к этим платформам производят более популярные и продаваемые игры, чем на XOne и X360.</i>"
   ]
  },
  {
   "cell_type": "markdown",
   "metadata": {},
   "source": [
    "<b>\n",
    "    Посмотрим, как влияют на продажи внутри одной популярной платформы отзывы пользователей и критиков. Построим диаграмму рассеяния и посчитаем корреляцию между отзывами и продажами.\n",
    "</b>"
   ]
  },
  {
   "cell_type": "code",
   "execution_count": 40,
   "metadata": {},
   "outputs": [],
   "source": [
    "PS4_games_actual_data = games_actual_data.query('platform == \"PS4\"').loc[:,['total_sales', 'critic_score', 'user_score']]"
   ]
  },
  {
   "cell_type": "code",
   "execution_count": 41,
   "metadata": {},
   "outputs": [
    {
     "data": {
      "text/html": [
       "<div>\n",
       "<style scoped>\n",
       "    .dataframe tbody tr th:only-of-type {\n",
       "        vertical-align: middle;\n",
       "    }\n",
       "\n",
       "    .dataframe tbody tr th {\n",
       "        vertical-align: top;\n",
       "    }\n",
       "\n",
       "    .dataframe thead th {\n",
       "        text-align: right;\n",
       "    }\n",
       "</style>\n",
       "<table border=\"1\" class=\"dataframe\">\n",
       "  <thead>\n",
       "    <tr style=\"text-align: right;\">\n",
       "      <th></th>\n",
       "      <th>total_sales</th>\n",
       "      <th>critic_score</th>\n",
       "      <th>user_score</th>\n",
       "    </tr>\n",
       "  </thead>\n",
       "  <tbody>\n",
       "    <tr>\n",
       "      <td>31</td>\n",
       "      <td>14.63</td>\n",
       "      <td>NaN</td>\n",
       "      <td>NaN</td>\n",
       "    </tr>\n",
       "    <tr>\n",
       "      <td>42</td>\n",
       "      <td>12.62</td>\n",
       "      <td>97.0</td>\n",
       "      <td>8.3</td>\n",
       "    </tr>\n",
       "    <tr>\n",
       "      <td>77</td>\n",
       "      <td>8.58</td>\n",
       "      <td>82.0</td>\n",
       "      <td>4.3</td>\n",
       "    </tr>\n",
       "    <tr>\n",
       "      <td>87</td>\n",
       "      <td>7.98</td>\n",
       "      <td>NaN</td>\n",
       "      <td>NaN</td>\n",
       "    </tr>\n",
       "    <tr>\n",
       "      <td>92</td>\n",
       "      <td>7.66</td>\n",
       "      <td>83.0</td>\n",
       "      <td>5.7</td>\n",
       "    </tr>\n",
       "  </tbody>\n",
       "</table>\n",
       "</div>"
      ],
      "text/plain": [
       "    total_sales  critic_score  user_score\n",
       "31        14.63           NaN         NaN\n",
       "42        12.62          97.0         8.3\n",
       "77         8.58          82.0         4.3\n",
       "87         7.98           NaN         NaN\n",
       "92         7.66          83.0         5.7"
      ]
     },
     "execution_count": 41,
     "metadata": {},
     "output_type": "execute_result"
    }
   ],
   "source": [
    "games_actual_data.query('platform == \"PS4\"').loc[:,['total_sales', 'critic_score', 'user_score']].head()"
   ]
  },
  {
   "cell_type": "code",
   "execution_count": 42,
   "metadata": {},
   "outputs": [
    {
     "data": {
      "text/html": [
       "<div>\n",
       "<style scoped>\n",
       "    .dataframe tbody tr th:only-of-type {\n",
       "        vertical-align: middle;\n",
       "    }\n",
       "\n",
       "    .dataframe tbody tr th {\n",
       "        vertical-align: top;\n",
       "    }\n",
       "\n",
       "    .dataframe thead th {\n",
       "        text-align: right;\n",
       "    }\n",
       "</style>\n",
       "<table border=\"1\" class=\"dataframe\">\n",
       "  <thead>\n",
       "    <tr style=\"text-align: right;\">\n",
       "      <th></th>\n",
       "      <th>total_sales</th>\n",
       "      <th>critic_score</th>\n",
       "      <th>user_score</th>\n",
       "    </tr>\n",
       "  </thead>\n",
       "  <tbody>\n",
       "    <tr>\n",
       "      <td>total_sales</td>\n",
       "      <td>1.000000</td>\n",
       "      <td>0.406568</td>\n",
       "      <td>-0.031957</td>\n",
       "    </tr>\n",
       "    <tr>\n",
       "      <td>critic_score</td>\n",
       "      <td>0.406568</td>\n",
       "      <td>1.000000</td>\n",
       "      <td>0.557654</td>\n",
       "    </tr>\n",
       "    <tr>\n",
       "      <td>user_score</td>\n",
       "      <td>-0.031957</td>\n",
       "      <td>0.557654</td>\n",
       "      <td>1.000000</td>\n",
       "    </tr>\n",
       "  </tbody>\n",
       "</table>\n",
       "</div>"
      ],
      "text/plain": [
       "              total_sales  critic_score  user_score\n",
       "total_sales      1.000000      0.406568   -0.031957\n",
       "critic_score     0.406568      1.000000    0.557654\n",
       "user_score      -0.031957      0.557654    1.000000"
      ]
     },
     "execution_count": 42,
     "metadata": {},
     "output_type": "execute_result"
    }
   ],
   "source": [
    "games_actual_data.query('platform == \"PS4\"').loc[:,['total_sales', 'critic_score', 'user_score']].corr()"
   ]
  },
  {
   "cell_type": "markdown",
   "metadata": {},
   "source": [
    "<i>\n",
    "Обычно при значениях от -0.3 до 0.3 можно говорить о том, что зависимость отсутствует. Сделаем вывод, что есть прямая корреляция между прибылью и оценкой критиков. Обратная корреляция по оценке пользователей характеризуется как отсутсвие зависимости. Т.е. оценка пользователей не оказывает влияние на продажи, в то время как оценка критиков может влиять на получение прибыли.\n",
    "</i>"
   ]
  },
  {
   "cell_type": "markdown",
   "metadata": {},
   "source": [
    "<div class=\"alert alert-info\">\n",
    "<h1>Комментарий ревьюера <a class=\"tocSkip\"></a></h1>\n",
    "Интересный результат, всегда казалось, что пользователи наоборот больше оказывают влияние\n",
    "</div>"
   ]
  },
  {
   "cell_type": "code",
   "execution_count": 43,
   "metadata": {},
   "outputs": [
    {
     "data": {
      "text/plain": [
       "array([[<matplotlib.axes._subplots.AxesSubplot object at 0x7fd88e82ac90>,\n",
       "        <matplotlib.axes._subplots.AxesSubplot object at 0x7fd88e40f990>,\n",
       "        <matplotlib.axes._subplots.AxesSubplot object at 0x7fd88e55b710>],\n",
       "       [<matplotlib.axes._subplots.AxesSubplot object at 0x7fd88e4b1c10>,\n",
       "        <matplotlib.axes._subplots.AxesSubplot object at 0x7fd88e3fff90>,\n",
       "        <matplotlib.axes._subplots.AxesSubplot object at 0x7fd88e473c50>],\n",
       "       [<matplotlib.axes._subplots.AxesSubplot object at 0x7fd88e5c4490>,\n",
       "        <matplotlib.axes._subplots.AxesSubplot object at 0x7fd88e855fd0>,\n",
       "        <matplotlib.axes._subplots.AxesSubplot object at 0x7fd88e83b810>]],\n",
       "      dtype=object)"
      ]
     },
     "execution_count": 43,
     "metadata": {},
     "output_type": "execute_result"
    },
    {
     "data": {
      "image/png": "[encoded data removed]",
      "text/plain": [
       "<Figure size 720x720 with 9 Axes>"
      ]
     },
     "metadata": {},
     "output_type": "display_data"
    }
   ],
   "source": [
    "pd.plotting.scatter_matrix(games_actual_data.query('platform == \"PS4\"').loc[:,['total_sales', 'critic_score', 'user_score']], figsize=(10, 10))"
   ]
  },
  {
   "cell_type": "markdown",
   "metadata": {},
   "source": [
    "<b>\n",
    "    Проверим данный вывод с продажами игр на других платформах:\n",
    "</b>"
   ]
  },
  {
   "cell_type": "code",
   "execution_count": 44,
   "metadata": {
    "scrolled": false
   },
   "outputs": [
    {
     "data": {
      "text/plain": [
       "'PS4'"
      ]
     },
     "metadata": {},
     "output_type": "display_data"
    },
    {
     "data": {
      "text/html": [
       "<div>\n",
       "<style scoped>\n",
       "    .dataframe tbody tr th:only-of-type {\n",
       "        vertical-align: middle;\n",
       "    }\n",
       "\n",
       "    .dataframe tbody tr th {\n",
       "        vertical-align: top;\n",
       "    }\n",
       "\n",
       "    .dataframe thead th {\n",
       "        text-align: right;\n",
       "    }\n",
       "</style>\n",
       "<table border=\"1\" class=\"dataframe\">\n",
       "  <thead>\n",
       "    <tr style=\"text-align: right;\">\n",
       "      <th></th>\n",
       "      <th>total_sales</th>\n",
       "      <th>critic_score</th>\n",
       "      <th>user_score</th>\n",
       "    </tr>\n",
       "  </thead>\n",
       "  <tbody>\n",
       "    <tr>\n",
       "      <td>total_sales</td>\n",
       "      <td>1.000000</td>\n",
       "      <td>0.406568</td>\n",
       "      <td>-0.031957</td>\n",
       "    </tr>\n",
       "    <tr>\n",
       "      <td>critic_score</td>\n",
       "      <td>0.406568</td>\n",
       "      <td>1.000000</td>\n",
       "      <td>0.557654</td>\n",
       "    </tr>\n",
       "    <tr>\n",
       "      <td>user_score</td>\n",
       "      <td>-0.031957</td>\n",
       "      <td>0.557654</td>\n",
       "      <td>1.000000</td>\n",
       "    </tr>\n",
       "  </tbody>\n",
       "</table>\n",
       "</div>"
      ],
      "text/plain": [
       "              total_sales  critic_score  user_score\n",
       "total_sales      1.000000      0.406568   -0.031957\n",
       "critic_score     0.406568      1.000000    0.557654\n",
       "user_score      -0.031957      0.557654    1.000000"
      ]
     },
     "metadata": {},
     "output_type": "display_data"
    },
    {
     "data": {
      "text/plain": [
       "'PS3'"
      ]
     },
     "metadata": {},
     "output_type": "display_data"
    },
    {
     "data": {
      "text/html": [
       "<div>\n",
       "<style scoped>\n",
       "    .dataframe tbody tr th:only-of-type {\n",
       "        vertical-align: middle;\n",
       "    }\n",
       "\n",
       "    .dataframe tbody tr th {\n",
       "        vertical-align: top;\n",
       "    }\n",
       "\n",
       "    .dataframe thead th {\n",
       "        text-align: right;\n",
       "    }\n",
       "</style>\n",
       "<table border=\"1\" class=\"dataframe\">\n",
       "  <thead>\n",
       "    <tr style=\"text-align: right;\">\n",
       "      <th></th>\n",
       "      <th>total_sales</th>\n",
       "      <th>critic_score</th>\n",
       "      <th>user_score</th>\n",
       "    </tr>\n",
       "  </thead>\n",
       "  <tbody>\n",
       "    <tr>\n",
       "      <td>total_sales</td>\n",
       "      <td>1.000000</td>\n",
       "      <td>0.334285</td>\n",
       "      <td>0.002394</td>\n",
       "    </tr>\n",
       "    <tr>\n",
       "      <td>critic_score</td>\n",
       "      <td>0.334285</td>\n",
       "      <td>1.000000</td>\n",
       "      <td>0.599920</td>\n",
       "    </tr>\n",
       "    <tr>\n",
       "      <td>user_score</td>\n",
       "      <td>0.002394</td>\n",
       "      <td>0.599920</td>\n",
       "      <td>1.000000</td>\n",
       "    </tr>\n",
       "  </tbody>\n",
       "</table>\n",
       "</div>"
      ],
      "text/plain": [
       "              total_sales  critic_score  user_score\n",
       "total_sales      1.000000      0.334285    0.002394\n",
       "critic_score     0.334285      1.000000    0.599920\n",
       "user_score       0.002394      0.599920    1.000000"
      ]
     },
     "metadata": {},
     "output_type": "display_data"
    },
    {
     "data": {
      "text/plain": [
       "'XOne'"
      ]
     },
     "metadata": {},
     "output_type": "display_data"
    },
    {
     "data": {
      "text/html": [
       "<div>\n",
       "<style scoped>\n",
       "    .dataframe tbody tr th:only-of-type {\n",
       "        vertical-align: middle;\n",
       "    }\n",
       "\n",
       "    .dataframe tbody tr th {\n",
       "        vertical-align: top;\n",
       "    }\n",
       "\n",
       "    .dataframe thead th {\n",
       "        text-align: right;\n",
       "    }\n",
       "</style>\n",
       "<table border=\"1\" class=\"dataframe\">\n",
       "  <thead>\n",
       "    <tr style=\"text-align: right;\">\n",
       "      <th></th>\n",
       "      <th>total_sales</th>\n",
       "      <th>critic_score</th>\n",
       "      <th>user_score</th>\n",
       "    </tr>\n",
       "  </thead>\n",
       "  <tbody>\n",
       "    <tr>\n",
       "      <td>total_sales</td>\n",
       "      <td>1.000000</td>\n",
       "      <td>0.416998</td>\n",
       "      <td>-0.068925</td>\n",
       "    </tr>\n",
       "    <tr>\n",
       "      <td>critic_score</td>\n",
       "      <td>0.416998</td>\n",
       "      <td>1.000000</td>\n",
       "      <td>0.472462</td>\n",
       "    </tr>\n",
       "    <tr>\n",
       "      <td>user_score</td>\n",
       "      <td>-0.068925</td>\n",
       "      <td>0.472462</td>\n",
       "      <td>1.000000</td>\n",
       "    </tr>\n",
       "  </tbody>\n",
       "</table>\n",
       "</div>"
      ],
      "text/plain": [
       "              total_sales  critic_score  user_score\n",
       "total_sales      1.000000      0.416998   -0.068925\n",
       "critic_score     0.416998      1.000000    0.472462\n",
       "user_score      -0.068925      0.472462    1.000000"
      ]
     },
     "metadata": {},
     "output_type": "display_data"
    },
    {
     "data": {
      "text/plain": [
       "'3DS'"
      ]
     },
     "metadata": {},
     "output_type": "display_data"
    },
    {
     "data": {
      "text/html": [
       "<div>\n",
       "<style scoped>\n",
       "    .dataframe tbody tr th:only-of-type {\n",
       "        vertical-align: middle;\n",
       "    }\n",
       "\n",
       "    .dataframe tbody tr th {\n",
       "        vertical-align: top;\n",
       "    }\n",
       "\n",
       "    .dataframe thead th {\n",
       "        text-align: right;\n",
       "    }\n",
       "</style>\n",
       "<table border=\"1\" class=\"dataframe\">\n",
       "  <thead>\n",
       "    <tr style=\"text-align: right;\">\n",
       "      <th></th>\n",
       "      <th>total_sales</th>\n",
       "      <th>critic_score</th>\n",
       "      <th>user_score</th>\n",
       "    </tr>\n",
       "  </thead>\n",
       "  <tbody>\n",
       "    <tr>\n",
       "      <td>total_sales</td>\n",
       "      <td>1.000000</td>\n",
       "      <td>0.357057</td>\n",
       "      <td>0.241504</td>\n",
       "    </tr>\n",
       "    <tr>\n",
       "      <td>critic_score</td>\n",
       "      <td>0.357057</td>\n",
       "      <td>1.000000</td>\n",
       "      <td>0.769536</td>\n",
       "    </tr>\n",
       "    <tr>\n",
       "      <td>user_score</td>\n",
       "      <td>0.241504</td>\n",
       "      <td>0.769536</td>\n",
       "      <td>1.000000</td>\n",
       "    </tr>\n",
       "  </tbody>\n",
       "</table>\n",
       "</div>"
      ],
      "text/plain": [
       "              total_sales  critic_score  user_score\n",
       "total_sales      1.000000      0.357057    0.241504\n",
       "critic_score     0.357057      1.000000    0.769536\n",
       "user_score       0.241504      0.769536    1.000000"
      ]
     },
     "metadata": {},
     "output_type": "display_data"
    },
    {
     "data": {
      "text/plain": [
       "'X360'"
      ]
     },
     "metadata": {},
     "output_type": "display_data"
    },
    {
     "data": {
      "text/html": [
       "<div>\n",
       "<style scoped>\n",
       "    .dataframe tbody tr th:only-of-type {\n",
       "        vertical-align: middle;\n",
       "    }\n",
       "\n",
       "    .dataframe tbody tr th {\n",
       "        vertical-align: top;\n",
       "    }\n",
       "\n",
       "    .dataframe thead th {\n",
       "        text-align: right;\n",
       "    }\n",
       "</style>\n",
       "<table border=\"1\" class=\"dataframe\">\n",
       "  <thead>\n",
       "    <tr style=\"text-align: right;\">\n",
       "      <th></th>\n",
       "      <th>total_sales</th>\n",
       "      <th>critic_score</th>\n",
       "      <th>user_score</th>\n",
       "    </tr>\n",
       "  </thead>\n",
       "  <tbody>\n",
       "    <tr>\n",
       "      <td>total_sales</td>\n",
       "      <td>1.000000</td>\n",
       "      <td>0.350345</td>\n",
       "      <td>-0.011742</td>\n",
       "    </tr>\n",
       "    <tr>\n",
       "      <td>critic_score</td>\n",
       "      <td>0.350345</td>\n",
       "      <td>1.000000</td>\n",
       "      <td>0.520946</td>\n",
       "    </tr>\n",
       "    <tr>\n",
       "      <td>user_score</td>\n",
       "      <td>-0.011742</td>\n",
       "      <td>0.520946</td>\n",
       "      <td>1.000000</td>\n",
       "    </tr>\n",
       "  </tbody>\n",
       "</table>\n",
       "</div>"
      ],
      "text/plain": [
       "              total_sales  critic_score  user_score\n",
       "total_sales      1.000000      0.350345   -0.011742\n",
       "critic_score     0.350345      1.000000    0.520946\n",
       "user_score      -0.011742      0.520946    1.000000"
      ]
     },
     "metadata": {},
     "output_type": "display_data"
    },
    {
     "data": {
      "image/png": "[encoded data removed]",
      "text/plain": [
       "<Figure size 720x720 with 9 Axes>"
      ]
     },
     "metadata": {},
     "output_type": "display_data"
    },
    {
     "data": {
      "image/png": "[encoded data removed]",
      "text/plain": [
       "<Figure size 720x720 with 9 Axes>"
      ]
     },
     "metadata": {},
     "output_type": "display_data"
    },
    {
     "data": {
      "image/png": "[encoded data removed]",
      "text/plain": [
       "<Figure size 720x720 with 9 Axes>"
      ]
     },
     "metadata": {},
     "output_type": "display_data"
    },
    {
     "data": {
      "image/png": "[encoded data removed]",
      "text/plain": [
       "<Figure size 720x720 with 9 Axes>"
      ]
     },
     "metadata": {},
     "output_type": "display_data"
    },
    {
     "data": {
      "image/png": "[encoded data removed]",
      "text/plain": [
       "<Figure size 720x720 with 9 Axes>"
      ]
     },
     "metadata": {},
     "output_type": "display_data"
    }
   ],
   "source": [
    "top_platform = [\"PS4\", \"PS3\", \"XOne\", \"3DS\", \"X360\"]\n",
    "for row in top_platform:\n",
    "    data = games_actual_data.query('platform == @row').loc[:,['total_sales', 'critic_score', 'user_score']].corr()\n",
    "    pd.plotting.scatter_matrix(games_actual_data.query('platform == @row').loc[:,['total_sales', 'critic_score', 'user_score']], figsize=(10, 10))\n",
    "    display(row, data)"
   ]
  },
  {
   "cell_type": "markdown",
   "metadata": {},
   "source": [
    "<div class=\"alert alert-success\">\n",
    "<h1>Комментарий ревьюера <a class=\"tocSkip\"></a></h1>\n",
    "Молодец, классно автоматизировал построение графиков с помощью цикла</div>"
   ]
  },
  {
   "cell_type": "markdown",
   "metadata": {},
   "source": [
    "<i>\n",
    "Платформа XOne имеет похожую зависимость с PS4. Остальные платформы отличаются по прямой зависимости от оценки критиков в равной степени, у платформы 3DS можно увидеть что есть небольшая прямая зависимость от оценки пользователей.\n",
    "</i>"
   ]
  },
  {
   "cell_type": "markdown",
   "metadata": {},
   "source": [
    "<b>\n",
    "Посмотрим на общее распределение игр по жанрам. Проверим, выделяются ли жанры с высокими и низкими продажами?\n",
    "</b>"
   ]
  },
  {
   "cell_type": "code",
   "execution_count": 45,
   "metadata": {},
   "outputs": [
    {
     "data": {
      "text/html": [
       "<div>\n",
       "<style scoped>\n",
       "    .dataframe tbody tr th:only-of-type {\n",
       "        vertical-align: middle;\n",
       "    }\n",
       "\n",
       "    .dataframe tbody tr th {\n",
       "        vertical-align: top;\n",
       "    }\n",
       "\n",
       "    .dataframe thead th {\n",
       "        text-align: right;\n",
       "    }\n",
       "</style>\n",
       "<table border=\"1\" class=\"dataframe\">\n",
       "  <thead>\n",
       "    <tr style=\"text-align: right;\">\n",
       "      <th></th>\n",
       "      <th>total_sales</th>\n",
       "    </tr>\n",
       "    <tr>\n",
       "      <th>genre</th>\n",
       "      <th></th>\n",
       "    </tr>\n",
       "  </thead>\n",
       "  <tbody>\n",
       "    <tr>\n",
       "      <td>Action</td>\n",
       "      <td>321.87</td>\n",
       "    </tr>\n",
       "    <tr>\n",
       "      <td>Shooter</td>\n",
       "      <td>232.98</td>\n",
       "    </tr>\n",
       "    <tr>\n",
       "      <td>Sports</td>\n",
       "      <td>150.65</td>\n",
       "    </tr>\n",
       "    <tr>\n",
       "      <td>Role-Playing</td>\n",
       "      <td>145.89</td>\n",
       "    </tr>\n",
       "    <tr>\n",
       "      <td>Misc</td>\n",
       "      <td>62.82</td>\n",
       "    </tr>\n",
       "    <tr>\n",
       "      <td>Platform</td>\n",
       "      <td>42.63</td>\n",
       "    </tr>\n",
       "    <tr>\n",
       "      <td>Racing</td>\n",
       "      <td>39.89</td>\n",
       "    </tr>\n",
       "    <tr>\n",
       "      <td>Fighting</td>\n",
       "      <td>35.31</td>\n",
       "    </tr>\n",
       "    <tr>\n",
       "      <td>Adventure</td>\n",
       "      <td>23.64</td>\n",
       "    </tr>\n",
       "    <tr>\n",
       "      <td>Simulation</td>\n",
       "      <td>21.76</td>\n",
       "    </tr>\n",
       "    <tr>\n",
       "      <td>Strategy</td>\n",
       "      <td>10.08</td>\n",
       "    </tr>\n",
       "    <tr>\n",
       "      <td>Puzzle</td>\n",
       "      <td>3.17</td>\n",
       "    </tr>\n",
       "  </tbody>\n",
       "</table>\n",
       "</div>"
      ],
      "text/plain": [
       "              total_sales\n",
       "genre                    \n",
       "Action             321.87\n",
       "Shooter            232.98\n",
       "Sports             150.65\n",
       "Role-Playing       145.89\n",
       "Misc                62.82\n",
       "Platform            42.63\n",
       "Racing              39.89\n",
       "Fighting            35.31\n",
       "Adventure           23.64\n",
       "Simulation          21.76\n",
       "Strategy            10.08\n",
       "Puzzle               3.17"
      ]
     },
     "execution_count": 45,
     "metadata": {},
     "output_type": "execute_result"
    }
   ],
   "source": [
    "games_actual_data.pivot_table(index = ['genre',], values = 'total_sales', aggfunc = 'sum').sort_values('total_sales', ascending = False)"
   ]
  },
  {
   "cell_type": "markdown",
   "metadata": {},
   "source": [
    "<i>\n",
    "    \n",
    "На основании полученной таблицы можно сказать что жанры `Action`, `Shooter`, `Sports`, `Role-Playing` и  `Misc` имеют высокие продажи. На нижних ступенях нашего рейтинга находятся `Simulation`, `Strategy`  и `Puzzle` .\n",
    "    \n",
    "</i>"
   ]
  },
  {
   "cell_type": "markdown",
   "metadata": {},
   "source": [
    "<div class=\"alert alert-info\">\n",
    "<h1>Комментарий ревьюера <a class=\"tocSkip\"></a></h1>\n",
    "Как ты считаешь, с чем это связано?</div>"
   ]
  },
  {
   "cell_type": "markdown",
   "metadata": {},
   "source": [
    "<i>\n",
    "\n",
    "Подытожим исследовательскй анализ данных:\n",
    "* Как видим, данные за все периоды нам не важны.  Таким образом можно рассматривать данные в периоде с 1993 по 2016 год.\n",
    "* В среднем платформа живет около 10 лет. Платформы и ТОП5 продаж появились с 2000 по 2006 год.\n",
    "* Актуальным для планирования является планируемый год минус половина жизни платформ (2017 - 5 = 2012 год). \n",
    "* Пятерка лидеров по продажам: PS4, PS3, XOne, 3DS и X360. Суммарные продажи которых с 2012 года приближаются к 1 млд. $ Продажи растут у PS4 и XOne.\n",
    "* Глобальные продажи в разбивке по платформам отличаются. Для PS4, PS3 и 3DS видна положительная динамика к росту продаж. Mean больше Q3, это значит к этим платформам производят более популярные и продаваемые игры, чем на XOne и X360.\n",
    "* Платформа XOne имеет похожую зависимость с PS4 продаж  от оценки критиков. Остальные платформы отличаются по прямой зависимости от оценки критиков в равной степени, у платформы 3DS можно увидеть что есть небольшая прямая зависимость от оценки пользователей.\n",
    "* Жанры Action, Shooter, Sports, Role-Playing и Misc имеют высокие продажи. На нижних ступенях нашего рейтинга находятся Simulation, Strategy и Puzzle .\n",
    "\n",
    "</i>"
   ]
  },
  {
   "cell_type": "markdown",
   "metadata": {},
   "source": [
    "# Шаг 4. Составим портрет пользователя каждого региона"
   ]
  },
  {
   "cell_type": "markdown",
   "metadata": {},
   "source": [
    "<b>\n",
    "\n",
    "Определим для пользователя каждого региона (NA, EU, JP): Самые популярные платформы (топ-5).    \n",
    "\n",
    "</b>"
   ]
  },
  {
   "cell_type": "code",
   "execution_count": 46,
   "metadata": {},
   "outputs": [
    {
     "data": {
      "text/html": [
       "<div>\n",
       "<style scoped>\n",
       "    .dataframe tbody tr th:only-of-type {\n",
       "        vertical-align: middle;\n",
       "    }\n",
       "\n",
       "    .dataframe tbody tr th {\n",
       "        vertical-align: top;\n",
       "    }\n",
       "\n",
       "    .dataframe thead th {\n",
       "        text-align: right;\n",
       "    }\n",
       "</style>\n",
       "<table border=\"1\" class=\"dataframe\">\n",
       "  <thead>\n",
       "    <tr style=\"text-align: right;\">\n",
       "      <th></th>\n",
       "      <th>na_sales</th>\n",
       "    </tr>\n",
       "    <tr>\n",
       "      <th>platform</th>\n",
       "      <th></th>\n",
       "    </tr>\n",
       "  </thead>\n",
       "  <tbody>\n",
       "    <tr>\n",
       "      <td>PS4</td>\n",
       "      <td>108.74</td>\n",
       "    </tr>\n",
       "    <tr>\n",
       "      <td>XOne</td>\n",
       "      <td>93.12</td>\n",
       "    </tr>\n",
       "    <tr>\n",
       "      <td>X360</td>\n",
       "      <td>81.66</td>\n",
       "    </tr>\n",
       "    <tr>\n",
       "      <td>PS3</td>\n",
       "      <td>63.50</td>\n",
       "    </tr>\n",
       "    <tr>\n",
       "      <td>3DS</td>\n",
       "      <td>38.20</td>\n",
       "    </tr>\n",
       "  </tbody>\n",
       "</table>\n",
       "</div>"
      ],
      "text/plain": [
       "          na_sales\n",
       "platform          \n",
       "PS4         108.74\n",
       "XOne         93.12\n",
       "X360         81.66\n",
       "PS3          63.50\n",
       "3DS          38.20"
      ]
     },
     "metadata": {},
     "output_type": "display_data"
    },
    {
     "data": {
      "text/html": [
       "<div>\n",
       "<style scoped>\n",
       "    .dataframe tbody tr th:only-of-type {\n",
       "        vertical-align: middle;\n",
       "    }\n",
       "\n",
       "    .dataframe tbody tr th {\n",
       "        vertical-align: top;\n",
       "    }\n",
       "\n",
       "    .dataframe thead th {\n",
       "        text-align: right;\n",
       "    }\n",
       "</style>\n",
       "<table border=\"1\" class=\"dataframe\">\n",
       "  <thead>\n",
       "    <tr style=\"text-align: right;\">\n",
       "      <th></th>\n",
       "      <th>eu_sales</th>\n",
       "    </tr>\n",
       "    <tr>\n",
       "      <th>platform</th>\n",
       "      <th></th>\n",
       "    </tr>\n",
       "  </thead>\n",
       "  <tbody>\n",
       "    <tr>\n",
       "      <td>PS4</td>\n",
       "      <td>141.09</td>\n",
       "    </tr>\n",
       "    <tr>\n",
       "      <td>PS3</td>\n",
       "      <td>67.81</td>\n",
       "    </tr>\n",
       "    <tr>\n",
       "      <td>XOne</td>\n",
       "      <td>51.59</td>\n",
       "    </tr>\n",
       "    <tr>\n",
       "      <td>X360</td>\n",
       "      <td>42.52</td>\n",
       "    </tr>\n",
       "    <tr>\n",
       "      <td>3DS</td>\n",
       "      <td>30.96</td>\n",
       "    </tr>\n",
       "  </tbody>\n",
       "</table>\n",
       "</div>"
      ],
      "text/plain": [
       "          eu_sales\n",
       "platform          \n",
       "PS4         141.09\n",
       "PS3          67.81\n",
       "XOne         51.59\n",
       "X360         42.52\n",
       "3DS          30.96"
      ]
     },
     "metadata": {},
     "output_type": "display_data"
    },
    {
     "data": {
      "text/html": [
       "<div>\n",
       "<style scoped>\n",
       "    .dataframe tbody tr th:only-of-type {\n",
       "        vertical-align: middle;\n",
       "    }\n",
       "\n",
       "    .dataframe tbody tr th {\n",
       "        vertical-align: top;\n",
       "    }\n",
       "\n",
       "    .dataframe thead th {\n",
       "        text-align: right;\n",
       "    }\n",
       "</style>\n",
       "<table border=\"1\" class=\"dataframe\">\n",
       "  <thead>\n",
       "    <tr style=\"text-align: right;\">\n",
       "      <th></th>\n",
       "      <th>jp_sales</th>\n",
       "    </tr>\n",
       "    <tr>\n",
       "      <th>platform</th>\n",
       "      <th></th>\n",
       "    </tr>\n",
       "  </thead>\n",
       "  <tbody>\n",
       "    <tr>\n",
       "      <td>3DS</td>\n",
       "      <td>67.81</td>\n",
       "    </tr>\n",
       "    <tr>\n",
       "      <td>PS3</td>\n",
       "      <td>23.35</td>\n",
       "    </tr>\n",
       "    <tr>\n",
       "      <td>PSV</td>\n",
       "      <td>18.59</td>\n",
       "    </tr>\n",
       "    <tr>\n",
       "      <td>PS4</td>\n",
       "      <td>15.96</td>\n",
       "    </tr>\n",
       "    <tr>\n",
       "      <td>WiiU</td>\n",
       "      <td>10.88</td>\n",
       "    </tr>\n",
       "  </tbody>\n",
       "</table>\n",
       "</div>"
      ],
      "text/plain": [
       "          jp_sales\n",
       "platform          \n",
       "3DS          67.81\n",
       "PS3          23.35\n",
       "PSV          18.59\n",
       "PS4          15.96\n",
       "WiiU         10.88"
      ]
     },
     "metadata": {},
     "output_type": "display_data"
    }
   ],
   "source": [
    "region = ['na_sales', 'eu_sales', 'jp_sales']\n",
    "for row in region:\n",
    "    data = games_actual_data.pivot_table(index = ['platform',], values = row, aggfunc = 'sum').sort_values(row, ascending = False)\n",
    "    display(data.head())"
   ]
  },
  {
   "cell_type": "markdown",
   "metadata": {},
   "source": [
    "<i>\n",
    "    \n",
    "Самые популярные платформы для:\n",
    "* Северной Америки: PS4, XOne, X360, PS3 и 3DS;\n",
    "* Европейского региона: PS4, PS3, XOne, X360 и 3DS;\n",
    "* Японии: 3DS, PS3, PSV, PS4 и WiiU.\n",
    "    \n",
    "</i>"
   ]
  },
  {
   "cell_type": "markdown",
   "metadata": {},
   "source": [
    "<b>\n",
    "Найдем по каждому региону популярный жанр:\n",
    "</b>"
   ]
  },
  {
   "cell_type": "code",
   "execution_count": 47,
   "metadata": {},
   "outputs": [
    {
     "data": {
      "text/html": [
       "<div>\n",
       "<style scoped>\n",
       "    .dataframe tbody tr th:only-of-type {\n",
       "        vertical-align: middle;\n",
       "    }\n",
       "\n",
       "    .dataframe tbody tr th {\n",
       "        vertical-align: top;\n",
       "    }\n",
       "\n",
       "    .dataframe thead th {\n",
       "        text-align: right;\n",
       "    }\n",
       "</style>\n",
       "<table border=\"1\" class=\"dataframe\">\n",
       "  <thead>\n",
       "    <tr style=\"text-align: right;\">\n",
       "      <th></th>\n",
       "      <th>na_sales</th>\n",
       "    </tr>\n",
       "    <tr>\n",
       "      <th>genre</th>\n",
       "      <th></th>\n",
       "    </tr>\n",
       "  </thead>\n",
       "  <tbody>\n",
       "    <tr>\n",
       "      <td>Action</td>\n",
       "      <td>126.05</td>\n",
       "    </tr>\n",
       "    <tr>\n",
       "      <td>Shooter</td>\n",
       "      <td>109.74</td>\n",
       "    </tr>\n",
       "    <tr>\n",
       "      <td>Sports</td>\n",
       "      <td>65.27</td>\n",
       "    </tr>\n",
       "    <tr>\n",
       "      <td>Role-Playing</td>\n",
       "      <td>46.40</td>\n",
       "    </tr>\n",
       "    <tr>\n",
       "      <td>Misc</td>\n",
       "      <td>27.49</td>\n",
       "    </tr>\n",
       "  </tbody>\n",
       "</table>\n",
       "</div>"
      ],
      "text/plain": [
       "              na_sales\n",
       "genre                 \n",
       "Action          126.05\n",
       "Shooter         109.74\n",
       "Sports           65.27\n",
       "Role-Playing     46.40\n",
       "Misc             27.49"
      ]
     },
     "metadata": {},
     "output_type": "display_data"
    },
    {
     "data": {
      "text/html": [
       "<div>\n",
       "<style scoped>\n",
       "    .dataframe tbody tr th:only-of-type {\n",
       "        vertical-align: middle;\n",
       "    }\n",
       "\n",
       "    .dataframe tbody tr th {\n",
       "        vertical-align: top;\n",
       "    }\n",
       "\n",
       "    .dataframe thead th {\n",
       "        text-align: right;\n",
       "    }\n",
       "</style>\n",
       "<table border=\"1\" class=\"dataframe\">\n",
       "  <thead>\n",
       "    <tr style=\"text-align: right;\">\n",
       "      <th></th>\n",
       "      <th>eu_sales</th>\n",
       "    </tr>\n",
       "    <tr>\n",
       "      <th>genre</th>\n",
       "      <th></th>\n",
       "    </tr>\n",
       "  </thead>\n",
       "  <tbody>\n",
       "    <tr>\n",
       "      <td>Action</td>\n",
       "      <td>118.13</td>\n",
       "    </tr>\n",
       "    <tr>\n",
       "      <td>Shooter</td>\n",
       "      <td>87.86</td>\n",
       "    </tr>\n",
       "    <tr>\n",
       "      <td>Sports</td>\n",
       "      <td>60.52</td>\n",
       "    </tr>\n",
       "    <tr>\n",
       "      <td>Role-Playing</td>\n",
       "      <td>36.97</td>\n",
       "    </tr>\n",
       "    <tr>\n",
       "      <td>Racing</td>\n",
       "      <td>20.19</td>\n",
       "    </tr>\n",
       "  </tbody>\n",
       "</table>\n",
       "</div>"
      ],
      "text/plain": [
       "              eu_sales\n",
       "genre                 \n",
       "Action          118.13\n",
       "Shooter          87.86\n",
       "Sports           60.52\n",
       "Role-Playing     36.97\n",
       "Racing           20.19"
      ]
     },
     "metadata": {},
     "output_type": "display_data"
    },
    {
     "data": {
      "text/html": [
       "<div>\n",
       "<style scoped>\n",
       "    .dataframe tbody tr th:only-of-type {\n",
       "        vertical-align: middle;\n",
       "    }\n",
       "\n",
       "    .dataframe tbody tr th {\n",
       "        vertical-align: top;\n",
       "    }\n",
       "\n",
       "    .dataframe thead th {\n",
       "        text-align: right;\n",
       "    }\n",
       "</style>\n",
       "<table border=\"1\" class=\"dataframe\">\n",
       "  <thead>\n",
       "    <tr style=\"text-align: right;\">\n",
       "      <th></th>\n",
       "      <th>jp_sales</th>\n",
       "    </tr>\n",
       "    <tr>\n",
       "      <th>genre</th>\n",
       "      <th></th>\n",
       "    </tr>\n",
       "  </thead>\n",
       "  <tbody>\n",
       "    <tr>\n",
       "      <td>Role-Playing</td>\n",
       "      <td>51.04</td>\n",
       "    </tr>\n",
       "    <tr>\n",
       "      <td>Action</td>\n",
       "      <td>40.49</td>\n",
       "    </tr>\n",
       "    <tr>\n",
       "      <td>Misc</td>\n",
       "      <td>9.20</td>\n",
       "    </tr>\n",
       "    <tr>\n",
       "      <td>Fighting</td>\n",
       "      <td>7.65</td>\n",
       "    </tr>\n",
       "    <tr>\n",
       "      <td>Shooter</td>\n",
       "      <td>6.61</td>\n",
       "    </tr>\n",
       "  </tbody>\n",
       "</table>\n",
       "</div>"
      ],
      "text/plain": [
       "              jp_sales\n",
       "genre                 \n",
       "Role-Playing     51.04\n",
       "Action           40.49\n",
       "Misc              9.20\n",
       "Fighting          7.65\n",
       "Shooter           6.61"
      ]
     },
     "metadata": {},
     "output_type": "display_data"
    }
   ],
   "source": [
    "region = ['na_sales', 'eu_sales', 'jp_sales']\n",
    "for row in region:\n",
    "    data = games_actual_data.pivot_table(index = ['genre',], values = row, aggfunc = 'sum').sort_values(row, ascending = False)\n",
    "    display(data.head())"
   ]
  },
  {
   "cell_type": "markdown",
   "metadata": {},
   "source": [
    "<i>\n",
    "    \n",
    "Самые популярные жанры для:\n",
    "* Северной Америки: Action, Shooter, Sports, Role-Playing и Misc;\n",
    "* Европейского региона: Action, Shooter, Sports, Role-Playing и Racing;\n",
    "* Японии: Role-Playing, Action, Misc, Fighting и Shooter.\n",
    "    \n",
    "</i>"
   ]
  },
  {
   "cell_type": "markdown",
   "metadata": {},
   "source": [
    "<b>\n",
    "Найдем влияние рейтинга на каждый регион:\n",
    "</b>\n"
   ]
  },
  {
   "cell_type": "code",
   "execution_count": 48,
   "metadata": {},
   "outputs": [
    {
     "data": {
      "text/html": [
       "<div>\n",
       "<style scoped>\n",
       "    .dataframe tbody tr th:only-of-type {\n",
       "        vertical-align: middle;\n",
       "    }\n",
       "\n",
       "    .dataframe tbody tr th {\n",
       "        vertical-align: top;\n",
       "    }\n",
       "\n",
       "    .dataframe thead th {\n",
       "        text-align: right;\n",
       "    }\n",
       "</style>\n",
       "<table border=\"1\" class=\"dataframe\">\n",
       "  <thead>\n",
       "    <tr style=\"text-align: right;\">\n",
       "      <th></th>\n",
       "      <th>na_sales</th>\n",
       "    </tr>\n",
       "    <tr>\n",
       "      <th>rating</th>\n",
       "      <th></th>\n",
       "    </tr>\n",
       "  </thead>\n",
       "  <tbody>\n",
       "    <tr>\n",
       "      <td>M</td>\n",
       "      <td>165.21</td>\n",
       "    </tr>\n",
       "    <tr>\n",
       "      <td>E</td>\n",
       "      <td>79.05</td>\n",
       "    </tr>\n",
       "    <tr>\n",
       "      <td>E10+</td>\n",
       "      <td>54.24</td>\n",
       "    </tr>\n",
       "    <tr>\n",
       "      <td>T</td>\n",
       "      <td>49.79</td>\n",
       "    </tr>\n",
       "  </tbody>\n",
       "</table>\n",
       "</div>"
      ],
      "text/plain": [
       "        na_sales\n",
       "rating          \n",
       "M         165.21\n",
       "E          79.05\n",
       "E10+       54.24\n",
       "T          49.79"
      ]
     },
     "metadata": {},
     "output_type": "display_data"
    },
    {
     "data": {
      "text/html": [
       "<div>\n",
       "<style scoped>\n",
       "    .dataframe tbody tr th:only-of-type {\n",
       "        vertical-align: middle;\n",
       "    }\n",
       "\n",
       "    .dataframe tbody tr th {\n",
       "        vertical-align: top;\n",
       "    }\n",
       "\n",
       "    .dataframe thead th {\n",
       "        text-align: right;\n",
       "    }\n",
       "</style>\n",
       "<table border=\"1\" class=\"dataframe\">\n",
       "  <thead>\n",
       "    <tr style=\"text-align: right;\">\n",
       "      <th></th>\n",
       "      <th>eu_sales</th>\n",
       "    </tr>\n",
       "    <tr>\n",
       "      <th>rating</th>\n",
       "      <th></th>\n",
       "    </tr>\n",
       "  </thead>\n",
       "  <tbody>\n",
       "    <tr>\n",
       "      <td>M</td>\n",
       "      <td>145.32</td>\n",
       "    </tr>\n",
       "    <tr>\n",
       "      <td>E</td>\n",
       "      <td>83.36</td>\n",
       "    </tr>\n",
       "    <tr>\n",
       "      <td>E10+</td>\n",
       "      <td>42.69</td>\n",
       "    </tr>\n",
       "    <tr>\n",
       "      <td>T</td>\n",
       "      <td>41.95</td>\n",
       "    </tr>\n",
       "  </tbody>\n",
       "</table>\n",
       "</div>"
      ],
      "text/plain": [
       "        eu_sales\n",
       "rating          \n",
       "M         145.32\n",
       "E          83.36\n",
       "E10+       42.69\n",
       "T          41.95"
      ]
     },
     "metadata": {},
     "output_type": "display_data"
    },
    {
     "data": {
      "text/html": [
       "<div>\n",
       "<style scoped>\n",
       "    .dataframe tbody tr th:only-of-type {\n",
       "        vertical-align: middle;\n",
       "    }\n",
       "\n",
       "    .dataframe tbody tr th {\n",
       "        vertical-align: top;\n",
       "    }\n",
       "\n",
       "    .dataframe thead th {\n",
       "        text-align: right;\n",
       "    }\n",
       "</style>\n",
       "<table border=\"1\" class=\"dataframe\">\n",
       "  <thead>\n",
       "    <tr style=\"text-align: right;\">\n",
       "      <th></th>\n",
       "      <th>jp_sales</th>\n",
       "    </tr>\n",
       "    <tr>\n",
       "      <th>rating</th>\n",
       "      <th></th>\n",
       "    </tr>\n",
       "  </thead>\n",
       "  <tbody>\n",
       "    <tr>\n",
       "      <td>T</td>\n",
       "      <td>20.59</td>\n",
       "    </tr>\n",
       "    <tr>\n",
       "      <td>E</td>\n",
       "      <td>15.14</td>\n",
       "    </tr>\n",
       "    <tr>\n",
       "      <td>M</td>\n",
       "      <td>14.11</td>\n",
       "    </tr>\n",
       "    <tr>\n",
       "      <td>E10+</td>\n",
       "      <td>5.89</td>\n",
       "    </tr>\n",
       "  </tbody>\n",
       "</table>\n",
       "</div>"
      ],
      "text/plain": [
       "        jp_sales\n",
       "rating          \n",
       "T          20.59\n",
       "E          15.14\n",
       "M          14.11\n",
       "E10+        5.89"
      ]
     },
     "metadata": {},
     "output_type": "display_data"
    }
   ],
   "source": [
    "region = ['na_sales', 'eu_sales', 'jp_sales']\n",
    "for row in region:\n",
    "    data = games_actual_data.pivot_table(index = ['rating',], values = row, aggfunc = 'sum').sort_values(row, ascending = False)\n",
    "    display(data.head())"
   ]
  },
  {
   "cell_type": "markdown",
   "metadata": {},
   "source": [
    "<i>\n",
    "\n",
    "Расшифруем получившиеся данные определяющие возрастной рейтинг компьютерных игр: \n",
    "* М - материалы игры не подходят для подростков младше 17 лет. Проекты с данным рейтингом могут содержать достаточно жестокое насилие, большое количество крови с расчленением, непристойные сексуальные сцены или грубую ненормативную лексику, нежелательную для младшей аудитории;\n",
    "* Е - содержание вполне подходит для возрастной категории от 6 лет. Такие игры могут понравиться и взрослым. Игры с этим рейтингом могут содержать минимальное насилие, в основном «мультяшного» характера;\n",
    "* Е10+ - проекты с данным рейтингом могут содержать или немного больше мультипликационного или мягкого насилия, или несколько откровенные сцены, или минимальное количество крови;\n",
    "* Т - игра подходит для лиц от 13 лет. Проекты из данной категории могут содержать насилие, непристойные сцены, грубый юмор, в меру откровенное сексуальное содержимое, кровь или нечастое использование ненормативной лексики.\n",
    "\n",
    "</i>"
   ]
  },
  {
   "cell_type": "markdown",
   "metadata": {},
   "source": [
    "<i>\n",
    "\n",
    "* В Америке и Европе схожие ситуации - в первую очередь популярны игры с возрастным рейтингом 17+. \n",
    "* В Японии лидириуют игры с возрастным рейтингом 13+. Компании хотят распространить свое влияние на новое поколение.\n",
    "    \n",
    "</i>\n",
    "\n"
   ]
  },
  {
   "cell_type": "markdown",
   "metadata": {},
   "source": [
    "\n",
    "<i>Согласно анализу целевую аудиторию игроков можно поделить следующим образом:\n",
    "\n",
    "* Американский игрок - возраст от 17 лет, отдает претпочтение платформам PS4 или XOne, любит игры жанра Action, Shooter;\n",
    "* Европейский игрок - возраст от 17 лет, любит играть на PlayStation, предпочитает игры на Action, Shooter;\n",
    "* Японский игрок - возраст от 13 лет, любит играть на переносных платформах 3DS или PSV, консоле PS3, время проводит за играми жара Role-Playing, Action.\n",
    "\n",
    "</i>"
   ]
  },
  {
   "cell_type": "markdown",
   "metadata": {},
   "source": [
    "<div class=\"alert alert-info\">\n",
    "<h1>Комментарий ревьюера <a class=\"tocSkip\"></a></h1>\n",
    "Да, интересно, что значимые отличия можно легко заметить во вкусовых предпочтениях у разных наций. Как ты думаешь из-за чего это?\n",
    "</div>"
   ]
  },
  {
   "cell_type": "markdown",
   "metadata": {},
   "source": [
    "# Шаг 5. Проверим гипотезы"
   ]
  },
  {
   "cell_type": "markdown",
   "metadata": {},
   "source": [
    "* Средние пользовательские рейтинги платформ Xbox One и PC одинаковые;\n",
    "* Средние пользовательские рейтинги жанров Action (англ. «действие», экшен-игры) и Sports (англ. «спортивные соревнования») разные."
   ]
  },
  {
   "cell_type": "markdown",
   "metadata": {},
   "source": [
    "<i>\n",
    "За нулевую гипотезу примем что средние пользовательские ретинги платформ Xbox One и PC равны, тогда альтернативная гипотеза будет звучать как средние пользовательские ретинги платформ Xbox One и PC не равны. \n",
    "Проверим:\n",
    "\n",
    "</i>"
   ]
  },
  {
   "cell_type": "code",
   "execution_count": 51,
   "metadata": {},
   "outputs": [],
   "source": [
    "user_rating_XOne = games_actual_data.query('platform == \"XOne\"')['user_score'].dropna()\n",
    "user_rating_PC = games_actual_data.query('platform == \"PC\"')['user_score'].dropna()"
   ]
  },
  {
   "cell_type": "code",
   "execution_count": 54,
   "metadata": {},
   "outputs": [
    {
     "name": "stdout",
     "output_type": "stream",
     "text": [
      "P-value: 0.14012764978158274\n",
      "Не получилось отвергнуть нулевую гипотезу\n"
     ]
    }
   ],
   "source": [
    "alpha = .01\n",
    "\n",
    "results = st.ttest_ind(user_rating_XOne, user_rating_PC)\n",
    "\n",
    "print('P-value:', results.pvalue)\n",
    "\n",
    "if (results.pvalue < alpha):\n",
    "    print(\"Отвергаем нулевую гипотезу\")\n",
    "else:\n",
    "    print(\"Не получилось отвергнуть нулевую гипотезу\")"
   ]
  },
  {
   "cell_type": "markdown",
   "metadata": {},
   "source": [
    "<div class=\"alert alert-warning\">\n",
    "<h1>Комментарий ревьюера <a class=\"tocSkip\"></a></h1>\n",
    "При проведении теста забыл указать важный параметр --- equal_vars</div>"
   ]
  },
  {
   "cell_type": "markdown",
   "metadata": {},
   "source": [
    "<div class=\"alert alert-info\">\n",
    "<h1>Комментарий ревьюера <a class=\"tocSkip\"></a></h1>\n",
    "Круто было бы визуализировать распределение рейтингов\n",
    "</div>"
   ]
  },
  {
   "cell_type": "markdown",
   "metadata": {},
   "source": [
    "<div class=\"alert alert-info\">\n",
    "<h1>Комментарий ревьюера <a class=\"tocSkip\"></a></h1>\n",
    "Заметь, что при выборе другого временного среза результат мог бы быть вполне другим\n",
    "</div>"
   ]
  },
  {
   "cell_type": "markdown",
   "metadata": {},
   "source": [
    "<i>\n",
    "Результат \"Не получилось отвергнуть нулевую гипотезу\" говорит о том, что рейтинги по средним пользовательским рейтингам платформ Xbox One и PC одинаковые.\n",
    "</i>"
   ]
  },
  {
   "cell_type": "markdown",
   "metadata": {},
   "source": [
    "<i>Теперь рейтинги: За нулевую гипотезу примем что ретинги жанров Action (англ. «действие», экшен-игры) и Sports (англ. «спортивные соревнования») равны, тогда альтернативная гипотеза будет звучать как средние пользовательские ретинги жанров Action (англ. «действие», экшен-игры) и Sports (англ. «спортивные соревнования») не равны. Проверим:</i>"
   ]
  },
  {
   "cell_type": "code",
   "execution_count": 55,
   "metadata": {},
   "outputs": [],
   "source": [
    "user_rating_Action = games_actual_data.query('genre == \"Action\"')['user_score'].dropna()\n",
    "user_rating_Sports = games_actual_data.query('genre == \"Sports\"')['user_score'].dropna()"
   ]
  },
  {
   "cell_type": "code",
   "execution_count": 56,
   "metadata": {},
   "outputs": [
    {
     "name": "stdout",
     "output_type": "stream",
     "text": [
      "P-value: 1.0517786467865278e-27\n",
      "Отвергаем нулевую гипотезу\n"
     ]
    }
   ],
   "source": [
    "alpha = .01\n",
    "\n",
    "results = st.ttest_ind(user_rating_Action, user_rating_Sports)\n",
    "\n",
    "print('P-value:', results.pvalue)\n",
    "\n",
    "if (results.pvalue < alpha):\n",
    "    print(\"Отвергаем нулевую гипотезу\")\n",
    "else:\n",
    "    print(\"Не получилось отвергнуть нулевую гипотезу\")"
   ]
  },
  {
   "cell_type": "code",
   "execution_count": null,
   "metadata": {},
   "outputs": [],
   "source": []
  },
  {
   "cell_type": "markdown",
   "metadata": {},
   "source": [
    "<i>\n",
    "Результат \"Отвергаем нулевую гипотезу\" говорит о том, что рейтинги по средним пользовательским рейтингам жаров не одинаковые.\n",
    "</i>"
   ]
  },
  {
   "cell_type": "markdown",
   "metadata": {},
   "source": [
    "<i>\n",
    "\n",
    "Обе гипотезы методом t-критерия Стьюдента подтвердились.\n",
    "\n",
    "</i>\n"
   ]
  },
  {
   "cell_type": "markdown",
   "metadata": {},
   "source": [
    "<i>\n",
    "При формировании нулевой и альтернативной гипотезы использовали принцип, что основное проверяемое предположение, которое обычно формулируется как отсутствие различий, отсутствие влияние фактора, отсутствие эффекта и т.д. является верным, а альтернативная гипотеза принимаются тогда и только тогда, когда опровергается нулевая гипотеза.\n",
    "\n",
    "</i>"
   ]
  },
  {
   "cell_type": "markdown",
   "metadata": {},
   "source": [
    "<div class=\"alert alert-success\">\n",
    "<h1>Комментарий ревьюера <a class=\"tocSkip\"></a></h1>\n",
    "Молодец, ты верно ставишь гипотезы и проводишь статистические тесты</div>"
   ]
  },
  {
   "cell_type": "markdown",
   "metadata": {},
   "source": [
    "# Шаг 6. Напишем общий вывод"
   ]
  },
  {
   "cell_type": "markdown",
   "metadata": {},
   "source": [
    "<b>\n",
    "    В процессе выполнения проекта были выявлены следующие определяющие успешность игры закономерности. В виде рекомендаций, для планирования рекламных компаний и ставки на потенциально популярный продукт, это будет выглядеть следующим образом:\n",
    "\n",
    "* Пятерка лидеров по продажам: PS4, PS3, XOne, 3DS и X360. Суммарные продажи которых с 2012 года приближаются к 1 млд. $ Продажи растут у PS4 и XOne;\n",
    "* Жанры Action, Shooter, Sports, Role-Playing и Misc имеют высокие продажи;\n",
    "* По направлению продаж в Северной Америке ориентируемся на рынок игр сегмента жанра Action и Shooter на платформах PS4 или XOne, возростной категории от 17 лет;\n",
    "* По направлению продаж в Европейской части ориентируемся на рынок игр сегмента жанра Action и Shooter на платформах PS4 и PS3, возростной категории от 17 лет;\n",
    "* Продажи в Японии должны быть более ориентированы на игроков от 13 лет отдающим предпочтения жанрам Role-Playing и Action использующим платформу 3DS и PS3.\n",
    "</b>"
   ]
  },
  {
   "cell_type": "markdown",
   "metadata": {},
   "source": [
    "<div class=\"alert alert-success\">\n",
    "<h2> Комментарий ревьюера</h2>\n",
    "\n",
    "-Спасибо за качественно сделанный проект, было приятно проверять. \n",
    "\n",
    "- Видно, что приложено много усилий\n",
    "\n",
    "- Код написан хорошо \n",
    "\n",
    "- Соблюдена структура проекта \n",
    "\n",
    "- Не забывай анализировать полученные результаты\n",
    "    \n",
    "- Также оставил пару замечаний и советов\n",
    "\n",
    "\n",
    "Удачи!\n",
    "\n",
    "</div>"
   ]
  },
  {
   "cell_type": "code",
   "execution_count": null,
   "metadata": {},
   "outputs": [],
   "source": []
  }
 ],
 "metadata": {
  "ExecuteTimeLog": [
   {
    "duration": 1523,
    "start_time": "2021-06-29T05:34:39.021Z"
   },
   {
    "duration": 125,
    "start_time": "2021-06-29T05:35:31.254Z"
   },
   {
    "duration": 16,
    "start_time": "2021-06-29T05:35:38.367Z"
   },
   {
    "duration": 141,
    "start_time": "2021-06-29T05:35:49.198Z"
   },
   {
    "duration": 29,
    "start_time": "2021-06-29T05:35:51.331Z"
   },
   {
    "duration": 17,
    "start_time": "2021-06-29T05:36:14.910Z"
   },
   {
    "duration": 19,
    "start_time": "2021-06-29T05:36:35.819Z"
   },
   {
    "duration": 6,
    "start_time": "2021-06-29T06:49:39.944Z"
   },
   {
    "duration": 4,
    "start_time": "2021-06-29T06:50:52.348Z"
   },
   {
    "duration": 18,
    "start_time": "2021-06-29T06:52:32.730Z"
   },
   {
    "duration": 5,
    "start_time": "2021-06-29T06:52:52.445Z"
   },
   {
    "duration": 134,
    "start_time": "2021-06-29T06:52:58.526Z"
   },
   {
    "duration": 5,
    "start_time": "2021-06-29T06:53:01.142Z"
   },
   {
    "duration": 4,
    "start_time": "2021-06-29T06:53:03.396Z"
   },
   {
    "duration": 5,
    "start_time": "2021-06-29T06:53:08.115Z"
   },
   {
    "duration": 9,
    "start_time": "2021-06-29T13:39:29.832Z"
   },
   {
    "duration": 17,
    "start_time": "2021-06-29T13:39:48.368Z"
   },
   {
    "duration": 14,
    "start_time": "2021-06-29T13:39:52.589Z"
   },
   {
    "duration": 28,
    "start_time": "2021-06-29T13:40:04.701Z"
   },
   {
    "duration": 6,
    "start_time": "2021-06-29T13:40:29.753Z"
   },
   {
    "duration": 27,
    "start_time": "2021-06-29T13:40:36.069Z"
   },
   {
    "duration": 6,
    "start_time": "2021-06-29T13:42:30.946Z"
   },
   {
    "duration": 26,
    "start_time": "2021-06-29T13:42:34.722Z"
   },
   {
    "duration": 7,
    "start_time": "2021-06-29T13:43:14.912Z"
   },
   {
    "duration": 29,
    "start_time": "2021-06-29T13:43:16.566Z"
   },
   {
    "duration": 119,
    "start_time": "2021-06-29T13:43:30.205Z"
   },
   {
    "duration": 33,
    "start_time": "2021-06-29T13:43:33.433Z"
   },
   {
    "duration": 8404,
    "start_time": "2021-06-29T13:43:35.502Z"
   },
   {
    "duration": -24,
    "start_time": "2021-06-29T13:43:43.934Z"
   },
   {
    "duration": 4,
    "start_time": "2021-06-29T13:43:53.293Z"
   },
   {
    "duration": 2040,
    "start_time": "2021-06-29T13:43:56.168Z"
   },
   {
    "duration": 2241,
    "start_time": "2021-06-29T13:44:08.388Z"
   },
   {
    "duration": 8,
    "start_time": "2021-06-29T13:44:32.472Z"
   },
   {
    "duration": 27,
    "start_time": "2021-06-29T13:44:35.586Z"
   },
   {
    "duration": 138,
    "start_time": "2021-06-29T13:46:16.509Z"
   },
   {
    "duration": 5,
    "start_time": "2021-06-29T13:46:18.877Z"
   },
   {
    "duration": 2765,
    "start_time": "2021-06-29T13:46:20.818Z"
   },
   {
    "duration": -15,
    "start_time": "2021-06-29T13:46:23.601Z"
   },
   {
    "duration": 29,
    "start_time": "2021-06-29T13:46:34.670Z"
   },
   {
    "duration": 8,
    "start_time": "2021-06-29T13:46:43.770Z"
   },
   {
    "duration": 28,
    "start_time": "2021-06-29T13:46:46.304Z"
   },
   {
    "duration": 7,
    "start_time": "2021-06-29T13:48:52.884Z"
   },
   {
    "duration": 28,
    "start_time": "2021-06-29T13:48:55.176Z"
   },
   {
    "duration": 113,
    "start_time": "2021-06-29T13:49:03.515Z"
   },
   {
    "duration": 4,
    "start_time": "2021-06-29T13:49:05.844Z"
   },
   {
    "duration": 2112,
    "start_time": "2021-06-29T13:49:07.768Z"
   },
   {
    "duration": 28,
    "start_time": "2021-06-29T13:49:19.493Z"
   },
   {
    "duration": 2076,
    "start_time": "2021-06-29T13:49:27.976Z"
   },
   {
    "duration": 304,
    "start_time": "2021-06-29T13:51:18.684Z"
   },
   {
    "duration": 285,
    "start_time": "2021-06-29T13:51:31.092Z"
   },
   {
    "duration": 5433,
    "start_time": "2021-06-29T13:51:41.621Z"
   },
   {
    "duration": -15,
    "start_time": "2021-06-29T13:51:47.071Z"
   },
   {
    "duration": 5,
    "start_time": "2021-06-29T13:51:58.940Z"
   },
   {
    "duration": 5714,
    "start_time": "2021-06-29T13:52:00.546Z"
   },
   {
    "duration": -7,
    "start_time": "2021-06-29T13:52:06.270Z"
   },
   {
    "duration": 125,
    "start_time": "2021-06-29T13:52:16.268Z"
   },
   {
    "duration": 13,
    "start_time": "2021-06-29T13:52:20.764Z"
   },
   {
    "duration": 19,
    "start_time": "2021-06-29T13:52:22.914Z"
   },
   {
    "duration": 5,
    "start_time": "2021-06-29T13:52:25.375Z"
   },
   {
    "duration": 4,
    "start_time": "2021-06-29T13:52:26.738Z"
   },
   {
    "duration": 6,
    "start_time": "2021-06-29T13:52:28.395Z"
   },
   {
    "duration": 6128,
    "start_time": "2021-06-29T13:52:30.573Z"
   },
   {
    "duration": 28,
    "start_time": "2021-06-29T13:52:36.818Z"
   },
   {
    "duration": 309,
    "start_time": "2021-06-29T13:52:53.743Z"
   },
   {
    "duration": 4,
    "start_time": "2021-06-29T13:53:03.293Z"
   },
   {
    "duration": 113,
    "start_time": "2021-06-29T13:53:05.066Z"
   },
   {
    "duration": 15,
    "start_time": "2021-06-29T13:53:05.829Z"
   },
   {
    "duration": 19,
    "start_time": "2021-06-29T13:53:07.220Z"
   },
   {
    "duration": 6,
    "start_time": "2021-06-29T13:53:12.160Z"
   },
   {
    "duration": 5,
    "start_time": "2021-06-29T13:53:12.808Z"
   },
   {
    "duration": 6,
    "start_time": "2021-06-29T13:53:13.599Z"
   },
   {
    "duration": 302,
    "start_time": "2021-06-29T13:53:17.684Z"
   },
   {
    "duration": 277,
    "start_time": "2021-06-29T13:53:28.054Z"
   },
   {
    "duration": 2043,
    "start_time": "2021-06-29T14:19:19.495Z"
   },
   {
    "duration": 2105,
    "start_time": "2021-06-29T14:19:42.465Z"
   },
   {
    "duration": 8,
    "start_time": "2021-06-29T14:19:55.182Z"
   },
   {
    "duration": 28,
    "start_time": "2021-06-29T14:20:01.925Z"
   },
   {
    "duration": 101,
    "start_time": "2021-06-29T14:20:09.718Z"
   },
   {
    "duration": 4,
    "start_time": "2021-06-29T14:20:12.771Z"
   },
   {
    "duration": 2359,
    "start_time": "2021-06-29T14:20:25.112Z"
   },
   {
    "duration": 8,
    "start_time": "2021-06-29T14:20:40.238Z"
   },
   {
    "duration": 11,
    "start_time": "2021-06-29T14:26:09.778Z"
   },
   {
    "duration": 35,
    "start_time": "2021-06-29T14:26:15.986Z"
   },
   {
    "duration": -11,
    "start_time": "2021-06-30T12:48:23.825Z"
   },
   {
    "duration": -33,
    "start_time": "2021-06-30T12:48:25.195Z"
   },
   {
    "duration": 247,
    "start_time": "2021-06-30T12:48:27.324Z"
   },
   {
    "duration": 1470,
    "start_time": "2021-06-30T12:48:31.580Z"
   },
   {
    "duration": 230,
    "start_time": "2021-06-30T12:48:34.204Z"
   },
   {
    "duration": 4,
    "start_time": "2021-06-30T12:48:38.522Z"
   },
   {
    "duration": 1486,
    "start_time": "2021-06-30T12:48:49.169Z"
   },
   {
    "duration": 179,
    "start_time": "2021-06-30T12:48:50.657Z"
   },
   {
    "duration": 15,
    "start_time": "2021-06-30T12:48:50.840Z"
   },
   {
    "duration": 39,
    "start_time": "2021-06-30T12:48:50.858Z"
   },
   {
    "duration": 9,
    "start_time": "2021-06-30T12:48:50.900Z"
   },
   {
    "duration": 8,
    "start_time": "2021-06-30T12:48:50.911Z"
   },
   {
    "duration": 12,
    "start_time": "2021-06-30T12:48:50.922Z"
   },
   {
    "duration": 13,
    "start_time": "2021-06-30T12:48:50.938Z"
   },
   {
    "duration": 57,
    "start_time": "2021-06-30T12:48:50.954Z"
   },
   {
    "duration": 14,
    "start_time": "2021-06-30T12:48:51.014Z"
   },
   {
    "duration": 34,
    "start_time": "2021-06-30T12:48:51.030Z"
   },
   {
    "duration": 397,
    "start_time": "2021-06-30T12:59:59.389Z"
   },
   {
    "duration": 267,
    "start_time": "2021-06-30T13:00:10.096Z"
   },
   {
    "duration": 269,
    "start_time": "2021-06-30T13:00:14.533Z"
   },
   {
    "duration": 84,
    "start_time": "2021-06-30T13:00:22.582Z"
   },
   {
    "duration": 294,
    "start_time": "2021-06-30T13:00:58.095Z"
   },
   {
    "duration": 45,
    "start_time": "2021-06-30T13:01:07.381Z"
   },
   {
    "duration": 15,
    "start_time": "2021-06-30T13:01:58.991Z"
   },
   {
    "duration": 262,
    "start_time": "2021-06-30T13:02:17.421Z"
   },
   {
    "duration": 299,
    "start_time": "2021-06-30T13:02:33.610Z"
   },
   {
    "duration": 7696,
    "start_time": "2021-06-30T13:02:59.204Z"
   },
   {
    "duration": 514,
    "start_time": "2021-06-30T13:03:08.709Z"
   },
   {
    "duration": 360,
    "start_time": "2021-06-30T13:03:16.025Z"
   },
   {
    "duration": 460,
    "start_time": "2021-06-30T13:03:32.896Z"
   },
   {
    "duration": 281,
    "start_time": "2021-06-30T13:03:38.607Z"
   },
   {
    "duration": 1120,
    "start_time": "2021-06-30T13:03:52.936Z"
   },
   {
    "duration": 14,
    "start_time": "2021-06-30T13:12:36.440Z"
   },
   {
    "duration": 1553,
    "start_time": "2021-06-30T13:12:56.246Z"
   },
   {
    "duration": 2526,
    "start_time": "2021-06-30T13:13:06.160Z"
   },
   {
    "duration": 901,
    "start_time": "2021-06-30T13:13:45.088Z"
   },
   {
    "duration": 34,
    "start_time": "2021-06-30T13:17:40.156Z"
   },
   {
    "duration": 38,
    "start_time": "2021-06-30T13:18:11.793Z"
   },
   {
    "duration": 258,
    "start_time": "2021-06-30T13:19:11.660Z"
   },
   {
    "duration": 36,
    "start_time": "2021-06-30T13:19:27.064Z"
   },
   {
    "duration": 39,
    "start_time": "2021-06-30T13:19:54.436Z"
   },
   {
    "duration": 4,
    "start_time": "2021-06-30T13:20:42.894Z"
   },
   {
    "duration": 145,
    "start_time": "2021-06-30T13:20:44.038Z"
   },
   {
    "duration": 14,
    "start_time": "2021-06-30T13:20:45.151Z"
   },
   {
    "duration": 17,
    "start_time": "2021-06-30T13:20:47.011Z"
   },
   {
    "duration": 6,
    "start_time": "2021-06-30T13:20:49.096Z"
   },
   {
    "duration": 5,
    "start_time": "2021-06-30T13:20:50.289Z"
   },
   {
    "duration": 5,
    "start_time": "2021-06-30T13:20:51.299Z"
   },
   {
    "duration": 7,
    "start_time": "2021-06-30T13:20:54.197Z"
   },
   {
    "duration": 31,
    "start_time": "2021-06-30T13:20:55.596Z"
   },
   {
    "duration": 21,
    "start_time": "2021-06-30T13:21:02.777Z"
   },
   {
    "duration": 39,
    "start_time": "2021-06-30T13:21:07.274Z"
   },
   {
    "duration": 24,
    "start_time": "2021-06-30T13:27:57.312Z"
   },
   {
    "duration": 256,
    "start_time": "2021-06-30T13:47:47.457Z"
   },
   {
    "duration": 56,
    "start_time": "2021-06-30T13:47:57.426Z"
   },
   {
    "duration": 87,
    "start_time": "2021-06-30T13:48:45.347Z"
   },
   {
    "duration": 61,
    "start_time": "2021-06-30T13:48:50.472Z"
   },
   {
    "duration": 56,
    "start_time": "2021-06-30T13:49:15.019Z"
   },
   {
    "duration": 70,
    "start_time": "2021-06-30T13:49:25.175Z"
   },
   {
    "duration": 63,
    "start_time": "2021-06-30T13:49:31.950Z"
   },
   {
    "duration": 48,
    "start_time": "2021-06-30T13:51:22.885Z"
   },
   {
    "duration": 262,
    "start_time": "2021-06-30T13:53:31.855Z"
   },
   {
    "duration": 3,
    "start_time": "2021-06-30T13:53:59.125Z"
   },
   {
    "duration": 146,
    "start_time": "2021-06-30T13:54:00.493Z"
   },
   {
    "duration": 15,
    "start_time": "2021-06-30T13:54:01.440Z"
   },
   {
    "duration": 21,
    "start_time": "2021-06-30T13:54:05.415Z"
   },
   {
    "duration": 6,
    "start_time": "2021-06-30T13:54:14.344Z"
   },
   {
    "duration": 7,
    "start_time": "2021-06-30T13:54:16.283Z"
   },
   {
    "duration": 6,
    "start_time": "2021-06-30T13:54:17.243Z"
   },
   {
    "duration": 264,
    "start_time": "2021-06-30T13:54:19.064Z"
   },
   {
    "duration": 951,
    "start_time": "2021-06-30T13:56:26.598Z"
   },
   {
    "duration": 994,
    "start_time": "2021-06-30T13:56:46.949Z"
   },
   {
    "duration": 889,
    "start_time": "2021-06-30T13:57:05.553Z"
   },
   {
    "duration": 806,
    "start_time": "2021-06-30T13:57:13.504Z"
   },
   {
    "duration": 870,
    "start_time": "2021-06-30T13:57:26.979Z"
   },
   {
    "duration": 288,
    "start_time": "2021-06-30T13:57:42.815Z"
   },
   {
    "duration": 299,
    "start_time": "2021-06-30T13:58:15.229Z"
   },
   {
    "duration": 267,
    "start_time": "2021-06-30T13:58:27.250Z"
   },
   {
    "duration": 270,
    "start_time": "2021-06-30T13:58:48.041Z"
   },
   {
    "duration": 1900,
    "start_time": "2021-06-30T13:58:55.516Z"
   },
   {
    "duration": 253,
    "start_time": "2021-06-30T13:59:37.591Z"
   },
   {
    "duration": 996,
    "start_time": "2021-06-30T14:01:10.993Z"
   },
   {
    "duration": 264,
    "start_time": "2021-06-30T14:01:58.394Z"
   },
   {
    "duration": 249,
    "start_time": "2021-06-30T14:11:40.902Z"
   },
   {
    "duration": 258,
    "start_time": "2021-06-30T14:11:48.314Z"
   },
   {
    "duration": 131,
    "start_time": "2021-06-30T14:12:16.164Z"
   },
   {
    "duration": 14,
    "start_time": "2021-06-30T14:12:17.528Z"
   },
   {
    "duration": 27,
    "start_time": "2021-06-30T14:12:18.789Z"
   },
   {
    "duration": 6,
    "start_time": "2021-06-30T14:12:25.066Z"
   },
   {
    "duration": 4,
    "start_time": "2021-06-30T14:12:26.803Z"
   },
   {
    "duration": 6,
    "start_time": "2021-06-30T14:12:27.240Z"
   },
   {
    "duration": 5,
    "start_time": "2021-06-30T14:12:35.120Z"
   },
   {
    "duration": 19,
    "start_time": "2021-06-30T14:12:37.401Z"
   },
   {
    "duration": 2184,
    "start_time": "2021-06-30T14:12:44.881Z"
   },
   {
    "duration": 1037,
    "start_time": "2021-06-30T14:20:30.029Z"
   },
   {
    "duration": 2718,
    "start_time": "2021-06-30T14:20:46.277Z"
   },
   {
    "duration": 1112,
    "start_time": "2021-06-30T14:21:02.522Z"
   },
   {
    "duration": 902,
    "start_time": "2021-06-30T14:21:25.742Z"
   },
   {
    "duration": 7,
    "start_time": "2021-06-30T14:26:37.680Z"
   },
   {
    "duration": 6,
    "start_time": "2021-06-30T14:32:19.799Z"
   },
   {
    "duration": 264,
    "start_time": "2021-06-30T14:33:32.914Z"
   },
   {
    "duration": 271,
    "start_time": "2021-06-30T14:34:09.878Z"
   },
   {
    "duration": 3,
    "start_time": "2021-06-30T14:34:14.224Z"
   },
   {
    "duration": 11,
    "start_time": "2021-06-30T14:34:29.536Z"
   },
   {
    "duration": 716,
    "start_time": "2021-06-30T14:42:06.805Z"
   },
   {
    "duration": 2363,
    "start_time": "2021-06-30T14:43:30.078Z"
   },
   {
    "duration": 2280,
    "start_time": "2021-06-30T14:44:14.966Z"
   },
   {
    "duration": 2187,
    "start_time": "2021-06-30T14:44:29.710Z"
   },
   {
    "duration": 290,
    "start_time": "2021-06-30T14:44:39.002Z"
   },
   {
    "duration": 292,
    "start_time": "2021-06-30T14:45:03.244Z"
   },
   {
    "duration": 2349,
    "start_time": "2021-06-30T14:45:12.336Z"
   },
   {
    "duration": 2246,
    "start_time": "2021-06-30T14:45:29.318Z"
   },
   {
    "duration": 9,
    "start_time": "2021-06-30T15:03:49.597Z"
   },
   {
    "duration": 21,
    "start_time": "2021-06-30T15:05:07.230Z"
   },
   {
    "duration": 1023,
    "start_time": "2021-06-30T15:13:49.121Z"
   },
   {
    "duration": 6,
    "start_time": "2021-06-30T15:13:50.231Z"
   },
   {
    "duration": 4,
    "start_time": "2021-06-30T15:14:36.211Z"
   },
   {
    "duration": 146,
    "start_time": "2021-06-30T15:14:37.083Z"
   },
   {
    "duration": 15,
    "start_time": "2021-06-30T15:14:37.890Z"
   },
   {
    "duration": 18,
    "start_time": "2021-06-30T15:14:39.857Z"
   },
   {
    "duration": 6,
    "start_time": "2021-06-30T15:14:46.342Z"
   },
   {
    "duration": 4,
    "start_time": "2021-06-30T15:14:50.792Z"
   },
   {
    "duration": 6,
    "start_time": "2021-06-30T15:14:53.194Z"
   },
   {
    "duration": 9,
    "start_time": "2021-06-30T15:14:55.912Z"
   },
   {
    "duration": 289,
    "start_time": "2021-06-30T19:28:15.769Z"
   },
   {
    "duration": 1486,
    "start_time": "2021-06-30T19:28:20.150Z"
   },
   {
    "duration": 163,
    "start_time": "2021-06-30T19:28:21.638Z"
   },
   {
    "duration": 13,
    "start_time": "2021-06-30T19:28:21.804Z"
   },
   {
    "duration": 22,
    "start_time": "2021-06-30T19:28:23.876Z"
   },
   {
    "duration": 6,
    "start_time": "2021-06-30T19:28:27.701Z"
   },
   {
    "duration": 5,
    "start_time": "2021-06-30T19:28:28.470Z"
   },
   {
    "duration": 5,
    "start_time": "2021-06-30T19:28:29.320Z"
   },
   {
    "duration": 8,
    "start_time": "2021-06-30T19:28:32.143Z"
   },
   {
    "duration": 19,
    "start_time": "2021-06-30T19:28:46.254Z"
   },
   {
    "duration": 411,
    "start_time": "2021-06-30T19:30:19.223Z"
   },
   {
    "duration": 12,
    "start_time": "2021-06-30T19:30:57.250Z"
   },
   {
    "duration": 14,
    "start_time": "2021-06-30T19:31:09.038Z"
   },
   {
    "duration": 15,
    "start_time": "2021-06-30T19:31:35.387Z"
   },
   {
    "duration": 86,
    "start_time": "2021-06-30T19:32:00.698Z"
   },
   {
    "duration": 31,
    "start_time": "2021-06-30T19:32:47.601Z"
   },
   {
    "duration": 7,
    "start_time": "2021-06-30T19:35:08.756Z"
   },
   {
    "duration": 30,
    "start_time": "2021-06-30T19:35:53.666Z"
   },
   {
    "duration": 6,
    "start_time": "2021-06-30T19:38:14.902Z"
   },
   {
    "duration": 29,
    "start_time": "2021-06-30T19:49:18.697Z"
   },
   {
    "duration": 6,
    "start_time": "2021-06-30T19:50:25.501Z"
   },
   {
    "duration": 115,
    "start_time": "2021-06-30T19:50:52.732Z"
   },
   {
    "duration": 6752,
    "start_time": "2021-06-30T19:50:58.805Z"
   },
   {
    "duration": 15,
    "start_time": "2021-06-30T19:51:07.476Z"
   },
   {
    "duration": 21,
    "start_time": "2021-06-30T19:51:09.807Z"
   },
   {
    "duration": 6,
    "start_time": "2021-06-30T19:51:13.217Z"
   },
   {
    "duration": 4,
    "start_time": "2021-06-30T19:51:13.782Z"
   },
   {
    "duration": 6,
    "start_time": "2021-06-30T19:51:14.537Z"
   },
   {
    "duration": 7,
    "start_time": "2021-06-30T19:51:21.720Z"
   },
   {
    "duration": 8,
    "start_time": "2021-06-30T19:53:00.826Z"
   },
   {
    "duration": 1350,
    "start_time": "2021-06-30T19:53:46.078Z"
   },
   {
    "duration": 132,
    "start_time": "2021-06-30T19:53:47.430Z"
   },
   {
    "duration": 15,
    "start_time": "2021-06-30T19:53:47.565Z"
   },
   {
    "duration": 53,
    "start_time": "2021-06-30T19:53:47.582Z"
   },
   {
    "duration": 25,
    "start_time": "2021-06-30T19:53:47.637Z"
   },
   {
    "duration": 30,
    "start_time": "2021-06-30T19:53:47.665Z"
   },
   {
    "duration": 41,
    "start_time": "2021-06-30T19:53:47.697Z"
   },
   {
    "duration": 39,
    "start_time": "2021-06-30T19:53:47.742Z"
   },
   {
    "duration": 33,
    "start_time": "2021-06-30T19:53:47.784Z"
   },
   {
    "duration": 47,
    "start_time": "2021-06-30T19:53:47.819Z"
   },
   {
    "duration": 45,
    "start_time": "2021-06-30T19:53:47.870Z"
   },
   {
    "duration": 42,
    "start_time": "2021-06-30T19:53:47.918Z"
   },
   {
    "duration": 62,
    "start_time": "2021-06-30T19:53:47.963Z"
   },
   {
    "duration": 60,
    "start_time": "2021-06-30T19:53:48.028Z"
   },
   {
    "duration": 13,
    "start_time": "2021-06-30T19:53:48.091Z"
   },
   {
    "duration": 41,
    "start_time": "2021-06-30T19:53:48.107Z"
   },
   {
    "duration": 31,
    "start_time": "2021-06-30T19:53:48.151Z"
   },
   {
    "duration": 754,
    "start_time": "2021-06-30T19:53:48.185Z"
   },
   {
    "duration": 2043,
    "start_time": "2021-06-30T19:53:48.942Z"
   },
   {
    "duration": 11,
    "start_time": "2021-06-30T20:07:55.166Z"
   },
   {
    "duration": 20,
    "start_time": "2021-06-30T20:13:58.729Z"
   },
   {
    "duration": 614,
    "start_time": "2021-06-30T20:14:08.351Z"
   },
   {
    "duration": 1979,
    "start_time": "2021-06-30T20:14:12.409Z"
   },
   {
    "duration": 6,
    "start_time": "2021-06-30T20:14:40.978Z"
   },
   {
    "duration": 912,
    "start_time": "2021-06-30T20:14:45.909Z"
   },
   {
    "duration": 2069,
    "start_time": "2021-06-30T20:14:49.224Z"
   },
   {
    "duration": 841,
    "start_time": "2021-06-30T20:15:58.408Z"
   },
   {
    "duration": 400,
    "start_time": "2021-06-30T20:19:24.743Z"
   },
   {
    "duration": 23,
    "start_time": "2021-06-30T20:19:35.103Z"
   },
   {
    "duration": 731,
    "start_time": "2021-06-30T20:21:36.396Z"
   },
   {
    "duration": 86,
    "start_time": "2021-06-30T20:23:26.071Z"
   },
   {
    "duration": 6,
    "start_time": "2021-06-30T20:23:41.592Z"
   },
   {
    "duration": 820,
    "start_time": "2021-06-30T20:23:54.674Z"
   },
   {
    "duration": 2145,
    "start_time": "2021-06-30T20:23:58.490Z"
   },
   {
    "duration": 699,
    "start_time": "2021-06-30T20:24:07.788Z"
   },
   {
    "duration": 384,
    "start_time": "2021-06-30T20:27:32.680Z"
   },
   {
    "duration": 1098,
    "start_time": "2021-06-30T20:30:06.977Z"
   },
   {
    "duration": 1216,
    "start_time": "2021-06-30T20:30:22.740Z"
   },
   {
    "duration": 1232,
    "start_time": "2021-06-30T20:36:59.271Z"
   },
   {
    "duration": 1110,
    "start_time": "2021-06-30T20:37:05.987Z"
   },
   {
    "duration": 27,
    "start_time": "2021-06-30T20:37:17.919Z"
   },
   {
    "duration": 466,
    "start_time": "2021-06-30T20:37:34.994Z"
   },
   {
    "duration": 358,
    "start_time": "2021-06-30T20:37:46.057Z"
   },
   {
    "duration": 606,
    "start_time": "2021-06-30T20:38:07.840Z"
   },
   {
    "duration": 350,
    "start_time": "2021-06-30T20:38:18.913Z"
   },
   {
    "duration": 252,
    "start_time": "2021-06-30T20:38:51.402Z"
   },
   {
    "duration": 409,
    "start_time": "2021-06-30T20:38:55.443Z"
   },
   {
    "duration": 45,
    "start_time": "2021-06-30T20:39:38.900Z"
   },
   {
    "duration": 265,
    "start_time": "2021-06-30T20:40:10.216Z"
   },
   {
    "duration": 5016,
    "start_time": "2021-06-30T20:41:06.383Z"
   },
   {
    "duration": 85,
    "start_time": "2021-06-30T20:41:21.803Z"
   },
   {
    "duration": 12,
    "start_time": "2021-06-30T20:41:26.507Z"
   },
   {
    "duration": 151,
    "start_time": "2021-07-01T12:26:55.921Z"
   },
   {
    "duration": 361,
    "start_time": "2021-07-01T12:44:35.770Z"
   },
   {
    "duration": 1430,
    "start_time": "2021-07-01T12:44:45.014Z"
   },
   {
    "duration": 145,
    "start_time": "2021-07-01T12:44:46.447Z"
   },
   {
    "duration": 15,
    "start_time": "2021-07-01T12:44:46.596Z"
   },
   {
    "duration": 33,
    "start_time": "2021-07-01T12:44:46.615Z"
   },
   {
    "duration": 17,
    "start_time": "2021-07-01T12:44:46.651Z"
   },
   {
    "duration": 4,
    "start_time": "2021-07-01T12:44:46.671Z"
   },
   {
    "duration": 10,
    "start_time": "2021-07-01T12:44:46.677Z"
   },
   {
    "duration": 9,
    "start_time": "2021-07-01T12:44:46.691Z"
   },
   {
    "duration": 14,
    "start_time": "2021-07-01T12:44:46.702Z"
   },
   {
    "duration": 13,
    "start_time": "2021-07-01T12:44:46.719Z"
   },
   {
    "duration": 52,
    "start_time": "2021-07-01T12:44:46.734Z"
   },
   {
    "duration": 13,
    "start_time": "2021-07-01T12:44:46.788Z"
   },
   {
    "duration": 14,
    "start_time": "2021-07-01T12:44:46.803Z"
   },
   {
    "duration": 68,
    "start_time": "2021-07-01T12:44:46.819Z"
   },
   {
    "duration": 13,
    "start_time": "2021-07-01T12:44:46.890Z"
   },
   {
    "duration": 11,
    "start_time": "2021-07-01T12:44:46.906Z"
   },
   {
    "duration": 12,
    "start_time": "2021-07-01T12:44:46.920Z"
   },
   {
    "duration": 50,
    "start_time": "2021-07-01T12:44:46.934Z"
   },
   {
    "duration": 896,
    "start_time": "2021-07-01T12:44:46.986Z"
   },
   {
    "duration": 406,
    "start_time": "2021-07-01T12:44:47.884Z"
   },
   {
    "duration": 11,
    "start_time": "2021-07-01T12:44:48.292Z"
   },
   {
    "duration": 2342,
    "start_time": "2021-07-01T12:44:48.306Z"
   },
   {
    "duration": 780,
    "start_time": "2021-07-01T12:44:50.652Z"
   },
   {
    "duration": 522,
    "start_time": "2021-07-01T12:45:57.820Z"
   },
   {
    "duration": 464,
    "start_time": "2021-07-01T12:59:24.169Z"
   },
   {
    "duration": 347,
    "start_time": "2021-07-01T13:00:49.110Z"
   },
   {
    "duration": 2436,
    "start_time": "2021-07-01T13:00:59.957Z"
   },
   {
    "duration": 2319,
    "start_time": "2021-07-01T13:02:15.150Z"
   },
   {
    "duration": 620,
    "start_time": "2021-07-01T13:02:34.513Z"
   },
   {
    "duration": 2458,
    "start_time": "2021-07-01T13:03:32.836Z"
   },
   {
    "duration": 2339,
    "start_time": "2021-07-01T13:03:47.987Z"
   },
   {
    "duration": 292,
    "start_time": "2021-07-01T13:04:52.361Z"
   },
   {
    "duration": 311,
    "start_time": "2021-07-01T13:04:59.589Z"
   },
   {
    "duration": 29,
    "start_time": "2021-07-01T13:05:15.407Z"
   },
   {
    "duration": 27,
    "start_time": "2021-07-01T13:05:39.608Z"
   },
   {
    "duration": 232,
    "start_time": "2021-07-01T13:06:07.650Z"
   },
   {
    "duration": 13,
    "start_time": "2021-07-01T13:08:08.491Z"
   },
   {
    "duration": 311,
    "start_time": "2021-07-01T13:08:34.403Z"
   },
   {
    "duration": 12,
    "start_time": "2021-07-01T13:09:13.799Z"
   },
   {
    "duration": 13,
    "start_time": "2021-07-01T13:09:27.768Z"
   },
   {
    "duration": 14,
    "start_time": "2021-07-01T13:09:35.553Z"
   },
   {
    "duration": 392,
    "start_time": "2021-07-01T13:10:28.935Z"
   },
   {
    "duration": 454,
    "start_time": "2021-07-01T13:10:49.701Z"
   },
   {
    "duration": 1153,
    "start_time": "2021-07-01T13:11:10.327Z"
   },
   {
    "duration": 353,
    "start_time": "2021-07-01T13:11:16.816Z"
   },
   {
    "duration": 339,
    "start_time": "2021-07-01T13:12:12.702Z"
   },
   {
    "duration": 316,
    "start_time": "2021-07-01T13:12:32.830Z"
   },
   {
    "duration": 14,
    "start_time": "2021-07-01T13:13:34.643Z"
   },
   {
    "duration": 418,
    "start_time": "2021-07-01T13:14:22.865Z"
   },
   {
    "duration": 740,
    "start_time": "2021-07-01T13:16:52.859Z"
   },
   {
    "duration": 356,
    "start_time": "2021-07-01T13:23:18.859Z"
   },
   {
    "duration": 15,
    "start_time": "2021-07-01T13:23:42.238Z"
   },
   {
    "duration": 6,
    "start_time": "2021-07-01T13:23:50.042Z"
   },
   {
    "duration": 15,
    "start_time": "2021-07-01T13:23:57.291Z"
   },
   {
    "duration": 350,
    "start_time": "2021-07-01T13:25:58.025Z"
   },
   {
    "duration": 325,
    "start_time": "2021-07-01T13:26:08.536Z"
   },
   {
    "duration": 2547,
    "start_time": "2021-07-01T13:26:30.148Z"
   },
   {
    "duration": 16,
    "start_time": "2021-07-01T13:27:54.422Z"
   },
   {
    "duration": 5,
    "start_time": "2021-07-01T13:27:57.371Z"
   },
   {
    "duration": 11,
    "start_time": "2021-07-01T14:01:19.910Z"
   },
   {
    "duration": 14,
    "start_time": "2021-07-01T14:01:31.361Z"
   },
   {
    "duration": 7,
    "start_time": "2021-07-01T14:05:44.229Z"
   },
   {
    "duration": 11,
    "start_time": "2021-07-01T14:05:46.435Z"
   },
   {
    "duration": 926,
    "start_time": "2021-07-01T14:08:33.552Z"
   },
   {
    "duration": 521,
    "start_time": "2021-07-01T14:08:50.358Z"
   },
   {
    "duration": 1480,
    "start_time": "2021-07-02T18:38:37.402Z"
   },
   {
    "duration": 164,
    "start_time": "2021-07-02T18:38:38.885Z"
   },
   {
    "duration": 15,
    "start_time": "2021-07-02T18:38:39.052Z"
   },
   {
    "duration": 42,
    "start_time": "2021-07-02T18:38:39.070Z"
   },
   {
    "duration": 7,
    "start_time": "2021-07-02T18:38:39.115Z"
   },
   {
    "duration": 7,
    "start_time": "2021-07-02T18:38:39.125Z"
   },
   {
    "duration": 11,
    "start_time": "2021-07-02T18:38:39.134Z"
   },
   {
    "duration": 7,
    "start_time": "2021-07-02T18:38:39.149Z"
   },
   {
    "duration": 47,
    "start_time": "2021-07-02T18:38:39.158Z"
   },
   {
    "duration": 13,
    "start_time": "2021-07-02T18:38:39.208Z"
   },
   {
    "duration": 21,
    "start_time": "2021-07-02T18:38:39.224Z"
   },
   {
    "duration": 12,
    "start_time": "2021-07-02T18:38:39.247Z"
   },
   {
    "duration": 46,
    "start_time": "2021-07-02T18:38:39.262Z"
   },
   {
    "duration": 33,
    "start_time": "2021-07-02T18:38:39.311Z"
   },
   {
    "duration": 7,
    "start_time": "2021-07-02T18:38:39.347Z"
   },
   {
    "duration": 48,
    "start_time": "2021-07-02T18:38:39.356Z"
   },
   {
    "duration": 12,
    "start_time": "2021-07-02T18:38:39.414Z"
   },
   {
    "duration": 20,
    "start_time": "2021-07-02T18:38:39.429Z"
   },
   {
    "duration": 901,
    "start_time": "2021-07-02T18:38:39.452Z"
   },
   {
    "duration": 535,
    "start_time": "2021-07-02T18:38:40.356Z"
   },
   {
    "duration": 19,
    "start_time": "2021-07-02T18:38:40.901Z"
   },
   {
    "duration": 1010,
    "start_time": "2021-07-02T18:38:40.922Z"
   },
   {
    "duration": 15,
    "start_time": "2021-07-02T18:38:41.937Z"
   },
   {
    "duration": 5,
    "start_time": "2021-07-02T18:38:41.954Z"
   },
   {
    "duration": 2914,
    "start_time": "2021-07-02T18:38:41.962Z"
   },
   {
    "duration": 24,
    "start_time": "2021-07-02T18:38:44.879Z"
   },
   {
    "duration": 14,
    "start_time": "2021-07-02T18:38:44.907Z"
   },
   {
    "duration": 21,
    "start_time": "2021-07-02T18:41:01.177Z"
   },
   {
    "duration": 510,
    "start_time": "2021-07-02T18:42:56.350Z"
   },
   {
    "duration": 31,
    "start_time": "2021-07-02T18:44:10.496Z"
   },
   {
    "duration": 21,
    "start_time": "2021-07-02T18:45:21.451Z"
   },
   {
    "duration": 337,
    "start_time": "2021-07-02T18:45:51.699Z"
   },
   {
    "duration": 22,
    "start_time": "2021-07-02T18:46:00.928Z"
   },
   {
    "duration": 19,
    "start_time": "2021-07-02T18:46:22.358Z"
   },
   {
    "duration": 106,
    "start_time": "2021-07-02T18:49:34.556Z"
   },
   {
    "duration": 316,
    "start_time": "2021-07-02T18:50:09.927Z"
   },
   {
    "duration": 384,
    "start_time": "2021-07-02T18:51:15.863Z"
   },
   {
    "duration": 318,
    "start_time": "2021-07-02T18:51:26.002Z"
   },
   {
    "duration": 15,
    "start_time": "2021-07-02T18:53:51.649Z"
   },
   {
    "duration": 16,
    "start_time": "2021-07-02T18:54:06.125Z"
   },
   {
    "duration": 10,
    "start_time": "2021-07-02T18:54:13.073Z"
   },
   {
    "duration": 15,
    "start_time": "2021-07-02T18:54:33.506Z"
   },
   {
    "duration": 11,
    "start_time": "2021-07-02T18:54:57.998Z"
   },
   {
    "duration": 10,
    "start_time": "2021-07-02T18:55:15.885Z"
   },
   {
    "duration": 20,
    "start_time": "2021-07-02T18:58:27.902Z"
   },
   {
    "duration": 14,
    "start_time": "2021-07-02T18:58:30.795Z"
   },
   {
    "duration": 9,
    "start_time": "2021-07-02T18:58:41.737Z"
   },
   {
    "duration": 21,
    "start_time": "2021-07-02T18:59:05.723Z"
   },
   {
    "duration": 17,
    "start_time": "2021-07-02T18:59:22.032Z"
   },
   {
    "duration": 21,
    "start_time": "2021-07-02T18:59:23.496Z"
   },
   {
    "duration": 27,
    "start_time": "2021-07-02T19:00:22.899Z"
   },
   {
    "duration": 20,
    "start_time": "2021-07-02T19:00:46.223Z"
   },
   {
    "duration": 9,
    "start_time": "2021-07-02T19:00:49.343Z"
   },
   {
    "duration": 287,
    "start_time": "2021-07-02T19:01:45.097Z"
   },
   {
    "duration": 362,
    "start_time": "2021-07-02T19:01:51.120Z"
   },
   {
    "duration": 26,
    "start_time": "2021-07-02T19:02:02.991Z"
   },
   {
    "duration": 95,
    "start_time": "2021-07-02T19:02:15.913Z"
   },
   {
    "duration": 20,
    "start_time": "2021-07-02T19:02:36.966Z"
   },
   {
    "duration": 754,
    "start_time": "2021-07-02T19:10:40.054Z"
   },
   {
    "duration": 742,
    "start_time": "2021-07-02T19:10:55.072Z"
   },
   {
    "duration": 659,
    "start_time": "2021-07-02T19:11:21.444Z"
   },
   {
    "duration": 2962,
    "start_time": "2021-07-02T19:19:10.392Z"
   },
   {
    "duration": 2844,
    "start_time": "2021-07-02T19:21:57.735Z"
   },
   {
    "duration": 467,
    "start_time": "2021-07-02T19:23:24.175Z"
   },
   {
    "duration": 661,
    "start_time": "2021-07-02T19:23:42.834Z"
   },
   {
    "duration": 474,
    "start_time": "2021-07-02T19:23:53.364Z"
   },
   {
    "duration": 566,
    "start_time": "2021-07-02T19:24:01.893Z"
   },
   {
    "duration": 571,
    "start_time": "2021-07-02T19:24:31.687Z"
   },
   {
    "duration": 862,
    "start_time": "2021-07-02T19:25:48.001Z"
   },
   {
    "duration": 771,
    "start_time": "2021-07-02T19:26:07.588Z"
   },
   {
    "duration": 1139,
    "start_time": "2021-07-02T19:26:48.941Z"
   },
   {
    "duration": 874,
    "start_time": "2021-07-02T19:28:34.836Z"
   },
   {
    "duration": 1132,
    "start_time": "2021-07-02T19:28:45.742Z"
   },
   {
    "duration": 1257,
    "start_time": "2021-07-02T19:29:33.349Z"
   },
   {
    "duration": 1372,
    "start_time": "2021-07-02T19:30:06.132Z"
   },
   {
    "duration": 1455,
    "start_time": "2021-07-02T19:30:39.153Z"
   },
   {
    "duration": 1397,
    "start_time": "2021-07-02T19:31:26.396Z"
   },
   {
    "duration": 830,
    "start_time": "2021-07-02T19:32:10.243Z"
   },
   {
    "duration": 670,
    "start_time": "2021-07-02T19:32:37.339Z"
   },
   {
    "duration": 791,
    "start_time": "2021-07-02T19:32:44.468Z"
   },
   {
    "duration": 1545,
    "start_time": "2021-07-02T19:38:58.310Z"
   },
   {
    "duration": 788,
    "start_time": "2021-07-02T19:39:09.630Z"
   },
   {
    "duration": 7350,
    "start_time": "2021-07-02T19:43:09.662Z"
   },
   {
    "duration": 291,
    "start_time": "2021-07-02T19:44:26.311Z"
   },
   {
    "duration": 422,
    "start_time": "2021-07-02T19:44:40.330Z"
   },
   {
    "duration": 434,
    "start_time": "2021-07-02T19:44:48.831Z"
   },
   {
    "duration": 505,
    "start_time": "2021-07-02T19:45:23.318Z"
   },
   {
    "duration": 479,
    "start_time": "2021-07-02T19:45:55.525Z"
   },
   {
    "duration": 485,
    "start_time": "2021-07-02T19:46:07.416Z"
   },
   {
    "duration": 667,
    "start_time": "2021-07-02T19:46:57.244Z"
   },
   {
    "duration": 738,
    "start_time": "2021-07-02T19:47:06.692Z"
   },
   {
    "duration": 700,
    "start_time": "2021-07-02T19:48:51.213Z"
   },
   {
    "duration": 815,
    "start_time": "2021-07-02T19:48:57.467Z"
   },
   {
    "duration": 631,
    "start_time": "2021-07-02T19:49:04.108Z"
   },
   {
    "duration": 894,
    "start_time": "2021-07-02T19:49:36.417Z"
   },
   {
    "duration": 55,
    "start_time": "2021-07-02T19:54:47.565Z"
   },
   {
    "duration": 323,
    "start_time": "2021-07-02T19:55:41.968Z"
   },
   {
    "duration": 342,
    "start_time": "2021-07-02T19:55:56.689Z"
   },
   {
    "duration": 299,
    "start_time": "2021-07-02T19:56:28.760Z"
   },
   {
    "duration": 49,
    "start_time": "2021-07-02T19:57:04.844Z"
   },
   {
    "duration": 295,
    "start_time": "2021-07-02T19:57:30.867Z"
   },
   {
    "duration": 5378,
    "start_time": "2021-07-02T19:57:43.573Z"
   },
   {
    "duration": 297,
    "start_time": "2021-07-02T19:58:21.840Z"
   },
   {
    "duration": 17,
    "start_time": "2021-07-02T19:59:01.825Z"
   },
   {
    "duration": 14,
    "start_time": "2021-07-02T19:59:26.383Z"
   },
   {
    "duration": 13,
    "start_time": "2021-07-02T20:00:01.940Z"
   },
   {
    "duration": 19,
    "start_time": "2021-07-02T20:01:24.306Z"
   },
   {
    "duration": 14,
    "start_time": "2021-07-02T20:02:06.183Z"
   },
   {
    "duration": 18,
    "start_time": "2021-07-02T20:02:20.105Z"
   },
   {
    "duration": 13,
    "start_time": "2021-07-02T20:02:33.875Z"
   },
   {
    "duration": 109,
    "start_time": "2021-07-02T20:22:13.700Z"
   },
   {
    "duration": 118,
    "start_time": "2021-07-02T20:23:04.136Z"
   },
   {
    "duration": 379,
    "start_time": "2021-07-02T20:23:17.624Z"
   },
   {
    "duration": 320,
    "start_time": "2021-07-02T20:23:37.310Z"
   },
   {
    "duration": 323,
    "start_time": "2021-07-02T20:23:57.923Z"
   },
   {
    "duration": -88,
    "start_time": "2021-07-02T20:27:42.033Z"
   },
   {
    "duration": 10,
    "start_time": "2021-07-02T20:27:53.537Z"
   },
   {
    "duration": 353,
    "start_time": "2021-07-02T20:28:30.127Z"
   },
   {
    "duration": 339,
    "start_time": "2021-07-02T20:28:57.716Z"
   },
   {
    "duration": 9,
    "start_time": "2021-07-02T20:29:10.760Z"
   },
   {
    "duration": 315,
    "start_time": "2021-07-02T20:29:31.432Z"
   },
   {
    "duration": 17,
    "start_time": "2021-07-02T20:29:48.138Z"
   },
   {
    "duration": 11,
    "start_time": "2021-07-02T20:30:21.135Z"
   },
   {
    "duration": 11,
    "start_time": "2021-07-02T20:30:33.767Z"
   },
   {
    "duration": 12,
    "start_time": "2021-07-02T20:31:15.560Z"
   },
   {
    "duration": 14,
    "start_time": "2021-07-02T20:31:38.428Z"
   },
   {
    "duration": 15,
    "start_time": "2021-07-02T20:31:41.312Z"
   },
   {
    "duration": 321,
    "start_time": "2021-07-02T20:32:27.163Z"
   },
   {
    "duration": 293,
    "start_time": "2021-07-02T20:33:05.382Z"
   },
   {
    "duration": 1593,
    "start_time": "2021-07-02T20:33:20.956Z"
   },
   {
    "duration": 11,
    "start_time": "2021-07-02T20:33:32.383Z"
   },
   {
    "duration": 1582,
    "start_time": "2021-07-02T20:33:45.422Z"
   },
   {
    "duration": 1314,
    "start_time": "2021-07-02T20:34:40.464Z"
   },
   {
    "duration": 16,
    "start_time": "2021-07-02T20:39:03.377Z"
   },
   {
    "duration": 17,
    "start_time": "2021-07-02T20:39:19.159Z"
   },
   {
    "duration": 1254,
    "start_time": "2021-07-02T20:39:37.596Z"
   },
   {
    "duration": 20,
    "start_time": "2021-07-02T20:40:52.931Z"
   },
   {
    "duration": 12,
    "start_time": "2021-07-02T20:41:48.122Z"
   },
   {
    "duration": 335,
    "start_time": "2021-07-02T20:43:08.546Z"
   },
   {
    "duration": 12,
    "start_time": "2021-07-02T20:43:16.433Z"
   },
   {
    "duration": 21,
    "start_time": "2021-07-02T20:43:27.912Z"
   },
   {
    "duration": 16,
    "start_time": "2021-07-02T20:43:37.566Z"
   },
   {
    "duration": 16,
    "start_time": "2021-07-02T20:43:40.012Z"
   },
   {
    "duration": 16,
    "start_time": "2021-07-02T20:43:43.970Z"
   },
   {
    "duration": 7,
    "start_time": "2021-07-02T20:45:51.143Z"
   },
   {
    "duration": 5,
    "start_time": "2021-07-02T20:46:34.294Z"
   },
   {
    "duration": 16,
    "start_time": "2021-07-02T20:46:47.185Z"
   },
   {
    "duration": 1604,
    "start_time": "2021-07-02T20:47:06.286Z"
   },
   {
    "duration": 214,
    "start_time": "2021-07-02T20:47:07.896Z"
   },
   {
    "duration": 18,
    "start_time": "2021-07-02T20:47:08.114Z"
   },
   {
    "duration": 26,
    "start_time": "2021-07-02T20:47:08.135Z"
   },
   {
    "duration": 37,
    "start_time": "2021-07-02T20:47:08.163Z"
   },
   {
    "duration": 10,
    "start_time": "2021-07-02T20:47:08.205Z"
   },
   {
    "duration": 26,
    "start_time": "2021-07-02T20:47:08.218Z"
   },
   {
    "duration": 18,
    "start_time": "2021-07-02T20:47:08.248Z"
   },
   {
    "duration": 10,
    "start_time": "2021-07-02T20:47:08.270Z"
   },
   {
    "duration": 12,
    "start_time": "2021-07-02T20:47:08.283Z"
   },
   {
    "duration": 17,
    "start_time": "2021-07-02T20:47:08.302Z"
   },
   {
    "duration": 31,
    "start_time": "2021-07-02T20:47:08.322Z"
   },
   {
    "duration": 13,
    "start_time": "2021-07-02T20:47:08.356Z"
   },
   {
    "duration": 47,
    "start_time": "2021-07-02T20:47:08.372Z"
   },
   {
    "duration": 45,
    "start_time": "2021-07-02T20:47:08.422Z"
   },
   {
    "duration": 41,
    "start_time": "2021-07-02T20:47:08.470Z"
   },
   {
    "duration": 11,
    "start_time": "2021-07-02T20:47:08.514Z"
   },
   {
    "duration": 19,
    "start_time": "2021-07-02T20:47:08.527Z"
   },
   {
    "duration": 20,
    "start_time": "2021-07-02T20:47:08.549Z"
   },
   {
    "duration": 968,
    "start_time": "2021-07-02T20:47:08.572Z"
   },
   {
    "duration": 529,
    "start_time": "2021-07-02T20:47:09.542Z"
   },
   {
    "duration": 30,
    "start_time": "2021-07-02T20:47:10.074Z"
   },
   {
    "duration": 1094,
    "start_time": "2021-07-02T20:47:10.112Z"
   },
   {
    "duration": 18,
    "start_time": "2021-07-02T20:47:11.209Z"
   },
   {
    "duration": 5,
    "start_time": "2021-07-02T20:47:11.230Z"
   },
   {
    "duration": 3083,
    "start_time": "2021-07-02T20:47:11.237Z"
   },
   {
    "duration": 9,
    "start_time": "2021-07-02T20:47:14.324Z"
   },
   {
    "duration": 12,
    "start_time": "2021-07-02T20:47:14.336Z"
   },
   {
    "duration": 58,
    "start_time": "2021-07-02T20:47:14.351Z"
   },
   {
    "duration": 22,
    "start_time": "2021-07-02T20:47:14.412Z"
   },
   {
    "duration": 15,
    "start_time": "2021-07-02T20:47:14.436Z"
   },
   {
    "duration": 122,
    "start_time": "2021-07-02T20:47:14.453Z"
   },
   {
    "duration": 678,
    "start_time": "2021-07-02T20:47:14.577Z"
   },
   {
    "duration": 14,
    "start_time": "2021-07-02T20:47:15.257Z"
   },
   {
    "duration": 37,
    "start_time": "2021-07-02T20:47:15.273Z"
   },
   {
    "duration": 18,
    "start_time": "2021-07-02T20:47:15.314Z"
   },
   {
    "duration": 17,
    "start_time": "2021-07-02T20:47:15.335Z"
   },
   {
    "duration": 51,
    "start_time": "2021-07-02T20:47:15.354Z"
   },
   {
    "duration": 20,
    "start_time": "2021-07-02T20:47:15.413Z"
   },
   {
    "duration": 8,
    "start_time": "2021-07-02T20:47:15.436Z"
   },
   {
    "duration": 17,
    "start_time": "2021-07-02T20:47:15.446Z"
   },
   {
    "duration": 56,
    "start_time": "2021-07-02T20:47:15.466Z"
   },
   {
    "duration": 1853,
    "start_time": "2021-07-02T20:47:15.525Z"
   },
   {
    "duration": 697,
    "start_time": "2021-07-03T07:02:39.389Z"
   },
   {
    "duration": 1364,
    "start_time": "2021-07-03T07:02:49.349Z"
   },
   {
    "duration": 179,
    "start_time": "2021-07-03T07:02:50.716Z"
   },
   {
    "duration": 13,
    "start_time": "2021-07-03T07:02:50.899Z"
   },
   {
    "duration": 25,
    "start_time": "2021-07-03T07:02:50.915Z"
   },
   {
    "duration": 18,
    "start_time": "2021-07-03T07:02:50.942Z"
   },
   {
    "duration": 6,
    "start_time": "2021-07-03T07:02:50.962Z"
   },
   {
    "duration": 8,
    "start_time": "2021-07-03T07:02:50.971Z"
   },
   {
    "duration": 6,
    "start_time": "2021-07-03T07:02:50.983Z"
   },
   {
    "duration": 7,
    "start_time": "2021-07-03T07:02:50.993Z"
   },
   {
    "duration": 54,
    "start_time": "2021-07-03T07:02:51.002Z"
   },
   {
    "duration": 18,
    "start_time": "2021-07-03T07:02:51.059Z"
   },
   {
    "duration": 24,
    "start_time": "2021-07-03T07:02:51.079Z"
   },
   {
    "duration": 14,
    "start_time": "2021-07-03T07:02:51.106Z"
   },
   {
    "duration": 33,
    "start_time": "2021-07-03T07:02:51.123Z"
   },
   {
    "duration": 32,
    "start_time": "2021-07-03T07:02:51.159Z"
   },
   {
    "duration": 11,
    "start_time": "2021-07-03T07:02:51.194Z"
   },
   {
    "duration": 11,
    "start_time": "2021-07-03T07:02:51.207Z"
   },
   {
    "duration": 39,
    "start_time": "2021-07-03T07:02:51.220Z"
   },
   {
    "duration": 22,
    "start_time": "2021-07-03T07:02:51.262Z"
   },
   {
    "duration": 829,
    "start_time": "2021-07-03T07:02:51.286Z"
   },
   {
    "duration": 535,
    "start_time": "2021-07-03T07:02:52.118Z"
   },
   {
    "duration": 11,
    "start_time": "2021-07-03T07:02:52.656Z"
   },
   {
    "duration": 691,
    "start_time": "2021-07-03T07:02:52.672Z"
   },
   {
    "duration": 15,
    "start_time": "2021-07-03T07:02:53.366Z"
   },
   {
    "duration": 4,
    "start_time": "2021-07-03T07:02:53.384Z"
   },
   {
    "duration": 2358,
    "start_time": "2021-07-03T07:02:53.390Z"
   },
   {
    "duration": 7,
    "start_time": "2021-07-03T07:02:55.750Z"
   },
   {
    "duration": 11,
    "start_time": "2021-07-03T07:02:55.760Z"
   },
   {
    "duration": 20,
    "start_time": "2021-07-03T07:02:55.774Z"
   },
   {
    "duration": 22,
    "start_time": "2021-07-03T07:02:55.797Z"
   },
   {
    "duration": 50,
    "start_time": "2021-07-03T07:02:55.821Z"
   },
   {
    "duration": 119,
    "start_time": "2021-07-03T07:02:55.873Z"
   },
   {
    "duration": 632,
    "start_time": "2021-07-03T07:02:55.994Z"
   },
   {
    "duration": 28,
    "start_time": "2021-07-03T07:02:56.629Z"
   },
   {
    "duration": 14,
    "start_time": "2021-07-03T07:02:56.660Z"
   },
   {
    "duration": 14,
    "start_time": "2021-07-03T07:02:56.677Z"
   },
   {
    "duration": 13,
    "start_time": "2021-07-03T07:02:56.694Z"
   },
   {
    "duration": 58,
    "start_time": "2021-07-03T07:02:56.709Z"
   },
   {
    "duration": 12,
    "start_time": "2021-07-03T07:02:56.769Z"
   },
   {
    "duration": 12,
    "start_time": "2021-07-03T07:02:56.783Z"
   },
   {
    "duration": 24,
    "start_time": "2021-07-03T07:02:56.797Z"
   },
   {
    "duration": 42,
    "start_time": "2021-07-03T07:02:56.823Z"
   },
   {
    "duration": 1849,
    "start_time": "2021-07-03T07:02:56.867Z"
   },
   {
    "duration": 76,
    "start_time": "2021-07-03T07:02:58.718Z"
   },
   {
    "duration": 3355,
    "start_time": "2021-07-03T07:03:44.490Z"
   },
   {
    "duration": 8772,
    "start_time": "2021-07-03T07:04:15.999Z"
   },
   {
    "duration": 9151,
    "start_time": "2021-07-03T07:05:29.096Z"
   },
   {
    "duration": 8938,
    "start_time": "2021-07-03T07:05:41.405Z"
   },
   {
    "duration": 8815,
    "start_time": "2021-07-03T07:06:24.024Z"
   },
   {
    "duration": 284,
    "start_time": "2021-07-03T07:07:55.117Z"
   },
   {
    "duration": 8930,
    "start_time": "2021-07-03T07:08:21.577Z"
   },
   {
    "duration": 9246,
    "start_time": "2021-07-03T07:08:42.697Z"
   },
   {
    "duration": 9102,
    "start_time": "2021-07-03T07:13:47.122Z"
   },
   {
    "duration": 426,
    "start_time": "2021-07-03T07:13:57.309Z"
   },
   {
    "duration": 628,
    "start_time": "2021-07-03T07:14:09.443Z"
   },
   {
    "duration": 8607,
    "start_time": "2021-07-03T07:14:19.048Z"
   },
   {
    "duration": 23,
    "start_time": "2021-07-03T07:14:53.803Z"
   },
   {
    "duration": 23,
    "start_time": "2021-07-03T07:15:23.314Z"
   },
   {
    "duration": 45,
    "start_time": "2021-07-03T07:15:41.098Z"
   },
   {
    "duration": 39,
    "start_time": "2021-07-03T07:15:55.505Z"
   },
   {
    "duration": 312,
    "start_time": "2021-07-03T07:16:22.381Z"
   },
   {
    "duration": 264,
    "start_time": "2021-07-03T07:17:17.795Z"
   },
   {
    "duration": 275,
    "start_time": "2021-07-03T07:17:41.450Z"
   },
   {
    "duration": 72,
    "start_time": "2021-07-03T07:17:55.869Z"
   },
   {
    "duration": 53,
    "start_time": "2021-07-03T07:18:14.200Z"
   },
   {
    "duration": 56,
    "start_time": "2021-07-03T07:18:19.809Z"
   },
   {
    "duration": 311,
    "start_time": "2021-07-03T07:19:02.148Z"
   },
   {
    "duration": 315,
    "start_time": "2021-07-03T07:19:15.159Z"
   },
   {
    "duration": 1454,
    "start_time": "2021-07-03T07:19:39.944Z"
   },
   {
    "duration": 198,
    "start_time": "2021-07-03T07:19:41.401Z"
   },
   {
    "duration": 14,
    "start_time": "2021-07-03T07:19:41.604Z"
   },
   {
    "duration": 35,
    "start_time": "2021-07-03T07:19:41.621Z"
   },
   {
    "duration": 5,
    "start_time": "2021-07-03T07:19:41.658Z"
   },
   {
    "duration": 7,
    "start_time": "2021-07-03T07:19:41.665Z"
   },
   {
    "duration": 8,
    "start_time": "2021-07-03T07:19:41.676Z"
   },
   {
    "duration": 7,
    "start_time": "2021-07-03T07:19:41.687Z"
   },
   {
    "duration": 11,
    "start_time": "2021-07-03T07:19:41.696Z"
   },
   {
    "duration": 11,
    "start_time": "2021-07-03T07:19:41.709Z"
   },
   {
    "duration": 9,
    "start_time": "2021-07-03T07:19:41.757Z"
   },
   {
    "duration": 21,
    "start_time": "2021-07-03T07:19:41.768Z"
   },
   {
    "duration": 13,
    "start_time": "2021-07-03T07:19:41.791Z"
   },
   {
    "duration": 14,
    "start_time": "2021-07-03T07:19:41.807Z"
   },
   {
    "duration": 59,
    "start_time": "2021-07-03T07:19:41.823Z"
   },
   {
    "duration": 7,
    "start_time": "2021-07-03T07:19:41.884Z"
   },
   {
    "duration": 8,
    "start_time": "2021-07-03T07:19:41.894Z"
   },
   {
    "duration": 13,
    "start_time": "2021-07-03T07:19:41.904Z"
   },
   {
    "duration": 21,
    "start_time": "2021-07-03T07:19:41.955Z"
   },
   {
    "duration": 847,
    "start_time": "2021-07-03T07:19:41.979Z"
   },
   {
    "duration": 489,
    "start_time": "2021-07-03T07:19:42.829Z"
   },
   {
    "duration": 12,
    "start_time": "2021-07-03T07:19:43.323Z"
   },
   {
    "duration": 722,
    "start_time": "2021-07-03T07:19:43.337Z"
   },
   {
    "duration": 15,
    "start_time": "2021-07-03T07:19:44.062Z"
   },
   {
    "duration": 5,
    "start_time": "2021-07-03T07:19:44.080Z"
   },
   {
    "duration": 2531,
    "start_time": "2021-07-03T07:19:44.087Z"
   },
   {
    "duration": 7,
    "start_time": "2021-07-03T07:19:46.621Z"
   },
   {
    "duration": 26,
    "start_time": "2021-07-03T07:19:46.631Z"
   },
   {
    "duration": 23,
    "start_time": "2021-07-03T07:19:46.659Z"
   },
   {
    "duration": 16,
    "start_time": "2021-07-03T07:19:46.684Z"
   },
   {
    "duration": 15,
    "start_time": "2021-07-03T07:19:46.702Z"
   },
   {
    "duration": 136,
    "start_time": "2021-07-03T07:19:46.720Z"
   },
   {
    "duration": 642,
    "start_time": "2021-07-03T07:19:46.858Z"
   },
   {
    "duration": 14,
    "start_time": "2021-07-03T07:19:47.502Z"
   },
   {
    "duration": 13,
    "start_time": "2021-07-03T07:19:47.518Z"
   },
   {
    "duration": 13,
    "start_time": "2021-07-03T07:19:47.556Z"
   },
   {
    "duration": 14,
    "start_time": "2021-07-03T07:19:47.571Z"
   },
   {
    "duration": 13,
    "start_time": "2021-07-03T07:19:47.587Z"
   },
   {
    "duration": 53,
    "start_time": "2021-07-03T07:19:47.603Z"
   },
   {
    "duration": 9,
    "start_time": "2021-07-03T07:19:47.658Z"
   },
   {
    "duration": 18,
    "start_time": "2021-07-03T07:19:47.669Z"
   },
   {
    "duration": 20,
    "start_time": "2021-07-03T07:19:47.690Z"
   },
   {
    "duration": 1668,
    "start_time": "2021-07-03T07:19:47.713Z"
   },
   {
    "duration": 431,
    "start_time": "2021-07-03T07:19:49.383Z"
   },
   {
    "duration": 301,
    "start_time": "2021-07-03T07:19:55.674Z"
   },
   {
    "duration": 512,
    "start_time": "2021-07-03T07:20:10.929Z"
   },
   {
    "duration": 324,
    "start_time": "2021-07-03T07:20:31.137Z"
   },
   {
    "duration": 307,
    "start_time": "2021-07-03T07:21:29.636Z"
   },
   {
    "duration": 7,
    "start_time": "2021-07-03T07:21:47.558Z"
   },
   {
    "duration": 308,
    "start_time": "2021-07-03T07:22:02.370Z"
   },
   {
    "duration": 5,
    "start_time": "2021-07-03T07:22:12.910Z"
   },
   {
    "duration": 169,
    "start_time": "2021-07-03T07:22:13.605Z"
   },
   {
    "duration": 14,
    "start_time": "2021-07-03T07:22:14.264Z"
   },
   {
    "duration": 20,
    "start_time": "2021-07-03T07:22:16.903Z"
   },
   {
    "duration": 5,
    "start_time": "2021-07-03T07:22:21.424Z"
   },
   {
    "duration": 4,
    "start_time": "2021-07-03T07:22:22.436Z"
   },
   {
    "duration": 6,
    "start_time": "2021-07-03T07:22:23.009Z"
   },
   {
    "duration": 7,
    "start_time": "2021-07-03T07:22:26.547Z"
   },
   {
    "duration": 6,
    "start_time": "2021-07-03T07:22:27.028Z"
   },
   {
    "duration": 12,
    "start_time": "2021-07-03T07:22:28.423Z"
   },
   {
    "duration": 10,
    "start_time": "2021-07-03T07:22:31.542Z"
   },
   {
    "duration": 19,
    "start_time": "2021-07-03T07:22:38.713Z"
   },
   {
    "duration": 12,
    "start_time": "2021-07-03T07:22:41.638Z"
   },
   {
    "duration": 15,
    "start_time": "2021-07-03T07:22:41.960Z"
   },
   {
    "duration": 33,
    "start_time": "2021-07-03T07:22:44.840Z"
   },
   {
    "duration": 322,
    "start_time": "2021-07-03T07:22:54.742Z"
   },
   {
    "duration": 309,
    "start_time": "2021-07-03T07:22:59.335Z"
   },
   {
    "duration": 308,
    "start_time": "2021-07-03T07:23:03.094Z"
   },
   {
    "duration": 308,
    "start_time": "2021-07-03T07:23:06.723Z"
   },
   {
    "duration": 465,
    "start_time": "2021-07-03T07:23:10.803Z"
   },
   {
    "duration": 16,
    "start_time": "2021-07-03T07:23:20.831Z"
   },
   {
    "duration": 16,
    "start_time": "2021-07-03T07:23:27.988Z"
   },
   {
    "duration": 284,
    "start_time": "2021-07-03T07:23:32.778Z"
   },
   {
    "duration": 271,
    "start_time": "2021-07-03T07:23:40.875Z"
   },
   {
    "duration": 11,
    "start_time": "2021-07-03T07:23:50.411Z"
   },
   {
    "duration": 1196,
    "start_time": "2021-07-03T07:23:59.149Z"
   },
   {
    "duration": 267,
    "start_time": "2021-07-03T07:24:04.180Z"
   },
   {
    "duration": 1371,
    "start_time": "2021-07-03T07:24:24.744Z"
   },
   {
    "duration": 180,
    "start_time": "2021-07-03T07:24:26.117Z"
   },
   {
    "duration": 13,
    "start_time": "2021-07-03T07:24:26.300Z"
   },
   {
    "duration": 22,
    "start_time": "2021-07-03T07:24:26.316Z"
   },
   {
    "duration": 5,
    "start_time": "2021-07-03T07:24:26.356Z"
   },
   {
    "duration": 7,
    "start_time": "2021-07-03T07:24:26.363Z"
   },
   {
    "duration": 8,
    "start_time": "2021-07-03T07:24:26.372Z"
   },
   {
    "duration": 7,
    "start_time": "2021-07-03T07:24:26.383Z"
   },
   {
    "duration": 11,
    "start_time": "2021-07-03T07:24:26.392Z"
   },
   {
    "duration": 14,
    "start_time": "2021-07-03T07:24:26.405Z"
   },
   {
    "duration": 43,
    "start_time": "2021-07-03T07:24:26.421Z"
   },
   {
    "duration": 19,
    "start_time": "2021-07-03T07:24:26.467Z"
   },
   {
    "duration": 11,
    "start_time": "2021-07-03T07:24:26.488Z"
   },
   {
    "duration": 15,
    "start_time": "2021-07-03T07:24:26.501Z"
   },
   {
    "duration": 60,
    "start_time": "2021-07-03T07:24:26.518Z"
   },
   {
    "duration": 11,
    "start_time": "2021-07-03T07:24:26.580Z"
   },
   {
    "duration": 8,
    "start_time": "2021-07-03T07:24:26.594Z"
   },
   {
    "duration": 7,
    "start_time": "2021-07-03T07:24:26.604Z"
   },
   {
    "duration": 56,
    "start_time": "2021-07-03T07:24:26.613Z"
   },
   {
    "duration": 806,
    "start_time": "2021-07-03T07:24:26.671Z"
   },
   {
    "duration": 476,
    "start_time": "2021-07-03T07:24:27.479Z"
   },
   {
    "duration": 11,
    "start_time": "2021-07-03T07:24:27.957Z"
   },
   {
    "duration": 693,
    "start_time": "2021-07-03T07:24:27.973Z"
   },
   {
    "duration": 15,
    "start_time": "2021-07-03T07:24:28.669Z"
   },
   {
    "duration": 5,
    "start_time": "2021-07-03T07:24:28.687Z"
   },
   {
    "duration": 2335,
    "start_time": "2021-07-03T07:24:28.694Z"
   },
   {
    "duration": 8,
    "start_time": "2021-07-03T07:24:31.031Z"
   },
   {
    "duration": 23,
    "start_time": "2021-07-03T07:24:31.041Z"
   },
   {
    "duration": 26,
    "start_time": "2021-07-03T07:24:31.067Z"
   },
   {
    "duration": 23,
    "start_time": "2021-07-03T07:24:31.096Z"
   },
   {
    "duration": 41,
    "start_time": "2021-07-03T07:24:31.122Z"
   },
   {
    "duration": 100,
    "start_time": "2021-07-03T07:24:31.166Z"
   },
   {
    "duration": 720,
    "start_time": "2021-07-03T07:24:31.268Z"
   },
   {
    "duration": 13,
    "start_time": "2021-07-03T07:24:31.991Z"
   },
   {
    "duration": 38,
    "start_time": "2021-07-03T07:24:32.006Z"
   },
   {
    "duration": 33,
    "start_time": "2021-07-03T07:24:32.046Z"
   },
   {
    "duration": 46,
    "start_time": "2021-07-03T07:24:32.081Z"
   },
   {
    "duration": 56,
    "start_time": "2021-07-03T07:24:32.129Z"
   },
   {
    "duration": 19,
    "start_time": "2021-07-03T07:24:32.187Z"
   },
   {
    "duration": 24,
    "start_time": "2021-07-03T07:24:32.208Z"
   },
   {
    "duration": 50,
    "start_time": "2021-07-03T07:24:32.234Z"
   },
   {
    "duration": 26,
    "start_time": "2021-07-03T07:24:32.286Z"
   },
   {
    "duration": 1860,
    "start_time": "2021-07-03T07:24:32.314Z"
   },
   {
    "duration": 9498,
    "start_time": "2021-07-03T07:24:34.177Z"
   },
   {
    "duration": 785,
    "start_time": "2021-07-03T07:27:36.248Z"
   },
   {
    "duration": 288,
    "start_time": "2021-07-03T07:27:56.227Z"
   },
   {
    "duration": 294,
    "start_time": "2021-07-03T07:29:51.447Z"
   },
   {
    "duration": 321,
    "start_time": "2021-07-03T07:29:53.454Z"
   },
   {
    "duration": 291,
    "start_time": "2021-07-03T07:29:58.542Z"
   },
   {
    "duration": 321,
    "start_time": "2021-07-03T07:30:00.814Z"
   },
   {
    "duration": 294,
    "start_time": "2021-07-03T07:30:03.206Z"
   },
   {
    "duration": 316,
    "start_time": "2021-07-03T07:30:08.917Z"
   },
   {
    "duration": 295,
    "start_time": "2021-07-03T07:31:16.448Z"
   },
   {
    "duration": 292,
    "start_time": "2021-07-03T07:31:27.107Z"
   },
   {
    "duration": 279,
    "start_time": "2021-07-03T07:31:28.669Z"
   },
   {
    "duration": 341,
    "start_time": "2021-07-03T07:31:33.786Z"
   },
   {
    "duration": 298,
    "start_time": "2021-07-03T07:39:33.594Z"
   },
   {
    "duration": 290,
    "start_time": "2021-07-03T07:39:36.045Z"
   },
   {
    "duration": 1435,
    "start_time": "2021-07-03T07:39:43.174Z"
   },
   {
    "duration": 338,
    "start_time": "2021-07-03T07:39:44.612Z"
   },
   {
    "duration": 14,
    "start_time": "2021-07-03T07:39:44.953Z"
   },
   {
    "duration": 22,
    "start_time": "2021-07-03T07:39:44.970Z"
   },
   {
    "duration": 7,
    "start_time": "2021-07-03T07:39:44.994Z"
   },
   {
    "duration": 22,
    "start_time": "2021-07-03T07:39:45.003Z"
   },
   {
    "duration": 14,
    "start_time": "2021-07-03T07:39:45.027Z"
   },
   {
    "duration": 16,
    "start_time": "2021-07-03T07:39:45.045Z"
   },
   {
    "duration": 20,
    "start_time": "2021-07-03T07:39:45.064Z"
   },
   {
    "duration": 38,
    "start_time": "2021-07-03T07:39:45.086Z"
   },
   {
    "duration": 18,
    "start_time": "2021-07-03T07:39:45.127Z"
   },
   {
    "duration": 32,
    "start_time": "2021-07-03T07:39:45.148Z"
   },
   {
    "duration": 20,
    "start_time": "2021-07-03T07:39:45.182Z"
   },
   {
    "duration": 16,
    "start_time": "2021-07-03T07:39:45.204Z"
   },
   {
    "duration": 36,
    "start_time": "2021-07-03T07:39:45.223Z"
   },
   {
    "duration": 7,
    "start_time": "2021-07-03T07:39:45.261Z"
   },
   {
    "duration": 8,
    "start_time": "2021-07-03T07:39:45.271Z"
   },
   {
    "duration": 9,
    "start_time": "2021-07-03T07:39:45.282Z"
   },
   {
    "duration": 20,
    "start_time": "2021-07-03T07:39:45.293Z"
   },
   {
    "duration": 863,
    "start_time": "2021-07-03T07:39:45.315Z"
   },
   {
    "duration": 489,
    "start_time": "2021-07-03T07:39:46.180Z"
   },
   {
    "duration": 11,
    "start_time": "2021-07-03T07:39:46.672Z"
   },
   {
    "duration": 719,
    "start_time": "2021-07-03T07:39:46.688Z"
   },
   {
    "duration": 15,
    "start_time": "2021-07-03T07:39:47.411Z"
   },
   {
    "duration": 5,
    "start_time": "2021-07-03T07:39:47.428Z"
   },
   {
    "duration": 2353,
    "start_time": "2021-07-03T07:39:47.455Z"
   },
   {
    "duration": 7,
    "start_time": "2021-07-03T07:39:49.811Z"
   },
   {
    "duration": 14,
    "start_time": "2021-07-03T07:39:49.820Z"
   },
   {
    "duration": 20,
    "start_time": "2021-07-03T07:39:49.855Z"
   },
   {
    "duration": 25,
    "start_time": "2021-07-03T07:39:49.878Z"
   },
   {
    "duration": 15,
    "start_time": "2021-07-03T07:39:49.905Z"
   },
   {
    "duration": 118,
    "start_time": "2021-07-03T07:39:49.922Z"
   },
   {
    "duration": 648,
    "start_time": "2021-07-03T07:39:50.043Z"
   },
   {
    "duration": 14,
    "start_time": "2021-07-03T07:39:50.694Z"
   },
   {
    "duration": 17,
    "start_time": "2021-07-03T07:39:50.711Z"
   },
   {
    "duration": 40,
    "start_time": "2021-07-03T07:39:50.730Z"
   },
   {
    "duration": 22,
    "start_time": "2021-07-03T07:39:50.773Z"
   },
   {
    "duration": 19,
    "start_time": "2021-07-03T07:39:50.798Z"
   },
   {
    "duration": 16,
    "start_time": "2021-07-03T07:39:50.820Z"
   },
   {
    "duration": 8,
    "start_time": "2021-07-03T07:39:50.857Z"
   },
   {
    "duration": 35,
    "start_time": "2021-07-03T07:39:50.868Z"
   },
   {
    "duration": 22,
    "start_time": "2021-07-03T07:39:50.907Z"
   },
   {
    "duration": 1780,
    "start_time": "2021-07-03T07:39:50.932Z"
   },
   {
    "duration": 8988,
    "start_time": "2021-07-03T07:39:52.715Z"
   },
   {
    "duration": 440,
    "start_time": "2021-07-03T07:40:21.033Z"
   },
   {
    "duration": 306,
    "start_time": "2021-07-03T07:40:30.695Z"
   },
   {
    "duration": 347,
    "start_time": "2021-07-03T07:41:57.548Z"
   },
   {
    "duration": 374,
    "start_time": "2021-07-03T07:41:59.353Z"
   },
   {
    "duration": 5,
    "start_time": "2021-07-03T07:42:15.544Z"
   },
   {
    "duration": 6,
    "start_time": "2021-07-03T07:42:36.024Z"
   },
   {
    "duration": 8,
    "start_time": "2021-07-03T07:43:03.556Z"
   },
   {
    "duration": 8,
    "start_time": "2021-07-03T07:43:11.147Z"
   },
   {
    "duration": 292,
    "start_time": "2021-07-03T07:43:44.320Z"
   },
   {
    "duration": 325,
    "start_time": "2021-07-03T07:44:01.102Z"
   },
   {
    "duration": 12,
    "start_time": "2021-07-03T07:44:12.371Z"
   },
   {
    "duration": 9,
    "start_time": "2021-07-03T07:44:20.069Z"
   },
   {
    "duration": 9,
    "start_time": "2021-07-03T07:44:22.560Z"
   },
   {
    "duration": 17,
    "start_time": "2021-07-03T07:44:57.959Z"
   },
   {
    "duration": 15,
    "start_time": "2021-07-03T07:45:02.899Z"
   },
   {
    "duration": 18,
    "start_time": "2021-07-03T07:45:12.687Z"
   },
   {
    "duration": 9669,
    "start_time": "2021-07-03T07:45:17.191Z"
   },
   {
    "duration": 9977,
    "start_time": "2021-07-03T07:45:39.432Z"
   },
   {
    "duration": 9749,
    "start_time": "2021-07-03T07:46:05.071Z"
   },
   {
    "duration": 9627,
    "start_time": "2021-07-03T07:46:38.519Z"
   },
   {
    "duration": 9443,
    "start_time": "2021-07-03T07:47:55.307Z"
   },
   {
    "duration": 10281,
    "start_time": "2021-07-03T07:48:32.715Z"
   },
   {
    "duration": 9407,
    "start_time": "2021-07-03T07:49:49.017Z"
   },
   {
    "duration": 21,
    "start_time": "2021-07-03T08:09:58.475Z"
   },
   {
    "duration": 87,
    "start_time": "2021-07-03T08:47:44.372Z"
   },
   {
    "duration": 88,
    "start_time": "2021-07-03T08:49:08.789Z"
   },
   {
    "duration": 293,
    "start_time": "2021-07-03T08:59:32.872Z"
   },
   {
    "duration": 270,
    "start_time": "2021-07-03T08:59:38.914Z"
   },
   {
    "duration": 22,
    "start_time": "2021-07-03T08:59:55.698Z"
   },
   {
    "duration": 113,
    "start_time": "2021-07-03T09:01:38.834Z"
   },
   {
    "duration": 86,
    "start_time": "2021-07-03T09:03:23.033Z"
   },
   {
    "duration": 300,
    "start_time": "2021-07-03T09:03:29.889Z"
   },
   {
    "duration": 60,
    "start_time": "2021-07-03T09:03:36.832Z"
   },
   {
    "duration": 51,
    "start_time": "2021-07-03T09:03:50.426Z"
   },
   {
    "duration": 114,
    "start_time": "2021-07-03T09:04:35.917Z"
   },
   {
    "duration": 39,
    "start_time": "2021-07-03T09:04:42.208Z"
   },
   {
    "duration": 1771,
    "start_time": "2021-07-03T09:05:26.010Z"
   },
   {
    "duration": 1848,
    "start_time": "2021-07-03T09:05:40.734Z"
   },
   {
    "duration": 83,
    "start_time": "2021-07-03T09:05:55.517Z"
   },
   {
    "duration": 68,
    "start_time": "2021-07-03T09:06:02.193Z"
   },
   {
    "duration": 272,
    "start_time": "2021-07-03T09:06:23.282Z"
   },
   {
    "duration": 55,
    "start_time": "2021-07-03T09:06:32.091Z"
   },
   {
    "duration": 52,
    "start_time": "2021-07-03T09:07:52.222Z"
   },
   {
    "duration": 69,
    "start_time": "2021-07-03T09:08:15.065Z"
   },
   {
    "duration": 413,
    "start_time": "2021-07-04T19:51:25.863Z"
   },
   {
    "duration": 1641,
    "start_time": "2021-07-04T19:51:35.938Z"
   },
   {
    "duration": 129,
    "start_time": "2021-07-04T19:51:37.582Z"
   },
   {
    "duration": 23,
    "start_time": "2021-07-04T19:51:37.720Z"
   },
   {
    "duration": 49,
    "start_time": "2021-07-04T19:51:37.747Z"
   },
   {
    "duration": 8,
    "start_time": "2021-07-04T19:51:37.799Z"
   },
   {
    "duration": 6,
    "start_time": "2021-07-04T19:51:37.810Z"
   },
   {
    "duration": 7,
    "start_time": "2021-07-04T19:51:37.820Z"
   },
   {
    "duration": 9,
    "start_time": "2021-07-04T19:51:37.867Z"
   },
   {
    "duration": 24,
    "start_time": "2021-07-04T19:51:37.880Z"
   },
   {
    "duration": 13,
    "start_time": "2021-07-04T19:51:37.907Z"
   },
   {
    "duration": 13,
    "start_time": "2021-07-04T19:51:37.923Z"
   },
   {
    "duration": 50,
    "start_time": "2021-07-04T19:51:37.938Z"
   },
   {
    "duration": 15,
    "start_time": "2021-07-04T19:51:37.991Z"
   },
   {
    "duration": 28,
    "start_time": "2021-07-04T19:51:38.009Z"
   },
   {
    "duration": 52,
    "start_time": "2021-07-04T19:51:38.040Z"
   },
   {
    "duration": 7,
    "start_time": "2021-07-04T19:51:38.095Z"
   },
   {
    "duration": 34,
    "start_time": "2021-07-04T19:51:38.105Z"
   },
   {
    "duration": 13,
    "start_time": "2021-07-04T19:51:38.143Z"
   },
   {
    "duration": 33,
    "start_time": "2021-07-04T19:51:38.158Z"
   },
   {
    "duration": 847,
    "start_time": "2021-07-04T19:51:38.193Z"
   },
   {
    "duration": 512,
    "start_time": "2021-07-04T19:51:39.042Z"
   },
   {
    "duration": 18,
    "start_time": "2021-07-04T19:51:39.563Z"
   },
   {
    "duration": 729,
    "start_time": "2021-07-04T19:51:39.583Z"
   },
   {
    "duration": 14,
    "start_time": "2021-07-04T19:51:40.315Z"
   },
   {
    "duration": 5,
    "start_time": "2021-07-04T19:51:40.332Z"
   },
   {
    "duration": 2594,
    "start_time": "2021-07-04T19:51:40.339Z"
   },
   {
    "duration": 9,
    "start_time": "2021-07-04T19:51:42.936Z"
   },
   {
    "duration": 16,
    "start_time": "2021-07-04T19:51:42.962Z"
   },
   {
    "duration": 30,
    "start_time": "2021-07-04T19:51:42.980Z"
   },
   {
    "duration": 16,
    "start_time": "2021-07-04T19:51:43.012Z"
   },
   {
    "duration": 24,
    "start_time": "2021-07-04T19:51:43.062Z"
   },
   {
    "duration": 111,
    "start_time": "2021-07-04T19:51:43.089Z"
   },
   {
    "duration": 711,
    "start_time": "2021-07-04T19:51:43.203Z"
   },
   {
    "duration": 19,
    "start_time": "2021-07-04T19:51:43.917Z"
   },
   {
    "duration": 35,
    "start_time": "2021-07-04T19:51:43.939Z"
   },
   {
    "duration": 35,
    "start_time": "2021-07-04T19:51:43.977Z"
   },
   {
    "duration": 19,
    "start_time": "2021-07-04T19:51:44.014Z"
   },
   {
    "duration": 37,
    "start_time": "2021-07-04T19:51:44.036Z"
   },
   {
    "duration": 25,
    "start_time": "2021-07-04T19:51:44.076Z"
   },
   {
    "duration": 11,
    "start_time": "2021-07-04T19:51:44.104Z"
   },
   {
    "duration": 18,
    "start_time": "2021-07-04T19:51:44.118Z"
   },
   {
    "duration": 48,
    "start_time": "2021-07-04T19:51:44.139Z"
   },
   {
    "duration": 2208,
    "start_time": "2021-07-04T19:51:44.191Z"
   },
   {
    "duration": 10416,
    "start_time": "2021-07-04T19:51:46.402Z"
   },
   {
    "duration": 20,
    "start_time": "2021-07-04T19:51:56.821Z"
   },
   {
    "duration": 54,
    "start_time": "2021-07-04T19:51:56.865Z"
   },
   {
    "duration": 82,
    "start_time": "2021-07-04T19:51:56.922Z"
   },
   {
    "duration": 81,
    "start_time": "2021-07-04T19:51:57.006Z"
   },
   {
    "duration": 10,
    "start_time": "2021-07-04T19:51:57.090Z"
   },
   {
    "duration": 467,
    "start_time": "2021-07-04T19:51:57.103Z"
   },
   {
    "duration": 12,
    "start_time": "2021-07-04T19:53:01.725Z"
   },
   {
    "duration": 307,
    "start_time": "2021-07-04T19:53:04.064Z"
   },
   {
    "duration": 6,
    "start_time": "2021-07-04T19:53:42.732Z"
   },
   {
    "duration": 6,
    "start_time": "2021-07-04T19:53:47.052Z"
   },
   {
    "duration": 13,
    "start_time": "2021-07-04T19:58:52.390Z"
   },
   {
    "duration": 8,
    "start_time": "2021-07-04T19:59:17.651Z"
   },
   {
    "duration": 1134,
    "start_time": "2021-07-06T06:35:15.561Z"
   },
   {
    "duration": 57,
    "start_time": "2021-07-06T06:35:46.467Z"
   },
   {
    "duration": 279,
    "start_time": "2021-07-06T06:36:02.306Z"
   },
   {
    "duration": 143,
    "start_time": "2021-07-06T06:36:13.034Z"
   },
   {
    "duration": 16,
    "start_time": "2021-07-06T06:36:15.618Z"
   },
   {
    "duration": 17,
    "start_time": "2021-07-06T06:36:18.154Z"
   },
   {
    "duration": 16,
    "start_time": "2021-07-06T06:36:19.738Z"
   },
   {
    "duration": 179,
    "start_time": "2021-07-06T06:43:45.669Z"
   },
   {
    "duration": 12,
    "start_time": "2021-07-06T06:43:54.398Z"
   },
   {
    "duration": 181,
    "start_time": "2021-07-06T06:44:42.990Z"
   }
  ],
  "kernelspec": {
   "display_name": "Python 3",
   "language": "python",
   "name": "python3"
  },
  "language_info": {
   "codemirror_mode": {
    "name": "ipython",
    "version": 3
   },
   "file_extension": ".py",
   "mimetype": "text/x-python",
   "name": "python",
   "nbconvert_exporter": "python",
   "pygments_lexer": "ipython3",
   "version": "3.7.8"
  },
  "toc": {
   "base_numbering": 1,
   "nav_menu": {},
   "number_sections": true,
   "sideBar": true,
   "skip_h1_title": true,
   "title_cell": "Table of Contents",
   "title_sidebar": "Contents",
   "toc_cell": false,
   "toc_position": {},
   "toc_section_display": true,
   "toc_window_display": false
  }
 },
 "nbformat": 4,
 "nbformat_minor": 2
}
