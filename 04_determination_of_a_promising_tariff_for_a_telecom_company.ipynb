{
 "cells": [
  {
   "cell_type": "markdown",
   "metadata": {},
   "source": [
    "<div style=\"border:solid green 2px; padding: 20px\"> <h1 style=\"color:green; margin-bottom:20px\">Комментарий ревьюера v1</h1>\n",
    "\n",
    "Сергей привет! Меня зовут Дмитрий Пышненко, и я буду проверять твой проект. Предлагаю общаться на «ты» если ты не против 😊 Но если нет, то дай знать, и мы перейдем на \"вы\". \n",
    "    \n",
    "Для своих комментариев я буду использовать цветовую разметку:\n",
    "\n",
    "<div class=\"alert alert-success\">\n",
    "    <b>Успех:</b> все сделано правильно.\n",
    "</div>\n",
    "<div class=\"alert alert-warning\">\n",
    "    <b>Есть замечания:</b> так выделены небольшие замечания которые не критичны, но было бы здорово исправить. Если таких замечаний немного, то такой проект может быть принят.\n",
    "</div>\n",
    "<div class=\"alert alert-danger\">\n",
    "    <b>Нужно переделать:</b> есть замечания которые необходимо исправить или доделать для сдачи проекта.\n",
    "</div>\n",
    "    \n",
    "Я буду поддерживать версионность комментариев, и при следующих итерациях я буду оставлять ячейки с новой версией v2 (v3 и.т.д.)\"\n",
    "    \n",
    "Если у тебя есть вопросы, замечания или отвечаешь на комментарии — пиши об этом. Мне будет легче отследить изменения, если ты выделишь свои комментарии: \n",
    "<div class=\"alert alert-info\"> <b>Комментарий студента:</b> Например, вот так.</div>"
   ]
  },
  {
   "cell_type": "markdown",
   "metadata": {},
   "source": [
    "<div style=\"border:solid green 2px; padding: 20px\">\n",
    "<b>Комментарий ревьюера v1:</b>\n",
    "    \n",
    "<b>Общее впечатление:</b> \n",
    "    \n",
    "- У тебя получилась хорошая работа, поздравляю! Очень чистый код и структурированный подход к решению задачи. \n",
    "- Оставил несколько критических замечаний по ходу проекта которые необходимо исправить для сдачи проекта (буду также рад исправлениям желтых:):\n",
    "    - Проверить аномалии в данных и добавить аргументацию по их обработке.\n",
    "    - Поправить округление для веб-трафика.\n",
    "    - Проверить формулировку второй гипотезы.\n",
    "    \n",
    "Буду ждать новую версию на повторную проверку. Успехов!\n",
    "    \n",
    "</div>"
   ]
  },
  {
   "cell_type": "markdown",
   "metadata": {},
   "source": [
    "<div class=\"alert alert-info\"> <b>Комментарий студента:</b> Привет, Дмитрий! Благодарю за оценку проекта, сейчас поправлю замечания. </div>"
   ]
  },
  {
   "cell_type": "markdown",
   "metadata": {},
   "source": [
    "<div style=\"border:solid green 2px; padding: 20px\">\n",
    "<b>Комментарий ревьюера v2:</b>\n",
    "    \n",
    "Спасибо, что оперативно внес исправления! Оставил только дополнительные советы/рекомендации. Придраться теперь не к чему, а проект так и просится в портфолио на Гитхаб :) \n",
    "    \n",
    "Было интересно проверять твой проект и желаю успехов на следующих спринтах 🔥\n",
    "    \n",
    "</div>"
   ]
  },
  {
   "cell_type": "markdown",
   "metadata": {},
   "source": [
    "# Определение перспективного тарифа для телеком компании"
   ]
  },
  {
   "cell_type": "markdown",
   "metadata": {},
   "source": [
    "<div class=\"alert alert-warning\">\n",
    "<b>Комментарий ревьюера v1:</b>\n",
    "    \n",
    "Будет совсем хорошо выделить задачи и цель проекта отдельным абзацем. \n",
    "\n",
    "При создании портфолио на гитхабе данная информация может выступать в качестве Readme файла. Прочитать про создание README можно, например, тут https://medium.com/nuances-of-programming/как-написать-хороший-readme-краткий-курс-79aede120702\n",
    "</div>"
   ]
  },
  {
   "cell_type": "markdown",
   "metadata": {},
   "source": [
    "<div class=\"alert alert-info\"> <b>Комментарий студента:</b> Добавим описание пректа. Оно как раз содержит в себе задаци и цель проекта. </div>"
   ]
  },
  {
   "cell_type": "markdown",
   "metadata": {},
   "source": [
    "<div class=\"alert alert-success\">\n",
    "<b>Комментарий ревьюера v2:</b>\n",
    " \n",
    "Хорошо! Краткое вступление проекта теперь есть. \n",
    "</div>\n"
   ]
  },
  {
   "cell_type": "markdown",
   "metadata": {},
   "source": [
    "# Описание проекта\n",
    "Вы аналитик компании «Мегалайн» — федерального оператора сотовой связи. Клиентам предлагают два тарифных плана: «Смарт» и «Ультра». Чтобы скорректировать рекламный бюджет, коммерческий департамент хочет понять, какой тариф приносит больше денег.\n",
    "Вам предстоит сделать предварительный анализ тарифов на небольшой выборке клиентов. В вашем распоряжении данные 500 пользователей «Мегалайна»: кто они, откуда, каким тарифом пользуются, сколько звонков и сообщений каждый отправил за 2018 год. Нужно проанализировать поведение клиентов и сделать вывод — какой тариф лучше."
   ]
  },
  {
   "cell_type": "markdown",
   "metadata": {},
   "source": [
    "# Шаг 1. Откройте файл с данными и изучите общую информацию"
   ]
  },
  {
   "cell_type": "markdown",
   "metadata": {},
   "source": [
    "*Подгружаем библиотеки:*"
   ]
  },
  {
   "cell_type": "code",
   "execution_count": 1,
   "metadata": {},
   "outputs": [],
   "source": [
    "import pandas as pd\n",
    "import numpy as np\n",
    "from scipy import stats as st\n",
    "import matplotlib.pyplot as plt\n",
    "import seaborn as sns\n",
    "sns.set(color_codes=True)\n",
    "from functools import reduce"
   ]
  },
  {
   "cell_type": "markdown",
   "metadata": {},
   "source": [
    "*Читаем данные:*"
   ]
  },
  {
   "cell_type": "code",
   "execution_count": 2,
   "metadata": {},
   "outputs": [],
   "source": [
    "calls = pd.read_csv('https://code.s3.yandex.net/datasets/calls.csv')\n",
    "internet = pd.read_csv('https://code.s3.yandex.net/datasets/internet.csv')\n",
    "messages = pd.read_csv('https://code.s3.yandex.net/datasets/messages.csv')\n",
    "tariffs = pd.read_csv('https://code.s3.yandex.net/datasets/tariffs.csv')\n",
    "users = pd.read_csv('https://code.s3.yandex.net/datasets/users.csv')"
   ]
  },
  {
   "cell_type": "markdown",
   "metadata": {},
   "source": [
    "<div class=\"alert alert-success\">\n",
    "<b>Комментарий ревьюера v1:</b>\n",
    "    \n",
    "Отлично! Загрузка библиотек и данных сгруппированы. \n",
    "</div>\n"
   ]
  },
  {
   "cell_type": "markdown",
   "metadata": {},
   "source": [
    "*Проанализируем общую информацию по представленным данным:*"
   ]
  },
  {
   "cell_type": "code",
   "execution_count": 3,
   "metadata": {},
   "outputs": [
    {
     "name": "stdout",
     "output_type": "stream",
     "text": [
      "<class 'pandas.core.frame.DataFrame'>\n",
      "RangeIndex: 202607 entries, 0 to 202606\n",
      "Data columns (total 4 columns):\n",
      "id           202607 non-null object\n",
      "call_date    202607 non-null object\n",
      "duration     202607 non-null float64\n",
      "user_id      202607 non-null int64\n",
      "dtypes: float64(1), int64(1), object(2)\n",
      "memory usage: 6.2+ MB\n"
     ]
    }
   ],
   "source": [
    "calls.info()"
   ]
  },
  {
   "cell_type": "code",
   "execution_count": 4,
   "metadata": {},
   "outputs": [
    {
     "data": {
      "text/html": [
       "<div>\n",
       "<style scoped>\n",
       "    .dataframe tbody tr th:only-of-type {\n",
       "        vertical-align: middle;\n",
       "    }\n",
       "\n",
       "    .dataframe tbody tr th {\n",
       "        vertical-align: top;\n",
       "    }\n",
       "\n",
       "    .dataframe thead th {\n",
       "        text-align: right;\n",
       "    }\n",
       "</style>\n",
       "<table border=\"1\" class=\"dataframe\">\n",
       "  <thead>\n",
       "    <tr style=\"text-align: right;\">\n",
       "      <th></th>\n",
       "      <th>id</th>\n",
       "      <th>call_date</th>\n",
       "      <th>duration</th>\n",
       "      <th>user_id</th>\n",
       "    </tr>\n",
       "  </thead>\n",
       "  <tbody>\n",
       "    <tr>\n",
       "      <td>0</td>\n",
       "      <td>1000_0</td>\n",
       "      <td>2018-07-25</td>\n",
       "      <td>0.00</td>\n",
       "      <td>1000</td>\n",
       "    </tr>\n",
       "    <tr>\n",
       "      <td>1</td>\n",
       "      <td>1000_1</td>\n",
       "      <td>2018-08-17</td>\n",
       "      <td>0.00</td>\n",
       "      <td>1000</td>\n",
       "    </tr>\n",
       "    <tr>\n",
       "      <td>2</td>\n",
       "      <td>1000_2</td>\n",
       "      <td>2018-06-11</td>\n",
       "      <td>2.85</td>\n",
       "      <td>1000</td>\n",
       "    </tr>\n",
       "    <tr>\n",
       "      <td>3</td>\n",
       "      <td>1000_3</td>\n",
       "      <td>2018-09-21</td>\n",
       "      <td>13.80</td>\n",
       "      <td>1000</td>\n",
       "    </tr>\n",
       "    <tr>\n",
       "      <td>4</td>\n",
       "      <td>1000_4</td>\n",
       "      <td>2018-12-15</td>\n",
       "      <td>5.18</td>\n",
       "      <td>1000</td>\n",
       "    </tr>\n",
       "  </tbody>\n",
       "</table>\n",
       "</div>"
      ],
      "text/plain": [
       "       id   call_date  duration  user_id\n",
       "0  1000_0  2018-07-25      0.00     1000\n",
       "1  1000_1  2018-08-17      0.00     1000\n",
       "2  1000_2  2018-06-11      2.85     1000\n",
       "3  1000_3  2018-09-21     13.80     1000\n",
       "4  1000_4  2018-12-15      5.18     1000"
      ]
     },
     "execution_count": 4,
     "metadata": {},
     "output_type": "execute_result"
    }
   ],
   "source": [
    "calls.head()"
   ]
  },
  {
   "cell_type": "code",
   "execution_count": 5,
   "metadata": {},
   "outputs": [
    {
     "name": "stdout",
     "output_type": "stream",
     "text": [
      "<class 'pandas.core.frame.DataFrame'>\n",
      "RangeIndex: 149396 entries, 0 to 149395\n",
      "Data columns (total 5 columns):\n",
      "Unnamed: 0      149396 non-null int64\n",
      "id              149396 non-null object\n",
      "mb_used         149396 non-null float64\n",
      "session_date    149396 non-null object\n",
      "user_id         149396 non-null int64\n",
      "dtypes: float64(1), int64(2), object(2)\n",
      "memory usage: 5.7+ MB\n"
     ]
    }
   ],
   "source": [
    "internet.info()"
   ]
  },
  {
   "cell_type": "code",
   "execution_count": 6,
   "metadata": {},
   "outputs": [
    {
     "data": {
      "text/html": [
       "<div>\n",
       "<style scoped>\n",
       "    .dataframe tbody tr th:only-of-type {\n",
       "        vertical-align: middle;\n",
       "    }\n",
       "\n",
       "    .dataframe tbody tr th {\n",
       "        vertical-align: top;\n",
       "    }\n",
       "\n",
       "    .dataframe thead th {\n",
       "        text-align: right;\n",
       "    }\n",
       "</style>\n",
       "<table border=\"1\" class=\"dataframe\">\n",
       "  <thead>\n",
       "    <tr style=\"text-align: right;\">\n",
       "      <th></th>\n",
       "      <th>Unnamed: 0</th>\n",
       "      <th>id</th>\n",
       "      <th>mb_used</th>\n",
       "      <th>session_date</th>\n",
       "      <th>user_id</th>\n",
       "    </tr>\n",
       "  </thead>\n",
       "  <tbody>\n",
       "    <tr>\n",
       "      <td>0</td>\n",
       "      <td>0</td>\n",
       "      <td>1000_0</td>\n",
       "      <td>112.95</td>\n",
       "      <td>2018-11-25</td>\n",
       "      <td>1000</td>\n",
       "    </tr>\n",
       "    <tr>\n",
       "      <td>1</td>\n",
       "      <td>1</td>\n",
       "      <td>1000_1</td>\n",
       "      <td>1052.81</td>\n",
       "      <td>2018-09-07</td>\n",
       "      <td>1000</td>\n",
       "    </tr>\n",
       "    <tr>\n",
       "      <td>2</td>\n",
       "      <td>2</td>\n",
       "      <td>1000_2</td>\n",
       "      <td>1197.26</td>\n",
       "      <td>2018-06-25</td>\n",
       "      <td>1000</td>\n",
       "    </tr>\n",
       "    <tr>\n",
       "      <td>3</td>\n",
       "      <td>3</td>\n",
       "      <td>1000_3</td>\n",
       "      <td>550.27</td>\n",
       "      <td>2018-08-22</td>\n",
       "      <td>1000</td>\n",
       "    </tr>\n",
       "    <tr>\n",
       "      <td>4</td>\n",
       "      <td>4</td>\n",
       "      <td>1000_4</td>\n",
       "      <td>302.56</td>\n",
       "      <td>2018-09-24</td>\n",
       "      <td>1000</td>\n",
       "    </tr>\n",
       "  </tbody>\n",
       "</table>\n",
       "</div>"
      ],
      "text/plain": [
       "   Unnamed: 0      id  mb_used session_date  user_id\n",
       "0           0  1000_0   112.95   2018-11-25     1000\n",
       "1           1  1000_1  1052.81   2018-09-07     1000\n",
       "2           2  1000_2  1197.26   2018-06-25     1000\n",
       "3           3  1000_3   550.27   2018-08-22     1000\n",
       "4           4  1000_4   302.56   2018-09-24     1000"
      ]
     },
     "execution_count": 6,
     "metadata": {},
     "output_type": "execute_result"
    }
   ],
   "source": [
    "internet.head()"
   ]
  },
  {
   "cell_type": "code",
   "execution_count": 7,
   "metadata": {},
   "outputs": [
    {
     "name": "stdout",
     "output_type": "stream",
     "text": [
      "<class 'pandas.core.frame.DataFrame'>\n",
      "RangeIndex: 123036 entries, 0 to 123035\n",
      "Data columns (total 3 columns):\n",
      "id              123036 non-null object\n",
      "message_date    123036 non-null object\n",
      "user_id         123036 non-null int64\n",
      "dtypes: int64(1), object(2)\n",
      "memory usage: 2.8+ MB\n"
     ]
    }
   ],
   "source": [
    "messages.info()"
   ]
  },
  {
   "cell_type": "code",
   "execution_count": 8,
   "metadata": {},
   "outputs": [
    {
     "data": {
      "text/html": [
       "<div>\n",
       "<style scoped>\n",
       "    .dataframe tbody tr th:only-of-type {\n",
       "        vertical-align: middle;\n",
       "    }\n",
       "\n",
       "    .dataframe tbody tr th {\n",
       "        vertical-align: top;\n",
       "    }\n",
       "\n",
       "    .dataframe thead th {\n",
       "        text-align: right;\n",
       "    }\n",
       "</style>\n",
       "<table border=\"1\" class=\"dataframe\">\n",
       "  <thead>\n",
       "    <tr style=\"text-align: right;\">\n",
       "      <th></th>\n",
       "      <th>id</th>\n",
       "      <th>message_date</th>\n",
       "      <th>user_id</th>\n",
       "    </tr>\n",
       "  </thead>\n",
       "  <tbody>\n",
       "    <tr>\n",
       "      <td>0</td>\n",
       "      <td>1000_0</td>\n",
       "      <td>2018-06-27</td>\n",
       "      <td>1000</td>\n",
       "    </tr>\n",
       "    <tr>\n",
       "      <td>1</td>\n",
       "      <td>1000_1</td>\n",
       "      <td>2018-10-08</td>\n",
       "      <td>1000</td>\n",
       "    </tr>\n",
       "    <tr>\n",
       "      <td>2</td>\n",
       "      <td>1000_2</td>\n",
       "      <td>2018-08-04</td>\n",
       "      <td>1000</td>\n",
       "    </tr>\n",
       "    <tr>\n",
       "      <td>3</td>\n",
       "      <td>1000_3</td>\n",
       "      <td>2018-06-16</td>\n",
       "      <td>1000</td>\n",
       "    </tr>\n",
       "    <tr>\n",
       "      <td>4</td>\n",
       "      <td>1000_4</td>\n",
       "      <td>2018-12-05</td>\n",
       "      <td>1000</td>\n",
       "    </tr>\n",
       "  </tbody>\n",
       "</table>\n",
       "</div>"
      ],
      "text/plain": [
       "       id message_date  user_id\n",
       "0  1000_0   2018-06-27     1000\n",
       "1  1000_1   2018-10-08     1000\n",
       "2  1000_2   2018-08-04     1000\n",
       "3  1000_3   2018-06-16     1000\n",
       "4  1000_4   2018-12-05     1000"
      ]
     },
     "execution_count": 8,
     "metadata": {},
     "output_type": "execute_result"
    }
   ],
   "source": [
    "messages.head()"
   ]
  },
  {
   "cell_type": "code",
   "execution_count": 9,
   "metadata": {},
   "outputs": [
    {
     "name": "stdout",
     "output_type": "stream",
     "text": [
      "<class 'pandas.core.frame.DataFrame'>\n",
      "RangeIndex: 2 entries, 0 to 1\n",
      "Data columns (total 8 columns):\n",
      "messages_included        2 non-null int64\n",
      "mb_per_month_included    2 non-null int64\n",
      "minutes_included         2 non-null int64\n",
      "rub_monthly_fee          2 non-null int64\n",
      "rub_per_gb               2 non-null int64\n",
      "rub_per_message          2 non-null int64\n",
      "rub_per_minute           2 non-null int64\n",
      "tariff_name              2 non-null object\n",
      "dtypes: int64(7), object(1)\n",
      "memory usage: 256.0+ bytes\n"
     ]
    }
   ],
   "source": [
    "tariffs.info()"
   ]
  },
  {
   "cell_type": "code",
   "execution_count": 10,
   "metadata": {},
   "outputs": [
    {
     "data": {
      "text/html": [
       "<div>\n",
       "<style scoped>\n",
       "    .dataframe tbody tr th:only-of-type {\n",
       "        vertical-align: middle;\n",
       "    }\n",
       "\n",
       "    .dataframe tbody tr th {\n",
       "        vertical-align: top;\n",
       "    }\n",
       "\n",
       "    .dataframe thead th {\n",
       "        text-align: right;\n",
       "    }\n",
       "</style>\n",
       "<table border=\"1\" class=\"dataframe\">\n",
       "  <thead>\n",
       "    <tr style=\"text-align: right;\">\n",
       "      <th></th>\n",
       "      <th>messages_included</th>\n",
       "      <th>mb_per_month_included</th>\n",
       "      <th>minutes_included</th>\n",
       "      <th>rub_monthly_fee</th>\n",
       "      <th>rub_per_gb</th>\n",
       "      <th>rub_per_message</th>\n",
       "      <th>rub_per_minute</th>\n",
       "      <th>tariff_name</th>\n",
       "    </tr>\n",
       "  </thead>\n",
       "  <tbody>\n",
       "    <tr>\n",
       "      <td>0</td>\n",
       "      <td>50</td>\n",
       "      <td>15360</td>\n",
       "      <td>500</td>\n",
       "      <td>550</td>\n",
       "      <td>200</td>\n",
       "      <td>3</td>\n",
       "      <td>3</td>\n",
       "      <td>smart</td>\n",
       "    </tr>\n",
       "    <tr>\n",
       "      <td>1</td>\n",
       "      <td>1000</td>\n",
       "      <td>30720</td>\n",
       "      <td>3000</td>\n",
       "      <td>1950</td>\n",
       "      <td>150</td>\n",
       "      <td>1</td>\n",
       "      <td>1</td>\n",
       "      <td>ultra</td>\n",
       "    </tr>\n",
       "  </tbody>\n",
       "</table>\n",
       "</div>"
      ],
      "text/plain": [
       "   messages_included  mb_per_month_included  minutes_included  \\\n",
       "0                 50                  15360               500   \n",
       "1               1000                  30720              3000   \n",
       "\n",
       "   rub_monthly_fee  rub_per_gb  rub_per_message  rub_per_minute tariff_name  \n",
       "0              550         200                3               3       smart  \n",
       "1             1950         150                1               1       ultra  "
      ]
     },
     "execution_count": 10,
     "metadata": {},
     "output_type": "execute_result"
    }
   ],
   "source": [
    "tariffs.head()"
   ]
  },
  {
   "cell_type": "code",
   "execution_count": 11,
   "metadata": {},
   "outputs": [
    {
     "name": "stdout",
     "output_type": "stream",
     "text": [
      "<class 'pandas.core.frame.DataFrame'>\n",
      "RangeIndex: 500 entries, 0 to 499\n",
      "Data columns (total 8 columns):\n",
      "user_id       500 non-null int64\n",
      "age           500 non-null int64\n",
      "churn_date    38 non-null object\n",
      "city          500 non-null object\n",
      "first_name    500 non-null object\n",
      "last_name     500 non-null object\n",
      "reg_date      500 non-null object\n",
      "tariff        500 non-null object\n",
      "dtypes: int64(2), object(6)\n",
      "memory usage: 31.4+ KB\n"
     ]
    }
   ],
   "source": [
    "users.info()"
   ]
  },
  {
   "cell_type": "code",
   "execution_count": 12,
   "metadata": {},
   "outputs": [
    {
     "data": {
      "text/html": [
       "<div>\n",
       "<style scoped>\n",
       "    .dataframe tbody tr th:only-of-type {\n",
       "        vertical-align: middle;\n",
       "    }\n",
       "\n",
       "    .dataframe tbody tr th {\n",
       "        vertical-align: top;\n",
       "    }\n",
       "\n",
       "    .dataframe thead th {\n",
       "        text-align: right;\n",
       "    }\n",
       "</style>\n",
       "<table border=\"1\" class=\"dataframe\">\n",
       "  <thead>\n",
       "    <tr style=\"text-align: right;\">\n",
       "      <th></th>\n",
       "      <th>user_id</th>\n",
       "      <th>age</th>\n",
       "      <th>churn_date</th>\n",
       "      <th>city</th>\n",
       "      <th>first_name</th>\n",
       "      <th>last_name</th>\n",
       "      <th>reg_date</th>\n",
       "      <th>tariff</th>\n",
       "    </tr>\n",
       "  </thead>\n",
       "  <tbody>\n",
       "    <tr>\n",
       "      <td>0</td>\n",
       "      <td>1000</td>\n",
       "      <td>52</td>\n",
       "      <td>NaN</td>\n",
       "      <td>Краснодар</td>\n",
       "      <td>Рафаил</td>\n",
       "      <td>Верещагин</td>\n",
       "      <td>2018-05-25</td>\n",
       "      <td>ultra</td>\n",
       "    </tr>\n",
       "    <tr>\n",
       "      <td>1</td>\n",
       "      <td>1001</td>\n",
       "      <td>41</td>\n",
       "      <td>NaN</td>\n",
       "      <td>Москва</td>\n",
       "      <td>Иван</td>\n",
       "      <td>Ежов</td>\n",
       "      <td>2018-11-01</td>\n",
       "      <td>smart</td>\n",
       "    </tr>\n",
       "    <tr>\n",
       "      <td>2</td>\n",
       "      <td>1002</td>\n",
       "      <td>59</td>\n",
       "      <td>NaN</td>\n",
       "      <td>Стерлитамак</td>\n",
       "      <td>Евгений</td>\n",
       "      <td>Абрамович</td>\n",
       "      <td>2018-06-17</td>\n",
       "      <td>smart</td>\n",
       "    </tr>\n",
       "    <tr>\n",
       "      <td>3</td>\n",
       "      <td>1003</td>\n",
       "      <td>23</td>\n",
       "      <td>NaN</td>\n",
       "      <td>Москва</td>\n",
       "      <td>Белла</td>\n",
       "      <td>Белякова</td>\n",
       "      <td>2018-08-17</td>\n",
       "      <td>ultra</td>\n",
       "    </tr>\n",
       "    <tr>\n",
       "      <td>4</td>\n",
       "      <td>1004</td>\n",
       "      <td>68</td>\n",
       "      <td>NaN</td>\n",
       "      <td>Новокузнецк</td>\n",
       "      <td>Татьяна</td>\n",
       "      <td>Авдеенко</td>\n",
       "      <td>2018-05-14</td>\n",
       "      <td>ultra</td>\n",
       "    </tr>\n",
       "  </tbody>\n",
       "</table>\n",
       "</div>"
      ],
      "text/plain": [
       "   user_id  age churn_date         city first_name  last_name    reg_date  \\\n",
       "0     1000   52        NaN    Краснодар     Рафаил  Верещагин  2018-05-25   \n",
       "1     1001   41        NaN       Москва       Иван       Ежов  2018-11-01   \n",
       "2     1002   59        NaN  Стерлитамак    Евгений  Абрамович  2018-06-17   \n",
       "3     1003   23        NaN       Москва      Белла   Белякова  2018-08-17   \n",
       "4     1004   68        NaN  Новокузнецк    Татьяна   Авдеенко  2018-05-14   \n",
       "\n",
       "  tariff  \n",
       "0  ultra  \n",
       "1  smart  \n",
       "2  smart  \n",
       "3  ultra  \n",
       "4  ultra  "
      ]
     },
     "execution_count": 12,
     "metadata": {},
     "output_type": "execute_result"
    }
   ],
   "source": [
    "users.head()"
   ]
  },
  {
   "cell_type": "markdown",
   "metadata": {},
   "source": [
    "*Итог: Выборка содержит данные по 500 клиентам. В таблицах необходимо заменить тип данных у столбцов с датой и временем и округлить значения минут разговора и мегабайт использованного трафика в большую сторону, согласно условию проекта.*"
   ]
  },
  {
   "cell_type": "markdown",
   "metadata": {},
   "source": [
    "<div class=\"alert alert-success\">\n",
    "<b>Комментарий ревьюера v1:</b>\n",
    "    \n",
    "Хорошо, первый взгляд на данные есть.\n",
    "</div>"
   ]
  },
  {
   "cell_type": "markdown",
   "metadata": {},
   "source": [
    "# Шаг 2. Подготовьте данные"
   ]
  },
  {
   "cell_type": "markdown",
   "metadata": {},
   "source": [
    "*Для начала заменим все столбцы с датами на формат даты:*"
   ]
  },
  {
   "cell_type": "code",
   "execution_count": 13,
   "metadata": {},
   "outputs": [],
   "source": [
    "calls['call_date'] = pd.to_datetime(calls['call_date'], format = '%Y-%m-%d')"
   ]
  },
  {
   "cell_type": "code",
   "execution_count": 14,
   "metadata": {},
   "outputs": [],
   "source": [
    "internet['session_date'] = pd.to_datetime(internet['session_date'], format = '%Y-%m-%d')"
   ]
  },
  {
   "cell_type": "code",
   "execution_count": 15,
   "metadata": {},
   "outputs": [],
   "source": [
    "messages['message_date'] = pd.to_datetime(messages['message_date'], format = '%Y-%m-%d')"
   ]
  },
  {
   "cell_type": "code",
   "execution_count": 16,
   "metadata": {},
   "outputs": [],
   "source": [
    "users['reg_date'] = pd.to_datetime(users['reg_date'], format = '%Y-%m-%d')"
   ]
  },
  {
   "cell_type": "code",
   "execution_count": 17,
   "metadata": {},
   "outputs": [],
   "source": [
    "users['churn_date'] = pd.to_datetime(users['churn_date'], format = '%Y-%m-%d')"
   ]
  },
  {
   "cell_type": "markdown",
   "metadata": {},
   "source": [
    "*Округлим значения длительности разговоров до минут:*"
   ]
  },
  {
   "cell_type": "code",
   "execution_count": 18,
   "metadata": {},
   "outputs": [],
   "source": [
    "calls['duration'] = calls['duration'].apply(np.ceil)"
   ]
  },
  {
   "cell_type": "markdown",
   "metadata": {},
   "source": [
    "<div class=\"alert alert-success\">\n",
    "<b>Комментарий ревьюера v1:</b>\n",
    "    \n",
    "Супер, что использовал функцию np.ceil(). Она, кстати, также работает без apply (короче код/быстрее).\n",
    "\n",
    "```\n",
    "calls['duration'] = np.ceil(calls['duration'])\n",
    "```\n",
    "</div>"
   ]
  },
  {
   "cell_type": "markdown",
   "metadata": {},
   "source": [
    "> <div class=\"alert alert-info\"> <b>Комментарий студента:</b> Благодарю за информацию, буду признателен за примеры подобных упрощений. </div>"
   ]
  },
  {
   "cell_type": "markdown",
   "metadata": {},
   "source": [
    "*Округлим значения по трафику:*"
   ]
  },
  {
   "cell_type": "code",
   "execution_count": 19,
   "metadata": {},
   "outputs": [],
   "source": [
    "#internet['mb_used'] = internet['mb_used'].apply(np.ceil)"
   ]
  },
  {
   "cell_type": "markdown",
   "metadata": {},
   "source": [
    "> <div class=\"alert alert-info\"> <b>Комментарий студента:</b> Закомментируем предыдущую строку </div>"
   ]
  },
  {
   "cell_type": "markdown",
   "metadata": {},
   "source": [
    "<div class=\"alert alert-danger\">\n",
    "<b>Комментарий ревьюера v1:</b>\n",
    "    \n",
    "Обрати,  внимание, что дляя веб-трафика отдельные сессии не считаются и не округляются в большую сторону.\n",
    "\n",
    "```\n",
    "Из задания:\n",
    "Для веб-трафика отдельные сессии не считаются. Вместо этого общая сумма за месяц округляется в бо́льшую сторону. Если абонент использует 1025 мегабайт в этом месяце, с него возьмут плату за 2 гигабайта.\n",
    "```\n",
    "\n",
    "Добавь пожалуйста округление уже после группировки для веб-трафика.\n",
    "</div>"
   ]
  },
  {
   "cell_type": "markdown",
   "metadata": {},
   "source": [
    "> <div class=\"alert alert-info\"> <b>Комментарий студента:</b> Да, спасибо. Здесь я поторопился с округлениями)</div>"
   ]
  },
  {
   "cell_type": "markdown",
   "metadata": {},
   "source": [
    "*Создадим дополнительные столбцы с номером месяца:*"
   ]
  },
  {
   "cell_type": "code",
   "execution_count": 20,
   "metadata": {},
   "outputs": [],
   "source": [
    "calls['month'] = calls['call_date'].dt.month"
   ]
  },
  {
   "cell_type": "code",
   "execution_count": 21,
   "metadata": {},
   "outputs": [],
   "source": [
    "internet['month'] = internet['session_date'].dt.month"
   ]
  },
  {
   "cell_type": "code",
   "execution_count": 22,
   "metadata": {},
   "outputs": [],
   "source": [
    "messages['month'] = messages['message_date'].dt.month"
   ]
  },
  {
   "cell_type": "markdown",
   "metadata": {},
   "source": [
    "<div class=\"alert alert-danger\">\n",
    "<b>Комментарий ревьюера v1:</b>\n",
    "    \n",
    "Перепроверь, пожалуйста данные для трафика и звонков - есть ли в них какие либо аномалии (нулевые значения, например). Очень полезно всегда проверять численные данные на их адекватность. Иногда это бывает сложно из-за большого количества данных, но после у нас есть представление о том с чем придется работать или какие проблемы есть в данных. Пожалуйста, проанализируй эти данные дополнительно, сделай вывод отчего-почему и реши, что с ними делать. Проверить эти данные можно легко - построить гистрограммы, например.\n",
    "</div>"
   ]
  },
  {
   "cell_type": "markdown",
   "metadata": {},
   "source": [
    "> <div class=\"alert alert-info\"> <b>Комментарий студента:</b> Перепроверим, данные для звонков и трафика - есть ли в них какие либо аномалии:</div>"
   ]
  },
  {
   "cell_type": "code",
   "execution_count": 23,
   "metadata": {},
   "outputs": [
    {
     "data": {
      "text/html": [
       "<div>\n",
       "<style scoped>\n",
       "    .dataframe tbody tr th:only-of-type {\n",
       "        vertical-align: middle;\n",
       "    }\n",
       "\n",
       "    .dataframe tbody tr th {\n",
       "        vertical-align: top;\n",
       "    }\n",
       "\n",
       "    .dataframe thead th {\n",
       "        text-align: right;\n",
       "    }\n",
       "</style>\n",
       "<table border=\"1\" class=\"dataframe\">\n",
       "  <thead>\n",
       "    <tr style=\"text-align: right;\">\n",
       "      <th></th>\n",
       "      <th></th>\n",
       "      <th>count</th>\n",
       "      <th>sum</th>\n",
       "    </tr>\n",
       "    <tr>\n",
       "      <th>user_id</th>\n",
       "      <th>month</th>\n",
       "      <th></th>\n",
       "      <th></th>\n",
       "    </tr>\n",
       "  </thead>\n",
       "  <tbody>\n",
       "    <tr>\n",
       "      <td rowspan=\"5\" valign=\"top\">1000</td>\n",
       "      <td>5</td>\n",
       "      <td>5</td>\n",
       "      <td>0.0</td>\n",
       "    </tr>\n",
       "    <tr>\n",
       "      <td>6</td>\n",
       "      <td>15</td>\n",
       "      <td>0.0</td>\n",
       "    </tr>\n",
       "    <tr>\n",
       "      <td>7</td>\n",
       "      <td>6</td>\n",
       "      <td>0.0</td>\n",
       "    </tr>\n",
       "    <tr>\n",
       "      <td>8</td>\n",
       "      <td>10</td>\n",
       "      <td>0.0</td>\n",
       "    </tr>\n",
       "    <tr>\n",
       "      <td>9</td>\n",
       "      <td>12</td>\n",
       "      <td>0.0</td>\n",
       "    </tr>\n",
       "    <tr>\n",
       "      <td>...</td>\n",
       "      <td>...</td>\n",
       "      <td>...</td>\n",
       "      <td>...</td>\n",
       "    </tr>\n",
       "    <tr>\n",
       "      <td>1498</td>\n",
       "      <td>10</td>\n",
       "      <td>11</td>\n",
       "      <td>0.0</td>\n",
       "    </tr>\n",
       "    <tr>\n",
       "      <td rowspan=\"4\" valign=\"top\">1499</td>\n",
       "      <td>9</td>\n",
       "      <td>1</td>\n",
       "      <td>0.0</td>\n",
       "    </tr>\n",
       "    <tr>\n",
       "      <td>10</td>\n",
       "      <td>24</td>\n",
       "      <td>0.0</td>\n",
       "    </tr>\n",
       "    <tr>\n",
       "      <td>11</td>\n",
       "      <td>12</td>\n",
       "      <td>0.0</td>\n",
       "    </tr>\n",
       "    <tr>\n",
       "      <td>12</td>\n",
       "      <td>13</td>\n",
       "      <td>0.0</td>\n",
       "    </tr>\n",
       "  </tbody>\n",
       "</table>\n",
       "<p>3119 rows × 2 columns</p>\n",
       "</div>"
      ],
      "text/plain": [
       "               count  sum\n",
       "user_id month            \n",
       "1000    5          5  0.0\n",
       "        6         15  0.0\n",
       "        7          6  0.0\n",
       "        8         10  0.0\n",
       "        9         12  0.0\n",
       "...              ...  ...\n",
       "1498    10        11  0.0\n",
       "1499    9          1  0.0\n",
       "        10        24  0.0\n",
       "        11        12  0.0\n",
       "        12        13  0.0\n",
       "\n",
       "[3119 rows x 2 columns]"
      ]
     },
     "execution_count": 23,
     "metadata": {},
     "output_type": "execute_result"
    }
   ],
   "source": [
    "calls.query('duration == 0').groupby(['user_id','month'])['duration'].agg(['count','sum'])"
   ]
  },
  {
   "cell_type": "code",
   "execution_count": 24,
   "metadata": {},
   "outputs": [
    {
     "data": {
      "text/plain": [
       "39613"
      ]
     },
     "execution_count": 24,
     "metadata": {},
     "output_type": "execute_result"
    }
   ],
   "source": [
    "calls.loc[calls['duration'] == 0]['duration'].count()"
   ]
  },
  {
   "cell_type": "code",
   "execution_count": 25,
   "metadata": {},
   "outputs": [
    {
     "name": "stderr",
     "output_type": "stream",
     "text": [
      "/home/jovyan/.local/lib/python3.7/site-packages/seaborn/distributions.py:2557: FutureWarning: `distplot` is a deprecated function and will be removed in a future version. Please adapt your code to use either `displot` (a figure-level function with similar flexibility) or `histplot` (an axes-level function for histograms).\n",
      "  warnings.warn(msg, FutureWarning)\n"
     ]
    },
    {
     "data": {
      "text/plain": [
       "Text(0, 0.5, 'Count')"
      ]
     },
     "execution_count": 25,
     "metadata": {},
     "output_type": "execute_result"
    },
    {
     "data": {
      "image/png": "[encoded data removed]",
      "text/plain": [
       "<Figure size 432x288 with 1 Axes>"
      ]
     },
     "metadata": {},
     "output_type": "display_data"
    }
   ],
   "source": [
    "sns.distplot(calls['duration'], kde=False)\n",
    "plt.ylabel('Count')"
   ]
  },
  {
   "cell_type": "markdown",
   "metadata": {},
   "source": [
    "<div class=\"alert alert-info\"> <b>Комментарий студента:</b> Данные по звонкам с продолжительностью равной нулю вполне вероятно возникли из-за того, что вызываемый абонет не принял вызов. Таких звонков практически 40 000. Звонки с нулевой длительностью на стоимость звонков не влияют, за них оператор деньги не берет. Далее ещё уточню - нулевые значения могут уменьшать средние значения.</div>"
   ]
  },
  {
   "cell_type": "code",
   "execution_count": 26,
   "metadata": {},
   "outputs": [
    {
     "data": {
      "text/html": [
       "<div>\n",
       "<style scoped>\n",
       "    .dataframe tbody tr th:only-of-type {\n",
       "        vertical-align: middle;\n",
       "    }\n",
       "\n",
       "    .dataframe tbody tr th {\n",
       "        vertical-align: top;\n",
       "    }\n",
       "\n",
       "    .dataframe thead th {\n",
       "        text-align: right;\n",
       "    }\n",
       "</style>\n",
       "<table border=\"1\" class=\"dataframe\">\n",
       "  <thead>\n",
       "    <tr style=\"text-align: right;\">\n",
       "      <th></th>\n",
       "      <th></th>\n",
       "      <th>count</th>\n",
       "      <th>sum</th>\n",
       "    </tr>\n",
       "    <tr>\n",
       "      <th>user_id</th>\n",
       "      <th>month</th>\n",
       "      <th></th>\n",
       "      <th></th>\n",
       "    </tr>\n",
       "  </thead>\n",
       "  <tbody>\n",
       "    <tr>\n",
       "      <td rowspan=\"5\" valign=\"top\">1000</td>\n",
       "      <td>5</td>\n",
       "      <td>1</td>\n",
       "      <td>0.0</td>\n",
       "    </tr>\n",
       "    <tr>\n",
       "      <td>6</td>\n",
       "      <td>5</td>\n",
       "      <td>0.0</td>\n",
       "    </tr>\n",
       "    <tr>\n",
       "      <td>7</td>\n",
       "      <td>1</td>\n",
       "      <td>0.0</td>\n",
       "    </tr>\n",
       "    <tr>\n",
       "      <td>8</td>\n",
       "      <td>2</td>\n",
       "      <td>0.0</td>\n",
       "    </tr>\n",
       "    <tr>\n",
       "      <td>9</td>\n",
       "      <td>2</td>\n",
       "      <td>0.0</td>\n",
       "    </tr>\n",
       "    <tr>\n",
       "      <td>...</td>\n",
       "      <td>...</td>\n",
       "      <td>...</td>\n",
       "      <td>...</td>\n",
       "    </tr>\n",
       "    <tr>\n",
       "      <td>1498</td>\n",
       "      <td>10</td>\n",
       "      <td>10</td>\n",
       "      <td>0.0</td>\n",
       "    </tr>\n",
       "    <tr>\n",
       "      <td rowspan=\"4\" valign=\"top\">1499</td>\n",
       "      <td>9</td>\n",
       "      <td>1</td>\n",
       "      <td>0.0</td>\n",
       "    </tr>\n",
       "    <tr>\n",
       "      <td>10</td>\n",
       "      <td>15</td>\n",
       "      <td>0.0</td>\n",
       "    </tr>\n",
       "    <tr>\n",
       "      <td>11</td>\n",
       "      <td>10</td>\n",
       "      <td>0.0</td>\n",
       "    </tr>\n",
       "    <tr>\n",
       "      <td>12</td>\n",
       "      <td>5</td>\n",
       "      <td>0.0</td>\n",
       "    </tr>\n",
       "  </tbody>\n",
       "</table>\n",
       "<p>2952 rows × 2 columns</p>\n",
       "</div>"
      ],
      "text/plain": [
       "               count  sum\n",
       "user_id month            \n",
       "1000    5          1  0.0\n",
       "        6          5  0.0\n",
       "        7          1  0.0\n",
       "        8          2  0.0\n",
       "        9          2  0.0\n",
       "...              ...  ...\n",
       "1498    10        10  0.0\n",
       "1499    9          1  0.0\n",
       "        10        15  0.0\n",
       "        11        10  0.0\n",
       "        12         5  0.0\n",
       "\n",
       "[2952 rows x 2 columns]"
      ]
     },
     "execution_count": 26,
     "metadata": {},
     "output_type": "execute_result"
    }
   ],
   "source": [
    "internet.query('mb_used == 0').groupby(['user_id','month'])['mb_used'].agg(['count','sum'])"
   ]
  },
  {
   "cell_type": "code",
   "execution_count": 27,
   "metadata": {},
   "outputs": [
    {
     "data": {
      "text/plain": [
       "Text(0, 0.5, 'Count')"
      ]
     },
     "execution_count": 27,
     "metadata": {},
     "output_type": "execute_result"
    },
    {
     "data": {
      "image/png": "[encoded data removed]",
      "text/plain": [
       "<Figure size 432x288 with 1 Axes>"
      ]
     },
     "metadata": {},
     "output_type": "display_data"
    }
   ],
   "source": [
    "sns.distplot(internet['mb_used'], kde=False)\n",
    "plt.ylabel('Count')"
   ]
  },
  {
   "cell_type": "code",
   "execution_count": 28,
   "metadata": {},
   "outputs": [
    {
     "data": {
      "text/plain": [
       "19598"
      ]
     },
     "execution_count": 28,
     "metadata": {},
     "output_type": "execute_result"
    }
   ],
   "source": [
    "internet.loc[internet['mb_used'] == 0]['mb_used'].count()"
   ]
  },
  {
   "cell_type": "markdown",
   "metadata": {},
   "source": [
    "<div class=\"alert alert-info\"> <b>Комментарий студента:</b> Отдельные интернет сеесии с нулевым трафиком вполне вероятно возникли тогда, когда были сбои при установлении интернет соединения. Таких не состоявшихся сессий около 20 000 .Интернет трафик с нулевым знечением Мб на стоимость интернет соединения не влияют, за них оператор деньги не берет. Далее ещё уточню - нулевые значения могут уменьшать средние значения. По аналогии со звонками.</div>"
   ]
  },
  {
   "cell_type": "markdown",
   "metadata": {},
   "source": [
    "<div class=\"alert alert-success\">\n",
    "<b>Комментарий ревьюера v2:</b>\n",
    " \n",
    "С округлением и нулями также разобрались!\n",
    "</div>\n"
   ]
  },
  {
   "cell_type": "markdown",
   "metadata": {},
   "source": [
    "**Посчитаем для каждого пользователя:**"
   ]
  },
  {
   "cell_type": "markdown",
   "metadata": {},
   "source": [
    "* количество сделанных звонков и израсходованных минут разговора по месяца:"
   ]
  },
  {
   "cell_type": "markdown",
   "metadata": {},
   "source": [
    "> Для исключения дубликатов при создании сводной таблицы создадим уникальный код из имени и населенного пункта:"
   ]
  },
  {
   "cell_type": "code",
   "execution_count": 29,
   "metadata": {},
   "outputs": [],
   "source": [
    "users['unique_name'] = users['city'] + users['first_name'] + users['last_name'] "
   ]
  },
  {
   "cell_type": "code",
   "execution_count": 30,
   "metadata": {},
   "outputs": [],
   "source": [
    "calls_temp = calls.merge(users, on='user_id', how='inner')\n",
    "calls_grouped = calls_temp.pivot_table(values=['unique_name', 'duration'], \n",
    "                                       index=['user_id', 'month'], \n",
    "                                       aggfunc={'unique_name': 'count', 'duration': 'sum'})\n",
    "calls_grouped.columns = ['duration', 'calls']"
   ]
  },
  {
   "cell_type": "markdown",
   "metadata": {},
   "source": [
    "* количество отправленных сообщений по месяцам:"
   ]
  },
  {
   "cell_type": "code",
   "execution_count": 31,
   "metadata": {},
   "outputs": [],
   "source": [
    "messages['month'] = messages['message_date'].dt.month\n",
    "messages_temp = messages.merge(users, on='user_id', how='inner')\n",
    "messages_grouped = messages_temp.pivot_table(values='unique_name', \n",
    "                       index=['user_id', 'month'], \n",
    "                       aggfunc={'unique_name': 'count'})\n",
    "messages_grouped.columns = ['messages']"
   ]
  },
  {
   "cell_type": "markdown",
   "metadata": {},
   "source": [
    "* объем израсходованного интернет-трафика по месяцам:\n"
   ]
  },
  {
   "cell_type": "code",
   "execution_count": 32,
   "metadata": {},
   "outputs": [],
   "source": [
    "internet['month'] = internet['session_date'].dt.month\n",
    "internet_temp = internet.merge(users, on='user_id', how='inner')\n",
    "internet_grouped = internet_temp.pivot_table(values='mb_used', \n",
    "                       index=['user_id', 'month'], \n",
    "                       aggfunc={'mb_used': 'sum'})\n",
    "internet_grouped.columns = ['mb_used']"
   ]
  },
  {
   "cell_type": "markdown",
   "metadata": {},
   "source": [
    "<div class=\"alert alert-info\"> <b>Комментарий студента:</b> Округлим значения интернет трафика.</div>"
   ]
  },
  {
   "cell_type": "code",
   "execution_count": 33,
   "metadata": {},
   "outputs": [],
   "source": [
    "internet_grouped['mb_used'] = np.ceil(internet_grouped['mb_used'])"
   ]
  },
  {
   "cell_type": "markdown",
   "metadata": {},
   "source": [
    "*Объединим полученные таблицы вместе:*"
   ]
  },
  {
   "cell_type": "code",
   "execution_count": 34,
   "metadata": {},
   "outputs": [],
   "source": [
    "dfs = [calls_grouped, messages_grouped, internet_grouped]\n",
    "grouped_data = reduce(lambda left,right: pd.merge(left,right,on=['user_id', 'month'], how='outer'), dfs)"
   ]
  },
  {
   "cell_type": "markdown",
   "metadata": {},
   "source": [
    "<div class=\"alert alert-success\">\n",
    "<b>Комментарий ревьюера v1:</b>\n",
    "    \n",
    "Здорово. how='outer' здесь подходит, чтобы не потерять данныe.\n",
    "</div>"
   ]
  },
  {
   "cell_type": "code",
   "execution_count": 35,
   "metadata": {},
   "outputs": [
    {
     "data": {
      "text/html": [
       "<div>\n",
       "<style scoped>\n",
       "    .dataframe tbody tr th:only-of-type {\n",
       "        vertical-align: middle;\n",
       "    }\n",
       "\n",
       "    .dataframe tbody tr th {\n",
       "        vertical-align: top;\n",
       "    }\n",
       "\n",
       "    .dataframe thead th {\n",
       "        text-align: right;\n",
       "    }\n",
       "</style>\n",
       "<table border=\"1\" class=\"dataframe\">\n",
       "  <thead>\n",
       "    <tr style=\"text-align: right;\">\n",
       "      <th></th>\n",
       "      <th></th>\n",
       "      <th>duration</th>\n",
       "      <th>calls</th>\n",
       "      <th>messages</th>\n",
       "      <th>mb_used</th>\n",
       "    </tr>\n",
       "    <tr>\n",
       "      <th>user_id</th>\n",
       "      <th>month</th>\n",
       "      <th></th>\n",
       "      <th></th>\n",
       "      <th></th>\n",
       "      <th></th>\n",
       "    </tr>\n",
       "  </thead>\n",
       "  <tbody>\n",
       "    <tr>\n",
       "      <td rowspan=\"8\" valign=\"top\">1000</td>\n",
       "      <td>5</td>\n",
       "      <td>159.0</td>\n",
       "      <td>22.0</td>\n",
       "      <td>22.0</td>\n",
       "      <td>2254.0</td>\n",
       "    </tr>\n",
       "    <tr>\n",
       "      <td>6</td>\n",
       "      <td>172.0</td>\n",
       "      <td>43.0</td>\n",
       "      <td>60.0</td>\n",
       "      <td>23234.0</td>\n",
       "    </tr>\n",
       "    <tr>\n",
       "      <td>7</td>\n",
       "      <td>340.0</td>\n",
       "      <td>47.0</td>\n",
       "      <td>75.0</td>\n",
       "      <td>14004.0</td>\n",
       "    </tr>\n",
       "    <tr>\n",
       "      <td>8</td>\n",
       "      <td>408.0</td>\n",
       "      <td>52.0</td>\n",
       "      <td>81.0</td>\n",
       "      <td>14056.0</td>\n",
       "    </tr>\n",
       "    <tr>\n",
       "      <td>9</td>\n",
       "      <td>466.0</td>\n",
       "      <td>58.0</td>\n",
       "      <td>57.0</td>\n",
       "      <td>14569.0</td>\n",
       "    </tr>\n",
       "    <tr>\n",
       "      <td>10</td>\n",
       "      <td>350.0</td>\n",
       "      <td>57.0</td>\n",
       "      <td>73.0</td>\n",
       "      <td>14703.0</td>\n",
       "    </tr>\n",
       "    <tr>\n",
       "      <td>11</td>\n",
       "      <td>338.0</td>\n",
       "      <td>43.0</td>\n",
       "      <td>58.0</td>\n",
       "      <td>14757.0</td>\n",
       "    </tr>\n",
       "    <tr>\n",
       "      <td>12</td>\n",
       "      <td>333.0</td>\n",
       "      <td>46.0</td>\n",
       "      <td>70.0</td>\n",
       "      <td>9818.0</td>\n",
       "    </tr>\n",
       "    <tr>\n",
       "      <td rowspan=\"2\" valign=\"top\">1001</td>\n",
       "      <td>11</td>\n",
       "      <td>430.0</td>\n",
       "      <td>59.0</td>\n",
       "      <td>NaN</td>\n",
       "      <td>18430.0</td>\n",
       "    </tr>\n",
       "    <tr>\n",
       "      <td>12</td>\n",
       "      <td>414.0</td>\n",
       "      <td>63.0</td>\n",
       "      <td>NaN</td>\n",
       "      <td>14037.0</td>\n",
       "    </tr>\n",
       "  </tbody>\n",
       "</table>\n",
       "</div>"
      ],
      "text/plain": [
       "               duration  calls  messages  mb_used\n",
       "user_id month                                    \n",
       "1000    5         159.0   22.0      22.0   2254.0\n",
       "        6         172.0   43.0      60.0  23234.0\n",
       "        7         340.0   47.0      75.0  14004.0\n",
       "        8         408.0   52.0      81.0  14056.0\n",
       "        9         466.0   58.0      57.0  14569.0\n",
       "        10        350.0   57.0      73.0  14703.0\n",
       "        11        338.0   43.0      58.0  14757.0\n",
       "        12        333.0   46.0      70.0   9818.0\n",
       "1001    11        430.0   59.0       NaN  18430.0\n",
       "        12        414.0   63.0       NaN  14037.0"
      ]
     },
     "execution_count": 35,
     "metadata": {},
     "output_type": "execute_result"
    }
   ],
   "source": [
    "grouped_data.head(10)"
   ]
  },
  {
   "cell_type": "markdown",
   "metadata": {},
   "source": [
    "*После объединения таблиц видим отсутсвующие значения. Сделаем прежположения, что указанным видом услуг в указанное время абонент не пользовался - заменим NaN на \"0\"*"
   ]
  },
  {
   "cell_type": "code",
   "execution_count": 36,
   "metadata": {},
   "outputs": [],
   "source": [
    "grouped_data.loc[grouped_data['duration'].isna(), 'duration'] = 0\n",
    "grouped_data.loc[grouped_data['messages'].isna(), 'messages'] = 0\n",
    "grouped_data.loc[grouped_data['mb_used'].isna(), 'mb_used'] = 0"
   ]
  },
  {
   "cell_type": "markdown",
   "metadata": {},
   "source": [
    "<div class=\"alert alert-success\">\n",
    "<b>Комментарий ревьюера v1:</b>\n",
    "    \n",
    "Здесь все верно, но можно также обнулить NaN значения для количества звонков.\n",
    "</div>"
   ]
  },
  {
   "cell_type": "markdown",
   "metadata": {},
   "source": [
    "*Добавим в таблицу данные по используемому тарифу для каждого `user_id`:*"
   ]
  },
  {
   "cell_type": "code",
   "execution_count": 37,
   "metadata": {},
   "outputs": [],
   "source": [
    "for user in grouped_data.index:\n",
    "    grouped_data.loc[user, 'tariff'] = users.loc[user[0]-1000, 'tariff']"
   ]
  },
  {
   "cell_type": "code",
   "execution_count": 38,
   "metadata": {
    "scrolled": false
   },
   "outputs": [
    {
     "data": {
      "text/html": [
       "<div>\n",
       "<style scoped>\n",
       "    .dataframe tbody tr th:only-of-type {\n",
       "        vertical-align: middle;\n",
       "    }\n",
       "\n",
       "    .dataframe tbody tr th {\n",
       "        vertical-align: top;\n",
       "    }\n",
       "\n",
       "    .dataframe thead th {\n",
       "        text-align: right;\n",
       "    }\n",
       "</style>\n",
       "<table border=\"1\" class=\"dataframe\">\n",
       "  <thead>\n",
       "    <tr style=\"text-align: right;\">\n",
       "      <th></th>\n",
       "      <th></th>\n",
       "      <th>duration</th>\n",
       "      <th>calls</th>\n",
       "      <th>messages</th>\n",
       "      <th>mb_used</th>\n",
       "      <th>tariff</th>\n",
       "    </tr>\n",
       "    <tr>\n",
       "      <th>user_id</th>\n",
       "      <th>month</th>\n",
       "      <th></th>\n",
       "      <th></th>\n",
       "      <th></th>\n",
       "      <th></th>\n",
       "      <th></th>\n",
       "    </tr>\n",
       "  </thead>\n",
       "  <tbody>\n",
       "    <tr>\n",
       "      <td rowspan=\"5\" valign=\"top\">1000</td>\n",
       "      <td>5</td>\n",
       "      <td>159.0</td>\n",
       "      <td>22.0</td>\n",
       "      <td>22.0</td>\n",
       "      <td>2254.0</td>\n",
       "      <td>ultra</td>\n",
       "    </tr>\n",
       "    <tr>\n",
       "      <td>6</td>\n",
       "      <td>172.0</td>\n",
       "      <td>43.0</td>\n",
       "      <td>60.0</td>\n",
       "      <td>23234.0</td>\n",
       "      <td>ultra</td>\n",
       "    </tr>\n",
       "    <tr>\n",
       "      <td>7</td>\n",
       "      <td>340.0</td>\n",
       "      <td>47.0</td>\n",
       "      <td>75.0</td>\n",
       "      <td>14004.0</td>\n",
       "      <td>ultra</td>\n",
       "    </tr>\n",
       "    <tr>\n",
       "      <td>8</td>\n",
       "      <td>408.0</td>\n",
       "      <td>52.0</td>\n",
       "      <td>81.0</td>\n",
       "      <td>14056.0</td>\n",
       "      <td>ultra</td>\n",
       "    </tr>\n",
       "    <tr>\n",
       "      <td>9</td>\n",
       "      <td>466.0</td>\n",
       "      <td>58.0</td>\n",
       "      <td>57.0</td>\n",
       "      <td>14569.0</td>\n",
       "      <td>ultra</td>\n",
       "    </tr>\n",
       "    <tr>\n",
       "      <td>...</td>\n",
       "      <td>...</td>\n",
       "      <td>...</td>\n",
       "      <td>...</td>\n",
       "      <td>...</td>\n",
       "      <td>...</td>\n",
       "      <td>...</td>\n",
       "    </tr>\n",
       "    <tr>\n",
       "      <td rowspan=\"4\" valign=\"top\">1489</td>\n",
       "      <td>9</td>\n",
       "      <td>0.0</td>\n",
       "      <td>NaN</td>\n",
       "      <td>32.0</td>\n",
       "      <td>17207.0</td>\n",
       "      <td>smart</td>\n",
       "    </tr>\n",
       "    <tr>\n",
       "      <td>10</td>\n",
       "      <td>0.0</td>\n",
       "      <td>NaN</td>\n",
       "      <td>21.0</td>\n",
       "      <td>19560.0</td>\n",
       "      <td>smart</td>\n",
       "    </tr>\n",
       "    <tr>\n",
       "      <td>11</td>\n",
       "      <td>0.0</td>\n",
       "      <td>NaN</td>\n",
       "      <td>20.0</td>\n",
       "      <td>17492.0</td>\n",
       "      <td>smart</td>\n",
       "    </tr>\n",
       "    <tr>\n",
       "      <td>12</td>\n",
       "      <td>0.0</td>\n",
       "      <td>NaN</td>\n",
       "      <td>35.0</td>\n",
       "      <td>17323.0</td>\n",
       "      <td>smart</td>\n",
       "    </tr>\n",
       "    <tr>\n",
       "      <td>1476</td>\n",
       "      <td>4</td>\n",
       "      <td>0.0</td>\n",
       "      <td>NaN</td>\n",
       "      <td>0.0</td>\n",
       "      <td>531.0</td>\n",
       "      <td>ultra</td>\n",
       "    </tr>\n",
       "  </tbody>\n",
       "</table>\n",
       "<p>3214 rows × 5 columns</p>\n",
       "</div>"
      ],
      "text/plain": [
       "               duration  calls  messages  mb_used tariff\n",
       "user_id month                                           \n",
       "1000    5         159.0   22.0      22.0   2254.0  ultra\n",
       "        6         172.0   43.0      60.0  23234.0  ultra\n",
       "        7         340.0   47.0      75.0  14004.0  ultra\n",
       "        8         408.0   52.0      81.0  14056.0  ultra\n",
       "        9         466.0   58.0      57.0  14569.0  ultra\n",
       "...                 ...    ...       ...      ...    ...\n",
       "1489    9           0.0    NaN      32.0  17207.0  smart\n",
       "        10          0.0    NaN      21.0  19560.0  smart\n",
       "        11          0.0    NaN      20.0  17492.0  smart\n",
       "        12          0.0    NaN      35.0  17323.0  smart\n",
       "1476    4           0.0    NaN       0.0    531.0  ultra\n",
       "\n",
       "[3214 rows x 5 columns]"
      ]
     },
     "execution_count": 38,
     "metadata": {},
     "output_type": "execute_result"
    }
   ],
   "source": [
    "grouped_data"
   ]
  },
  {
   "cell_type": "markdown",
   "metadata": {},
   "source": [
    "*Напишем функцию подсчета выручки с каждого пользователя по предоставленным услугам в месяц  (вычесть бесплатный лимит из суммарного количества звонков, сообщений и интернет-трафика; остаток умножить на значение из тарифного плана; прибавить абонентскую плату, соответствующую тарифному плану):*"
   ]
  },
  {
   "cell_type": "code",
   "execution_count": 39,
   "metadata": {
    "scrolled": true
   },
   "outputs": [
    {
     "data": {
      "text/html": [
       "<div>\n",
       "<style scoped>\n",
       "    .dataframe tbody tr th:only-of-type {\n",
       "        vertical-align: middle;\n",
       "    }\n",
       "\n",
       "    .dataframe tbody tr th {\n",
       "        vertical-align: top;\n",
       "    }\n",
       "\n",
       "    .dataframe thead th {\n",
       "        text-align: right;\n",
       "    }\n",
       "</style>\n",
       "<table border=\"1\" class=\"dataframe\">\n",
       "  <thead>\n",
       "    <tr style=\"text-align: right;\">\n",
       "      <th></th>\n",
       "      <th></th>\n",
       "      <th>duration</th>\n",
       "      <th>calls</th>\n",
       "      <th>messages</th>\n",
       "      <th>mb_used</th>\n",
       "      <th>tariff</th>\n",
       "      <th>revenue</th>\n",
       "    </tr>\n",
       "    <tr>\n",
       "      <th>user_id</th>\n",
       "      <th>month</th>\n",
       "      <th></th>\n",
       "      <th></th>\n",
       "      <th></th>\n",
       "      <th></th>\n",
       "      <th></th>\n",
       "      <th></th>\n",
       "    </tr>\n",
       "  </thead>\n",
       "  <tbody>\n",
       "    <tr>\n",
       "      <td rowspan=\"5\" valign=\"top\">1000</td>\n",
       "      <td>5</td>\n",
       "      <td>159.0</td>\n",
       "      <td>22.0</td>\n",
       "      <td>22.0</td>\n",
       "      <td>2254.0</td>\n",
       "      <td>ultra</td>\n",
       "      <td>1950.0</td>\n",
       "    </tr>\n",
       "    <tr>\n",
       "      <td>6</td>\n",
       "      <td>172.0</td>\n",
       "      <td>43.0</td>\n",
       "      <td>60.0</td>\n",
       "      <td>23234.0</td>\n",
       "      <td>ultra</td>\n",
       "      <td>1950.0</td>\n",
       "    </tr>\n",
       "    <tr>\n",
       "      <td>7</td>\n",
       "      <td>340.0</td>\n",
       "      <td>47.0</td>\n",
       "      <td>75.0</td>\n",
       "      <td>14004.0</td>\n",
       "      <td>ultra</td>\n",
       "      <td>1950.0</td>\n",
       "    </tr>\n",
       "    <tr>\n",
       "      <td>8</td>\n",
       "      <td>408.0</td>\n",
       "      <td>52.0</td>\n",
       "      <td>81.0</td>\n",
       "      <td>14056.0</td>\n",
       "      <td>ultra</td>\n",
       "      <td>1950.0</td>\n",
       "    </tr>\n",
       "    <tr>\n",
       "      <td>9</td>\n",
       "      <td>466.0</td>\n",
       "      <td>58.0</td>\n",
       "      <td>57.0</td>\n",
       "      <td>14569.0</td>\n",
       "      <td>ultra</td>\n",
       "      <td>1950.0</td>\n",
       "    </tr>\n",
       "  </tbody>\n",
       "</table>\n",
       "</div>"
      ],
      "text/plain": [
       "               duration  calls  messages  mb_used tariff  revenue\n",
       "user_id month                                                    \n",
       "1000    5         159.0   22.0      22.0   2254.0  ultra   1950.0\n",
       "        6         172.0   43.0      60.0  23234.0  ultra   1950.0\n",
       "        7         340.0   47.0      75.0  14004.0  ultra   1950.0\n",
       "        8         408.0   52.0      81.0  14056.0  ultra   1950.0\n",
       "        9         466.0   58.0      57.0  14569.0  ultra   1950.0"
      ]
     },
     "execution_count": 39,
     "metadata": {},
     "output_type": "execute_result"
    }
   ],
   "source": [
    "def det_revenue(row):\n",
    "    messages = row['messages']\n",
    "    mb_used = row['mb_used']\n",
    "    tariff = row['tariff']\n",
    "    duration = row['duration']\n",
    "    calls = row['calls']\n",
    "    \n",
    "    if tariff == 'smart':\n",
    "        extra_duration = duration - tariffs.loc[0, 'minutes_included']\n",
    "        extra_mb = mb_used - tariffs.loc[0, 'mb_per_month_included']\n",
    "        extra_messages = messages - tariffs.loc[0, 'messages_included']\n",
    "        \n",
    "        if extra_duration < 0: extra_duration = 0\n",
    "        if extra_mb < 0: extra_mb = 0\n",
    "        if extra_messages < 0: extra_messages = 0\n",
    "        \n",
    "        return (tariffs.loc[0, 'rub_per_message'] * extra_messages + \n",
    "                   (tariffs.loc[0, 'rub_per_gb'] / 1024) * extra_mb + \n",
    "                   tariffs.loc[0, 'rub_per_minute'] * extra_duration + \n",
    "                   tariffs.loc[0, 'rub_monthly_fee']\n",
    "                  ) \n",
    "    else:\n",
    "        extra_duration = duration - tariffs.loc[1, 'minutes_included']\n",
    "        extra_mb = mb_used - tariffs.loc[1, 'mb_per_month_included']\n",
    "        extra_messages = messages - tariffs.loc[1, 'messages_included']\n",
    "        \n",
    "        if extra_duration < 0: extra_duration = 0\n",
    "        if extra_mb < 0: extra_mb = 0\n",
    "        if extra_messages < 0: extra_messages = 0\n",
    "        \n",
    "        return (tariffs.loc[1, 'rub_per_message'] * extra_messages + \n",
    "                   (tariffs.loc[1, 'rub_per_gb'] / 1024) * extra_mb + \n",
    "                   tariffs.loc[1, 'rub_per_minute'] * extra_duration + \n",
    "                   tariffs.loc[1, 'rub_monthly_fee']\n",
    "                  )\n",
    "\n",
    "grouped_data['revenue'] = grouped_data.apply(det_revenue, axis = 1)\n",
    "grouped_data.head()"
   ]
  },
  {
   "cell_type": "markdown",
   "metadata": {},
   "source": [
    "<div class=\"alert alert-success\">\n",
    "<b>Комментарий ревьюера v1:</b>\n",
    "    \n",
    "Расчет выручки верный (значения чуть поменяются после округления веб-трафика). Отдельный плюc, что через функцию.\n",
    "</div>"
   ]
  },
  {
   "cell_type": "markdown",
   "metadata": {},
   "source": [
    "<div class=\"alert alert-success\">\n",
    "<b>Комментарий ревьюера v2:</b>\n",
    " \n",
    "- Можно сделать расчет выручки чуть проще c помощью np.where ([https://numpy.org/doc/stable/reference/generated/numpy.where.html](https://numpy.org/doc/stable/reference/generated/numpy.where.html)):\n",
    "\n",
    "    ```\n",
    "   grouped_data['calls'] = np.where('условие: если перерасход выполняем второй аргумент','перерасход умножаем на цену', '0')\n",
    "    ```\n",
    "</div>\n"
   ]
  },
  {
   "cell_type": "markdown",
   "metadata": {},
   "source": [
    "# Шаг 3. Проанализируйте данные"
   ]
  },
  {
   "cell_type": "markdown",
   "metadata": {},
   "source": [
    "*Усредним полученные данные по каждому пользователю, сколько требуется минут, мегабайт и сообщений в месяц:*"
   ]
  },
  {
   "cell_type": "code",
   "execution_count": 40,
   "metadata": {},
   "outputs": [
    {
     "data": {
      "text/html": [
       "<div>\n",
       "<style scoped>\n",
       "    .dataframe tbody tr th:only-of-type {\n",
       "        vertical-align: middle;\n",
       "    }\n",
       "\n",
       "    .dataframe tbody tr th {\n",
       "        vertical-align: top;\n",
       "    }\n",
       "\n",
       "    .dataframe thead th {\n",
       "        text-align: right;\n",
       "    }\n",
       "</style>\n",
       "<table border=\"1\" class=\"dataframe\">\n",
       "  <thead>\n",
       "    <tr style=\"text-align: right;\">\n",
       "      <th></th>\n",
       "      <th>duration</th>\n",
       "      <th>mb_used</th>\n",
       "      <th>messages</th>\n",
       "      <th>revenue</th>\n",
       "      <th>tariff</th>\n",
       "    </tr>\n",
       "    <tr>\n",
       "      <th>user_id</th>\n",
       "      <th></th>\n",
       "      <th></th>\n",
       "      <th></th>\n",
       "      <th></th>\n",
       "      <th></th>\n",
       "    </tr>\n",
       "  </thead>\n",
       "  <tbody>\n",
       "    <tr>\n",
       "      <td>1000</td>\n",
       "      <td>339.0</td>\n",
       "      <td>14312.5</td>\n",
       "      <td>65.0</td>\n",
       "      <td>1950.000000</td>\n",
       "      <td>ultra</td>\n",
       "    </tr>\n",
       "    <tr>\n",
       "      <td>1001</td>\n",
       "      <td>422.0</td>\n",
       "      <td>16233.5</td>\n",
       "      <td>0.0</td>\n",
       "      <td>849.804688</td>\n",
       "      <td>smart</td>\n",
       "    </tr>\n",
       "    <tr>\n",
       "      <td>1002</td>\n",
       "      <td>214.0</td>\n",
       "      <td>17581.0</td>\n",
       "      <td>11.0</td>\n",
       "      <td>983.789062</td>\n",
       "      <td>smart</td>\n",
       "    </tr>\n",
       "    <tr>\n",
       "      <td>1003</td>\n",
       "      <td>824.0</td>\n",
       "      <td>11357.0</td>\n",
       "      <td>83.0</td>\n",
       "      <td>1950.000000</td>\n",
       "      <td>ultra</td>\n",
       "    </tr>\n",
       "    <tr>\n",
       "      <td>1004</td>\n",
       "      <td>132.5</td>\n",
       "      <td>17811.5</td>\n",
       "      <td>154.5</td>\n",
       "      <td>1950.000000</td>\n",
       "      <td>ultra</td>\n",
       "    </tr>\n",
       "  </tbody>\n",
       "</table>\n",
       "</div>"
      ],
      "text/plain": [
       "         duration  mb_used  messages      revenue tariff\n",
       "user_id                                                 \n",
       "1000        339.0  14312.5      65.0  1950.000000  ultra\n",
       "1001        422.0  16233.5       0.0   849.804688  smart\n",
       "1002        214.0  17581.0      11.0   983.789062  smart\n",
       "1003        824.0  11357.0      83.0  1950.000000  ultra\n",
       "1004        132.5  17811.5     154.5  1950.000000  ultra"
      ]
     },
     "execution_count": 40,
     "metadata": {},
     "output_type": "execute_result"
    }
   ],
   "source": [
    "medians = grouped_data.pivot_table(index='user_id', values=['duration', 'messages', 'mb_used', 'revenue'], aggfunc='median')\n",
    "for user_id in users['user_id']:\n",
    "    medians.loc[user_id, 'tariff'] = users.loc[user_id-1000, 'tariff']\n",
    "medians.head()"
   ]
  },
  {
   "cell_type": "markdown",
   "metadata": {},
   "source": [
    "*Найдем медиану, дисперсию и стандартное отклонение:*"
   ]
  },
  {
   "cell_type": "code",
   "execution_count": 41,
   "metadata": {},
   "outputs": [
    {
     "data": {
      "text/html": [
       "<div>\n",
       "<style scoped>\n",
       "    .dataframe tbody tr th:only-of-type {\n",
       "        vertical-align: middle;\n",
       "    }\n",
       "\n",
       "    .dataframe tbody tr th {\n",
       "        vertical-align: top;\n",
       "    }\n",
       "\n",
       "    .dataframe thead tr th {\n",
       "        text-align: left;\n",
       "    }\n",
       "\n",
       "    .dataframe thead tr:last-of-type th {\n",
       "        text-align: right;\n",
       "    }\n",
       "</style>\n",
       "<table border=\"1\" class=\"dataframe\">\n",
       "  <thead>\n",
       "    <tr>\n",
       "      <th></th>\n",
       "      <th colspan=\"3\" halign=\"left\">duration</th>\n",
       "      <th colspan=\"3\" halign=\"left\">mb_used</th>\n",
       "      <th colspan=\"3\" halign=\"left\">messages</th>\n",
       "    </tr>\n",
       "    <tr>\n",
       "      <th></th>\n",
       "      <th>median</th>\n",
       "      <th>std</th>\n",
       "      <th>var</th>\n",
       "      <th>median</th>\n",
       "      <th>std</th>\n",
       "      <th>var</th>\n",
       "      <th>median</th>\n",
       "      <th>std</th>\n",
       "      <th>var</th>\n",
       "    </tr>\n",
       "    <tr>\n",
       "      <th>tariff</th>\n",
       "      <th></th>\n",
       "      <th></th>\n",
       "      <th></th>\n",
       "      <th></th>\n",
       "      <th></th>\n",
       "      <th></th>\n",
       "      <th></th>\n",
       "      <th></th>\n",
       "      <th></th>\n",
       "    </tr>\n",
       "  </thead>\n",
       "  <tbody>\n",
       "    <tr>\n",
       "      <td>smart</td>\n",
       "      <td>439.75</td>\n",
       "      <td>160.266622</td>\n",
       "      <td>25685.390127</td>\n",
       "      <td>16925.75</td>\n",
       "      <td>4174.206306</td>\n",
       "      <td>1.742400e+07</td>\n",
       "      <td>28.5</td>\n",
       "      <td>28.010653</td>\n",
       "      <td>784.596662</td>\n",
       "    </tr>\n",
       "    <tr>\n",
       "      <td>ultra</td>\n",
       "      <td>535.25</td>\n",
       "      <td>303.793641</td>\n",
       "      <td>92290.576519</td>\n",
       "      <td>19733.75</td>\n",
       "      <td>8893.027551</td>\n",
       "      <td>7.908594e+07</td>\n",
       "      <td>47.5</td>\n",
       "      <td>49.236809</td>\n",
       "      <td>2424.263318</td>\n",
       "    </tr>\n",
       "  </tbody>\n",
       "</table>\n",
       "</div>"
      ],
      "text/plain": [
       "       duration                             mb_used               \\\n",
       "         median         std           var    median          std   \n",
       "tariff                                                             \n",
       "smart    439.75  160.266622  25685.390127  16925.75  4174.206306   \n",
       "ultra    535.25  303.793641  92290.576519  19733.75  8893.027551   \n",
       "\n",
       "                     messages                          \n",
       "                 var   median        std          var  \n",
       "tariff                                                 \n",
       "smart   1.742400e+07     28.5  28.010653   784.596662  \n",
       "ultra   7.908594e+07     47.5  49.236809  2424.263318  "
      ]
     },
     "execution_count": 41,
     "metadata": {},
     "output_type": "execute_result"
    }
   ],
   "source": [
    "medians.dropna(subset=['duration'], inplace=True)\n",
    "desc_stat = medians.pivot_table(index=['tariff'], values=['duration', 'mb_used', 'messages'], \n",
    "                    aggfunc={'duration': [np.median, np.var, np.std], \n",
    "                             'mb_used': [np.median, np.var, np.std], \n",
    "                             'messages': [np.median, np.var, np.std]})\n",
    "desc_stat"
   ]
  },
  {
   "cell_type": "markdown",
   "metadata": {},
   "source": [
    "*Построим усатые графики для каждого `duration`, `mb_used`, `messages`:*"
   ]
  },
  {
   "cell_type": "code",
   "execution_count": 42,
   "metadata": {},
   "outputs": [
    {
     "data": {
      "image/png": "[encoded data removed]",
      "text/plain": [
       "<Figure size 360x360 with 1 Axes>"
      ]
     },
     "metadata": {},
     "output_type": "display_data"
    },
    {
     "data": {
      "image/png": "[encoded data removed]",
      "text/plain": [
       "<Figure size 360x360 with 1 Axes>"
      ]
     },
     "metadata": {},
     "output_type": "display_data"
    },
    {
     "data": {
      "image/png": "[encoded data removed]",
      "text/plain": [
       "<Figure size 360x360 with 1 Axes>"
      ]
     },
     "metadata": {},
     "output_type": "display_data"
    }
   ],
   "source": [
    "for column in ['duration', 'mb_used', 'messages']:    \n",
    "    sns.catplot(x=\"tariff\", y=column, kind=\"box\", data=medians)\n",
    "    "
   ]
  },
  {
   "cell_type": "markdown",
   "metadata": {},
   "source": [
    "*Вспомним ещё раз теорию: «Ящик» ограничен первым и третьим квартилями. Внутри ящика обозначают медиану.\n",
    "«Усы» простираются влево и вправо от границ ящика на расстояние, равное 1,5 межквартильным размахам (сокращённо IQR, от англ. interquartile range, «межквартильный размах»).*"
   ]
  },
  {
   "cell_type": "markdown",
   "metadata": {},
   "source": [
    "*Теперь построим гистограммы:*"
   ]
  },
  {
   "cell_type": "code",
   "execution_count": 43,
   "metadata": {},
   "outputs": [
    {
     "name": "stderr",
     "output_type": "stream",
     "text": [
      "/home/jovyan/.local/lib/python3.7/site-packages/seaborn/distributions.py:2557: FutureWarning: `distplot` is a deprecated function and will be removed in a future version. Please adapt your code to use either `displot` (a figure-level function with similar flexibility) or `histplot` (an axes-level function for histograms).\n",
      "  warnings.warn(msg, FutureWarning)\n"
     ]
    },
    {
     "data": {
      "image/png": "[encoded data removed]",
      "text/plain": [
       "<Figure size 432x288 with 1 Axes>"
      ]
     },
     "metadata": {},
     "output_type": "display_data"
    }
   ],
   "source": [
    "for tariff in ['ultra', 'smart']:\n",
    "    sns.distplot(medians.query('tariff == @tariff')['duration'], kde=False, label=tariff)\n",
    "leg = plt.legend(['ultra', 'smart'])"
   ]
  },
  {
   "cell_type": "markdown",
   "metadata": {},
   "source": [
    "*Распределение длительности вызовов носит нормальный характер*"
   ]
  },
  {
   "cell_type": "code",
   "execution_count": 44,
   "metadata": {},
   "outputs": [
    {
     "data": {
      "image/png": "[encoded data removed]",
      "text/plain": [
       "<Figure size 432x288 with 1 Axes>"
      ]
     },
     "metadata": {},
     "output_type": "display_data"
    }
   ],
   "source": [
    "for tariff in ['ultra', 'smart']:\n",
    "    sns.distplot(medians.query('tariff == @tariff')['mb_used'], kde=False)\n",
    "leg = plt.legend(['ultra', 'smart'])"
   ]
  },
  {
   "cell_type": "markdown",
   "metadata": {},
   "source": [
    "*Распределение объема потраченного интенет трафика носит тоже нормальный характер*"
   ]
  },
  {
   "cell_type": "code",
   "execution_count": 45,
   "metadata": {},
   "outputs": [
    {
     "data": {
      "image/png": "[encoded data removed]",
      "text/plain": [
       "<Figure size 432x288 with 1 Axes>"
      ]
     },
     "metadata": {},
     "output_type": "display_data"
    }
   ],
   "source": [
    "for tariff in ['ultra', 'smart']:\n",
    "    sns.distplot(medians.query('tariff == @tariff')['messages'], kde=False, label=tariff)\n",
    "leg = plt.legend(['ultra', 'smart'])"
   ]
  },
  {
   "cell_type": "markdown",
   "metadata": {},
   "source": [
    "*А количество сообщений - распределение Пуассона*"
   ]
  },
  {
   "cell_type": "markdown",
   "metadata": {},
   "source": [
    "<div class=\"alert alert-warning\">\n",
    "<b>Комментарий ревьюера v1:</b>\n",
    "    \n",
    "Наглядная и аккуратная визуализация данных, но какие выводы и рекомендации можно сделать на основании полученных графиков?\n",
    "    \n",
    "Дело вкусовщины, но иногда проще анализировать данные (разброс, средние значения и т.д.) по каждому параметру с помощью диаграммы размаха в дополнениe к гистограмме распределения. Если есть время и желание попрактиковаться, то можно вывести два графика (гистограмму и диаграмму размаха) с помощью сабплота в две колонки.\n",
    "<div>"
   ]
  },
  {
   "cell_type": "code",
   "execution_count": 46,
   "metadata": {},
   "outputs": [
    {
     "data": {
      "text/plain": [
       "<matplotlib.axes._subplots.AxesSubplot at 0x7fee37e27f90>"
      ]
     },
     "execution_count": 46,
     "metadata": {},
     "output_type": "execute_result"
    },
    {
     "data": {
      "image/png": "[encoded data removed]",
      "text/plain": [
       "<Figure size 432x288 with 2 Axes>"
      ]
     },
     "metadata": {},
     "output_type": "display_data"
    }
   ],
   "source": [
    "fig, axes = plt.subplots(1, 2)\n",
    "sns.barplot(x = 'tariff', y = 'duration', orient='v', ax=axes[0], data=medians)\n",
    "sns.boxplot(x = 'tariff', y = 'duration', orient='v', ax=axes[1], data=medians)"
   ]
  },
  {
   "cell_type": "code",
   "execution_count": 47,
   "metadata": {},
   "outputs": [],
   "source": [
    "#!pip install seaborn --upgrade"
   ]
  },
  {
   "cell_type": "code",
   "execution_count": 48,
   "metadata": {},
   "outputs": [],
   "source": [
    "# sns.histplot(medians, x = 'duration', binwidth=0.05)"
   ]
  },
  {
   "cell_type": "markdown",
   "metadata": {},
   "source": [
    "<div class=\"alert alert-info\"> <b>Комментарий студента:</b> У меня так и не удалось построить гистограмму. Просьба оказать в этом помощь. Как уже только не пробовал((\n",
    "</div>"
   ]
  },
  {
   "cell_type": "markdown",
   "metadata": {},
   "source": [
    "<div class=\"alert alert-success\">\n",
    "<b>Комментарий ревьюера v2:</b>\n",
    " \n",
    "У Яндекса сейчас не самая последняя версия библиотеки seaborn установлена, но можно обновить вручную !pip install seaborn --upgrade и потом перезагрузить ядро Kernel > Restart and Run All  \n",
    "</div>\n"
   ]
  },
  {
   "cell_type": "code",
   "execution_count": 49,
   "metadata": {},
   "outputs": [
    {
     "data": {
      "text/plain": [
       "array([[<matplotlib.axes._subplots.AxesSubplot object at 0x7fee375c23d0>]],\n",
       "      dtype=object)"
      ]
     },
     "execution_count": 49,
     "metadata": {},
     "output_type": "execute_result"
    },
    {
     "data": {
      "image/png": "[encoded data removed]",
      "text/plain": [
       "<Figure size 432x288 with 1 Axes>"
      ]
     },
     "metadata": {},
     "output_type": "display_data"
    }
   ],
   "source": [
    "medians.hist('duration')"
   ]
  },
  {
   "cell_type": "markdown",
   "metadata": {},
   "source": [
    "<div class=\"alert alert-info\"> \n",
    "<b>Комментарий студента:</b> \n",
    "Вот так могу, а через Seaborn так и не получилось.\n",
    "</div>"
   ]
  },
  {
   "cell_type": "markdown",
   "metadata": {},
   "source": [
    "<div class=\"alert alert-success\">\n",
    "<b>Комментарий ревьюера v2:</b>\n",
    " \n",
    "Можно использовать distplot (должно работать и с прошлыми версиями seaborn).\n",
    "Добавил пример кода ниже с сабплотами.\n",
    "</div>\n"
   ]
  },
  {
   "cell_type": "code",
   "execution_count": 50,
   "metadata": {},
   "outputs": [
    {
     "name": "stderr",
     "output_type": "stream",
     "text": [
      "/home/jovyan/.local/lib/python3.7/site-packages/seaborn/distributions.py:2557: FutureWarning: `distplot` is a deprecated function and will be removed in a future version. Please adapt your code to use either `displot` (a figure-level function with similar flexibility) or `histplot` (an axes-level function for histograms).\n",
      "  warnings.warn(msg, FutureWarning)\n"
     ]
    },
    {
     "data": {
      "image/png": "[encoded data removed]",
      "text/plain": [
       "<Figure size 1152x360 with 2 Axes>"
      ]
     },
     "metadata": {},
     "output_type": "display_data"
    }
   ],
   "source": [
    "##### Код Ревьюера ##### \n",
    "\n",
    "# Создадим одну строку с двумя колонками\n",
    "fig, axes = plt.subplots(1, 2, figsize=(16, 5))\n",
    "\n",
    "# Создадим две гистограммы для разных тарифов. \n",
    "# С помощью ax=axes можно контролировать в какой колонке будет отображаться график\n",
    "sns.distplot(medians.query('tariff == \"smart\"')['messages'], color='darkblue', kde=False, label=tariff, ax=axes[0])\n",
    "sns.distplot(medians.query('tariff == \"ultra\"')['messages'],  color='darkorange', kde=False, label=tariff, ax=axes[0])\n",
    "\n",
    "# Создадим график boxplot для двух тарифов во второй колонке\n",
    "# Чтобы поменять ориентацию боксплота нужно поменять местами колокнки в x/y\n",
    "sns.boxplot(data=medians.sort_values(by='tariff'), x='messages', y='tariff', ax=axes[1])\n",
    "\n",
    "# Добавим подписи для каждой колонки \n",
    "axes[0].legend(loc='upper right', labels=['smart','ultra'])\n",
    "axes[0].set_xlabel('сообщений/мес.')\n",
    "axes[0].set_ylabel('Плотность распределения')\n",
    "axes[1].set_xlabel('сообщений/мес.')\n",
    "axes[1].set_ylabel('Тариф')\n",
    "\n",
    "# Добавим общий заголовок\n",
    "fig.suptitle('Распределение количества сообщений по тарифам');"
   ]
  },
  {
   "cell_type": "markdown",
   "metadata": {},
   "source": [
    "# Шаг 4. Проверьте гипотезы"
   ]
  },
  {
   "cell_type": "markdown",
   "metadata": {},
   "source": [
    "* средняя выручка пользователей тарифов «Ультра» и «Смарт» различается;"
   ]
  },
  {
   "cell_type": "markdown",
   "metadata": {},
   "source": [
    "*В качестве  нулевой принимаем гипотезу, что средняя выручка пользователей тарифа «Ультра» равна средней выручке пользователей тарифа «Смарт». Альтернативной гипотезой утверждение, противоположное нулевой гипотезе.*"
   ]
  },
  {
   "cell_type": "code",
   "execution_count": 51,
   "metadata": {},
   "outputs": [
    {
     "name": "stdout",
     "output_type": "stream",
     "text": [
      "P-value: 1.816088183068514e-298\n",
      "Отвергаем нулевую гипотезу\n"
     ]
    }
   ],
   "source": [
    "ultra = grouped_data.query('tariff == \"ultra\"')['revenue']\n",
    "smart = grouped_data.query('tariff == \"smart\"')['revenue']\n",
    "\n",
    "alpha = 0.05\n",
    "\n",
    "results = st.ttest_ind(ultra, smart, equal_var=False)\n",
    "\n",
    "print('P-value:', results.pvalue)\n",
    "\n",
    "if (results.pvalue < alpha):\n",
    "    print(\"Отвергаем нулевую гипотезу\")\n",
    "else:\n",
    "    print(\"Не получилось отвергнуть нулевую гипотезу\")"
   ]
  },
  {
   "cell_type": "markdown",
   "metadata": {},
   "source": [
    "*Значение Р-value характерезует то, что вероятность случайного совпадения средних наших выборок ничтожно мало. Нулевая гипотеза отвергается!*"
   ]
  },
  {
   "cell_type": "code",
   "execution_count": 52,
   "metadata": {},
   "outputs": [
    {
     "data": {
      "text/html": [
       "<div>\n",
       "<style scoped>\n",
       "    .dataframe tbody tr th:only-of-type {\n",
       "        vertical-align: middle;\n",
       "    }\n",
       "\n",
       "    .dataframe tbody tr th {\n",
       "        vertical-align: top;\n",
       "    }\n",
       "\n",
       "    .dataframe thead th {\n",
       "        text-align: right;\n",
       "    }\n",
       "</style>\n",
       "<table border=\"1\" class=\"dataframe\">\n",
       "  <thead>\n",
       "    <tr style=\"text-align: right;\">\n",
       "      <th></th>\n",
       "      <th>revenue</th>\n",
       "    </tr>\n",
       "    <tr>\n",
       "      <th>tariff</th>\n",
       "      <th></th>\n",
       "    </tr>\n",
       "  </thead>\n",
       "  <tbody>\n",
       "    <tr>\n",
       "      <td>smart</td>\n",
       "      <td>958.0</td>\n",
       "    </tr>\n",
       "    <tr>\n",
       "      <td>ultra</td>\n",
       "      <td>1950.0</td>\n",
       "    </tr>\n",
       "  </tbody>\n",
       "</table>\n",
       "</div>"
      ],
      "text/plain": [
       "        revenue\n",
       "tariff         \n",
       "smart     958.0\n",
       "ultra    1950.0"
      ]
     },
     "execution_count": 52,
     "metadata": {},
     "output_type": "execute_result"
    }
   ],
   "source": [
    "grouped_data.pivot_table(index='tariff', values='revenue', aggfunc='median')"
   ]
  },
  {
   "cell_type": "markdown",
   "metadata": {},
   "source": [
    "*Средние значения выручки по тарифам действительно различаются. Пользователь тарифа \"Смарт\" при абонентской плате в 550 рублей, видимо по окончанию месяца будет вынужден оплачивать дополнительные услуги сверх тарифного пакета.*"
   ]
  },
  {
   "cell_type": "markdown",
   "metadata": {},
   "source": [
    "<div class=\"alert alert-success\">\n",
    "<b>Комментарий ревьюера v1:</b>\n",
    "    \n",
    "Первая гипотеза сформулирована и проверена верно! А почему в данном случае equal_var=False принят с таким значением?\n",
    "\n",
    "</div>"
   ]
  },
  {
   "cell_type": "markdown",
   "metadata": {},
   "source": [
    "> <div class=\"alert alert-info\"> \n",
    "<b>Комментарий студента:</b> \n",
    "В данном случае equal_var = False принят с таким значением, чтобы дисперсия каждой выборки была оценена для каждой по отдельности по значениям в ней самой, а не по объединённому датасету из двух выборок.\n",
    "</div>"
   ]
  },
  {
   "cell_type": "markdown",
   "metadata": {},
   "source": [
    "<div class=\"alert alert-success\">\n",
    "<b>Комментарий ревьюера v2:</b>\n",
    "    \n",
    "Понятно. Можно еще дополнительно сравнить дисперсии выборок до проверки гипотез, чтобы понять с каким параметром equal_var использовать метод проверки ttest_ind. Здесь можно вручную посчитать дисперсии, либо воспользоваться стат.тестом Левене или тестом Барлетта.\n",
    "\n",
    "</div>"
   ]
  },
  {
   "cell_type": "markdown",
   "metadata": {},
   "source": [
    "* средняя выручка пользователей из Москвы отличается от выручки пользователей из других регионов;"
   ]
  },
  {
   "cell_type": "markdown",
   "metadata": {},
   "source": [
    "*В качестве нулевой принимаем гипотезу, что средняя выручка пользователей из Москвы отличается от выручки пользователей из других регионов. Альтернативной гипотезой утверждение, противоположное нулевой гипотезе.*"
   ]
  },
  {
   "cell_type": "markdown",
   "metadata": {},
   "source": [
    "<div class=\"alert alert-danger\">\n",
    "<b>Комментарий ревьюера v1:</b>\n",
    "    \n",
    "Здесь в формулировке гипотез закралась ошибка. Перепроверь пожалуйста формулировки и вывод.\n",
    "</div>"
   ]
  },
  {
   "cell_type": "markdown",
   "metadata": {},
   "source": [
    "<div class=\"alert alert-info\"> \n",
    "<b>Комментарий студента:</b> \n",
    "Теория: H₀ всегда формулируется так, чтобы использовать знак равенства. Другими словами, чтобы все значения, полученные эмпирически, не были экстремальными, а лежали там, где ожидаем их найти. \n",
    "Исходя из этого переформулируем нулевую теорию так: \n",
    "    \n",
    "`Cредняя выручка пользователей из Москвы равна выручке пользователей из других регионов, а альтернативная гипотеза, что выручка не равна.`\n",
    "</div>"
   ]
  },
  {
   "cell_type": "markdown",
   "metadata": {},
   "source": [
    "<div class=\"alert alert-success\">\n",
    "<b>Комментарий ревьюера v2:</b>\n",
    "    \n",
    "Да, теперь все точно.\n",
    "\n",
    "</div>"
   ]
  },
  {
   "cell_type": "markdown",
   "metadata": {},
   "source": [
    "*Для начала добавим в таблицу город для каждого пользователя:*"
   ]
  },
  {
   "cell_type": "code",
   "execution_count": 53,
   "metadata": {},
   "outputs": [],
   "source": [
    "for user in grouped_data.index:\n",
    "    grouped_data.loc[user, 'city'] = users.loc[user[0]-1000, 'city']"
   ]
  },
  {
   "cell_type": "markdown",
   "metadata": {},
   "source": [
    "*По аналогии с тарифами разделим выборку на Москву и регионы:*"
   ]
  },
  {
   "cell_type": "code",
   "execution_count": 54,
   "metadata": {},
   "outputs": [],
   "source": [
    "moscow = grouped_data.query('city == \"Москва\"')['revenue']\n",
    "regions = grouped_data.query('city != \"Москва\"')['revenue']"
   ]
  },
  {
   "cell_type": "code",
   "execution_count": 55,
   "metadata": {},
   "outputs": [
    {
     "name": "stdout",
     "output_type": "stream",
     "text": [
      "P-value: 0.45044310217993266\n",
      "Не получилось отвергнуть нулевую гипотезу\n"
     ]
    }
   ],
   "source": [
    "alpha = 0.05\n",
    "\n",
    "results = st.ttest_ind(moscow, regions, equal_var=False)\n",
    "\n",
    "print('P-value:', results.pvalue)\n",
    "\n",
    "if (results.pvalue < alpha):\n",
    "    print(\"Отвергаем нулевую гипотезу\")\n",
    "else:\n",
    "    print(\"Не получилось отвергнуть нулевую гипотезу\")"
   ]
  },
  {
   "cell_type": "markdown",
   "metadata": {},
   "source": [
    "*Есть большая вероятность того, что отличие средних значений наших выборок случайно и мы не можем отвергнуть нулевую гипотезу, которая говорит нам о равенстве средних значений.*"
   ]
  },
  {
   "cell_type": "code",
   "execution_count": 56,
   "metadata": {},
   "outputs": [
    {
     "data": {
      "text/html": [
       "<div>\n",
       "<style scoped>\n",
       "    .dataframe tbody tr th:only-of-type {\n",
       "        vertical-align: middle;\n",
       "    }\n",
       "\n",
       "    .dataframe tbody tr th {\n",
       "        vertical-align: top;\n",
       "    }\n",
       "\n",
       "    .dataframe thead th {\n",
       "        text-align: right;\n",
       "    }\n",
       "</style>\n",
       "<table border=\"1\" class=\"dataframe\">\n",
       "  <thead>\n",
       "    <tr style=\"text-align: right;\">\n",
       "      <th></th>\n",
       "      <th>revenue</th>\n",
       "    </tr>\n",
       "    <tr>\n",
       "      <th>region</th>\n",
       "      <th></th>\n",
       "    </tr>\n",
       "  </thead>\n",
       "  <tbody>\n",
       "    <tr>\n",
       "      <td>Москва</td>\n",
       "      <td>1699.359375</td>\n",
       "    </tr>\n",
       "    <tr>\n",
       "      <td>Регион</td>\n",
       "      <td>1513.976562</td>\n",
       "    </tr>\n",
       "  </tbody>\n",
       "</table>\n",
       "</div>"
      ],
      "text/plain": [
       "            revenue\n",
       "region             \n",
       "Москва  1699.359375\n",
       "Регион  1513.976562"
      ]
     },
     "execution_count": 56,
     "metadata": {},
     "output_type": "execute_result"
    }
   ],
   "source": [
    "def det_region(city):\n",
    "    if city == 'Москва': return 'Москва'\n",
    "    else: return 'Регион'\n",
    "    \n",
    "grouped_data['region'] = grouped_data['city'].apply(det_region)\n",
    "grouped_data.pivot_table(index='region', values='revenue', aggfunc='median')"
   ]
  },
  {
   "cell_type": "markdown",
   "metadata": {},
   "source": [
    "*Действительно, доходы в Московском регионе отличаются от других населенных пунктов в большую сторону.*"
   ]
  },
  {
   "cell_type": "markdown",
   "metadata": {},
   "source": [
    "<div class=\"alert alert-info\"> \n",
    "<b>Комментарий студента:</b> \n",
    "При изменении формулировки нулевой гипотезы тогда делаем вывод, что средняя выручка не отличается? Считаем, что эмпирически полученные данные не противоречат нулевой гипотезе. Или полученные данные лишь предположение о генеральной совокупности? Больше вопросов)) Остановлюсь на том, что выборка дает такие средние значения, а применительно к генеральной совокупности средние значения будут сопоставимы.\n",
    "</div>"
   ]
  },
  {
   "cell_type": "markdown",
   "metadata": {},
   "source": [
    "<div class=\"alert alert-success\">\n",
    "<b>Комментарий ревьюера v2:</b>\n",
    "    \n",
    "Эмпирически полученные данные и правда могут не совпадать. Разница между средними значениями небольшая, поэтому эмпирически сложно сказать различается ли выручка или нет. \n",
    "Кроме того, иногда бывает полезно проверять данные на выбросы и убирать их до проверки гипотез, чтобы один пользователь из Москвы со средним чеком 6000 рублей не исказил выборку.\n",
    "\n",
    "</div>"
   ]
  },
  {
   "cell_type": "markdown",
   "metadata": {},
   "source": [
    "# Шаг 5. Напишите общий вывод \n"
   ]
  },
  {
   "cell_type": "markdown",
   "metadata": {},
   "source": [
    "*По результатам статистического анализа доходы «Мегалайн» от тарифа «Ультра» больше, чем от тарифа «Смарт». В среднем выручка от одного пользователя в месяц получается 1 950 рублей и 988 рублей соответственно.*"
   ]
  },
  {
   "cell_type": "markdown",
   "metadata": {},
   "source": [
    "*Среднее значение израсходованных минут звонков, количесво отправленных сообщений и количество потраченного интернет трафика не так сильно отличаются между тарифами, тогда как базовая стоимость тарифов отличается почти в 4 раза!*"
   ]
  },
  {
   "cell_type": "markdown",
   "metadata": {},
   "source": [
    "*Пользователи тарифа «Смарт» кроме абонентской платы в среднем доплачивают еще 438 рублей ежемесячно, в то время, когда пользователи тарифа «Ультра», напротив, не используют тарифный пакет в полном объеме.*"
   ]
  },
  {
   "cell_type": "markdown",
   "metadata": {},
   "source": [
    "*Средние доходы от пользователей в Москве не отличаются от доходов в других населенных пунктах.*"
   ]
  },
  {
   "cell_type": "markdown",
   "metadata": {},
   "source": [
    "<div class=\"alert alert-warning\">\n",
    "<b>Комментарий ревьюера v1:</b>\n",
    "    \n",
    "В целом ты провел отличное исследование: чистый код, крутые графики, правильные промежуточные выводы. Но общие выводы в данном случае это мини-презентация всей работы перед бизнес-заказчиком. На реальном проекте это, возможно, единственное, что бизнес будет читать. Поэтому необходимо структурировано указывать развернутые комментарии ко всем выводам, которые были получены по каждому пункту работы. Стоит также подумать, что будет интересно со стороны бизнеса (детальное описание пользователя для каждого тарифа, что нам показывают выбросы, кто приносит больше дополнительной выручки, кто приносит больше выручки в общем объеме). Ну и также ответить на главный вопрос проекта — какой тариф лучше.\n",
    "<div>"
   ]
  },
  {
   "cell_type": "markdown",
   "metadata": {},
   "source": [
    "<div class=\"alert alert-info\"> \n",
    "<b>Комментарий студента:</b> \n",
    "Пользователи тарифа \"Смарт\" в среднем тратят 440 минут разговора, пишут 29 сообщений и используют 16 925 Мб трафика.\n",
    "Пользователи тарифа \"Ультра\" в среднем тратят 535 минут разговора, пишут 48 сообщений и используют 19 734 Мб трафика. Несмотря на средние значения тарифа \"Смарт\" которые практически все укалдываются в базовый тариф, мы видим что средняя выручка по тарифу выше базового состояния. В то время, когда выручка от оплаты тарифа \"Ультра\" равна среднему значению по выборке. Таким образом абоненты \"Смарт\" помимо абонентской платы оплачивают услуги сверх тарифного пакета. Рекомендация для бизнеса привлекать абонентов в сегменте тарифа \"Смарт\" - он наиболее привлекательный.\n",
    "</div>"
   ]
  },
  {
   "cell_type": "markdown",
   "metadata": {},
   "source": [
    "<div class=\"alert alert-success\">\n",
    "<b>Комментарий ревьюера v2:</b>\n",
    "    \n",
    "Спасибо, что расширил общие выводы и добавил рекомендации для бизнеса. \n",
    "\n",
    "PS: Если наскучит ~~нетфликс~~ кинопоискHD, то могу порекомендовать крутые лекции по стат анализу тут: - [https://www.youtube.com/watch?v=enpPFqcIFj8&list=PLlb7e2G7aSpRb95_Wi7lZ-zA6fOjV3_l7](https://www.youtube.com/watch?v=enpPFqcIFj8&list=PLlb7e2G7aSpRb95_Wi7lZ-zA6fOjV3_l7)\n",
    "\n",
    "</div>"
   ]
  },
  {
   "cell_type": "markdown",
   "metadata": {},
   "source": [
    "<div class=\"alert alert-info\"> \n",
    "<b>Комментарий студента:</b> \n",
    "Дмитрий, благодарю за комментарии. Жду обратную связь и совет в том месте, где я запнулся.\n",
    "</div>"
   ]
  }
 ],
 "metadata": {
  "ExecuteTimeLog": [
   {
    "duration": 1207,
    "start_time": "2021-06-21T11:21:47.650Z"
   },
   {
    "duration": 687,
    "start_time": "2021-06-21T11:23:10.277Z"
   },
   {
    "duration": 2220,
    "start_time": "2021-06-21T11:25:00.039Z"
   },
   {
    "duration": 19,
    "start_time": "2021-06-21T14:37:19.255Z"
   },
   {
    "duration": 26,
    "start_time": "2021-06-21T14:37:22.815Z"
   },
   {
    "duration": 22,
    "start_time": "2021-06-21T14:37:34.222Z"
   },
   {
    "duration": 20,
    "start_time": "2021-06-21T14:37:53.302Z"
   },
   {
    "duration": 9,
    "start_time": "2021-06-21T14:38:05.780Z"
   },
   {
    "duration": 9,
    "start_time": "2021-06-21T14:38:24.566Z"
   },
   {
    "duration": 277,
    "start_time": "2021-06-22T08:38:53.338Z"
   },
   {
    "duration": 956,
    "start_time": "2021-06-22T08:38:58.672Z"
   },
   {
    "duration": 1018,
    "start_time": "2021-06-22T08:38:59.785Z"
   },
   {
    "duration": 21,
    "start_time": "2021-06-22T08:39:02.577Z"
   },
   {
    "duration": 11,
    "start_time": "2021-06-22T08:58:05.554Z"
   },
   {
    "duration": 1236,
    "start_time": "2021-06-23T07:02:45.971Z"
   },
   {
    "duration": 1688,
    "start_time": "2021-06-23T07:02:47.210Z"
   },
   {
    "duration": 22,
    "start_time": "2021-06-23T07:02:56.168Z"
   },
   {
    "duration": 12,
    "start_time": "2021-06-23T07:03:13.127Z"
   },
   {
    "duration": 13,
    "start_time": "2021-06-23T07:03:33.847Z"
   },
   {
    "duration": 11,
    "start_time": "2021-06-23T07:03:55.272Z"
   },
   {
    "duration": 13,
    "start_time": "2021-06-23T07:04:15.880Z"
   },
   {
    "duration": 393,
    "start_time": "2021-06-23T07:04:44.996Z"
   },
   {
    "duration": 15,
    "start_time": "2021-06-23T07:04:53.293Z"
   },
   {
    "duration": 35,
    "start_time": "2021-06-23T07:14:16.464Z"
   },
   {
    "duration": 20,
    "start_time": "2021-06-23T07:14:28.089Z"
   },
   {
    "duration": 13,
    "start_time": "2021-06-23T07:14:37.201Z"
   },
   {
    "duration": 31,
    "start_time": "2021-06-23T07:16:57.092Z"
   },
   {
    "duration": 7999,
    "start_time": "2021-06-23T07:19:18.642Z"
   },
   {
    "duration": 25,
    "start_time": "2021-06-23T07:19:57.569Z"
   },
   {
    "duration": 7,
    "start_time": "2021-06-23T07:21:14.565Z"
   },
   {
    "duration": 282,
    "start_time": "2021-06-23T07:32:56.273Z"
   },
   {
    "duration": 12,
    "start_time": "2021-06-23T07:33:04.393Z"
   },
   {
    "duration": 35,
    "start_time": "2021-06-23T07:33:16.250Z"
   },
   {
    "duration": 300,
    "start_time": "2021-06-23T07:40:26.014Z"
   },
   {
    "duration": 329,
    "start_time": "2021-06-23T07:40:32.238Z"
   },
   {
    "duration": 13,
    "start_time": "2021-06-23T07:40:53.043Z"
   },
   {
    "duration": 269,
    "start_time": "2021-06-23T07:41:34.642Z"
   },
   {
    "duration": 285,
    "start_time": "2021-06-23T07:42:55.573Z"
   },
   {
    "duration": 13,
    "start_time": "2021-06-23T07:43:13.850Z"
   },
   {
    "duration": 12,
    "start_time": "2021-06-23T07:43:20.962Z"
   },
   {
    "duration": 26,
    "start_time": "2021-06-23T07:50:31.784Z"
   },
   {
    "duration": 27,
    "start_time": "2021-06-23T07:50:59.066Z"
   },
   {
    "duration": 30,
    "start_time": "2021-06-23T07:53:52.153Z"
   },
   {
    "duration": 267,
    "start_time": "2021-06-23T07:54:24.449Z"
   },
   {
    "duration": 746,
    "start_time": "2021-06-23T07:54:29.072Z"
   },
   {
    "duration": 14,
    "start_time": "2021-06-23T07:55:06.619Z"
   },
   {
    "duration": 5,
    "start_time": "2021-06-23T07:56:11.941Z"
   },
   {
    "duration": 443,
    "start_time": "2021-06-23T07:57:27.032Z"
   },
   {
    "duration": 417,
    "start_time": "2021-06-23T07:58:10.298Z"
   },
   {
    "duration": 399,
    "start_time": "2021-06-23T07:58:14.110Z"
   },
   {
    "duration": 383,
    "start_time": "2021-06-23T07:58:20.944Z"
   },
   {
    "duration": 394,
    "start_time": "2021-06-23T08:07:38.857Z"
   },
   {
    "duration": 280,
    "start_time": "2021-06-23T08:29:01.069Z"
   },
   {
    "duration": 60,
    "start_time": "2021-06-23T08:29:07.146Z"
   },
   {
    "duration": 5,
    "start_time": "2021-06-23T11:04:03.865Z"
   },
   {
    "duration": 8,
    "start_time": "2021-06-23T11:04:08.214Z"
   },
   {
    "duration": 5,
    "start_time": "2021-06-23T11:04:23.310Z"
   },
   {
    "duration": 6,
    "start_time": "2021-06-23T11:04:25.341Z"
   },
   {
    "duration": 24,
    "start_time": "2021-06-23T11:05:12.446Z"
   },
   {
    "duration": 91,
    "start_time": "2021-06-23T11:05:14.708Z"
   },
   {
    "duration": 266,
    "start_time": "2021-06-23T11:07:07.981Z"
   },
   {
    "duration": 32,
    "start_time": "2021-06-23T11:09:12.269Z"
   },
   {
    "duration": 14,
    "start_time": "2021-06-23T11:09:16.990Z"
   },
   {
    "duration": 32,
    "start_time": "2021-06-23T11:11:06.308Z"
   },
   {
    "duration": 15,
    "start_time": "2021-06-23T11:11:14.540Z"
   },
   {
    "duration": 14,
    "start_time": "2021-06-23T11:11:21.774Z"
   },
   {
    "duration": 4,
    "start_time": "2021-06-23T11:11:36.907Z"
   },
   {
    "duration": 2305,
    "start_time": "2021-06-23T11:11:36.918Z"
   },
   {
    "duration": 28,
    "start_time": "2021-06-23T11:11:39.226Z"
   },
   {
    "duration": 33,
    "start_time": "2021-06-23T11:11:39.258Z"
   },
   {
    "duration": 40,
    "start_time": "2021-06-23T11:11:39.295Z"
   },
   {
    "duration": 14,
    "start_time": "2021-06-23T11:11:39.338Z"
   },
   {
    "duration": 48,
    "start_time": "2021-06-23T11:11:39.354Z"
   },
   {
    "duration": 41,
    "start_time": "2021-06-23T11:11:39.405Z"
   },
   {
    "duration": 44,
    "start_time": "2021-06-23T11:11:39.448Z"
   },
   {
    "duration": 45,
    "start_time": "2021-06-23T11:11:39.496Z"
   },
   {
    "duration": 34,
    "start_time": "2021-06-23T11:11:39.544Z"
   },
   {
    "duration": 40,
    "start_time": "2021-06-23T11:11:39.581Z"
   },
   {
    "duration": 69,
    "start_time": "2021-06-23T11:11:39.624Z"
   },
   {
    "duration": 29,
    "start_time": "2021-06-23T11:11:39.696Z"
   },
   {
    "duration": 32,
    "start_time": "2021-06-23T11:11:39.728Z"
   },
   {
    "duration": 34,
    "start_time": "2021-06-23T11:11:39.763Z"
   },
   {
    "duration": 71,
    "start_time": "2021-06-23T11:11:39.799Z"
   },
   {
    "duration": 54,
    "start_time": "2021-06-23T11:11:39.873Z"
   },
   {
    "duration": 30,
    "start_time": "2021-06-23T11:11:39.930Z"
   },
   {
    "duration": 685,
    "start_time": "2021-06-23T11:11:39.963Z"
   },
   {
    "duration": 12,
    "start_time": "2021-06-23T11:11:40.651Z"
   },
   {
    "duration": 6600,
    "start_time": "2021-06-23T11:11:40.665Z"
   },
   {
    "duration": -2,
    "start_time": "2021-06-23T11:11:47.271Z"
   },
   {
    "duration": -3,
    "start_time": "2021-06-23T11:11:47.273Z"
   },
   {
    "duration": -2,
    "start_time": "2021-06-23T11:11:47.274Z"
   },
   {
    "duration": 413,
    "start_time": "2021-06-23T11:12:09.787Z"
   },
   {
    "duration": 14,
    "start_time": "2021-06-23T11:12:16.260Z"
   },
   {
    "duration": 60,
    "start_time": "2021-06-23T11:12:23.786Z"
   },
   {
    "duration": 29,
    "start_time": "2021-06-23T11:12:27.493Z"
   },
   {
    "duration": 14,
    "start_time": "2021-06-23T11:12:30.310Z"
   },
   {
    "duration": 562,
    "start_time": "2021-06-23T11:16:11.088Z"
   },
   {
    "duration": 154,
    "start_time": "2021-06-23T11:16:42.017Z"
   },
   {
    "duration": 6,
    "start_time": "2021-06-23T11:33:48.539Z"
   },
   {
    "duration": 120,
    "start_time": "2021-06-23T11:35:06.146Z"
   },
   {
    "duration": 6,
    "start_time": "2021-06-23T11:45:21.169Z"
   },
   {
    "duration": 20,
    "start_time": "2021-06-23T11:46:11.454Z"
   },
   {
    "duration": 6,
    "start_time": "2021-06-23T12:19:01.421Z"
   },
   {
    "duration": 31,
    "start_time": "2021-06-23T12:46:28.552Z"
   },
   {
    "duration": 6975,
    "start_time": "2021-06-23T12:50:54.821Z"
   },
   {
    "duration": 27,
    "start_time": "2021-06-23T12:51:10.201Z"
   },
   {
    "duration": 7317,
    "start_time": "2021-06-23T12:53:44.398Z"
   },
   {
    "duration": 22,
    "start_time": "2021-06-23T12:54:56.518Z"
   },
   {
    "duration": 306,
    "start_time": "2021-06-23T13:04:16.185Z"
   },
   {
    "duration": 9,
    "start_time": "2021-06-23T13:04:21.501Z"
   },
   {
    "duration": 8,
    "start_time": "2021-06-23T13:04:54.965Z"
   },
   {
    "duration": 8,
    "start_time": "2021-06-23T13:05:13.435Z"
   },
   {
    "duration": 8,
    "start_time": "2021-06-23T13:05:30.341Z"
   },
   {
    "duration": 10,
    "start_time": "2021-06-23T13:06:51.082Z"
   },
   {
    "duration": 275,
    "start_time": "2021-06-23T13:07:16.856Z"
   },
   {
    "duration": 21,
    "start_time": "2021-06-23T13:07:26.654Z"
   },
   {
    "duration": 65,
    "start_time": "2021-06-23T13:08:20.589Z"
   },
   {
    "duration": 4,
    "start_time": "2021-06-23T14:02:23.689Z"
   },
   {
    "duration": 521,
    "start_time": "2021-06-23T14:04:00.148Z"
   },
   {
    "duration": 554,
    "start_time": "2021-06-23T14:04:10.202Z"
   },
   {
    "duration": 5,
    "start_time": "2021-06-23T14:04:45.242Z"
   },
   {
    "duration": 266,
    "start_time": "2021-06-23T14:05:00.714Z"
   },
   {
    "duration": 21,
    "start_time": "2021-06-23T14:05:43.898Z"
   },
   {
    "duration": 31,
    "start_time": "2021-06-23T14:05:47.188Z"
   },
   {
    "duration": 24,
    "start_time": "2021-06-23T14:05:48.070Z"
   },
   {
    "duration": 22,
    "start_time": "2021-06-23T14:05:48.794Z"
   },
   {
    "duration": 69,
    "start_time": "2021-06-23T14:05:54.389Z"
   },
   {
    "duration": 4,
    "start_time": "2021-06-23T14:06:00.892Z"
   },
   {
    "duration": 272,
    "start_time": "2021-06-23T14:06:02.457Z"
   },
   {
    "duration": 60,
    "start_time": "2021-06-23T14:06:34.935Z"
   },
   {
    "duration": 41,
    "start_time": "2021-06-23T14:07:25.520Z"
   },
   {
    "duration": 357,
    "start_time": "2021-06-23T14:17:21.000Z"
   },
   {
    "duration": 148,
    "start_time": "2021-06-23T14:18:01.682Z"
   },
   {
    "duration": 118,
    "start_time": "2021-06-23T14:18:25.321Z"
   },
   {
    "duration": 121,
    "start_time": "2021-06-23T14:19:07.639Z"
   },
   {
    "duration": 422,
    "start_time": "2021-06-23T14:34:26.067Z"
   },
   {
    "duration": 509,
    "start_time": "2021-06-23T14:35:51.934Z"
   },
   {
    "duration": 99,
    "start_time": "2021-06-23T14:36:31.816Z"
   },
   {
    "duration": 1443,
    "start_time": "2021-06-23T14:38:01.941Z"
   },
   {
    "duration": 1626,
    "start_time": "2021-06-23T14:38:03.387Z"
   },
   {
    "duration": 28,
    "start_time": "2021-06-23T14:38:05.016Z"
   },
   {
    "duration": 16,
    "start_time": "2021-06-23T14:38:05.047Z"
   },
   {
    "duration": 43,
    "start_time": "2021-06-23T14:38:05.065Z"
   },
   {
    "duration": 11,
    "start_time": "2021-06-23T14:38:05.111Z"
   },
   {
    "duration": 22,
    "start_time": "2021-06-23T14:38:05.125Z"
   },
   {
    "duration": 11,
    "start_time": "2021-06-23T14:38:05.151Z"
   },
   {
    "duration": 38,
    "start_time": "2021-06-23T14:38:05.165Z"
   },
   {
    "duration": 16,
    "start_time": "2021-06-23T14:38:05.205Z"
   },
   {
    "duration": 10,
    "start_time": "2021-06-23T14:38:05.224Z"
   },
   {
    "duration": 19,
    "start_time": "2021-06-23T14:38:05.237Z"
   },
   {
    "duration": 77,
    "start_time": "2021-06-23T14:38:05.259Z"
   },
   {
    "duration": 29,
    "start_time": "2021-06-23T14:38:05.339Z"
   },
   {
    "duration": 41,
    "start_time": "2021-06-23T14:38:05.371Z"
   },
   {
    "duration": 6,
    "start_time": "2021-06-23T14:38:05.414Z"
   },
   {
    "duration": 10,
    "start_time": "2021-06-23T14:38:05.423Z"
   },
   {
    "duration": 15,
    "start_time": "2021-06-23T14:38:05.436Z"
   },
   {
    "duration": 6,
    "start_time": "2021-06-23T14:38:05.453Z"
   },
   {
    "duration": 64,
    "start_time": "2021-06-23T14:38:05.462Z"
   },
   {
    "duration": 31,
    "start_time": "2021-06-23T14:38:05.529Z"
   },
   {
    "duration": 47,
    "start_time": "2021-06-23T14:38:05.564Z"
   },
   {
    "duration": 111,
    "start_time": "2021-06-23T14:38:05.618Z"
   },
   {
    "duration": 5,
    "start_time": "2021-06-23T14:38:05.732Z"
   },
   {
    "duration": 171,
    "start_time": "2021-06-23T14:38:05.740Z"
   },
   {
    "duration": 119,
    "start_time": "2021-06-23T14:38:05.913Z"
   },
   {
    "duration": 68,
    "start_time": "2021-06-23T14:38:06.034Z"
   },
   {
    "duration": 25,
    "start_time": "2021-06-23T14:38:06.104Z"
   },
   {
    "duration": 42,
    "start_time": "2021-06-23T14:38:06.131Z"
   },
   {
    "duration": 53,
    "start_time": "2021-06-23T14:38:06.175Z"
   },
   {
    "duration": 878,
    "start_time": "2021-06-23T14:38:06.231Z"
   },
   {
    "duration": 14,
    "start_time": "2021-06-23T14:38:07.111Z"
   },
   {
    "duration": 397,
    "start_time": "2021-06-23T14:38:07.127Z"
   },
   {
    "duration": 140,
    "start_time": "2021-06-23T14:38:07.527Z"
   },
   {
    "duration": 523,
    "start_time": "2021-06-23T14:38:58.483Z"
   },
   {
    "duration": 413,
    "start_time": "2021-06-23T14:39:03.868Z"
   },
   {
    "duration": 7073,
    "start_time": "2021-06-23T14:39:29.872Z"
   },
   {
    "duration": 7471,
    "start_time": "2021-06-23T14:46:43.275Z"
   },
   {
    "duration": 389,
    "start_time": "2021-06-23T14:47:07.750Z"
   },
   {
    "duration": 209,
    "start_time": "2021-06-23T14:47:46.435Z"
   },
   {
    "duration": 21,
    "start_time": "2021-06-23T14:47:53.566Z"
   },
   {
    "duration": 20,
    "start_time": "2021-06-23T14:49:14.380Z"
   },
   {
    "duration": 176,
    "start_time": "2021-06-23T14:49:21.299Z"
   },
   {
    "duration": 19,
    "start_time": "2021-06-23T14:49:23.390Z"
   },
   {
    "duration": 155,
    "start_time": "2021-06-23T14:50:13.870Z"
   },
   {
    "duration": 168,
    "start_time": "2021-06-23T14:50:22.750Z"
   },
   {
    "duration": 21,
    "start_time": "2021-06-23T14:50:36.060Z"
   },
   {
    "duration": 55,
    "start_time": "2021-06-23T14:51:22.822Z"
   },
   {
    "duration": 103,
    "start_time": "2021-06-23T14:52:06.710Z"
   },
   {
    "duration": 19,
    "start_time": "2021-06-23T14:52:08.663Z"
   },
   {
    "duration": 20,
    "start_time": "2021-06-23T14:52:25.902Z"
   },
   {
    "duration": 18,
    "start_time": "2021-06-23T14:52:32.730Z"
   },
   {
    "duration": 143,
    "start_time": "2021-06-23T14:52:55.114Z"
   },
   {
    "duration": 274,
    "start_time": "2021-06-23T14:53:26.561Z"
   },
   {
    "duration": 4,
    "start_time": "2021-06-23T14:55:55.252Z"
   },
   {
    "duration": 302,
    "start_time": "2021-06-23T14:56:01.488Z"
   },
   {
    "duration": 4,
    "start_time": "2021-06-23T15:01:30.195Z"
   },
   {
    "duration": 24,
    "start_time": "2021-06-23T15:01:37.446Z"
   },
   {
    "duration": 24,
    "start_time": "2021-06-23T15:01:43.827Z"
   },
   {
    "duration": 379,
    "start_time": "2021-06-24T06:09:26.315Z"
   },
   {
    "duration": 1539,
    "start_time": "2021-06-24T06:09:29.525Z"
   },
   {
    "duration": 2636,
    "start_time": "2021-06-24T06:09:31.066Z"
   },
   {
    "duration": 13,
    "start_time": "2021-06-24T06:09:37.754Z"
   },
   {
    "duration": 434,
    "start_time": "2021-06-24T06:12:52.341Z"
   },
   {
    "duration": 478,
    "start_time": "2021-06-24T06:13:01.556Z"
   },
   {
    "duration": 1955,
    "start_time": "2021-06-24T06:13:14.510Z"
   },
   {
    "duration": 1990,
    "start_time": "2021-06-24T06:13:16.468Z"
   },
   {
    "duration": 28,
    "start_time": "2021-06-24T06:13:18.464Z"
   },
   {
    "duration": 27,
    "start_time": "2021-06-24T06:13:18.495Z"
   },
   {
    "duration": 43,
    "start_time": "2021-06-24T06:13:18.524Z"
   },
   {
    "duration": 12,
    "start_time": "2021-06-24T06:13:18.569Z"
   },
   {
    "duration": 19,
    "start_time": "2021-06-24T06:13:18.585Z"
   },
   {
    "duration": 10,
    "start_time": "2021-06-24T06:13:18.607Z"
   },
   {
    "duration": 49,
    "start_time": "2021-06-24T06:13:18.619Z"
   },
   {
    "duration": 17,
    "start_time": "2021-06-24T06:13:18.670Z"
   },
   {
    "duration": 10,
    "start_time": "2021-06-24T06:13:18.689Z"
   },
   {
    "duration": 17,
    "start_time": "2021-06-24T06:13:18.702Z"
   },
   {
    "duration": 61,
    "start_time": "2021-06-24T06:13:18.722Z"
   },
   {
    "duration": 35,
    "start_time": "2021-06-24T06:13:18.785Z"
   },
   {
    "duration": 45,
    "start_time": "2021-06-24T06:13:18.823Z"
   },
   {
    "duration": 6,
    "start_time": "2021-06-24T06:13:18.870Z"
   },
   {
    "duration": 11,
    "start_time": "2021-06-24T06:13:18.878Z"
   },
   {
    "duration": 9,
    "start_time": "2021-06-24T06:13:18.891Z"
   },
   {
    "duration": 5,
    "start_time": "2021-06-24T06:13:18.903Z"
   },
   {
    "duration": 65,
    "start_time": "2021-06-24T06:13:18.910Z"
   },
   {
    "duration": 26,
    "start_time": "2021-06-24T06:13:18.977Z"
   },
   {
    "duration": 27,
    "start_time": "2021-06-24T06:13:19.011Z"
   },
   {
    "duration": 31,
    "start_time": "2021-06-24T06:13:19.042Z"
   },
   {
    "duration": 258,
    "start_time": "2021-06-24T06:13:19.077Z"
   },
   {
    "duration": 168,
    "start_time": "2021-06-24T06:13:19.338Z"
   },
   {
    "duration": 192,
    "start_time": "2021-06-24T06:13:19.509Z"
   },
   {
    "duration": 35,
    "start_time": "2021-06-24T06:13:19.704Z"
   },
   {
    "duration": 46,
    "start_time": "2021-06-24T06:13:19.743Z"
   },
   {
    "duration": 70,
    "start_time": "2021-06-24T06:13:19.792Z"
   },
   {
    "duration": 450,
    "start_time": "2021-06-24T06:13:19.865Z"
   },
   {
    "duration": -18,
    "start_time": "2021-06-24T06:13:20.335Z"
   },
   {
    "duration": -18,
    "start_time": "2021-06-24T06:13:20.337Z"
   },
   {
    "duration": -19,
    "start_time": "2021-06-24T06:13:20.339Z"
   },
   {
    "duration": -19,
    "start_time": "2021-06-24T06:13:20.341Z"
   },
   {
    "duration": -19,
    "start_time": "2021-06-24T06:13:20.342Z"
   },
   {
    "duration": -20,
    "start_time": "2021-06-24T06:13:20.344Z"
   },
   {
    "duration": -20,
    "start_time": "2021-06-24T06:13:20.345Z"
   },
   {
    "duration": 3332,
    "start_time": "2021-06-24T06:16:31.163Z"
   },
   {
    "duration": 24,
    "start_time": "2021-06-24T06:16:47.316Z"
   },
   {
    "duration": 25,
    "start_time": "2021-06-24T06:16:51.604Z"
   },
   {
    "duration": 17,
    "start_time": "2021-06-24T06:17:05.396Z"
   },
   {
    "duration": 17,
    "start_time": "2021-06-24T06:17:15.444Z"
   },
   {
    "duration": 8897,
    "start_time": "2021-06-24T06:19:07.661Z"
   },
   {
    "duration": 1573,
    "start_time": "2021-06-24T06:31:50.585Z"
   },
   {
    "duration": 2621,
    "start_time": "2021-06-24T06:31:52.163Z"
   },
   {
    "duration": 29,
    "start_time": "2021-06-24T06:31:54.787Z"
   },
   {
    "duration": 25,
    "start_time": "2021-06-24T06:31:54.819Z"
   },
   {
    "duration": 38,
    "start_time": "2021-06-24T06:31:54.847Z"
   },
   {
    "duration": 12,
    "start_time": "2021-06-24T06:31:54.887Z"
   },
   {
    "duration": 26,
    "start_time": "2021-06-24T06:31:54.901Z"
   },
   {
    "duration": 31,
    "start_time": "2021-06-24T06:31:54.931Z"
   },
   {
    "duration": 9,
    "start_time": "2021-06-24T06:31:54.965Z"
   },
   {
    "duration": 24,
    "start_time": "2021-06-24T06:31:54.976Z"
   },
   {
    "duration": 12,
    "start_time": "2021-06-24T06:31:55.002Z"
   },
   {
    "duration": 26,
    "start_time": "2021-06-24T06:31:55.016Z"
   },
   {
    "duration": 57,
    "start_time": "2021-06-24T06:31:55.045Z"
   },
   {
    "duration": 30,
    "start_time": "2021-06-24T06:31:55.105Z"
   },
   {
    "duration": 64,
    "start_time": "2021-06-24T06:31:55.137Z"
   },
   {
    "duration": 8,
    "start_time": "2021-06-24T06:31:55.204Z"
   },
   {
    "duration": 13,
    "start_time": "2021-06-24T06:31:55.215Z"
   },
   {
    "duration": 11,
    "start_time": "2021-06-24T06:31:55.231Z"
   },
   {
    "duration": 6,
    "start_time": "2021-06-24T06:31:55.263Z"
   },
   {
    "duration": 39,
    "start_time": "2021-06-24T06:31:55.272Z"
   },
   {
    "duration": 55,
    "start_time": "2021-06-24T06:31:55.314Z"
   },
   {
    "duration": 25,
    "start_time": "2021-06-24T06:31:55.372Z"
   },
   {
    "duration": 12,
    "start_time": "2021-06-24T06:31:55.405Z"
   },
   {
    "duration": 268,
    "start_time": "2021-06-24T06:31:55.420Z"
   },
   {
    "duration": 170,
    "start_time": "2021-06-24T06:31:55.691Z"
   },
   {
    "duration": 198,
    "start_time": "2021-06-24T06:31:55.864Z"
   },
   {
    "duration": 34,
    "start_time": "2021-06-24T06:31:56.065Z"
   },
   {
    "duration": 21,
    "start_time": "2021-06-24T06:31:56.103Z"
   },
   {
    "duration": 78,
    "start_time": "2021-06-24T06:31:56.127Z"
   },
   {
    "duration": 4754,
    "start_time": "2021-06-24T06:31:56.208Z"
   },
   {
    "duration": 24,
    "start_time": "2021-06-24T06:32:00.965Z"
   },
   {
    "duration": 9787,
    "start_time": "2021-06-24T06:32:00.991Z"
   },
   {
    "duration": -59,
    "start_time": "2021-06-24T06:32:10.840Z"
   },
   {
    "duration": -61,
    "start_time": "2021-06-24T06:32:10.843Z"
   },
   {
    "duration": -63,
    "start_time": "2021-06-24T06:32:10.846Z"
   },
   {
    "duration": -63,
    "start_time": "2021-06-24T06:32:10.848Z"
   },
   {
    "duration": -62,
    "start_time": "2021-06-24T06:32:10.849Z"
   },
   {
    "duration": -64,
    "start_time": "2021-06-24T06:32:10.852Z"
   },
   {
    "duration": 9188,
    "start_time": "2021-06-24T06:51:41.518Z"
   },
   {
    "duration": 9,
    "start_time": "2021-06-24T06:51:57.544Z"
   },
   {
    "duration": 9984,
    "start_time": "2021-06-24T07:15:41.485Z"
   },
   {
    "duration": 23,
    "start_time": "2021-06-24T07:16:26.111Z"
   },
   {
    "duration": 8550,
    "start_time": "2021-06-24T07:34:18.421Z"
   },
   {
    "duration": 8505,
    "start_time": "2021-06-24T07:34:55.270Z"
   },
   {
    "duration": 611,
    "start_time": "2021-06-24T07:54:05.322Z"
   },
   {
    "duration": 3262,
    "start_time": "2021-06-24T07:55:40.747Z"
   },
   {
    "duration": 17,
    "start_time": "2021-06-24T07:55:44.012Z"
   },
   {
    "duration": 588,
    "start_time": "2021-06-24T07:55:49.675Z"
   },
   {
    "duration": 8479,
    "start_time": "2021-06-24T07:58:15.053Z"
   },
   {
    "duration": 8700,
    "start_time": "2021-06-24T07:58:28.348Z"
   },
   {
    "duration": 545,
    "start_time": "2021-06-24T07:58:54.126Z"
   },
   {
    "duration": 564,
    "start_time": "2021-06-24T08:00:53.309Z"
   },
   {
    "duration": 576,
    "start_time": "2021-06-24T08:12:36.025Z"
   },
   {
    "duration": 542,
    "start_time": "2021-06-24T08:16:31.482Z"
   },
   {
    "duration": 608,
    "start_time": "2021-06-24T08:16:55.107Z"
   },
   {
    "duration": 8466,
    "start_time": "2021-06-24T08:53:14.890Z"
   },
   {
    "duration": 12,
    "start_time": "2021-06-24T08:57:05.789Z"
   },
   {
    "duration": 508,
    "start_time": "2021-06-24T09:04:48.161Z"
   },
   {
    "duration": 321,
    "start_time": "2021-06-24T09:05:01.800Z"
   },
   {
    "duration": 405,
    "start_time": "2021-06-24T09:05:09.496Z"
   },
   {
    "duration": 8402,
    "start_time": "2021-06-24T09:10:28.490Z"
   },
   {
    "duration": 404,
    "start_time": "2021-06-24T09:10:44.938Z"
   },
   {
    "duration": 336,
    "start_time": "2021-06-24T09:11:07.591Z"
   },
   {
    "duration": 26,
    "start_time": "2021-06-24T09:13:33.067Z"
   },
   {
    "duration": 307,
    "start_time": "2021-06-24T09:13:44.707Z"
   },
   {
    "duration": 9114,
    "start_time": "2021-06-24T09:14:16.171Z"
   },
   {
    "duration": 535,
    "start_time": "2021-06-24T09:15:27.173Z"
   },
   {
    "duration": 405,
    "start_time": "2021-06-24T09:16:26.162Z"
   },
   {
    "duration": 119,
    "start_time": "2021-06-24T09:16:47.976Z"
   },
   {
    "duration": 122,
    "start_time": "2021-06-24T09:16:56.925Z"
   },
   {
    "duration": 115,
    "start_time": "2021-06-24T09:17:08.891Z"
   },
   {
    "duration": 12685,
    "start_time": "2021-06-24T09:17:44.892Z"
   },
   {
    "duration": 8616,
    "start_time": "2021-06-24T09:22:44.680Z"
   },
   {
    "duration": 1357,
    "start_time": "2021-06-24T09:23:27.878Z"
   },
   {
    "duration": 1725,
    "start_time": "2021-06-24T09:24:53.813Z"
   },
   {
    "duration": 8100,
    "start_time": "2021-06-24T09:27:12.272Z"
   },
   {
    "duration": 8157,
    "start_time": "2021-06-24T09:27:47.819Z"
   },
   {
    "duration": 5,
    "start_time": "2021-06-24T10:55:30.433Z"
   },
   {
    "duration": 8825,
    "start_time": "2021-06-24T10:55:50.833Z"
   },
   {
    "duration": 616,
    "start_time": "2021-06-24T10:56:07.792Z"
   },
   {
    "duration": 19,
    "start_time": "2021-06-24T10:58:04.555Z"
   },
   {
    "duration": 18,
    "start_time": "2021-06-24T10:58:11.028Z"
   },
   {
    "duration": 19,
    "start_time": "2021-06-24T10:59:19.636Z"
   },
   {
    "duration": 14,
    "start_time": "2021-06-24T10:59:42.565Z"
   },
   {
    "duration": 330,
    "start_time": "2021-06-24T10:59:59.508Z"
   },
   {
    "duration": 6245,
    "start_time": "2021-06-24T11:00:29.196Z"
   },
   {
    "duration": -26,
    "start_time": "2021-06-24T11:00:35.470Z"
   },
   {
    "duration": 3626,
    "start_time": "2021-06-24T11:01:42.399Z"
   },
   {
    "duration": 19,
    "start_time": "2021-06-24T11:01:46.027Z"
   },
   {
    "duration": 25,
    "start_time": "2021-06-24T11:02:08.788Z"
   },
   {
    "duration": 15,
    "start_time": "2021-06-24T11:02:10.061Z"
   },
   {
    "duration": 34,
    "start_time": "2021-06-24T11:02:12.643Z"
   },
   {
    "duration": 3371,
    "start_time": "2021-06-24T11:02:13.630Z"
   },
   {
    "duration": 16,
    "start_time": "2021-06-24T11:02:17.004Z"
   },
   {
    "duration": 14,
    "start_time": "2021-06-24T11:02:37.605Z"
   },
   {
    "duration": 9356,
    "start_time": "2021-06-24T11:02:49.951Z"
   },
   {
    "duration": 343,
    "start_time": "2021-06-24T11:05:45.454Z"
   },
   {
    "duration": 6445,
    "start_time": "2021-06-24T11:06:04.598Z"
   },
   {
    "duration": -12,
    "start_time": "2021-06-24T11:06:11.058Z"
   },
   {
    "duration": 6393,
    "start_time": "2021-06-24T11:06:21.248Z"
   },
   {
    "duration": 8215,
    "start_time": "2021-06-24T11:08:37.863Z"
   },
   {
    "duration": 636,
    "start_time": "2021-06-24T11:16:33.369Z"
   },
   {
    "duration": 610,
    "start_time": "2021-06-24T11:16:56.082Z"
   },
   {
    "duration": 173,
    "start_time": "2021-06-24T11:17:30.106Z"
   },
   {
    "duration": 167,
    "start_time": "2021-06-24T11:17:37.431Z"
   },
   {
    "duration": 194,
    "start_time": "2021-06-24T11:17:58.410Z"
   },
   {
    "duration": 26,
    "start_time": "2021-06-24T11:19:27.483Z"
   },
   {
    "duration": 8730,
    "start_time": "2021-06-24T11:22:13.219Z"
   },
   {
    "duration": 8310,
    "start_time": "2021-06-24T11:22:36.252Z"
   },
   {
    "duration": 331,
    "start_time": "2021-06-24T11:23:17.716Z"
   },
   {
    "duration": 6,
    "start_time": "2021-06-24T11:23:29.300Z"
   },
   {
    "duration": 8,
    "start_time": "2021-06-24T11:23:45.676Z"
   },
   {
    "duration": 11,
    "start_time": "2021-06-24T11:24:13.788Z"
   },
   {
    "duration": 8,
    "start_time": "2021-06-24T11:24:23.899Z"
   },
   {
    "duration": 9,
    "start_time": "2021-06-24T11:24:50.686Z"
   },
   {
    "duration": 1470,
    "start_time": "2021-06-24T11:25:11.464Z"
   },
   {
    "duration": 2265,
    "start_time": "2021-06-24T11:25:12.937Z"
   },
   {
    "duration": 27,
    "start_time": "2021-06-24T11:25:15.205Z"
   },
   {
    "duration": 17,
    "start_time": "2021-06-24T11:25:15.235Z"
   },
   {
    "duration": 30,
    "start_time": "2021-06-24T11:25:15.254Z"
   },
   {
    "duration": 11,
    "start_time": "2021-06-24T11:25:15.287Z"
   },
   {
    "duration": 32,
    "start_time": "2021-06-24T11:25:15.301Z"
   },
   {
    "duration": 31,
    "start_time": "2021-06-24T11:25:15.337Z"
   },
   {
    "duration": 14,
    "start_time": "2021-06-24T11:25:15.371Z"
   },
   {
    "duration": 20,
    "start_time": "2021-06-24T11:25:15.388Z"
   },
   {
    "duration": 14,
    "start_time": "2021-06-24T11:25:15.410Z"
   },
   {
    "duration": 37,
    "start_time": "2021-06-24T11:25:15.426Z"
   },
   {
    "duration": 41,
    "start_time": "2021-06-24T11:25:15.466Z"
   },
   {
    "duration": 52,
    "start_time": "2021-06-24T11:25:15.509Z"
   },
   {
    "duration": 26,
    "start_time": "2021-06-24T11:25:15.564Z"
   },
   {
    "duration": 6,
    "start_time": "2021-06-24T11:25:15.593Z"
   },
   {
    "duration": 21,
    "start_time": "2021-06-24T11:25:15.601Z"
   },
   {
    "duration": 22,
    "start_time": "2021-06-24T11:25:15.624Z"
   },
   {
    "duration": 19,
    "start_time": "2021-06-24T11:25:15.648Z"
   },
   {
    "duration": 72,
    "start_time": "2021-06-24T11:25:15.670Z"
   },
   {
    "duration": 207,
    "start_time": "2021-06-24T11:25:15.744Z"
   },
   {
    "duration": 21,
    "start_time": "2021-06-24T11:25:15.954Z"
   },
   {
    "duration": 12,
    "start_time": "2021-06-24T11:25:15.982Z"
   },
   {
    "duration": 256,
    "start_time": "2021-06-24T11:25:15.998Z"
   },
   {
    "duration": 166,
    "start_time": "2021-06-24T11:25:16.258Z"
   },
   {
    "duration": 196,
    "start_time": "2021-06-24T11:25:16.427Z"
   },
   {
    "duration": 49,
    "start_time": "2021-06-24T11:25:16.626Z"
   },
   {
    "duration": 22,
    "start_time": "2021-06-24T11:25:16.678Z"
   },
   {
    "duration": 67,
    "start_time": "2021-06-24T11:25:16.703Z"
   },
   {
    "duration": 533,
    "start_time": "2021-06-24T11:25:16.773Z"
   },
   {
    "duration": -2,
    "start_time": "2021-06-24T11:25:17.310Z"
   },
   {
    "duration": -3,
    "start_time": "2021-06-24T11:25:17.312Z"
   },
   {
    "duration": -3,
    "start_time": "2021-06-24T11:25:17.313Z"
   },
   {
    "duration": -3,
    "start_time": "2021-06-24T11:25:17.315Z"
   },
   {
    "duration": -3,
    "start_time": "2021-06-24T11:25:17.316Z"
   },
   {
    "duration": -7,
    "start_time": "2021-06-24T11:25:17.321Z"
   },
   {
    "duration": -7,
    "start_time": "2021-06-24T11:25:17.323Z"
   },
   {
    "duration": -7,
    "start_time": "2021-06-24T11:25:17.324Z"
   },
   {
    "duration": -8,
    "start_time": "2021-06-24T11:25:17.326Z"
   },
   {
    "duration": -7,
    "start_time": "2021-06-24T11:25:17.327Z"
   },
   {
    "duration": 312,
    "start_time": "2021-06-24T11:26:28.705Z"
   },
   {
    "duration": 6,
    "start_time": "2021-06-24T11:26:38.657Z"
   },
   {
    "duration": 8392,
    "start_time": "2021-06-24T11:27:13.762Z"
   },
   {
    "duration": 10,
    "start_time": "2021-06-24T11:28:03.521Z"
   },
   {
    "duration": 8038,
    "start_time": "2021-06-24T12:00:11.269Z"
   },
   {
    "duration": 560,
    "start_time": "2021-06-24T12:49:05.158Z"
   },
   {
    "duration": 774,
    "start_time": "2021-06-24T12:49:32.670Z"
   },
   {
    "duration": 574,
    "start_time": "2021-06-24T12:50:00.486Z"
   },
   {
    "duration": 3349,
    "start_time": "2021-06-24T13:00:49.057Z"
   },
   {
    "duration": 14,
    "start_time": "2021-06-24T13:00:52.409Z"
   },
   {
    "duration": 24,
    "start_time": "2021-06-24T13:01:03.473Z"
   },
   {
    "duration": 34,
    "start_time": "2021-06-24T13:01:11.577Z"
   },
   {
    "duration": 27,
    "start_time": "2021-06-24T13:01:22.251Z"
   },
   {
    "duration": 36,
    "start_time": "2021-06-24T13:02:32.065Z"
   },
   {
    "duration": 3248,
    "start_time": "2021-06-24T13:02:33.385Z"
   },
   {
    "duration": 40,
    "start_time": "2021-06-24T13:02:36.636Z"
   },
   {
    "duration": 9236,
    "start_time": "2021-06-24T13:02:51.290Z"
   },
   {
    "duration": 9104,
    "start_time": "2021-06-24T15:19:39.793Z"
   },
   {
    "duration": 1498,
    "start_time": "2021-06-24T18:23:46.884Z"
   },
   {
    "duration": 1398,
    "start_time": "2021-06-24T18:23:48.385Z"
   },
   {
    "duration": 403,
    "start_time": "2021-06-24T18:24:14.917Z"
   },
   {
    "duration": 1559,
    "start_time": "2021-06-24T18:25:40.790Z"
   },
   {
    "duration": 2172,
    "start_time": "2021-06-24T18:25:42.352Z"
   },
   {
    "duration": 27,
    "start_time": "2021-06-24T18:25:44.527Z"
   },
   {
    "duration": 16,
    "start_time": "2021-06-24T18:25:44.557Z"
   },
   {
    "duration": 47,
    "start_time": "2021-06-24T18:25:44.575Z"
   },
   {
    "duration": 14,
    "start_time": "2021-06-24T18:25:44.625Z"
   },
   {
    "duration": 19,
    "start_time": "2021-06-24T18:25:44.641Z"
   },
   {
    "duration": 52,
    "start_time": "2021-06-24T18:25:44.666Z"
   },
   {
    "duration": 9,
    "start_time": "2021-06-24T18:25:44.721Z"
   },
   {
    "duration": 12,
    "start_time": "2021-06-24T18:25:44.732Z"
   },
   {
    "duration": 10,
    "start_time": "2021-06-24T18:25:44.747Z"
   },
   {
    "duration": 53,
    "start_time": "2021-06-24T18:25:44.759Z"
   },
   {
    "duration": 44,
    "start_time": "2021-06-24T18:25:44.816Z"
   },
   {
    "duration": 57,
    "start_time": "2021-06-24T18:25:44.862Z"
   },
   {
    "duration": 24,
    "start_time": "2021-06-24T18:25:44.922Z"
   },
   {
    "duration": 5,
    "start_time": "2021-06-24T18:25:44.949Z"
   },
   {
    "duration": 10,
    "start_time": "2021-06-24T18:25:44.956Z"
   },
   {
    "duration": 32,
    "start_time": "2021-06-24T18:25:44.968Z"
   },
   {
    "duration": 9,
    "start_time": "2021-06-24T18:25:45.012Z"
   },
   {
    "duration": 36,
    "start_time": "2021-06-24T18:25:45.024Z"
   },
   {
    "duration": 42,
    "start_time": "2021-06-24T18:25:45.063Z"
   },
   {
    "duration": 23,
    "start_time": "2021-06-24T18:25:45.110Z"
   },
   {
    "duration": 13,
    "start_time": "2021-06-24T18:25:45.138Z"
   },
   {
    "duration": 218,
    "start_time": "2021-06-24T18:25:45.153Z"
   },
   {
    "duration": 129,
    "start_time": "2021-06-24T18:25:45.373Z"
   },
   {
    "duration": 158,
    "start_time": "2021-06-24T18:25:45.508Z"
   },
   {
    "duration": 32,
    "start_time": "2021-06-24T18:25:45.668Z"
   },
   {
    "duration": 19,
    "start_time": "2021-06-24T18:25:45.706Z"
   },
   {
    "duration": 31,
    "start_time": "2021-06-24T18:25:45.728Z"
   },
   {
    "duration": 3332,
    "start_time": "2021-06-24T18:25:45.761Z"
   },
   {
    "duration": 33,
    "start_time": "2021-06-24T18:25:49.095Z"
   },
   {
    "duration": 7127,
    "start_time": "2021-06-24T18:25:49.131Z"
   },
   {
    "duration": -69,
    "start_time": "2021-06-24T18:25:56.330Z"
   },
   {
    "duration": -69,
    "start_time": "2021-06-24T18:25:56.333Z"
   },
   {
    "duration": -70,
    "start_time": "2021-06-24T18:25:56.336Z"
   },
   {
    "duration": -71,
    "start_time": "2021-06-24T18:25:56.339Z"
   },
   {
    "duration": -72,
    "start_time": "2021-06-24T18:25:56.342Z"
   },
   {
    "duration": -73,
    "start_time": "2021-06-24T18:25:56.345Z"
   },
   {
    "duration": -73,
    "start_time": "2021-06-24T18:25:56.347Z"
   },
   {
    "duration": 475,
    "start_time": "2021-06-24T18:26:57.148Z"
   },
   {
    "duration": 314,
    "start_time": "2021-06-24T18:30:09.713Z"
   },
   {
    "duration": 17,
    "start_time": "2021-06-24T18:31:36.474Z"
   },
   {
    "duration": 20,
    "start_time": "2021-06-24T18:32:07.281Z"
   },
   {
    "duration": 18,
    "start_time": "2021-06-24T18:32:34.058Z"
   },
   {
    "duration": 621,
    "start_time": "2021-06-24T18:33:19.153Z"
   },
   {
    "duration": 648,
    "start_time": "2021-06-24T18:33:38.021Z"
   },
   {
    "duration": 724,
    "start_time": "2021-06-24T18:33:53.662Z"
   },
   {
    "duration": 6831,
    "start_time": "2021-06-24T18:34:23.282Z"
   },
   {
    "duration": 1133,
    "start_time": "2021-06-24T18:36:51.577Z"
   },
   {
    "duration": 1166,
    "start_time": "2021-06-24T18:36:59.474Z"
   },
   {
    "duration": 449,
    "start_time": "2021-06-24T18:40:02.249Z"
   },
   {
    "duration": 1132,
    "start_time": "2021-06-24T18:42:50.648Z"
   },
   {
    "duration": 47,
    "start_time": "2021-06-24T19:14:39.025Z"
   },
   {
    "duration": 1315,
    "start_time": "2021-06-24T19:15:11.161Z"
   },
   {
    "duration": 646,
    "start_time": "2021-06-24T19:16:04.748Z"
   },
   {
    "duration": 1259,
    "start_time": "2021-06-24T19:16:20.582Z"
   },
   {
    "duration": 260,
    "start_time": "2021-06-24T19:16:51.983Z"
   },
   {
    "duration": 252,
    "start_time": "2021-06-24T19:17:07.123Z"
   },
   {
    "duration": 1275,
    "start_time": "2021-06-24T19:17:54.137Z"
   },
   {
    "duration": 1299,
    "start_time": "2021-06-24T19:21:17.854Z"
   },
   {
    "duration": 1273,
    "start_time": "2021-06-24T19:21:28.362Z"
   },
   {
    "duration": 1294,
    "start_time": "2021-06-24T19:21:35.735Z"
   },
   {
    "duration": 1194,
    "start_time": "2021-06-24T19:23:07.952Z"
   },
   {
    "duration": 1373,
    "start_time": "2021-06-24T19:23:19.158Z"
   },
   {
    "duration": 665,
    "start_time": "2021-06-24T19:24:40.508Z"
   },
   {
    "duration": 538,
    "start_time": "2021-06-24T19:24:58.637Z"
   },
   {
    "duration": 1274,
    "start_time": "2021-06-24T19:25:34.766Z"
   },
   {
    "duration": 491,
    "start_time": "2021-06-24T19:25:39.919Z"
   },
   {
    "duration": 326,
    "start_time": "2021-06-24T19:25:49.356Z"
   },
   {
    "duration": 1293,
    "start_time": "2021-06-24T19:25:59.916Z"
   },
   {
    "duration": 424,
    "start_time": "2021-06-24T19:30:49.190Z"
   },
   {
    "duration": 6,
    "start_time": "2021-06-24T19:31:11.843Z"
   },
   {
    "duration": 1462,
    "start_time": "2021-06-24T19:31:21.255Z"
   },
   {
    "duration": 93,
    "start_time": "2021-06-24T19:31:25.479Z"
   },
   {
    "duration": 494,
    "start_time": "2021-06-24T19:31:31.899Z"
   },
   {
    "duration": 45,
    "start_time": "2021-06-24T19:33:55.477Z"
   },
   {
    "duration": 363,
    "start_time": "2021-06-24T19:34:12.122Z"
   },
   {
    "duration": 46,
    "start_time": "2021-06-24T19:34:16.018Z"
   },
   {
    "duration": 45,
    "start_time": "2021-06-24T19:34:43.256Z"
   },
   {
    "duration": 530,
    "start_time": "2021-06-24T19:35:43.018Z"
   },
   {
    "duration": 487,
    "start_time": "2021-06-24T19:36:02.784Z"
   },
   {
    "duration": 289,
    "start_time": "2021-06-24T19:37:49.868Z"
   },
   {
    "duration": 1460,
    "start_time": "2021-06-24T19:37:58.334Z"
   },
   {
    "duration": 4,
    "start_time": "2021-06-24T19:40:10.172Z"
   },
   {
    "duration": 1542,
    "start_time": "2021-06-24T19:40:15.578Z"
   },
   {
    "duration": 662,
    "start_time": "2021-06-24T19:40:23.296Z"
   },
   {
    "duration": 539,
    "start_time": "2021-06-24T19:40:30.550Z"
   },
   {
    "duration": 263,
    "start_time": "2021-06-24T19:43:02.086Z"
   },
   {
    "duration": 1550,
    "start_time": "2021-06-24T19:43:08.669Z"
   },
   {
    "duration": 470,
    "start_time": "2021-06-24T19:43:14.573Z"
   },
   {
    "duration": 525,
    "start_time": "2021-06-24T19:43:18.563Z"
   },
   {
    "duration": 486,
    "start_time": "2021-06-24T19:43:22.243Z"
   },
   {
    "duration": 378,
    "start_time": "2021-06-24T20:04:25.395Z"
   },
   {
    "duration": 349,
    "start_time": "2021-06-24T20:04:38.201Z"
   },
   {
    "duration": 277,
    "start_time": "2021-06-24T20:10:17.262Z"
   },
   {
    "duration": 11,
    "start_time": "2021-06-24T20:10:56.945Z"
   },
   {
    "duration": 331,
    "start_time": "2021-06-24T20:12:53.414Z"
   },
   {
    "duration": 4,
    "start_time": "2021-06-24T20:14:53.712Z"
   },
   {
    "duration": 304,
    "start_time": "2021-06-24T20:14:57.263Z"
   },
   {
    "duration": 17,
    "start_time": "2021-06-24T20:15:20.220Z"
   },
   {
    "duration": 44,
    "start_time": "2021-06-24T20:15:44.540Z"
   },
   {
    "duration": 4,
    "start_time": "2021-06-24T20:15:48.664Z"
   },
   {
    "duration": 17,
    "start_time": "2021-06-24T20:15:51.091Z"
   },
   {
    "duration": 322,
    "start_time": "2021-06-24T20:16:06.049Z"
   },
   {
    "duration": 304,
    "start_time": "2021-06-24T20:16:57.945Z"
   },
   {
    "duration": 299,
    "start_time": "2021-06-24T20:17:33.768Z"
   },
   {
    "duration": 98,
    "start_time": "2021-06-24T20:18:01.120Z"
   },
   {
    "duration": 321,
    "start_time": "2021-06-24T20:18:03.814Z"
   },
   {
    "duration": 10,
    "start_time": "2021-06-24T20:26:15.083Z"
   },
   {
    "duration": 279,
    "start_time": "2021-06-24T20:27:22.590Z"
   },
   {
    "duration": 284,
    "start_time": "2021-06-24T20:27:39.878Z"
   },
   {
    "duration": 635,
    "start_time": "2021-06-24T20:33:54.830Z"
   },
   {
    "duration": 215,
    "start_time": "2021-06-24T20:34:23.834Z"
   },
   {
    "duration": 1039,
    "start_time": "2021-06-24T20:35:11.590Z"
   },
   {
    "duration": 300,
    "start_time": "2021-06-24T20:35:44.518Z"
   },
   {
    "duration": 265,
    "start_time": "2021-06-24T20:36:22.163Z"
   },
   {
    "duration": 209,
    "start_time": "2021-06-24T20:37:16.017Z"
   },
   {
    "duration": 288,
    "start_time": "2021-06-24T20:37:39.633Z"
   },
   {
    "duration": 281,
    "start_time": "2021-06-24T20:37:46.623Z"
   },
   {
    "duration": 273,
    "start_time": "2021-06-24T20:37:55.937Z"
   },
   {
    "duration": 285,
    "start_time": "2021-06-24T20:38:33.814Z"
   },
   {
    "duration": 235,
    "start_time": "2021-06-24T20:39:37.902Z"
   },
   {
    "duration": 364,
    "start_time": "2021-06-25T05:18:54.368Z"
   },
   {
    "duration": 1807,
    "start_time": "2021-06-25T05:19:04.131Z"
   },
   {
    "duration": 310,
    "start_time": "2021-06-25T05:19:15.649Z"
   },
   {
    "duration": 5,
    "start_time": "2021-06-25T05:19:32.807Z"
   },
   {
    "duration": 6,
    "start_time": "2021-06-25T05:19:51.378Z"
   },
   {
    "duration": 2352,
    "start_time": "2021-06-25T05:19:54.351Z"
   },
   {
    "duration": 4832,
    "start_time": "2021-06-25T05:20:03.106Z"
   },
   {
    "duration": 370,
    "start_time": "2021-06-25T05:20:18.000Z"
   },
   {
    "duration": 439,
    "start_time": "2021-06-25T05:20:31.265Z"
   },
   {
    "duration": 375,
    "start_time": "2021-06-25T05:20:41.077Z"
   },
   {
    "duration": 1447,
    "start_time": "2021-06-25T05:20:51.426Z"
   },
   {
    "duration": 3016,
    "start_time": "2021-06-25T05:20:52.876Z"
   },
   {
    "duration": 30,
    "start_time": "2021-06-25T05:20:55.896Z"
   },
   {
    "duration": 17,
    "start_time": "2021-06-25T05:20:55.930Z"
   },
   {
    "duration": 52,
    "start_time": "2021-06-25T05:20:55.951Z"
   },
   {
    "duration": 12,
    "start_time": "2021-06-25T05:20:56.005Z"
   },
   {
    "duration": 21,
    "start_time": "2021-06-25T05:20:56.020Z"
   },
   {
    "duration": 46,
    "start_time": "2021-06-25T05:20:56.045Z"
   },
   {
    "duration": 10,
    "start_time": "2021-06-25T05:20:56.095Z"
   },
   {
    "duration": 14,
    "start_time": "2021-06-25T05:20:56.107Z"
   },
   {
    "duration": 9,
    "start_time": "2021-06-25T05:20:56.124Z"
   },
   {
    "duration": 53,
    "start_time": "2021-06-25T05:20:56.135Z"
   },
   {
    "duration": 43,
    "start_time": "2021-06-25T05:20:56.190Z"
   },
   {
    "duration": 30,
    "start_time": "2021-06-25T05:20:56.235Z"
   },
   {
    "duration": 41,
    "start_time": "2021-06-25T05:20:56.267Z"
   },
   {
    "duration": 5,
    "start_time": "2021-06-25T05:20:56.311Z"
   },
   {
    "duration": 10,
    "start_time": "2021-06-25T05:20:56.318Z"
   },
   {
    "duration": 10,
    "start_time": "2021-06-25T05:20:56.331Z"
   },
   {
    "duration": 45,
    "start_time": "2021-06-25T05:20:56.343Z"
   },
   {
    "duration": 34,
    "start_time": "2021-06-25T05:20:56.390Z"
   },
   {
    "duration": 26,
    "start_time": "2021-06-25T05:20:56.426Z"
   },
   {
    "duration": 42,
    "start_time": "2021-06-25T05:20:56.455Z"
   },
   {
    "duration": 13,
    "start_time": "2021-06-25T05:20:56.504Z"
   },
   {
    "duration": 222,
    "start_time": "2021-06-25T05:20:56.521Z"
   },
   {
    "duration": 139,
    "start_time": "2021-06-25T05:20:56.746Z"
   },
   {
    "duration": 156,
    "start_time": "2021-06-25T05:20:56.888Z"
   },
   {
    "duration": 39,
    "start_time": "2021-06-25T05:20:57.047Z"
   },
   {
    "duration": 18,
    "start_time": "2021-06-25T05:20:57.089Z"
   },
   {
    "duration": 35,
    "start_time": "2021-06-25T05:20:57.110Z"
   },
   {
    "duration": 3275,
    "start_time": "2021-06-25T05:20:57.148Z"
   },
   {
    "duration": 27,
    "start_time": "2021-06-25T05:21:00.425Z"
   },
   {
    "duration": 1342,
    "start_time": "2021-06-25T05:21:00.454Z"
   },
   {
    "duration": 394,
    "start_time": "2021-06-25T05:21:01.799Z"
   },
   {
    "duration": 48,
    "start_time": "2021-06-25T05:21:02.196Z"
   },
   {
    "duration": 1613,
    "start_time": "2021-06-25T05:21:02.247Z"
   },
   {
    "duration": 269,
    "start_time": "2021-06-25T05:21:03.863Z"
   },
   {
    "duration": 283,
    "start_time": "2021-06-25T05:21:04.135Z"
   },
   {
    "duration": 3789,
    "start_time": "2021-06-25T05:21:04.421Z"
   },
   {
    "duration": -1596,
    "start_time": "2021-06-25T05:21:09.809Z"
   },
   {
    "duration": -1602,
    "start_time": "2021-06-25T05:21:09.816Z"
   },
   {
    "duration": -1607,
    "start_time": "2021-06-25T05:21:09.823Z"
   },
   {
    "duration": 2740,
    "start_time": "2021-06-25T05:21:20.751Z"
   },
   {
    "duration": 3057,
    "start_time": "2021-06-25T05:21:33.652Z"
   },
   {
    "duration": 9,
    "start_time": "2021-06-25T05:22:21.454Z"
   },
   {
    "duration": 2889,
    "start_time": "2021-06-25T05:22:31.814Z"
   },
   {
    "duration": 3077,
    "start_time": "2021-06-25T05:22:43.841Z"
   },
   {
    "duration": 3005,
    "start_time": "2021-06-25T05:23:20.843Z"
   },
   {
    "duration": 1042,
    "start_time": "2021-06-25T05:28:33.926Z"
   },
   {
    "duration": 1030,
    "start_time": "2021-06-25T05:29:53.797Z"
   },
   {
    "duration": 1195,
    "start_time": "2021-06-25T05:31:55.344Z"
   },
   {
    "duration": 800,
    "start_time": "2021-06-25T05:32:21.964Z"
   },
   {
    "duration": 1410,
    "start_time": "2021-06-25T05:35:09.624Z"
   },
   {
    "duration": 1003,
    "start_time": "2021-06-25T05:36:46.914Z"
   },
   {
    "duration": 1536,
    "start_time": "2021-06-25T05:37:55.314Z"
   },
   {
    "duration": 977,
    "start_time": "2021-06-25T05:38:31.693Z"
   },
   {
    "duration": 981,
    "start_time": "2021-06-25T05:38:50.349Z"
   },
   {
    "duration": 1030,
    "start_time": "2021-06-25T05:39:02.255Z"
   },
   {
    "duration": 1197,
    "start_time": "2021-06-25T05:39:20.453Z"
   },
   {
    "duration": 961,
    "start_time": "2021-06-25T05:39:58.047Z"
   },
   {
    "duration": 1130,
    "start_time": "2021-06-25T05:40:27.768Z"
   },
   {
    "duration": 1024,
    "start_time": "2021-06-25T05:40:35.873Z"
   },
   {
    "duration": 1039,
    "start_time": "2021-06-25T05:55:54.055Z"
   },
   {
    "duration": 1036,
    "start_time": "2021-06-25T05:56:11.800Z"
   },
   {
    "duration": 989,
    "start_time": "2021-06-25T05:56:29.640Z"
   },
   {
    "duration": 981,
    "start_time": "2021-06-25T05:57:17.158Z"
   },
   {
    "duration": 968,
    "start_time": "2021-06-25T05:57:26.931Z"
   },
   {
    "duration": 1062,
    "start_time": "2021-06-25T05:57:58.593Z"
   },
   {
    "duration": 1189,
    "start_time": "2021-06-25T05:59:59.298Z"
   },
   {
    "duration": 3660,
    "start_time": "2021-06-25T06:00:23.144Z"
   },
   {
    "duration": 3240,
    "start_time": "2021-06-25T06:00:35.285Z"
   },
   {
    "duration": 3198,
    "start_time": "2021-06-25T06:01:15.654Z"
   },
   {
    "duration": 1006,
    "start_time": "2021-06-25T06:03:14.131Z"
   },
   {
    "duration": 1015,
    "start_time": "2021-06-25T06:04:59.240Z"
   },
   {
    "duration": 1029,
    "start_time": "2021-06-25T06:06:07.302Z"
   },
   {
    "duration": 1001,
    "start_time": "2021-06-25T06:06:17.725Z"
   },
   {
    "duration": 1034,
    "start_time": "2021-06-25T06:06:24.862Z"
   },
   {
    "duration": 1194,
    "start_time": "2021-06-25T06:06:44.108Z"
   },
   {
    "duration": 1062,
    "start_time": "2021-06-25T06:07:54.465Z"
   },
   {
    "duration": 677,
    "start_time": "2021-06-25T06:08:40.182Z"
   },
   {
    "duration": 707,
    "start_time": "2021-06-25T06:09:25.537Z"
   },
   {
    "duration": 805,
    "start_time": "2021-06-25T06:09:35.740Z"
   },
   {
    "duration": 1066,
    "start_time": "2021-06-25T06:09:42.796Z"
   },
   {
    "duration": 643,
    "start_time": "2021-06-25T06:09:57.914Z"
   },
   {
    "duration": 330,
    "start_time": "2021-06-25T06:10:13.076Z"
   },
   {
    "duration": 1266,
    "start_time": "2021-06-25T06:10:49.161Z"
   },
   {
    "duration": 1009,
    "start_time": "2021-06-25T06:11:14.910Z"
   },
   {
    "duration": 1117,
    "start_time": "2021-06-25T06:12:01.987Z"
   },
   {
    "duration": 627,
    "start_time": "2021-06-25T06:12:11.721Z"
   },
   {
    "duration": 1184,
    "start_time": "2021-06-25T06:13:53.107Z"
   },
   {
    "duration": 1048,
    "start_time": "2021-06-25T06:14:03.098Z"
   },
   {
    "duration": 666,
    "start_time": "2021-06-25T06:14:06.859Z"
   },
   {
    "duration": 1352,
    "start_time": "2021-06-25T06:14:15.776Z"
   },
   {
    "duration": 749,
    "start_time": "2021-06-25T06:14:19.054Z"
   },
   {
    "duration": 1044,
    "start_time": "2021-06-25T06:15:22.852Z"
   },
   {
    "duration": 525,
    "start_time": "2021-06-25T06:16:00.204Z"
   },
   {
    "duration": 579,
    "start_time": "2021-06-25T06:16:03.262Z"
   },
   {
    "duration": 523,
    "start_time": "2021-06-25T06:16:05.566Z"
   },
   {
    "duration": 1623,
    "start_time": "2021-06-25T06:17:00.762Z"
   },
   {
    "duration": 1606,
    "start_time": "2021-06-25T06:17:11.756Z"
   },
   {
    "duration": 772,
    "start_time": "2021-06-25T06:17:44.549Z"
   },
   {
    "duration": 716,
    "start_time": "2021-06-25T06:18:18.434Z"
   },
   {
    "duration": 417,
    "start_time": "2021-06-25T06:18:33.931Z"
   },
   {
    "duration": 1009,
    "start_time": "2021-06-25T06:20:38.655Z"
   },
   {
    "duration": 974,
    "start_time": "2021-06-25T06:22:00.715Z"
   },
   {
    "duration": 973,
    "start_time": "2021-06-25T06:22:08.861Z"
   },
   {
    "duration": 1112,
    "start_time": "2021-06-25T06:22:31.979Z"
   },
   {
    "duration": 939,
    "start_time": "2021-06-25T06:23:24.168Z"
   },
   {
    "duration": 952,
    "start_time": "2021-06-25T06:23:53.644Z"
   },
   {
    "duration": 971,
    "start_time": "2021-06-25T06:24:05.414Z"
   },
   {
    "duration": 947,
    "start_time": "2021-06-25T06:24:19.492Z"
   },
   {
    "duration": 1234,
    "start_time": "2021-06-25T06:26:16.853Z"
   },
   {
    "duration": 1069,
    "start_time": "2021-06-25T06:26:28.205Z"
   },
   {
    "duration": 973,
    "start_time": "2021-06-25T06:27:37.681Z"
   },
   {
    "duration": 1053,
    "start_time": "2021-06-25T06:27:42.501Z"
   },
   {
    "duration": 1076,
    "start_time": "2021-06-25T06:28:07.948Z"
   },
   {
    "duration": 1083,
    "start_time": "2021-06-25T06:28:44.681Z"
   },
   {
    "duration": 307,
    "start_time": "2021-06-25T18:14:45.431Z"
   },
   {
    "duration": 1603,
    "start_time": "2021-06-25T18:14:56.722Z"
   },
   {
    "duration": 1036,
    "start_time": "2021-06-25T18:14:58.328Z"
   },
   {
    "duration": 29,
    "start_time": "2021-06-25T18:14:59.367Z"
   },
   {
    "duration": 19,
    "start_time": "2021-06-25T18:14:59.400Z"
   },
   {
    "duration": 49,
    "start_time": "2021-06-25T18:14:59.422Z"
   },
   {
    "duration": 12,
    "start_time": "2021-06-25T18:14:59.473Z"
   },
   {
    "duration": 20,
    "start_time": "2021-06-25T18:14:59.488Z"
   },
   {
    "duration": 44,
    "start_time": "2021-06-25T18:14:59.512Z"
   },
   {
    "duration": 10,
    "start_time": "2021-06-25T18:14:59.559Z"
   },
   {
    "duration": 17,
    "start_time": "2021-06-25T18:14:59.572Z"
   },
   {
    "duration": 13,
    "start_time": "2021-06-25T18:14:59.592Z"
   },
   {
    "duration": 57,
    "start_time": "2021-06-25T18:14:59.608Z"
   },
   {
    "duration": 41,
    "start_time": "2021-06-25T18:14:59.667Z"
   },
   {
    "duration": 55,
    "start_time": "2021-06-25T18:14:59.711Z"
   },
   {
    "duration": 28,
    "start_time": "2021-06-25T18:14:59.769Z"
   },
   {
    "duration": 7,
    "start_time": "2021-06-25T18:14:59.800Z"
   },
   {
    "duration": 9,
    "start_time": "2021-06-25T18:14:59.810Z"
   },
   {
    "duration": 33,
    "start_time": "2021-06-25T18:14:59.822Z"
   },
   {
    "duration": 4,
    "start_time": "2021-06-25T18:14:59.858Z"
   },
   {
    "duration": 33,
    "start_time": "2021-06-25T18:14:59.865Z"
   },
   {
    "duration": 25,
    "start_time": "2021-06-25T18:14:59.900Z"
   },
   {
    "duration": 21,
    "start_time": "2021-06-25T18:14:59.955Z"
   },
   {
    "duration": 11,
    "start_time": "2021-06-25T18:14:59.980Z"
   },
   {
    "duration": 212,
    "start_time": "2021-06-25T18:14:59.994Z"
   },
   {
    "duration": 128,
    "start_time": "2021-06-25T18:15:00.209Z"
   },
   {
    "duration": 155,
    "start_time": "2021-06-25T18:15:00.339Z"
   },
   {
    "duration": 24,
    "start_time": "2021-06-25T18:15:00.497Z"
   },
   {
    "duration": 39,
    "start_time": "2021-06-25T18:15:00.524Z"
   },
   {
    "duration": 37,
    "start_time": "2021-06-25T18:15:00.566Z"
   },
   {
    "duration": 3148,
    "start_time": "2021-06-25T18:15:00.606Z"
   },
   {
    "duration": 25,
    "start_time": "2021-06-25T18:15:03.757Z"
   },
   {
    "duration": 1100,
    "start_time": "2021-06-25T18:15:03.784Z"
   },
   {
    "duration": 362,
    "start_time": "2021-06-25T18:15:04.886Z"
   },
   {
    "duration": 46,
    "start_time": "2021-06-25T18:15:05.254Z"
   },
   {
    "duration": 1590,
    "start_time": "2021-06-25T18:15:05.302Z"
   },
   {
    "duration": 252,
    "start_time": "2021-06-25T18:15:06.895Z"
   },
   {
    "duration": 248,
    "start_time": "2021-06-25T18:15:07.149Z"
   },
   {
    "duration": 1042,
    "start_time": "2021-06-25T18:15:07.399Z"
   },
   {
    "duration": -3,
    "start_time": "2021-06-25T18:15:08.447Z"
   },
   {
    "duration": -6,
    "start_time": "2021-06-25T18:15:08.451Z"
   },
   {
    "duration": -9,
    "start_time": "2021-06-25T18:15:08.455Z"
   },
   {
    "duration": 573,
    "start_time": "2021-06-25T18:15:42.093Z"
   },
   {
    "duration": 506,
    "start_time": "2021-06-25T18:15:53.348Z"
   },
   {
    "duration": 547,
    "start_time": "2021-06-25T18:16:26.650Z"
   },
   {
    "duration": 498,
    "start_time": "2021-06-25T18:16:28.985Z"
   },
   {
    "duration": 93,
    "start_time": "2021-06-25T18:39:56.258Z"
   },
   {
    "duration": 16,
    "start_time": "2021-06-25T18:59:48.407Z"
   },
   {
    "duration": 14,
    "start_time": "2021-06-25T19:00:00.089Z"
   },
   {
    "duration": 18,
    "start_time": "2021-06-25T19:00:31.297Z"
   },
   {
    "duration": 26,
    "start_time": "2021-06-25T19:04:24.992Z"
   },
   {
    "duration": 85,
    "start_time": "2021-06-25T19:08:37.984Z"
   },
   {
    "duration": 3218,
    "start_time": "2021-06-25T19:10:34.627Z"
   },
   {
    "duration": 15,
    "start_time": "2021-06-25T19:11:23.950Z"
   },
   {
    "duration": 22,
    "start_time": "2021-06-25T19:11:49.135Z"
   },
   {
    "duration": 7,
    "start_time": "2021-06-25T19:12:42.098Z"
   },
   {
    "duration": 33,
    "start_time": "2021-06-25T19:13:21.520Z"
   },
   {
    "duration": 91,
    "start_time": "2021-06-25T19:35:40.114Z"
   },
   {
    "duration": 1484,
    "start_time": "2021-06-25T20:29:42.072Z"
   },
   {
    "duration": 1002,
    "start_time": "2021-06-25T20:29:43.559Z"
   },
   {
    "duration": 29,
    "start_time": "2021-06-25T20:29:44.564Z"
   },
   {
    "duration": 15,
    "start_time": "2021-06-25T20:29:44.596Z"
   },
   {
    "duration": 60,
    "start_time": "2021-06-25T20:29:44.614Z"
   },
   {
    "duration": 11,
    "start_time": "2021-06-25T20:29:44.677Z"
   },
   {
    "duration": 24,
    "start_time": "2021-06-25T20:29:44.690Z"
   },
   {
    "duration": 14,
    "start_time": "2021-06-25T20:29:44.718Z"
   },
   {
    "duration": 9,
    "start_time": "2021-06-25T20:29:44.763Z"
   },
   {
    "duration": 23,
    "start_time": "2021-06-25T20:29:44.774Z"
   },
   {
    "duration": 13,
    "start_time": "2021-06-25T20:29:44.799Z"
   },
   {
    "duration": 48,
    "start_time": "2021-06-25T20:29:44.814Z"
   },
   {
    "duration": 40,
    "start_time": "2021-06-25T20:29:44.864Z"
   },
   {
    "duration": 29,
    "start_time": "2021-06-25T20:29:44.907Z"
   },
   {
    "duration": 25,
    "start_time": "2021-06-25T20:29:44.963Z"
   },
   {
    "duration": 5,
    "start_time": "2021-06-25T20:29:44.991Z"
   },
   {
    "duration": 16,
    "start_time": "2021-06-25T20:29:44.999Z"
   },
   {
    "duration": 31,
    "start_time": "2021-06-25T20:29:45.018Z"
   },
   {
    "duration": 19,
    "start_time": "2021-06-25T20:29:45.051Z"
   },
   {
    "duration": 43,
    "start_time": "2021-06-25T20:29:45.073Z"
   },
   {
    "duration": 25,
    "start_time": "2021-06-25T20:29:45.118Z"
   },
   {
    "duration": 31,
    "start_time": "2021-06-25T20:29:45.145Z"
   },
   {
    "duration": 10,
    "start_time": "2021-06-25T20:29:45.182Z"
   },
   {
    "duration": 218,
    "start_time": "2021-06-25T20:29:45.195Z"
   },
   {
    "duration": 134,
    "start_time": "2021-06-25T20:29:45.415Z"
   },
   {
    "duration": 152,
    "start_time": "2021-06-25T20:29:45.552Z"
   },
   {
    "duration": 26,
    "start_time": "2021-06-25T20:29:45.707Z"
   },
   {
    "duration": 32,
    "start_time": "2021-06-25T20:29:45.736Z"
   },
   {
    "duration": 34,
    "start_time": "2021-06-25T20:29:45.771Z"
   },
   {
    "duration": 3322,
    "start_time": "2021-06-25T20:29:45.807Z"
   },
   {
    "duration": 36,
    "start_time": "2021-06-25T20:29:49.132Z"
   },
   {
    "duration": 1082,
    "start_time": "2021-06-25T20:29:49.171Z"
   },
   {
    "duration": 383,
    "start_time": "2021-06-25T20:29:50.262Z"
   },
   {
    "duration": 52,
    "start_time": "2021-06-25T20:29:50.648Z"
   },
   {
    "duration": 1602,
    "start_time": "2021-06-25T20:29:50.703Z"
   },
   {
    "duration": 538,
    "start_time": "2021-06-25T20:29:52.308Z"
   },
   {
    "duration": 575,
    "start_time": "2021-06-25T20:29:52.848Z"
   },
   {
    "duration": 527,
    "start_time": "2021-06-25T20:29:53.425Z"
   },
   {
    "duration": 15,
    "start_time": "2021-06-25T20:29:53.963Z"
   },
   {
    "duration": 18,
    "start_time": "2021-06-25T20:29:53.980Z"
   },
   {
    "duration": 3298,
    "start_time": "2021-06-25T20:29:54.000Z"
   },
   {
    "duration": 12,
    "start_time": "2021-06-25T20:29:57.300Z"
   },
   {
    "duration": 11,
    "start_time": "2021-06-25T20:29:57.315Z"
   },
   {
    "duration": 42,
    "start_time": "2021-06-25T20:29:57.329Z"
   },
   {
    "duration": 33,
    "start_time": "2021-06-25T20:35:16.339Z"
   },
   {
    "duration": 19,
    "start_time": "2021-06-25T20:43:26.908Z"
   },
   {
    "duration": 1490,
    "start_time": "2021-06-25T20:45:09.837Z"
   },
   {
    "duration": 1920,
    "start_time": "2021-06-25T20:45:11.329Z"
   },
   {
    "duration": 42,
    "start_time": "2021-06-25T20:45:13.253Z"
   },
   {
    "duration": 21,
    "start_time": "2021-06-25T20:45:13.299Z"
   },
   {
    "duration": 54,
    "start_time": "2021-06-25T20:45:13.323Z"
   },
   {
    "duration": 15,
    "start_time": "2021-06-25T20:45:13.381Z"
   },
   {
    "duration": 31,
    "start_time": "2021-06-25T20:45:13.399Z"
   },
   {
    "duration": 14,
    "start_time": "2021-06-25T20:45:13.463Z"
   },
   {
    "duration": 15,
    "start_time": "2021-06-25T20:45:13.480Z"
   },
   {
    "duration": 38,
    "start_time": "2021-06-25T20:45:13.498Z"
   },
   {
    "duration": 24,
    "start_time": "2021-06-25T20:45:13.539Z"
   },
   {
    "duration": 30,
    "start_time": "2021-06-25T20:45:13.566Z"
   },
   {
    "duration": 46,
    "start_time": "2021-06-25T20:45:13.598Z"
   },
   {
    "duration": 34,
    "start_time": "2021-06-25T20:45:13.652Z"
   },
   {
    "duration": 26,
    "start_time": "2021-06-25T20:45:13.843Z"
   },
   {
    "duration": 6,
    "start_time": "2021-06-25T20:45:15.689Z"
   },
   {
    "duration": 7,
    "start_time": "2021-06-25T20:45:15.839Z"
   },
   {
    "duration": 7,
    "start_time": "2021-06-25T20:45:16.191Z"
   },
   {
    "duration": 5,
    "start_time": "2021-06-25T20:45:16.702Z"
   },
   {
    "duration": 32,
    "start_time": "2021-06-25T20:45:17.271Z"
   },
   {
    "duration": 26,
    "start_time": "2021-06-25T20:45:17.867Z"
   },
   {
    "duration": 22,
    "start_time": "2021-06-25T20:45:18.048Z"
   },
   {
    "duration": 11,
    "start_time": "2021-06-25T20:45:18.725Z"
   },
   {
    "duration": 197,
    "start_time": "2021-06-25T20:45:18.910Z"
   },
   {
    "duration": 118,
    "start_time": "2021-06-25T20:45:19.273Z"
   },
   {
    "duration": 142,
    "start_time": "2021-06-25T20:45:19.639Z"
   },
   {
    "duration": 26,
    "start_time": "2021-06-25T20:45:19.823Z"
   },
   {
    "duration": 17,
    "start_time": "2021-06-25T20:45:20.188Z"
   },
   {
    "duration": 41,
    "start_time": "2021-06-25T20:45:20.573Z"
   },
   {
    "duration": 26,
    "start_time": "2021-06-25T20:45:27.462Z"
   },
   {
    "duration": 3349,
    "start_time": "2021-06-25T20:46:14.013Z"
   },
   {
    "duration": 26,
    "start_time": "2021-06-25T20:46:17.364Z"
   },
   {
    "duration": 1104,
    "start_time": "2021-06-25T20:46:22.798Z"
   },
   {
    "duration": 30,
    "start_time": "2021-06-25T20:46:28.668Z"
   },
   {
    "duration": 8178,
    "start_time": "2021-06-25T20:47:02.838Z"
   },
   {
    "duration": 30,
    "start_time": "2021-06-25T20:47:19.262Z"
   },
   {
    "duration": 19,
    "start_time": "2021-06-25T20:47:26.183Z"
   },
   {
    "duration": 22,
    "start_time": "2021-06-25T20:47:31.266Z"
   },
   {
    "duration": 90,
    "start_time": "2021-06-27T19:22:50.712Z"
   },
   {
    "duration": 349,
    "start_time": "2021-06-27T19:40:33.886Z"
   },
   {
    "duration": 1435,
    "start_time": "2021-06-27T19:50:04.242Z"
   },
   {
    "duration": 1265,
    "start_time": "2021-06-27T19:50:05.684Z"
   },
   {
    "duration": 29,
    "start_time": "2021-06-27T19:50:06.952Z"
   },
   {
    "duration": 17,
    "start_time": "2021-06-27T19:50:06.983Z"
   },
   {
    "duration": 28,
    "start_time": "2021-06-27T19:50:07.002Z"
   },
   {
    "duration": 12,
    "start_time": "2021-06-27T19:50:07.032Z"
   },
   {
    "duration": 47,
    "start_time": "2021-06-27T19:50:07.048Z"
   },
   {
    "duration": 10,
    "start_time": "2021-06-27T19:50:07.099Z"
   },
   {
    "duration": 9,
    "start_time": "2021-06-27T19:50:07.112Z"
   },
   {
    "duration": 12,
    "start_time": "2021-06-27T19:50:07.124Z"
   },
   {
    "duration": 49,
    "start_time": "2021-06-27T19:50:07.138Z"
   },
   {
    "duration": 16,
    "start_time": "2021-06-27T19:50:07.189Z"
   },
   {
    "duration": 39,
    "start_time": "2021-06-27T19:50:07.207Z"
   },
   {
    "duration": 49,
    "start_time": "2021-06-27T19:50:07.248Z"
   },
   {
    "duration": 26,
    "start_time": "2021-06-27T19:50:07.300Z"
   },
   {
    "duration": 6,
    "start_time": "2021-06-27T19:50:07.328Z"
   },
   {
    "duration": 10,
    "start_time": "2021-06-27T19:50:07.337Z"
   },
   {
    "duration": 36,
    "start_time": "2021-06-27T19:50:07.350Z"
   },
   {
    "duration": 5,
    "start_time": "2021-06-27T19:50:07.389Z"
   },
   {
    "duration": 34,
    "start_time": "2021-06-27T19:50:07.396Z"
   },
   {
    "duration": 53,
    "start_time": "2021-06-27T19:50:07.432Z"
   },
   {
    "duration": 20,
    "start_time": "2021-06-27T19:50:07.490Z"
   },
   {
    "duration": 37,
    "start_time": "2021-06-27T19:50:07.513Z"
   },
   {
    "duration": 7,
    "start_time": "2021-06-27T19:50:07.552Z"
   },
   {
    "duration": 194,
    "start_time": "2021-06-27T19:50:07.584Z"
   },
   {
    "duration": 122,
    "start_time": "2021-06-27T19:50:07.781Z"
   },
   {
    "duration": 145,
    "start_time": "2021-06-27T19:50:07.905Z"
   },
   {
    "duration": 39,
    "start_time": "2021-06-27T19:50:08.054Z"
   },
   {
    "duration": 16,
    "start_time": "2021-06-27T19:50:08.095Z"
   },
   {
    "duration": 33,
    "start_time": "2021-06-27T19:50:08.113Z"
   },
   {
    "duration": 3461,
    "start_time": "2021-06-27T19:50:08.148Z"
   },
   {
    "duration": 24,
    "start_time": "2021-06-27T19:50:11.612Z"
   },
   {
    "duration": 1071,
    "start_time": "2021-06-27T19:50:11.638Z"
   },
   {
    "duration": 346,
    "start_time": "2021-06-27T19:50:12.712Z"
   },
   {
    "duration": 54,
    "start_time": "2021-06-27T19:50:13.060Z"
   },
   {
    "duration": 1599,
    "start_time": "2021-06-27T19:50:13.117Z"
   },
   {
    "duration": 497,
    "start_time": "2021-06-27T19:50:14.718Z"
   },
   {
    "duration": 562,
    "start_time": "2021-06-27T19:50:15.218Z"
   },
   {
    "duration": 567,
    "start_time": "2021-06-27T19:50:15.783Z"
   },
   {
    "duration": 30,
    "start_time": "2021-06-27T19:50:16.352Z"
   },
   {
    "duration": 18,
    "start_time": "2021-06-27T19:50:16.385Z"
   },
   {
    "duration": 3109,
    "start_time": "2021-06-27T19:50:16.406Z"
   },
   {
    "duration": 11,
    "start_time": "2021-06-27T19:50:19.518Z"
   },
   {
    "duration": 9,
    "start_time": "2021-06-27T19:50:19.532Z"
   },
   {
    "duration": 49,
    "start_time": "2021-06-27T19:50:19.544Z"
   },
   {
    "duration": 417,
    "start_time": "2021-06-27T19:52:12.599Z"
   },
   {
    "duration": 313,
    "start_time": "2021-06-27T19:54:15.076Z"
   },
   {
    "duration": 290,
    "start_time": "2021-06-27T19:54:29.829Z"
   },
   {
    "duration": 281,
    "start_time": "2021-06-27T19:54:55.571Z"
   },
   {
    "duration": 316,
    "start_time": "2021-06-27T19:56:27.153Z"
   },
   {
    "duration": 314,
    "start_time": "2021-06-27T19:57:16.597Z"
   },
   {
    "duration": 771,
    "start_time": "2021-06-27T19:57:28.899Z"
   },
   {
    "duration": 11,
    "start_time": "2021-06-27T19:58:09.177Z"
   },
   {
    "duration": 25,
    "start_time": "2021-06-27T19:58:19.983Z"
   },
   {
    "duration": 312,
    "start_time": "2021-06-27T19:59:01.748Z"
   },
   {
    "duration": 25,
    "start_time": "2021-06-27T19:59:21.183Z"
   },
   {
    "duration": 25,
    "start_time": "2021-06-27T19:59:32.045Z"
   },
   {
    "duration": 13,
    "start_time": "2021-06-27T19:59:46.247Z"
   },
   {
    "duration": 25,
    "start_time": "2021-06-27T20:00:00.658Z"
   },
   {
    "duration": 24,
    "start_time": "2021-06-27T20:00:13.591Z"
   },
   {
    "duration": 23,
    "start_time": "2021-06-27T20:00:33.326Z"
   },
   {
    "duration": 25,
    "start_time": "2021-06-27T20:01:20.874Z"
   },
   {
    "duration": 24,
    "start_time": "2021-06-27T20:01:33.070Z"
   },
   {
    "duration": 6795,
    "start_time": "2021-06-27T20:02:50.900Z"
   },
   {
    "duration": 96,
    "start_time": "2021-06-27T20:03:43.126Z"
   },
   {
    "duration": 90,
    "start_time": "2021-06-27T20:03:50.517Z"
   },
   {
    "duration": 94,
    "start_time": "2021-06-27T20:04:16.180Z"
   },
   {
    "duration": 88,
    "start_time": "2021-06-27T20:04:34.139Z"
   },
   {
    "duration": 49,
    "start_time": "2021-06-27T20:04:59.163Z"
   },
   {
    "duration": 93,
    "start_time": "2021-06-27T20:05:26.632Z"
   },
   {
    "duration": 14,
    "start_time": "2021-06-27T20:05:32.099Z"
   },
   {
    "duration": 13,
    "start_time": "2021-06-27T20:05:52.916Z"
   },
   {
    "duration": 49,
    "start_time": "2021-06-27T20:05:58.991Z"
   },
   {
    "duration": 13,
    "start_time": "2021-06-27T20:08:58.653Z"
   },
   {
    "duration": 821,
    "start_time": "2021-06-27T20:09:10.578Z"
   },
   {
    "duration": 25,
    "start_time": "2021-06-27T20:09:30.258Z"
   },
   {
    "duration": 432,
    "start_time": "2021-06-27T20:11:50.293Z"
   },
   {
    "duration": 35,
    "start_time": "2021-06-27T20:12:05.993Z"
   },
   {
    "duration": 14,
    "start_time": "2021-06-27T20:12:13.612Z"
   },
   {
    "duration": 13,
    "start_time": "2021-06-27T20:12:38.088Z"
   },
   {
    "duration": 290,
    "start_time": "2021-06-27T20:14:57.410Z"
   },
   {
    "duration": 305,
    "start_time": "2021-06-27T20:15:44.327Z"
   },
   {
    "duration": 12,
    "start_time": "2021-06-27T20:15:56.418Z"
   },
   {
    "duration": 311,
    "start_time": "2021-06-27T20:16:01.349Z"
   },
   {
    "duration": 36,
    "start_time": "2021-06-27T20:16:35.889Z"
   },
   {
    "duration": 43,
    "start_time": "2021-06-27T20:16:58.785Z"
   },
   {
    "duration": 36,
    "start_time": "2021-06-27T20:17:07.951Z"
   },
   {
    "duration": 310,
    "start_time": "2021-06-27T20:22:38.208Z"
   },
   {
    "duration": 34,
    "start_time": "2021-06-27T20:22:48.703Z"
   },
   {
    "duration": 19,
    "start_time": "2021-06-27T20:29:26.685Z"
   },
   {
    "duration": 282,
    "start_time": "2021-06-27T20:32:16.233Z"
   },
   {
    "duration": 290,
    "start_time": "2021-06-27T20:32:24.086Z"
   },
   {
    "duration": 6,
    "start_time": "2021-06-27T20:32:30.652Z"
   },
   {
    "duration": 1000,
    "start_time": "2021-06-27T20:33:19.362Z"
   },
   {
    "duration": 20,
    "start_time": "2021-06-27T20:33:40.302Z"
   },
   {
    "duration": 6,
    "start_time": "2021-06-27T20:33:47.313Z"
   },
   {
    "duration": 26,
    "start_time": "2021-06-27T20:33:54.877Z"
   },
   {
    "duration": 5,
    "start_time": "2021-06-27T20:34:08.221Z"
   },
   {
    "duration": 26,
    "start_time": "2021-06-27T20:34:10.860Z"
   },
   {
    "duration": 1428,
    "start_time": "2021-06-27T20:36:14.655Z"
   },
   {
    "duration": 1093,
    "start_time": "2021-06-27T20:36:16.086Z"
   },
   {
    "duration": 28,
    "start_time": "2021-06-27T20:36:17.182Z"
   },
   {
    "duration": 15,
    "start_time": "2021-06-27T20:36:17.212Z"
   },
   {
    "duration": 23,
    "start_time": "2021-06-27T20:36:17.229Z"
   },
   {
    "duration": 35,
    "start_time": "2021-06-27T20:36:17.254Z"
   },
   {
    "duration": 19,
    "start_time": "2021-06-27T20:36:17.292Z"
   },
   {
    "duration": 10,
    "start_time": "2021-06-27T20:36:17.316Z"
   },
   {
    "duration": 8,
    "start_time": "2021-06-27T20:36:17.329Z"
   },
   {
    "duration": 53,
    "start_time": "2021-06-27T20:36:17.339Z"
   },
   {
    "duration": 11,
    "start_time": "2021-06-27T20:36:17.394Z"
   },
   {
    "duration": 15,
    "start_time": "2021-06-27T20:36:17.407Z"
   },
   {
    "duration": 70,
    "start_time": "2021-06-27T20:36:17.424Z"
   },
   {
    "duration": 30,
    "start_time": "2021-06-27T20:36:17.496Z"
   },
   {
    "duration": 24,
    "start_time": "2021-06-27T20:36:17.528Z"
   },
   {
    "duration": 5,
    "start_time": "2021-06-27T20:36:17.555Z"
   },
   {
    "duration": 7,
    "start_time": "2021-06-27T20:36:17.583Z"
   },
   {
    "duration": 13,
    "start_time": "2021-06-27T20:36:17.592Z"
   },
   {
    "duration": 3,
    "start_time": "2021-06-27T20:36:17.608Z"
   },
   {
    "duration": 35,
    "start_time": "2021-06-27T20:36:17.613Z"
   },
   {
    "duration": 52,
    "start_time": "2021-06-27T20:36:17.651Z"
   },
   {
    "duration": 20,
    "start_time": "2021-06-27T20:36:17.705Z"
   },
   {
    "duration": 61,
    "start_time": "2021-06-27T20:36:17.730Z"
   },
   {
    "duration": 37,
    "start_time": "2021-06-27T20:36:17.794Z"
   },
   {
    "duration": 7,
    "start_time": "2021-06-27T20:36:17.833Z"
   },
   {
    "duration": 206,
    "start_time": "2021-06-27T20:36:17.842Z"
   },
   {
    "duration": 119,
    "start_time": "2021-06-27T20:36:18.050Z"
   },
   {
    "duration": 143,
    "start_time": "2021-06-27T20:36:18.172Z"
   },
   {
    "duration": 4,
    "start_time": "2021-06-27T20:36:18.317Z"
   },
   {
    "duration": 26,
    "start_time": "2021-06-27T20:36:18.323Z"
   },
   {
    "duration": 33,
    "start_time": "2021-06-27T20:36:18.351Z"
   },
   {
    "duration": 34,
    "start_time": "2021-06-27T20:36:18.386Z"
   },
   {
    "duration": 3095,
    "start_time": "2021-06-27T20:36:18.423Z"
   },
   {
    "duration": 23,
    "start_time": "2021-06-27T20:36:21.520Z"
   },
   {
    "duration": 1139,
    "start_time": "2021-06-27T20:36:21.545Z"
   },
   {
    "duration": 361,
    "start_time": "2021-06-27T20:36:22.686Z"
   },
   {
    "duration": 57,
    "start_time": "2021-06-27T20:36:23.050Z"
   },
   {
    "duration": 1473,
    "start_time": "2021-06-27T20:36:23.110Z"
   },
   {
    "duration": 483,
    "start_time": "2021-06-27T20:36:24.586Z"
   },
   {
    "duration": 522,
    "start_time": "2021-06-27T20:36:25.072Z"
   },
   {
    "duration": 555,
    "start_time": "2021-06-27T20:36:25.596Z"
   },
   {
    "duration": 30,
    "start_time": "2021-06-27T20:36:26.154Z"
   },
   {
    "duration": 18,
    "start_time": "2021-06-27T20:36:26.187Z"
   },
   {
    "duration": 3014,
    "start_time": "2021-06-27T20:36:26.207Z"
   },
   {
    "duration": 11,
    "start_time": "2021-06-27T20:36:29.224Z"
   },
   {
    "duration": 8,
    "start_time": "2021-06-27T20:36:29.237Z"
   },
   {
    "duration": 48,
    "start_time": "2021-06-27T20:36:29.247Z"
   },
   {
    "duration": 19,
    "start_time": "2021-06-27T20:38:22.258Z"
   },
   {
    "duration": 6,
    "start_time": "2021-06-27T20:38:57.616Z"
   },
   {
    "duration": 18,
    "start_time": "2021-06-27T20:39:16.272Z"
   },
   {
    "duration": 132,
    "start_time": "2021-06-27T20:40:42.047Z"
   },
   {
    "duration": 19,
    "start_time": "2021-06-27T20:40:44.927Z"
   },
   {
    "duration": 988,
    "start_time": "2021-06-27T20:41:51.896Z"
   },
   {
    "duration": 1012,
    "start_time": "2021-06-27T20:42:01.714Z"
   },
   {
    "duration": 122,
    "start_time": "2021-06-27T20:42:38.871Z"
   },
   {
    "duration": 20,
    "start_time": "2021-06-27T20:42:45.493Z"
   },
   {
    "duration": 35,
    "start_time": "2021-06-27T20:42:51.982Z"
   },
   {
    "duration": 2942,
    "start_time": "2021-06-27T20:42:57.342Z"
   },
   {
    "duration": 32,
    "start_time": "2021-06-27T20:43:00.287Z"
   },
   {
    "duration": 20,
    "start_time": "2021-06-27T20:43:45.574Z"
   },
   {
    "duration": 34,
    "start_time": "2021-06-27T20:43:49.016Z"
   },
   {
    "duration": 16,
    "start_time": "2021-06-27T20:43:53.300Z"
   },
   {
    "duration": 34,
    "start_time": "2021-06-27T20:43:57.606Z"
   },
   {
    "duration": 3055,
    "start_time": "2021-06-27T20:43:58.969Z"
   },
   {
    "duration": 25,
    "start_time": "2021-06-27T20:44:02.481Z"
   },
   {
    "duration": 1159,
    "start_time": "2021-06-27T20:44:10.424Z"
   },
   {
    "duration": 328,
    "start_time": "2021-06-27T20:44:35.734Z"
   },
   {
    "duration": 1003,
    "start_time": "2021-06-27T20:45:28.128Z"
   },
   {
    "duration": 1404,
    "start_time": "2021-06-27T20:46:52.838Z"
   },
   {
    "duration": 1146,
    "start_time": "2021-06-27T20:46:54.245Z"
   },
   {
    "duration": 27,
    "start_time": "2021-06-27T20:46:55.394Z"
   },
   {
    "duration": 16,
    "start_time": "2021-06-27T20:46:55.425Z"
   },
   {
    "duration": 52,
    "start_time": "2021-06-27T20:46:55.444Z"
   },
   {
    "duration": 13,
    "start_time": "2021-06-27T20:46:55.499Z"
   },
   {
    "duration": 20,
    "start_time": "2021-06-27T20:46:55.515Z"
   },
   {
    "duration": 49,
    "start_time": "2021-06-27T20:46:55.539Z"
   },
   {
    "duration": 10,
    "start_time": "2021-06-27T20:46:55.591Z"
   },
   {
    "duration": 14,
    "start_time": "2021-06-27T20:46:55.603Z"
   },
   {
    "duration": 13,
    "start_time": "2021-06-27T20:46:55.619Z"
   },
   {
    "duration": 51,
    "start_time": "2021-06-27T20:46:55.634Z"
   },
   {
    "duration": 39,
    "start_time": "2021-06-27T20:46:55.688Z"
   },
   {
    "duration": 27,
    "start_time": "2021-06-27T20:46:55.729Z"
   },
   {
    "duration": 45,
    "start_time": "2021-06-27T20:46:55.758Z"
   },
   {
    "duration": 6,
    "start_time": "2021-06-27T20:46:55.806Z"
   },
   {
    "duration": 9,
    "start_time": "2021-06-27T20:46:55.815Z"
   },
   {
    "duration": 9,
    "start_time": "2021-06-27T20:46:55.827Z"
   },
   {
    "duration": 4,
    "start_time": "2021-06-27T20:46:55.838Z"
   },
   {
    "duration": 66,
    "start_time": "2021-06-27T20:46:55.844Z"
   },
   {
    "duration": 24,
    "start_time": "2021-06-27T20:46:55.913Z"
   },
   {
    "duration": 43,
    "start_time": "2021-06-27T20:46:55.940Z"
   },
   {
    "duration": 47,
    "start_time": "2021-06-27T20:46:55.988Z"
   },
   {
    "duration": 53,
    "start_time": "2021-06-27T20:46:56.038Z"
   },
   {
    "duration": 7,
    "start_time": "2021-06-27T20:46:56.093Z"
   },
   {
    "duration": 187,
    "start_time": "2021-06-27T20:46:56.102Z"
   },
   {
    "duration": 144,
    "start_time": "2021-06-27T20:46:56.292Z"
   },
   {
    "duration": 153,
    "start_time": "2021-06-27T20:46:56.439Z"
   },
   {
    "duration": 18,
    "start_time": "2021-06-27T20:46:56.594Z"
   },
   {
    "duration": 4,
    "start_time": "2021-06-27T20:46:56.614Z"
   },
   {
    "duration": 22,
    "start_time": "2021-06-27T20:46:56.621Z"
   },
   {
    "duration": 57,
    "start_time": "2021-06-27T20:46:56.646Z"
   },
   {
    "duration": 15,
    "start_time": "2021-06-27T20:46:56.706Z"
   },
   {
    "duration": 31,
    "start_time": "2021-06-27T20:46:56.723Z"
   },
   {
    "duration": 2880,
    "start_time": "2021-06-27T20:46:56.783Z"
   },
   {
    "duration": 31,
    "start_time": "2021-06-27T20:46:59.666Z"
   },
   {
    "duration": 1122,
    "start_time": "2021-06-27T20:46:59.699Z"
   },
   {
    "duration": 362,
    "start_time": "2021-06-27T20:47:00.824Z"
   },
   {
    "duration": 48,
    "start_time": "2021-06-27T20:47:01.188Z"
   },
   {
    "duration": 1744,
    "start_time": "2021-06-27T20:47:01.239Z"
   },
   {
    "duration": 474,
    "start_time": "2021-06-27T20:47:02.986Z"
   },
   {
    "duration": 548,
    "start_time": "2021-06-27T20:47:03.462Z"
   },
   {
    "duration": 551,
    "start_time": "2021-06-27T20:47:04.013Z"
   },
   {
    "duration": 25,
    "start_time": "2021-06-27T20:47:04.567Z"
   },
   {
    "duration": 19,
    "start_time": "2021-06-27T20:47:04.594Z"
   },
   {
    "duration": 3095,
    "start_time": "2021-06-27T20:47:04.615Z"
   },
   {
    "duration": 15,
    "start_time": "2021-06-27T20:47:07.712Z"
   },
   {
    "duration": 9,
    "start_time": "2021-06-27T20:47:07.730Z"
   },
   {
    "duration": 51,
    "start_time": "2021-06-27T20:47:07.742Z"
   },
   {
    "duration": 6,
    "start_time": "2021-06-27T20:50:16.488Z"
   },
   {
    "duration": 19,
    "start_time": "2021-06-27T20:50:25.767Z"
   },
   {
    "duration": 26,
    "start_time": "2021-06-27T20:50:44.542Z"
   },
   {
    "duration": 17,
    "start_time": "2021-06-27T20:50:45.915Z"
   },
   {
    "duration": 3044,
    "start_time": "2021-06-27T20:50:51.547Z"
   },
   {
    "duration": 29,
    "start_time": "2021-06-27T20:50:54.594Z"
   },
   {
    "duration": 1107,
    "start_time": "2021-06-27T20:50:59.689Z"
   },
   {
    "duration": 99,
    "start_time": "2021-06-27T20:54:56.346Z"
   },
   {
    "duration": 1125,
    "start_time": "2021-06-27T20:54:59.593Z"
   },
   {
    "duration": 33,
    "start_time": "2021-06-27T20:55:18.367Z"
   },
   {
    "duration": 2957,
    "start_time": "2021-06-27T20:55:22.908Z"
   },
   {
    "duration": 37,
    "start_time": "2021-06-27T20:55:25.867Z"
   },
   {
    "duration": 1022,
    "start_time": "2021-06-27T20:55:28.494Z"
   },
   {
    "duration": 1468,
    "start_time": "2021-06-27T20:55:56.163Z"
   },
   {
    "duration": 1053,
    "start_time": "2021-06-27T20:55:57.633Z"
   },
   {
    "duration": 27,
    "start_time": "2021-06-27T20:55:58.689Z"
   },
   {
    "duration": 16,
    "start_time": "2021-06-27T20:55:58.719Z"
   },
   {
    "duration": 51,
    "start_time": "2021-06-27T20:55:58.738Z"
   },
   {
    "duration": 12,
    "start_time": "2021-06-27T20:55:58.792Z"
   },
   {
    "duration": 21,
    "start_time": "2021-06-27T20:55:58.807Z"
   },
   {
    "duration": 10,
    "start_time": "2021-06-27T20:55:58.832Z"
   },
   {
    "duration": 39,
    "start_time": "2021-06-27T20:55:58.845Z"
   },
   {
    "duration": 12,
    "start_time": "2021-06-27T20:55:58.887Z"
   },
   {
    "duration": 10,
    "start_time": "2021-06-27T20:55:58.901Z"
   },
   {
    "duration": 15,
    "start_time": "2021-06-27T20:55:58.913Z"
   },
   {
    "duration": 77,
    "start_time": "2021-06-27T20:55:58.931Z"
   },
   {
    "duration": 29,
    "start_time": "2021-06-27T20:55:59.011Z"
   },
   {
    "duration": 44,
    "start_time": "2021-06-27T20:55:59.043Z"
   },
   {
    "duration": 6,
    "start_time": "2021-06-27T20:55:59.089Z"
   },
   {
    "duration": 11,
    "start_time": "2021-06-27T20:55:59.097Z"
   },
   {
    "duration": 9,
    "start_time": "2021-06-27T20:55:59.111Z"
   },
   {
    "duration": 3,
    "start_time": "2021-06-27T20:55:59.122Z"
   },
   {
    "duration": 61,
    "start_time": "2021-06-27T20:55:59.128Z"
   },
   {
    "duration": 24,
    "start_time": "2021-06-27T20:55:59.192Z"
   },
   {
    "duration": 20,
    "start_time": "2021-06-27T20:55:59.218Z"
   },
   {
    "duration": 67,
    "start_time": "2021-06-27T20:55:59.243Z"
   },
   {
    "duration": 39,
    "start_time": "2021-06-27T20:55:59.313Z"
   },
   {
    "duration": 7,
    "start_time": "2021-06-27T20:55:59.354Z"
   },
   {
    "duration": 187,
    "start_time": "2021-06-27T20:55:59.384Z"
   },
   {
    "duration": 121,
    "start_time": "2021-06-27T20:55:59.574Z"
   },
   {
    "duration": 151,
    "start_time": "2021-06-27T20:55:59.698Z"
   },
   {
    "duration": 4,
    "start_time": "2021-06-27T20:55:59.852Z"
   },
   {
    "duration": 37,
    "start_time": "2021-06-27T20:55:59.858Z"
   },
   {
    "duration": 15,
    "start_time": "2021-06-27T20:55:59.897Z"
   },
   {
    "duration": 34,
    "start_time": "2021-06-27T20:55:59.914Z"
   },
   {
    "duration": 3068,
    "start_time": "2021-06-27T20:55:59.950Z"
   },
   {
    "duration": 25,
    "start_time": "2021-06-27T20:56:03.020Z"
   },
   {
    "duration": 1046,
    "start_time": "2021-06-27T20:56:03.047Z"
   },
   {
    "duration": 392,
    "start_time": "2021-06-27T20:56:04.096Z"
   },
   {
    "duration": 46,
    "start_time": "2021-06-27T20:56:04.490Z"
   },
   {
    "duration": 1533,
    "start_time": "2021-06-27T20:56:04.539Z"
   },
   {
    "duration": 493,
    "start_time": "2021-06-27T20:56:06.075Z"
   },
   {
    "duration": 526,
    "start_time": "2021-06-27T20:56:06.570Z"
   },
   {
    "duration": 558,
    "start_time": "2021-06-27T20:56:07.098Z"
   },
   {
    "duration": 28,
    "start_time": "2021-06-27T20:56:07.658Z"
   },
   {
    "duration": 18,
    "start_time": "2021-06-27T20:56:07.688Z"
   },
   {
    "duration": 3128,
    "start_time": "2021-06-27T20:56:07.708Z"
   },
   {
    "duration": 12,
    "start_time": "2021-06-27T20:56:10.838Z"
   },
   {
    "duration": 33,
    "start_time": "2021-06-27T20:56:10.852Z"
   },
   {
    "duration": 21,
    "start_time": "2021-06-27T20:56:10.887Z"
   },
   {
    "duration": 1023,
    "start_time": "2021-06-27T20:56:27.275Z"
   },
   {
    "duration": 951,
    "start_time": "2021-06-27T20:57:16.266Z"
   },
   {
    "duration": 1319,
    "start_time": "2021-06-27T20:57:46.537Z"
   },
   {
    "duration": 574,
    "start_time": "2021-06-27T20:59:31.996Z"
   },
   {
    "duration": 588,
    "start_time": "2021-06-27T21:01:10.185Z"
   },
   {
    "duration": 358,
    "start_time": "2021-06-27T21:02:10.975Z"
   },
   {
    "duration": 622,
    "start_time": "2021-06-27T21:02:16.326Z"
   },
   {
    "duration": 672,
    "start_time": "2021-06-27T21:02:48.263Z"
   },
   {
    "duration": 346,
    "start_time": "2021-06-27T21:03:17.867Z"
   },
   {
    "duration": 304,
    "start_time": "2021-06-27T21:10:19.840Z"
   },
   {
    "duration": 282,
    "start_time": "2021-06-27T21:10:39.716Z"
   },
   {
    "duration": 556,
    "start_time": "2021-06-27T21:10:52.132Z"
   },
   {
    "duration": 282,
    "start_time": "2021-06-27T21:11:12.959Z"
   },
   {
    "duration": 554,
    "start_time": "2021-06-27T21:11:33.489Z"
   },
   {
    "duration": 550,
    "start_time": "2021-06-27T21:12:28.011Z"
   },
   {
    "duration": 551,
    "start_time": "2021-06-27T21:12:48.382Z"
   },
   {
    "duration": 590,
    "start_time": "2021-06-27T21:12:55.210Z"
   },
   {
    "duration": 699,
    "start_time": "2021-06-27T21:13:39.542Z"
   },
   {
    "duration": 294,
    "start_time": "2021-06-27T21:15:48.543Z"
   },
   {
    "duration": 280,
    "start_time": "2021-06-27T21:16:59.546Z"
   },
   {
    "duration": 320,
    "start_time": "2021-06-27T21:17:09.758Z"
   },
   {
    "duration": 554,
    "start_time": "2021-06-27T21:17:19.921Z"
   },
   {
    "duration": 571,
    "start_time": "2021-06-27T21:17:47.087Z"
   },
   {
    "duration": 659,
    "start_time": "2021-06-27T21:19:18.692Z"
   },
   {
    "duration": 608,
    "start_time": "2021-06-27T21:19:57.455Z"
   },
   {
    "duration": 20,
    "start_time": "2021-06-27T21:21:10.931Z"
   },
   {
    "duration": -20,
    "start_time": "2021-06-27T21:22:11.558Z"
   },
   {
    "duration": 7,
    "start_time": "2021-06-27T21:22:19.521Z"
   },
   {
    "duration": 19,
    "start_time": "2021-06-27T21:23:27.855Z"
   },
   {
    "duration": 15,
    "start_time": "2021-06-27T21:24:19.808Z"
   },
   {
    "duration": 17,
    "start_time": "2021-06-27T21:24:31.452Z"
   },
   {
    "duration": 277,
    "start_time": "2021-06-27T21:25:33.892Z"
   },
   {
    "duration": 92,
    "start_time": "2021-06-27T21:25:48.776Z"
   },
   {
    "duration": 32,
    "start_time": "2021-06-27T21:25:54.039Z"
   },
   {
    "duration": 6,
    "start_time": "2021-06-27T21:27:42.052Z"
   },
   {
    "duration": 7,
    "start_time": "2021-06-27T21:27:55.221Z"
   },
   {
    "duration": 7,
    "start_time": "2021-06-27T21:28:06.906Z"
   },
   {
    "duration": 19,
    "start_time": "2021-06-27T21:28:28.921Z"
   },
   {
    "duration": 361,
    "start_time": "2021-06-27T21:29:11.839Z"
   },
   {
    "duration": 13,
    "start_time": "2021-06-27T21:30:07.071Z"
   },
   {
    "duration": 299,
    "start_time": "2021-06-27T21:30:36.487Z"
   },
   {
    "duration": 282,
    "start_time": "2021-06-27T21:31:36.448Z"
   },
   {
    "duration": 306,
    "start_time": "2021-06-27T21:32:04.898Z"
   },
   {
    "duration": 895,
    "start_time": "2021-06-27T21:32:38.300Z"
   },
   {
    "duration": 26,
    "start_time": "2021-06-27T21:32:53.569Z"
   },
   {
    "duration": 13,
    "start_time": "2021-06-27T21:33:40.570Z"
   },
   {
    "duration": 17,
    "start_time": "2021-06-27T21:34:09.129Z"
   },
   {
    "duration": 13,
    "start_time": "2021-06-27T21:34:42.357Z"
   },
   {
    "duration": 13,
    "start_time": "2021-06-27T21:34:48.985Z"
   },
   {
    "duration": 11,
    "start_time": "2021-06-27T21:35:25.660Z"
   },
   {
    "duration": 934,
    "start_time": "2021-06-27T21:57:25.751Z"
   },
   {
    "duration": 846,
    "start_time": "2021-06-27T21:58:37.706Z"
   },
   {
    "duration": 880,
    "start_time": "2021-06-27T21:59:43.308Z"
   },
   {
    "duration": 844,
    "start_time": "2021-06-27T22:00:09.261Z"
   },
   {
    "duration": 494,
    "start_time": "2021-06-27T22:01:24.792Z"
   },
   {
    "duration": 933,
    "start_time": "2021-06-27T22:03:43.299Z"
   },
   {
    "duration": 975,
    "start_time": "2021-06-27T22:03:55.883Z"
   },
   {
    "duration": 488,
    "start_time": "2021-06-27T22:05:31.278Z"
   },
   {
    "duration": 16,
    "start_time": "2021-06-27T22:06:27.818Z"
   },
   {
    "duration": 899,
    "start_time": "2021-06-27T22:07:11.588Z"
   },
   {
    "duration": 471,
    "start_time": "2021-06-27T22:07:16.534Z"
   },
   {
    "duration": 388,
    "start_time": "2021-06-27T22:07:40.995Z"
   },
   {
    "duration": 508,
    "start_time": "2021-06-27T22:08:22.205Z"
   },
   {
    "duration": 1753,
    "start_time": "2021-06-27T22:08:47.791Z"
   },
   {
    "duration": 925,
    "start_time": "2021-06-27T22:09:01.847Z"
   },
   {
    "duration": 928,
    "start_time": "2021-06-27T22:09:18.380Z"
   },
   {
    "duration": 1100,
    "start_time": "2021-06-27T22:10:22.630Z"
   },
   {
    "duration": 1046,
    "start_time": "2021-06-27T22:11:30.727Z"
   },
   {
    "duration": 1161,
    "start_time": "2021-06-27T22:12:00.287Z"
   },
   {
    "duration": 1233,
    "start_time": "2021-06-27T22:12:55.097Z"
   },
   {
    "duration": 483,
    "start_time": "2021-06-27T22:13:27.919Z"
   },
   {
    "duration": 1200,
    "start_time": "2021-06-27T22:14:14.311Z"
   },
   {
    "duration": 302,
    "start_time": "2021-06-27T22:14:54.871Z"
   },
   {
    "duration": 316,
    "start_time": "2021-06-27T22:15:01.525Z"
   },
   {
    "duration": 327,
    "start_time": "2021-06-27T22:15:14.540Z"
   },
   {
    "duration": 907,
    "start_time": "2021-06-27T22:16:04.660Z"
   },
   {
    "duration": 1151,
    "start_time": "2021-06-27T22:16:16.057Z"
   },
   {
    "duration": 396,
    "start_time": "2021-06-27T22:17:04.532Z"
   },
   {
    "duration": 17,
    "start_time": "2021-06-27T22:18:14.975Z"
   },
   {
    "duration": 900,
    "start_time": "2021-06-27T22:19:07.085Z"
   },
   {
    "duration": 963,
    "start_time": "2021-06-27T22:19:59.060Z"
   },
   {
    "duration": 1488,
    "start_time": "2021-06-27T22:20:46.374Z"
   },
   {
    "duration": 417,
    "start_time": "2021-06-27T22:21:22.160Z"
   },
   {
    "duration": 517,
    "start_time": "2021-06-27T22:22:24.174Z"
   },
   {
    "duration": 21,
    "start_time": "2021-06-27T22:22:45.280Z"
   },
   {
    "duration": 1483,
    "start_time": "2021-06-28T06:25:48.110Z"
   },
   {
    "duration": 1922,
    "start_time": "2021-06-28T06:25:49.596Z"
   },
   {
    "duration": 28,
    "start_time": "2021-06-28T06:25:51.522Z"
   },
   {
    "duration": 16,
    "start_time": "2021-06-28T06:25:51.553Z"
   },
   {
    "duration": 40,
    "start_time": "2021-06-28T06:25:51.572Z"
   },
   {
    "duration": 19,
    "start_time": "2021-06-28T06:25:51.615Z"
   },
   {
    "duration": 21,
    "start_time": "2021-06-28T06:25:51.637Z"
   },
   {
    "duration": 40,
    "start_time": "2021-06-28T06:25:51.663Z"
   },
   {
    "duration": 12,
    "start_time": "2021-06-28T06:25:51.706Z"
   },
   {
    "duration": 16,
    "start_time": "2021-06-28T06:25:51.721Z"
   },
   {
    "duration": 16,
    "start_time": "2021-06-28T06:25:51.739Z"
   },
   {
    "duration": 47,
    "start_time": "2021-06-28T06:25:51.757Z"
   },
   {
    "duration": 43,
    "start_time": "2021-06-28T06:25:51.806Z"
   },
   {
    "duration": 28,
    "start_time": "2021-06-28T06:25:51.852Z"
   },
   {
    "duration": 27,
    "start_time": "2021-06-28T06:25:51.901Z"
   },
   {
    "duration": 6,
    "start_time": "2021-06-28T06:25:51.931Z"
   },
   {
    "duration": 9,
    "start_time": "2021-06-28T06:25:51.939Z"
   },
   {
    "duration": 16,
    "start_time": "2021-06-28T06:25:51.950Z"
   },
   {
    "duration": 34,
    "start_time": "2021-06-28T06:25:51.968Z"
   },
   {
    "duration": 38,
    "start_time": "2021-06-28T06:25:52.005Z"
   },
   {
    "duration": 26,
    "start_time": "2021-06-28T06:25:52.046Z"
   },
   {
    "duration": 38,
    "start_time": "2021-06-28T06:25:52.074Z"
   },
   {
    "duration": 51,
    "start_time": "2021-06-28T06:25:52.119Z"
   },
   {
    "duration": 36,
    "start_time": "2021-06-28T06:25:52.174Z"
   },
   {
    "duration": 637,
    "start_time": "2021-06-28T06:25:52.214Z"
   },
   {
    "duration": 52,
    "start_time": "2021-06-28T06:25:52.854Z"
   },
   {
    "duration": 612,
    "start_time": "2021-06-28T06:25:52.908Z"
   },
   {
    "duration": 17,
    "start_time": "2021-06-28T06:25:53.524Z"
   },
   {
    "duration": 10,
    "start_time": "2021-06-28T06:25:53.544Z"
   },
   {
    "duration": 223,
    "start_time": "2021-06-28T06:25:53.557Z"
   },
   {
    "duration": 144,
    "start_time": "2021-06-28T06:25:53.782Z"
   },
   {
    "duration": 155,
    "start_time": "2021-06-28T06:25:53.928Z"
   },
   {
    "duration": 6,
    "start_time": "2021-06-28T06:25:54.086Z"
   },
   {
    "duration": 26,
    "start_time": "2021-06-28T06:25:54.101Z"
   },
   {
    "duration": 21,
    "start_time": "2021-06-28T06:25:54.130Z"
   },
   {
    "duration": 67,
    "start_time": "2021-06-28T06:25:54.154Z"
   },
   {
    "duration": 3366,
    "start_time": "2021-06-28T06:25:54.223Z"
   },
   {
    "duration": 31,
    "start_time": "2021-06-28T06:25:57.592Z"
   },
   {
    "duration": 1133,
    "start_time": "2021-06-28T06:25:57.626Z"
   },
   {
    "duration": 364,
    "start_time": "2021-06-28T06:25:58.761Z"
   },
   {
    "duration": 51,
    "start_time": "2021-06-28T06:25:59.127Z"
   },
   {
    "duration": 1796,
    "start_time": "2021-06-28T06:25:59.180Z"
   },
   {
    "duration": 532,
    "start_time": "2021-06-28T06:26:00.979Z"
   },
   {
    "duration": 578,
    "start_time": "2021-06-28T06:26:01.514Z"
   },
   {
    "duration": 540,
    "start_time": "2021-06-28T06:26:02.095Z"
   },
   {
    "duration": 527,
    "start_time": "2021-06-28T06:26:02.638Z"
   },
   {
    "duration": 34,
    "start_time": "2021-06-28T06:26:03.167Z"
   },
   {
    "duration": 15,
    "start_time": "2021-06-28T06:26:03.204Z"
   },
   {
    "duration": 19,
    "start_time": "2021-06-28T06:26:03.222Z"
   },
   {
    "duration": 3362,
    "start_time": "2021-06-28T06:26:03.243Z"
   },
   {
    "duration": 12,
    "start_time": "2021-06-28T06:26:06.608Z"
   },
   {
    "duration": 30,
    "start_time": "2021-06-28T06:26:06.623Z"
   },
   {
    "duration": 34,
    "start_time": "2021-06-28T06:26:06.655Z"
   },
   {
    "duration": 431,
    "start_time": "2021-06-28T06:26:39.697Z"
   },
   {
    "duration": 408,
    "start_time": "2021-06-28T06:27:00.880Z"
   },
   {
    "duration": 1311,
    "start_time": "2021-06-28T06:28:17.937Z"
   },
   {
    "duration": 888,
    "start_time": "2021-06-28T06:28:42.638Z"
   },
   {
    "duration": 1101,
    "start_time": "2021-06-28T06:29:20.766Z"
   },
   {
    "duration": 981,
    "start_time": "2021-06-28T06:29:32.929Z"
   },
   {
    "duration": 1100,
    "start_time": "2021-06-28T06:30:25.062Z"
   },
   {
    "duration": 1046,
    "start_time": "2021-06-28T06:31:29.057Z"
   },
   {
    "duration": 552,
    "start_time": "2021-06-28T06:31:41.163Z"
   },
   {
    "duration": 191,
    "start_time": "2021-06-28T06:33:41.968Z"
   },
   {
    "duration": 945,
    "start_time": "2021-06-28T06:34:33.376Z"
   },
   {
    "duration": 1013,
    "start_time": "2021-06-28T06:34:41.914Z"
   },
   {
    "duration": 1066,
    "start_time": "2021-06-28T06:34:54.267Z"
   },
   {
    "duration": 1324,
    "start_time": "2021-06-28T06:35:04.939Z"
   },
   {
    "duration": 775,
    "start_time": "2021-06-28T06:36:32.992Z"
   },
   {
    "duration": 529,
    "start_time": "2021-06-28T06:36:44.477Z"
   },
   {
    "duration": 306,
    "start_time": "2021-06-28T06:36:53.444Z"
   },
   {
    "duration": 373,
    "start_time": "2021-06-28T06:38:01.860Z"
   },
   {
    "duration": 3901,
    "start_time": "2021-06-28T06:40:11.843Z"
   },
   {
    "duration": 4486,
    "start_time": "2021-06-28T06:40:56.024Z"
   },
   {
    "duration": 376,
    "start_time": "2021-06-28T06:41:09.810Z"
   },
   {
    "duration": 314,
    "start_time": "2021-06-28T06:41:29.612Z"
   },
   {
    "duration": 6,
    "start_time": "2021-06-28T06:42:29.732Z"
   },
   {
    "duration": 262,
    "start_time": "2021-06-28T06:42:40.891Z"
   },
   {
    "duration": 272,
    "start_time": "2021-06-28T06:44:32.596Z"
   },
   {
    "duration": 281,
    "start_time": "2021-06-28T06:44:51.694Z"
   },
   {
    "duration": 282,
    "start_time": "2021-06-28T06:45:40.111Z"
   },
   {
    "duration": 619,
    "start_time": "2021-06-28T06:47:57.608Z"
   },
   {
    "duration": 650,
    "start_time": "2021-06-28T06:49:04.315Z"
   },
   {
    "duration": 19,
    "start_time": "2021-06-28T06:49:12.777Z"
   },
   {
    "duration": 276,
    "start_time": "2021-06-28T06:49:31.745Z"
   },
   {
    "duration": 583,
    "start_time": "2021-06-28T06:50:38.393Z"
   },
   {
    "duration": 293,
    "start_time": "2021-06-28T06:52:15.324Z"
   },
   {
    "duration": 297,
    "start_time": "2021-06-28T06:52:19.729Z"
   },
   {
    "duration": 1378,
    "start_time": "2021-06-28T06:52:36.762Z"
   },
   {
    "duration": 452,
    "start_time": "2021-06-28T06:52:49.676Z"
   },
   {
    "duration": 286,
    "start_time": "2021-06-28T06:53:14.555Z"
   },
   {
    "duration": 274,
    "start_time": "2021-06-28T06:53:32.524Z"
   },
   {
    "duration": 342,
    "start_time": "2021-06-28T09:45:25.079Z"
   },
   {
    "duration": 13,
    "start_time": "2021-06-28T09:45:31.967Z"
   },
   {
    "duration": 289,
    "start_time": "2021-06-28T09:46:49.975Z"
   },
   {
    "duration": 290,
    "start_time": "2021-06-28T09:47:04.046Z"
   },
   {
    "duration": 312,
    "start_time": "2021-06-28T09:47:47.175Z"
   },
   {
    "duration": 10,
    "start_time": "2021-06-28T09:47:55.866Z"
   },
   {
    "duration": 16,
    "start_time": "2021-06-28T09:48:04.217Z"
   },
   {
    "duration": 9,
    "start_time": "2021-06-28T09:49:02.463Z"
   },
   {
    "duration": 8,
    "start_time": "2021-06-28T09:49:37.976Z"
   },
   {
    "duration": 8,
    "start_time": "2021-06-28T09:49:56.540Z"
   },
   {
    "duration": 9,
    "start_time": "2021-06-28T09:50:05.836Z"
   },
   {
    "duration": 403,
    "start_time": "2021-06-28T12:07:00.315Z"
   },
   {
    "duration": 1664,
    "start_time": "2021-06-28T12:07:10.161Z"
   },
   {
    "duration": 1079,
    "start_time": "2021-06-28T12:07:11.828Z"
   },
   {
    "duration": 29,
    "start_time": "2021-06-28T12:07:12.910Z"
   },
   {
    "duration": 15,
    "start_time": "2021-06-28T12:07:12.942Z"
   },
   {
    "duration": 50,
    "start_time": "2021-06-28T12:07:12.960Z"
   },
   {
    "duration": 13,
    "start_time": "2021-06-28T12:07:13.013Z"
   },
   {
    "duration": 37,
    "start_time": "2021-06-28T12:07:13.028Z"
   },
   {
    "duration": 10,
    "start_time": "2021-06-28T12:07:13.069Z"
   },
   {
    "duration": 30,
    "start_time": "2021-06-28T12:07:13.082Z"
   },
   {
    "duration": 17,
    "start_time": "2021-06-28T12:07:13.114Z"
   },
   {
    "duration": 11,
    "start_time": "2021-06-28T12:07:13.133Z"
   },
   {
    "duration": 16,
    "start_time": "2021-06-28T12:07:13.146Z"
   },
   {
    "duration": 76,
    "start_time": "2021-06-28T12:07:13.165Z"
   },
   {
    "duration": 30,
    "start_time": "2021-06-28T12:07:13.243Z"
   },
   {
    "duration": 45,
    "start_time": "2021-06-28T12:07:13.276Z"
   },
   {
    "duration": 7,
    "start_time": "2021-06-28T12:07:13.323Z"
   },
   {
    "duration": 9,
    "start_time": "2021-06-28T12:07:13.333Z"
   },
   {
    "duration": 9,
    "start_time": "2021-06-28T12:07:13.345Z"
   },
   {
    "duration": 4,
    "start_time": "2021-06-28T12:07:13.356Z"
   },
   {
    "duration": 77,
    "start_time": "2021-06-28T12:07:13.362Z"
   },
   {
    "duration": 27,
    "start_time": "2021-06-28T12:07:13.441Z"
   },
   {
    "duration": 48,
    "start_time": "2021-06-28T12:07:13.471Z"
   },
   {
    "duration": 48,
    "start_time": "2021-06-28T12:07:13.526Z"
   },
   {
    "duration": 32,
    "start_time": "2021-06-28T12:07:13.577Z"
   },
   {
    "duration": 716,
    "start_time": "2021-06-28T12:07:13.612Z"
   },
   {
    "duration": 39,
    "start_time": "2021-06-28T12:07:14.331Z"
   },
   {
    "duration": 609,
    "start_time": "2021-06-28T12:07:14.372Z"
   },
   {
    "duration": 10,
    "start_time": "2021-06-28T12:07:14.983Z"
   },
   {
    "duration": 6,
    "start_time": "2021-06-28T12:07:15.009Z"
   },
   {
    "duration": 203,
    "start_time": "2021-06-28T12:07:15.017Z"
   },
   {
    "duration": 130,
    "start_time": "2021-06-28T12:07:15.223Z"
   },
   {
    "duration": 160,
    "start_time": "2021-06-28T12:07:15.355Z"
   },
   {
    "duration": 4,
    "start_time": "2021-06-28T12:07:15.517Z"
   },
   {
    "duration": 34,
    "start_time": "2021-06-28T12:07:15.524Z"
   },
   {
    "duration": 15,
    "start_time": "2021-06-28T12:07:15.561Z"
   },
   {
    "duration": 57,
    "start_time": "2021-06-28T12:07:15.579Z"
   },
   {
    "duration": 3243,
    "start_time": "2021-06-28T12:07:15.638Z"
   },
   {
    "duration": 34,
    "start_time": "2021-06-28T12:07:18.883Z"
   },
   {
    "duration": 1118,
    "start_time": "2021-06-28T12:07:18.919Z"
   },
   {
    "duration": 378,
    "start_time": "2021-06-28T12:07:20.039Z"
   },
   {
    "duration": 46,
    "start_time": "2021-06-28T12:07:20.420Z"
   },
   {
    "duration": 1715,
    "start_time": "2021-06-28T12:07:20.468Z"
   },
   {
    "duration": 531,
    "start_time": "2021-06-28T12:07:22.186Z"
   },
   {
    "duration": 583,
    "start_time": "2021-06-28T12:07:22.720Z"
   },
   {
    "duration": 524,
    "start_time": "2021-06-28T12:07:23.309Z"
   },
   {
    "duration": 540,
    "start_time": "2021-06-28T12:07:23.836Z"
   },
   {
    "duration": 5000,
    "start_time": "2021-06-28T12:07:24.379Z"
   },
   {
    "duration": 576,
    "start_time": "2021-06-28T12:07:29.382Z"
   },
   {
    "duration": 33180,
    "start_time": "2021-06-28T12:06:56.781Z"
   },
   {
    "duration": 33150,
    "start_time": "2021-06-28T12:06:56.813Z"
   },
   {
    "duration": 33147,
    "start_time": "2021-06-28T12:06:56.817Z"
   },
   {
    "duration": 33145,
    "start_time": "2021-06-28T12:06:56.821Z"
   },
   {
    "duration": 33142,
    "start_time": "2021-06-28T12:06:56.825Z"
   },
   {
    "duration": 33141,
    "start_time": "2021-06-28T12:06:56.828Z"
   },
   {
    "duration": 33140,
    "start_time": "2021-06-28T12:06:56.831Z"
   },
   {
    "duration": 33139,
    "start_time": "2021-06-28T12:06:56.834Z"
   },
   {
    "duration": 363,
    "start_time": "2021-06-28T12:07:47.680Z"
   },
   {
    "duration": 1440,
    "start_time": "2021-06-28T12:07:56.922Z"
   },
   {
    "duration": 964,
    "start_time": "2021-06-28T12:07:58.365Z"
   },
   {
    "duration": 28,
    "start_time": "2021-06-28T12:07:59.335Z"
   },
   {
    "duration": 16,
    "start_time": "2021-06-28T12:07:59.366Z"
   },
   {
    "duration": 37,
    "start_time": "2021-06-28T12:07:59.385Z"
   },
   {
    "duration": 12,
    "start_time": "2021-06-28T12:07:59.424Z"
   },
   {
    "duration": 25,
    "start_time": "2021-06-28T12:07:59.438Z"
   },
   {
    "duration": 11,
    "start_time": "2021-06-28T12:07:59.465Z"
   },
   {
    "duration": 9,
    "start_time": "2021-06-28T12:07:59.510Z"
   },
   {
    "duration": 18,
    "start_time": "2021-06-28T12:07:59.523Z"
   },
   {
    "duration": 24,
    "start_time": "2021-06-28T12:07:59.544Z"
   },
   {
    "duration": 26,
    "start_time": "2021-06-28T12:07:59.571Z"
   },
   {
    "duration": 46,
    "start_time": "2021-06-28T12:07:59.600Z"
   },
   {
    "duration": 31,
    "start_time": "2021-06-28T12:07:59.649Z"
   },
   {
    "duration": 43,
    "start_time": "2021-06-28T12:07:59.682Z"
   },
   {
    "duration": 6,
    "start_time": "2021-06-28T12:07:59.727Z"
   },
   {
    "duration": 14,
    "start_time": "2021-06-28T12:07:59.736Z"
   },
   {
    "duration": 9,
    "start_time": "2021-06-28T12:07:59.752Z"
   },
   {
    "duration": 4,
    "start_time": "2021-06-28T12:07:59.764Z"
   },
   {
    "duration": 68,
    "start_time": "2021-06-28T12:07:59.770Z"
   },
   {
    "duration": 25,
    "start_time": "2021-06-28T12:07:59.840Z"
   },
   {
    "duration": 42,
    "start_time": "2021-06-28T12:07:59.868Z"
   },
   {
    "duration": 50,
    "start_time": "2021-06-28T12:07:59.912Z"
   },
   {
    "duration": 12,
    "start_time": "2021-06-28T12:07:59.964Z"
   },
   {
    "duration": 630,
    "start_time": "2021-06-28T12:07:59.979Z"
   },
   {
    "duration": 40,
    "start_time": "2021-06-28T12:08:00.611Z"
   },
   {
    "duration": 615,
    "start_time": "2021-06-28T12:08:00.656Z"
   },
   {
    "duration": 11,
    "start_time": "2021-06-28T12:08:01.274Z"
   },
   {
    "duration": 26,
    "start_time": "2021-06-28T12:08:01.287Z"
   },
   {
    "duration": 207,
    "start_time": "2021-06-28T12:08:01.315Z"
   },
   {
    "duration": 147,
    "start_time": "2021-06-28T12:08:01.525Z"
   },
   {
    "duration": 183,
    "start_time": "2021-06-28T12:08:01.676Z"
   },
   {
    "duration": 4,
    "start_time": "2021-06-28T12:08:01.862Z"
   },
   {
    "duration": 50,
    "start_time": "2021-06-28T12:08:01.868Z"
   },
   {
    "duration": 15,
    "start_time": "2021-06-28T12:08:01.920Z"
   },
   {
    "duration": 46,
    "start_time": "2021-06-28T12:08:01.937Z"
   },
   {
    "duration": 3420,
    "start_time": "2021-06-28T12:08:01.985Z"
   },
   {
    "duration": 25,
    "start_time": "2021-06-28T12:08:05.408Z"
   },
   {
    "duration": 1164,
    "start_time": "2021-06-28T12:08:05.435Z"
   },
   {
    "duration": 384,
    "start_time": "2021-06-28T12:08:06.602Z"
   },
   {
    "duration": 58,
    "start_time": "2021-06-28T12:08:06.988Z"
   },
   {
    "duration": 2066,
    "start_time": "2021-06-28T12:08:07.048Z"
   },
   {
    "duration": 615,
    "start_time": "2021-06-28T12:08:09.116Z"
   },
   {
    "duration": 683,
    "start_time": "2021-06-28T12:08:09.734Z"
   },
   {
    "duration": 544,
    "start_time": "2021-06-28T12:08:10.419Z"
   },
   {
    "duration": 543,
    "start_time": "2021-06-28T12:08:10.965Z"
   },
   {
    "duration": 4055,
    "start_time": "2021-06-28T12:08:11.510Z"
   },
   {
    "duration": 1519,
    "start_time": "2021-06-28T12:09:30.203Z"
   },
   {
    "duration": 972,
    "start_time": "2021-06-28T12:09:31.726Z"
   },
   {
    "duration": 28,
    "start_time": "2021-06-28T12:09:32.701Z"
   },
   {
    "duration": 15,
    "start_time": "2021-06-28T12:09:32.732Z"
   },
   {
    "duration": 27,
    "start_time": "2021-06-28T12:09:32.750Z"
   },
   {
    "duration": 37,
    "start_time": "2021-06-28T12:09:32.779Z"
   },
   {
    "duration": 23,
    "start_time": "2021-06-28T12:09:32.818Z"
   },
   {
    "duration": 13,
    "start_time": "2021-06-28T12:09:32.845Z"
   },
   {
    "duration": 20,
    "start_time": "2021-06-28T12:09:32.861Z"
   },
   {
    "duration": 35,
    "start_time": "2021-06-28T12:09:32.883Z"
   },
   {
    "duration": 14,
    "start_time": "2021-06-28T12:09:32.921Z"
   },
   {
    "duration": 17,
    "start_time": "2021-06-28T12:09:32.937Z"
   },
   {
    "duration": 67,
    "start_time": "2021-06-28T12:09:32.957Z"
   },
   {
    "duration": 29,
    "start_time": "2021-06-28T12:09:33.027Z"
   },
   {
    "duration": 26,
    "start_time": "2021-06-28T12:09:33.059Z"
   },
   {
    "duration": 22,
    "start_time": "2021-06-28T12:09:33.087Z"
   },
   {
    "duration": 12,
    "start_time": "2021-06-28T12:09:33.112Z"
   },
   {
    "duration": 15,
    "start_time": "2021-06-28T12:09:33.126Z"
   },
   {
    "duration": 3,
    "start_time": "2021-06-28T12:09:33.144Z"
   },
   {
    "duration": 35,
    "start_time": "2021-06-28T12:09:33.149Z"
   },
   {
    "duration": 46,
    "start_time": "2021-06-28T12:09:33.187Z"
   },
   {
    "duration": 21,
    "start_time": "2021-06-28T12:09:33.236Z"
   },
   {
    "duration": 68,
    "start_time": "2021-06-28T12:09:33.263Z"
   },
   {
    "duration": 12,
    "start_time": "2021-06-28T12:09:33.334Z"
   },
   {
    "duration": 636,
    "start_time": "2021-06-28T12:09:33.349Z"
   },
   {
    "duration": 54,
    "start_time": "2021-06-28T12:09:33.987Z"
   },
   {
    "duration": 601,
    "start_time": "2021-06-28T12:09:34.043Z"
   },
   {
    "duration": 10,
    "start_time": "2021-06-28T12:09:34.647Z"
   },
   {
    "duration": 6,
    "start_time": "2021-06-28T12:09:34.660Z"
   },
   {
    "duration": 222,
    "start_time": "2021-06-28T12:09:34.669Z"
   },
   {
    "duration": 135,
    "start_time": "2021-06-28T12:09:34.894Z"
   },
   {
    "duration": 161,
    "start_time": "2021-06-28T12:09:35.031Z"
   },
   {
    "duration": 4,
    "start_time": "2021-06-28T12:09:35.194Z"
   },
   {
    "duration": 32,
    "start_time": "2021-06-28T12:09:35.200Z"
   },
   {
    "duration": 16,
    "start_time": "2021-06-28T12:09:35.234Z"
   },
   {
    "duration": 67,
    "start_time": "2021-06-28T12:09:35.252Z"
   },
   {
    "duration": 3475,
    "start_time": "2021-06-28T12:09:35.322Z"
   },
   {
    "duration": 24,
    "start_time": "2021-06-28T12:09:38.799Z"
   },
   {
    "duration": 1155,
    "start_time": "2021-06-28T12:09:38.825Z"
   },
   {
    "duration": 386,
    "start_time": "2021-06-28T12:09:39.982Z"
   },
   {
    "duration": 59,
    "start_time": "2021-06-28T12:09:40.370Z"
   },
   {
    "duration": 2139,
    "start_time": "2021-06-28T12:09:40.431Z"
   },
   {
    "duration": 623,
    "start_time": "2021-06-28T12:09:42.572Z"
   },
   {
    "duration": 574,
    "start_time": "2021-06-28T12:09:43.197Z"
   },
   {
    "duration": 545,
    "start_time": "2021-06-28T12:09:43.773Z"
   },
   {
    "duration": 545,
    "start_time": "2021-06-28T12:09:44.320Z"
   },
   {
    "duration": 3,
    "start_time": "2021-06-28T12:09:44.868Z"
   },
   {
    "duration": 37,
    "start_time": "2021-06-28T12:09:44.873Z"
   },
   {
    "duration": 78019,
    "start_time": "2021-06-28T12:09:44.913Z"
   },
   {
    "duration": 459,
    "start_time": "2021-06-28T12:11:02.934Z"
   },
   {
    "duration": 10533,
    "start_time": "2021-06-28T12:11:03.396Z"
   },
   {
    "duration": 33158,
    "start_time": "2021-06-28T12:10:40.774Z"
   },
   {
    "duration": 33152,
    "start_time": "2021-06-28T12:10:40.781Z"
   },
   {
    "duration": 33147,
    "start_time": "2021-06-28T12:10:40.787Z"
   },
   {
    "duration": 33141,
    "start_time": "2021-06-28T12:10:40.795Z"
   },
   {
    "duration": 33136,
    "start_time": "2021-06-28T12:10:40.801Z"
   },
   {
    "duration": 33130,
    "start_time": "2021-06-28T12:10:40.808Z"
   },
   {
    "duration": 18,
    "start_time": "2021-06-28T12:13:26.438Z"
   },
   {
    "duration": 122,
    "start_time": "2021-06-28T12:14:15.826Z"
   },
   {
    "duration": 580,
    "start_time": "2021-06-28T12:14:27.617Z"
   },
   {
    "duration": 130,
    "start_time": "2021-06-28T12:15:33.442Z"
   },
   {
    "duration": 1913,
    "start_time": "2021-06-28T12:15:37.948Z"
   },
   {
    "duration": 948,
    "start_time": "2021-06-28T12:15:58.230Z"
   },
   {
    "duration": 1055,
    "start_time": "2021-06-28T12:16:31.340Z"
   },
   {
    "duration": 1025,
    "start_time": "2021-06-28T12:17:02.298Z"
   },
   {
    "duration": 1023,
    "start_time": "2021-06-28T12:17:23.292Z"
   },
   {
    "duration": 1121,
    "start_time": "2021-06-28T12:17:31.650Z"
   },
   {
    "duration": 1000,
    "start_time": "2021-06-28T12:18:54.291Z"
   },
   {
    "duration": 1415,
    "start_time": "2021-06-28T12:19:55.139Z"
   },
   {
    "duration": 864,
    "start_time": "2021-06-28T12:19:56.557Z"
   },
   {
    "duration": 30,
    "start_time": "2021-06-28T12:19:57.424Z"
   },
   {
    "duration": 26,
    "start_time": "2021-06-28T12:19:57.457Z"
   },
   {
    "duration": 44,
    "start_time": "2021-06-28T12:19:57.486Z"
   },
   {
    "duration": 13,
    "start_time": "2021-06-28T12:19:57.533Z"
   },
   {
    "duration": 24,
    "start_time": "2021-06-28T12:19:57.549Z"
   },
   {
    "duration": 14,
    "start_time": "2021-06-28T12:19:57.610Z"
   },
   {
    "duration": 11,
    "start_time": "2021-06-28T12:19:57.627Z"
   },
   {
    "duration": 15,
    "start_time": "2021-06-28T12:19:57.641Z"
   },
   {
    "duration": 9,
    "start_time": "2021-06-28T12:19:57.659Z"
   },
   {
    "duration": 46,
    "start_time": "2021-06-28T12:19:57.671Z"
   },
   {
    "duration": 43,
    "start_time": "2021-06-28T12:19:57.719Z"
   },
   {
    "duration": 59,
    "start_time": "2021-06-28T12:19:57.764Z"
   },
   {
    "duration": 25,
    "start_time": "2021-06-28T12:19:57.825Z"
   },
   {
    "duration": 5,
    "start_time": "2021-06-28T12:19:57.853Z"
   },
   {
    "duration": 13,
    "start_time": "2021-06-28T12:19:57.861Z"
   },
   {
    "duration": 33,
    "start_time": "2021-06-28T12:19:57.876Z"
   },
   {
    "duration": 3,
    "start_time": "2021-06-28T12:19:57.911Z"
   },
   {
    "duration": 37,
    "start_time": "2021-06-28T12:19:57.916Z"
   },
   {
    "duration": 26,
    "start_time": "2021-06-28T12:19:57.955Z"
   },
   {
    "duration": 42,
    "start_time": "2021-06-28T12:19:57.984Z"
   },
   {
    "duration": 51,
    "start_time": "2021-06-28T12:19:58.031Z"
   },
   {
    "duration": 29,
    "start_time": "2021-06-28T12:19:58.085Z"
   },
   {
    "duration": 623,
    "start_time": "2021-06-28T12:19:58.116Z"
   },
   {
    "duration": 40,
    "start_time": "2021-06-28T12:19:58.741Z"
   },
   {
    "duration": 595,
    "start_time": "2021-06-28T12:19:58.783Z"
   },
   {
    "duration": 28,
    "start_time": "2021-06-28T12:19:59.381Z"
   },
   {
    "duration": 7,
    "start_time": "2021-06-28T12:19:59.411Z"
   },
   {
    "duration": 217,
    "start_time": "2021-06-28T12:19:59.420Z"
   },
   {
    "duration": 141,
    "start_time": "2021-06-28T12:19:59.639Z"
   },
   {
    "duration": 161,
    "start_time": "2021-06-28T12:19:59.783Z"
   },
   {
    "duration": 5,
    "start_time": "2021-06-28T12:19:59.946Z"
   },
   {
    "duration": 31,
    "start_time": "2021-06-28T12:19:59.953Z"
   },
   {
    "duration": 33,
    "start_time": "2021-06-28T12:19:59.987Z"
   },
   {
    "duration": 41,
    "start_time": "2021-06-28T12:20:00.023Z"
   },
   {
    "duration": 3431,
    "start_time": "2021-06-28T12:20:00.066Z"
   },
   {
    "duration": 29,
    "start_time": "2021-06-28T12:20:03.499Z"
   },
   {
    "duration": 1123,
    "start_time": "2021-06-28T12:20:03.530Z"
   },
   {
    "duration": 485,
    "start_time": "2021-06-28T12:20:04.655Z"
   },
   {
    "duration": 46,
    "start_time": "2021-06-28T12:20:05.143Z"
   },
   {
    "duration": 2036,
    "start_time": "2021-06-28T12:20:05.191Z"
   },
   {
    "duration": 621,
    "start_time": "2021-06-28T12:20:07.229Z"
   },
   {
    "duration": 576,
    "start_time": "2021-06-28T12:20:07.853Z"
   },
   {
    "duration": 533,
    "start_time": "2021-06-28T12:20:08.432Z"
   },
   {
    "duration": 535,
    "start_time": "2021-06-28T12:20:08.968Z"
   },
   {
    "duration": 3,
    "start_time": "2021-06-28T12:20:09.509Z"
   },
   {
    "duration": 1519,
    "start_time": "2021-06-28T12:20:37.831Z"
   },
   {
    "duration": 810,
    "start_time": "2021-06-28T12:20:39.353Z"
   },
   {
    "duration": 30,
    "start_time": "2021-06-28T12:20:40.166Z"
   },
   {
    "duration": 25,
    "start_time": "2021-06-28T12:20:40.199Z"
   },
   {
    "duration": 28,
    "start_time": "2021-06-28T12:20:40.227Z"
   },
   {
    "duration": 11,
    "start_time": "2021-06-28T12:20:40.258Z"
   },
   {
    "duration": 49,
    "start_time": "2021-06-28T12:20:40.271Z"
   },
   {
    "duration": 13,
    "start_time": "2021-06-28T12:20:40.323Z"
   },
   {
    "duration": 21,
    "start_time": "2021-06-28T12:20:40.339Z"
   },
   {
    "duration": 16,
    "start_time": "2021-06-28T12:20:40.363Z"
   },
   {
    "duration": 35,
    "start_time": "2021-06-28T12:20:40.381Z"
   },
   {
    "duration": 15,
    "start_time": "2021-06-28T12:20:40.419Z"
   },
   {
    "duration": 61,
    "start_time": "2021-06-28T12:20:40.437Z"
   },
   {
    "duration": 32,
    "start_time": "2021-06-28T12:20:40.510Z"
   },
   {
    "duration": 29,
    "start_time": "2021-06-28T12:20:40.544Z"
   },
   {
    "duration": 34,
    "start_time": "2021-06-28T12:20:40.575Z"
   },
   {
    "duration": 29,
    "start_time": "2021-06-28T12:20:40.612Z"
   },
   {
    "duration": 17,
    "start_time": "2021-06-28T12:20:40.643Z"
   },
   {
    "duration": 10,
    "start_time": "2021-06-28T12:20:40.662Z"
   },
   {
    "duration": 38,
    "start_time": "2021-06-28T12:20:40.675Z"
   },
   {
    "duration": 27,
    "start_time": "2021-06-28T12:20:40.715Z"
   },
   {
    "duration": 23,
    "start_time": "2021-06-28T12:20:40.745Z"
   },
   {
    "duration": 81,
    "start_time": "2021-06-28T12:20:40.776Z"
   },
   {
    "duration": 13,
    "start_time": "2021-06-28T12:20:40.860Z"
   },
   {
    "duration": 636,
    "start_time": "2021-06-28T12:20:40.875Z"
   },
   {
    "duration": 40,
    "start_time": "2021-06-28T12:20:41.513Z"
   },
   {
    "duration": 617,
    "start_time": "2021-06-28T12:20:41.556Z"
   },
   {
    "duration": 12,
    "start_time": "2021-06-28T12:20:42.175Z"
   },
   {
    "duration": 27,
    "start_time": "2021-06-28T12:20:42.189Z"
   },
   {
    "duration": 204,
    "start_time": "2021-06-28T12:20:42.219Z"
   },
   {
    "duration": 135,
    "start_time": "2021-06-28T12:20:42.425Z"
   },
   {
    "duration": 157,
    "start_time": "2021-06-28T12:20:42.562Z"
   },
   {
    "duration": 5,
    "start_time": "2021-06-28T12:20:42.721Z"
   },
   {
    "duration": 39,
    "start_time": "2021-06-28T12:20:42.728Z"
   },
   {
    "duration": 16,
    "start_time": "2021-06-28T12:20:42.770Z"
   },
   {
    "duration": 48,
    "start_time": "2021-06-28T12:20:42.789Z"
   },
   {
    "duration": 3332,
    "start_time": "2021-06-28T12:20:42.840Z"
   },
   {
    "duration": 34,
    "start_time": "2021-06-28T12:20:46.175Z"
   },
   {
    "duration": 1139,
    "start_time": "2021-06-28T12:20:46.211Z"
   },
   {
    "duration": 370,
    "start_time": "2021-06-28T12:20:47.352Z"
   },
   {
    "duration": 49,
    "start_time": "2021-06-28T12:20:47.724Z"
   },
   {
    "duration": 1905,
    "start_time": "2021-06-28T12:20:47.776Z"
   },
   {
    "duration": 613,
    "start_time": "2021-06-28T12:20:49.683Z"
   },
   {
    "duration": 583,
    "start_time": "2021-06-28T12:20:50.298Z"
   },
   {
    "duration": 530,
    "start_time": "2021-06-28T12:20:50.883Z"
   },
   {
    "duration": 549,
    "start_time": "2021-06-28T12:20:51.416Z"
   },
   {
    "duration": 3,
    "start_time": "2021-06-28T12:20:51.967Z"
   },
   {
    "duration": 18,
    "start_time": "2021-06-28T12:20:51.972Z"
   },
   {
    "duration": 450,
    "start_time": "2021-06-28T12:20:51.992Z"
   },
   {
    "duration": 1115,
    "start_time": "2021-06-28T12:20:52.445Z"
   },
   {
    "duration": 16,
    "start_time": "2021-06-28T12:20:53.563Z"
   },
   {
    "duration": 51,
    "start_time": "2021-06-28T12:20:53.582Z"
   },
   {
    "duration": 3280,
    "start_time": "2021-06-28T12:20:53.635Z"
   },
   {
    "duration": 12,
    "start_time": "2021-06-28T12:20:56.917Z"
   },
   {
    "duration": 7,
    "start_time": "2021-06-28T12:20:56.931Z"
   },
   {
    "duration": 26,
    "start_time": "2021-06-28T12:20:56.941Z"
   }
  ],
  "kernelspec": {
   "display_name": "Python 3",
   "language": "python",
   "name": "python3"
  },
  "language_info": {
   "codemirror_mode": {
    "name": "ipython",
    "version": 3
   },
   "file_extension": ".py",
   "mimetype": "text/x-python",
   "name": "python",
   "nbconvert_exporter": "python",
   "pygments_lexer": "ipython3",
   "version": "3.7.8"
  },
  "toc": {
   "base_numbering": 1,
   "nav_menu": {},
   "number_sections": true,
   "sideBar": true,
   "skip_h1_title": true,
   "title_cell": "Table of Contents",
   "title_sidebar": "Contents",
   "toc_cell": false,
   "toc_position": {},
   "toc_section_display": true,
   "toc_window_display": false
  }
 },
 "nbformat": 4,
 "nbformat_minor": 2
}
